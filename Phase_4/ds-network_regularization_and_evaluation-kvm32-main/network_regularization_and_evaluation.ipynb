{
 "cells": [
  {
   "cell_type": "markdown",
   "metadata": {
    "slideshow": {
     "slide_type": "slide"
    }
   },
   "source": [
    "# Regularization and Evaluation of Neural Networks"
   ]
  },
  {
   "cell_type": "code",
   "execution_count": 11,
   "metadata": {
    "ExecuteTime": {
     "end_time": "2021-07-12T18:28:18.600466Z",
     "start_time": "2021-07-12T18:28:18.459851Z"
    }
   },
   "outputs": [
    {
     "name": "stdout",
     "output_type": "stream",
     "text": [
      "The autoreload extension is already loaded. To reload it, use:\n",
      "  %reload_ext autoreload\n"
     ]
    }
   ],
   "source": [
    "from sklearn.datasets import load_sample_images\n",
    "from sklearn.datasets import load_digits\n",
    "from sklearn.model_selection import train_test_split, cross_val_score\n",
    "from sklearn.preprocessing import OneHotEncoder\n",
    "from sklearn.metrics import accuracy_score, confusion_matrix\n",
    "import matplotlib.pyplot as plt\n",
    "import matplotlib.image as mpimg\n",
    "import numpy as np\n",
    "import seaborn as sns\n",
    "\n",
    "from tensorflow.keras.models import Sequential\n",
    "from tensorflow.keras.layers import Dense, Dropout\n",
    "from tensorflow.keras.regularizers import l2\n",
    "from tensorflow.keras.optimizers import SGD\n",
    "from tensorflow.keras.wrappers import scikit_learn\n",
    "from tensorflow.keras.callbacks import EarlyStopping\n",
    "\n",
    "import os\n",
    "import sys\n",
    "module_path = os.path.abspath(os.path.join(os.pardir, os.pardir))\n",
    "if module_path not in sys.path:\n",
    "    sys.path.append(module_path)\n",
    "    \n",
    "%load_ext autoreload\n",
    "%autoreload 2"
   ]
  },
  {
   "cell_type": "markdown",
   "metadata": {},
   "source": [
    "## Learning Objectives\n",
    "\n",
    "- use `keras` to code up a neural network model;\n",
    "- explain dropout and early stopping as distinctive forms of regularization in neural networks;\n",
    "- use wrappers inside `keras` to make models that can jibe with `sklearn`."
   ]
  },
  {
   "cell_type": "markdown",
   "metadata": {},
   "source": [
    "### From last time"
   ]
  },
  {
   "cell_type": "code",
   "execution_count": 12,
   "metadata": {
    "ExecuteTime": {
     "end_time": "2021-07-12T18:28:18.802144Z",
     "start_time": "2021-07-12T18:28:18.602461Z"
    }
   },
   "outputs": [],
   "source": [
    "digits = load_digits()\n",
    "X = digits.data\n",
    "y = digits.target\n",
    "\n",
    "y_binary = y % 2"
   ]
  },
  {
   "cell_type": "code",
   "execution_count": 13,
   "metadata": {
    "ExecuteTime": {
     "end_time": "2021-07-12T18:28:23.821691Z",
     "start_time": "2021-07-12T18:28:18.804120Z"
    }
   },
   "outputs": [
    {
     "name": "stdout",
     "output_type": "stream",
     "text": [
      "Epoch 1/50\n",
      "180/180 [==============================] - 0s 496us/step - loss: 0.4727 - accuracy: 0.7846\n",
      "Epoch 2/50\n",
      "180/180 [==============================] - 0s 523us/step - loss: 0.2567 - accuracy: 0.8971\n",
      "Epoch 3/50\n",
      "180/180 [==============================] - 0s 507us/step - loss: 0.2018 - accuracy: 0.9221\n",
      "Epoch 4/50\n",
      "180/180 [==============================] - 0s 531us/step - loss: 0.1678 - accuracy: 0.9332\n",
      "Epoch 5/50\n",
      "180/180 [==============================] - 0s 521us/step - loss: 0.1364 - accuracy: 0.9499\n",
      "Epoch 6/50\n",
      "180/180 [==============================] - 0s 487us/step - loss: 0.1164 - accuracy: 0.9560\n",
      "Epoch 7/50\n",
      "180/180 [==============================] - 0s 557us/step - loss: 0.0973 - accuracy: 0.9616\n",
      "Epoch 8/50\n",
      "180/180 [==============================] - 0s 533us/step - loss: 0.0824 - accuracy: 0.9644\n",
      "Epoch 9/50\n",
      "180/180 [==============================] - 0s 544us/step - loss: 0.0737 - accuracy: 0.9688\n",
      "Epoch 10/50\n",
      "180/180 [==============================] - 0s 530us/step - loss: 0.0620 - accuracy: 0.9777\n",
      "Epoch 11/50\n",
      "180/180 [==============================] - 0s 490us/step - loss: 0.0592 - accuracy: 0.9805\n",
      "Epoch 12/50\n",
      "180/180 [==============================] - 0s 513us/step - loss: 0.0536 - accuracy: 0.9789\n",
      "Epoch 13/50\n",
      "180/180 [==============================] - 0s 501us/step - loss: 0.0486 - accuracy: 0.9816\n",
      "Epoch 14/50\n",
      "180/180 [==============================] - 0s 479us/step - loss: 0.0423 - accuracy: 0.9855\n",
      "Epoch 15/50\n",
      "180/180 [==============================] - 0s 493us/step - loss: 0.0416 - accuracy: 0.9866\n",
      "Epoch 16/50\n",
      "180/180 [==============================] - 0s 462us/step - loss: 0.0377 - accuracy: 0.9850\n",
      "Epoch 17/50\n",
      "180/180 [==============================] - 0s 479us/step - loss: 0.0362 - accuracy: 0.9872\n",
      "Epoch 18/50\n",
      "180/180 [==============================] - 0s 468us/step - loss: 0.0326 - accuracy: 0.9883\n",
      "Epoch 19/50\n",
      "180/180 [==============================] - 0s 479us/step - loss: 0.0285 - accuracy: 0.9917\n",
      "Epoch 20/50\n",
      "180/180 [==============================] - 0s 479us/step - loss: 0.0278 - accuracy: 0.9911\n",
      "Epoch 21/50\n",
      "180/180 [==============================] - 0s 496us/step - loss: 0.0257 - accuracy: 0.9917\n",
      "Epoch 22/50\n",
      "180/180 [==============================] - 0s 492us/step - loss: 0.0239 - accuracy: 0.9894\n",
      "Epoch 23/50\n",
      "180/180 [==============================] - 0s 473us/step - loss: 0.0214 - accuracy: 0.9939\n",
      "Epoch 24/50\n",
      "180/180 [==============================] - 0s 482us/step - loss: 0.0230 - accuracy: 0.9928\n",
      "Epoch 25/50\n",
      "180/180 [==============================] - 0s 492us/step - loss: 0.0230 - accuracy: 0.9928\n",
      "Epoch 26/50\n",
      "180/180 [==============================] - 0s 479us/step - loss: 0.0203 - accuracy: 0.9917\n",
      "Epoch 27/50\n",
      "180/180 [==============================] - 0s 472us/step - loss: 0.0210 - accuracy: 0.9955\n",
      "Epoch 28/50\n",
      "180/180 [==============================] - 0s 470us/step - loss: 0.0196 - accuracy: 0.9944\n",
      "Epoch 29/50\n",
      "180/180 [==============================] - 0s 472us/step - loss: 0.0147 - accuracy: 0.9955\n",
      "Epoch 30/50\n",
      "180/180 [==============================] - 0s 468us/step - loss: 0.0179 - accuracy: 0.9933\n",
      "Epoch 31/50\n",
      "180/180 [==============================] - 0s 489us/step - loss: 0.0149 - accuracy: 0.9939\n",
      "Epoch 32/50\n",
      "180/180 [==============================] - 0s 478us/step - loss: 0.0144 - accuracy: 0.9944\n",
      "Epoch 33/50\n",
      "180/180 [==============================] - 0s 477us/step - loss: 0.0140 - accuracy: 0.9950\n",
      "Epoch 34/50\n",
      "180/180 [==============================] - 0s 468us/step - loss: 0.0141 - accuracy: 0.9955\n",
      "Epoch 35/50\n",
      "180/180 [==============================] - 0s 485us/step - loss: 0.0124 - accuracy: 0.9967\n",
      "Epoch 36/50\n",
      "180/180 [==============================] - 0s 485us/step - loss: 0.0136 - accuracy: 0.9961\n",
      "Epoch 37/50\n",
      "180/180 [==============================] - 0s 485us/step - loss: 0.0119 - accuracy: 0.9950\n",
      "Epoch 38/50\n",
      "180/180 [==============================] - 0s 491us/step - loss: 0.0098 - accuracy: 0.9961\n",
      "Epoch 39/50\n",
      "180/180 [==============================] - 0s 485us/step - loss: 0.0093 - accuracy: 0.9967\n",
      "Epoch 40/50\n",
      "180/180 [==============================] - 0s 488us/step - loss: 0.0103 - accuracy: 0.9961\n",
      "Epoch 41/50\n",
      "180/180 [==============================] - 0s 490us/step - loss: 0.0074 - accuracy: 0.9978\n",
      "Epoch 42/50\n",
      "180/180 [==============================] - 0s 500us/step - loss: 0.0076 - accuracy: 0.9978\n",
      "Epoch 43/50\n",
      "180/180 [==============================] - 0s 501us/step - loss: 0.0067 - accuracy: 0.9983\n",
      "Epoch 44/50\n",
      "180/180 [==============================] - 0s 492us/step - loss: 0.0091 - accuracy: 0.9972\n",
      "Epoch 45/50\n",
      "180/180 [==============================] - 0s 500us/step - loss: 0.0075 - accuracy: 0.9972\n",
      "Epoch 46/50\n",
      "180/180 [==============================] - 0s 499us/step - loss: 0.0066 - accuracy: 0.9978\n",
      "Epoch 47/50\n",
      "180/180 [==============================] - 0s 489us/step - loss: 0.0050 - accuracy: 0.9967\n",
      "Epoch 48/50\n",
      "180/180 [==============================] - 0s 518us/step - loss: 0.0045 - accuracy: 0.9983\n",
      "Epoch 49/50\n",
      "180/180 [==============================] - 0s 501us/step - loss: 0.0039 - accuracy: 0.9989\n",
      "Epoch 50/50\n",
      "180/180 [==============================] - 0s 485us/step - loss: 0.0040 - accuracy: 0.9989\n"
     ]
    },
    {
     "data": {
      "text/plain": [
       "<tensorflow.python.keras.callbacks.History at 0x1f79d420280>"
      ]
     },
     "execution_count": 13,
     "metadata": {},
     "output_type": "execute_result"
    }
   ],
   "source": [
    "model = Sequential()\n",
    "model.add(Dense(12, activation='relu', input_dim=64))\n",
    "model.add(Dense(8, activation='relu'))\n",
    "model.add(Dense(1, activation='sigmoid'))\n",
    "\n",
    "model.compile(optimizer='rmsprop',\n",
    "              loss='binary_crossentropy',\n",
    "              metrics=['accuracy'])\n",
    "\n",
    "model.fit(X, y_binary, epochs=50, batch_size=10)"
   ]
  },
  {
   "cell_type": "markdown",
   "metadata": {},
   "source": [
    "### Things to know:\n",
    "\n",
    "- The data and labels in `fit()` need to be numpy arrays, not `pandas` dfs.\n",
    "- Scaling your data will have a large impact on your model.\n",
    "   > For our traditional input features, we would use a scaler object. For images, as long as the minimum value is 0, we can simply divide through by the maximum pixel intensity."
   ]
  },
  {
   "cell_type": "markdown",
   "metadata": {},
   "source": [
    "#### Getting data ready for modeling\n",
    "**Preprocessing**:\n",
    "\n",
    "- use train_test_split to create X_train, y_train, X_test, and y_test\n",
    "- Split training data into pure_train and validation sets.\n",
    "- Scale the pixel intensity to a value between 0 and 1."
   ]
  },
  {
   "cell_type": "markdown",
   "metadata": {},
   "source": [
    "Scaling our input variables will help speed up our neural network.\n",
    "\n",
    "Since our minimum intensity is 0, we can normalize the inputs by dividing each value by the max value (16)."
   ]
  },
  {
   "cell_type": "code",
   "execution_count": 14,
   "metadata": {
    "ExecuteTime": {
     "end_time": "2021-07-12T18:28:23.945378Z",
     "start_time": "2021-07-12T18:28:23.822669Z"
    }
   },
   "outputs": [],
   "source": [
    "X_train, X_test, y_train, y_test =\\\n",
    "    train_test_split(X, y_binary, random_state=42, test_size=0.2)\n",
    "\n",
    "X_pure_train, X_val, y_pure_train, y_val =\\\n",
    "    train_test_split(X_train, y_train, random_state=42, test_size=0.2)\n",
    "\n",
    "X_pure_train, X_val, X_test = X_pure_train/16, X_val/16, X_test/16"
   ]
  },
  {
   "cell_type": "markdown",
   "metadata": {},
   "source": [
    "For activation, let's start with the familiar sigmoid function, and see how it performs."
   ]
  },
  {
   "cell_type": "code",
   "execution_count": 15,
   "metadata": {
    "ExecuteTime": {
     "end_time": "2021-07-12T18:28:24.427340Z",
     "start_time": "2021-07-12T18:28:23.946347Z"
    }
   },
   "outputs": [
    {
     "name": "stdout",
     "output_type": "stream",
     "text": [
      "Epoch 1/10\n",
      "12/12 [==============================] - 0s 635us/step - loss: 0.6954 - accuracy: 0.5039\n",
      "Epoch 2/10\n",
      "12/12 [==============================] - 0s 635us/step - loss: 0.6943 - accuracy: 0.5039\n",
      "Epoch 3/10\n",
      "12/12 [==============================] - 0s 635us/step - loss: 0.6936 - accuracy: 0.5039\n",
      "Epoch 4/10\n",
      "12/12 [==============================] - 0s 635us/step - loss: 0.6928 - accuracy: 0.5039\n",
      "Epoch 5/10\n",
      "12/12 [==============================] - 0s 635us/step - loss: 0.6922 - accuracy: 0.5039\n",
      "Epoch 6/10\n",
      "12/12 [==============================] - 0s 635us/step - loss: 0.6918 - accuracy: 0.5039\n",
      "Epoch 7/10\n",
      "12/12 [==============================] - 0s 634us/step - loss: 0.6914 - accuracy: 0.5039\n",
      "Epoch 8/10\n",
      "12/12 [==============================] - 0s 544us/step - loss: 0.6911 - accuracy: 0.5039\n",
      "Epoch 9/10\n",
      "12/12 [==============================] - 0s 635us/step - loss: 0.6907 - accuracy: 0.5039\n",
      "Epoch 10/10\n",
      "12/12 [==============================] - 0s 635us/step - loss: 0.6904 - accuracy: 0.5039\n"
     ]
    }
   ],
   "source": [
    "model = Sequential()\n",
    "# We will start with our trusty sigmoid function.\n",
    "# What does input dimension correspond to?\n",
    "model.add(Dense(12, activation='sigmoid', input_dim=64))\n",
    "model.add(Dense(8, activation='sigmoid'))\n",
    "model.add(Dense(1, activation='sigmoid'))\n",
    "\n",
    "model.compile(optimizer='SGD' ,\n",
    "              # We use binary_crossentropy for a binary loss function\n",
    "              loss='binary_crossentropy',\n",
    "              metrics=['accuracy'])\n",
    "\n",
    "# Assign the variable history to store the results,\n",
    "# and set verbose=1 so we can see the output. To see\n",
    "# only the metrics at the end of each epoch, set verbose=2.\n",
    "results = model.fit(X_pure_train, y_pure_train, epochs=10, batch_size=100, verbose=1)"
   ]
  },
  {
   "cell_type": "markdown",
   "metadata": {},
   "source": [
    "We can access the history of our model via `results.history`.\n",
    "Use __dict__ to take a tour."
   ]
  },
  {
   "cell_type": "code",
   "execution_count": 16,
   "metadata": {
    "ExecuteTime": {
     "end_time": "2021-07-12T18:28:24.551550Z",
     "start_time": "2021-07-12T18:28:24.428313Z"
    }
   },
   "outputs": [
    {
     "data": {
      "text/plain": [
       "{'validation_data': None,\n",
       " 'model': <tensorflow.python.keras.engine.sequential.Sequential at 0x1f79d1bba90>,\n",
       " '_chief_worker_only': None,\n",
       " '_supports_tf_logs': False,\n",
       " 'history': {'loss': [0.6954079866409302,\n",
       "   0.6943346261978149,\n",
       "   0.6935656666755676,\n",
       "   0.6928132176399231,\n",
       "   0.692219614982605,\n",
       "   0.6918116807937622,\n",
       "   0.6913874745368958,\n",
       "   0.6910540461540222,\n",
       "   0.6907174587249756,\n",
       "   0.6903647780418396],\n",
       "  'accuracy': [0.5039164423942566,\n",
       "   0.5039164423942566,\n",
       "   0.5039164423942566,\n",
       "   0.5039164423942566,\n",
       "   0.5039164423942566,\n",
       "   0.5039164423942566,\n",
       "   0.5039164423942566,\n",
       "   0.5039164423942566,\n",
       "   0.5039164423942566,\n",
       "   0.5039164423942566]},\n",
       " 'params': {'verbose': 1, 'epochs': 10, 'steps': 12},\n",
       " 'epoch': [0, 1, 2, 3, 4, 5, 6, 7, 8, 9]}"
      ]
     },
     "execution_count": 16,
     "metadata": {},
     "output_type": "execute_result"
    }
   ],
   "source": [
    "results.__dict__"
   ]
  },
  {
   "cell_type": "code",
   "execution_count": 17,
   "metadata": {
    "ExecuteTime": {
     "end_time": "2021-07-12T18:28:28.745350Z",
     "start_time": "2021-07-12T18:28:28.429236Z"
    }
   },
   "outputs": [
    {
     "data": {
      "image/png": "[encoded data removed]",
      "text/plain": [
       "<Figure size 720x360 with 2 Axes>"
      ]
     },
     "metadata": {
      "needs_background": "light"
     },
     "output_type": "display_data"
    }
   ],
   "source": [
    "sigmoid_loss = results.history['loss']\n",
    "sigmoid_accuracy = results.history['accuracy']\n",
    "\n",
    "fig, (ax1, ax2) = plt.subplots(1, 2, figsize=(10, 5))\n",
    "sns.lineplot(x=results.epoch, y=sigmoid_loss, ax=ax1, label='loss')\n",
    "sns.lineplot(x=results.epoch, y=sigmoid_accuracy, ax=ax2, label='accuracy');"
   ]
  },
  {
   "cell_type": "markdown",
   "metadata": {},
   "source": [
    "We have two plots above both relating to the quality of our model.  The left-hand plot is our loss. It uses the probabilities associated with our predictions to judge how well our prediction fits reality. We want it to decrease as far as possible.\n",
    "\n",
    "The accuracy judges how well the predictions are after applying the threshold at the output layer.  We want accuracy to increase."
   ]
  },
  {
   "cell_type": "markdown",
   "metadata": {},
   "source": [
    "If we look at our loss, it is still decreasing. That is a signal that our model is **still learning**. If our model is still learning, we can allow it to get better by turning a few dials.\n",
    "\n",
    "Let's:\n",
    "- increase the number of epochs;\n",
    "- change sigmoid activation in the hidden layers to ReLU; and\n",
    "- decrease the batch size."
   ]
  },
  {
   "cell_type": "code",
   "execution_count": 19,
   "metadata": {
    "ExecuteTime": {
     "end_time": "2021-07-12T18:29:02.096969Z",
     "start_time": "2021-07-12T18:29:01.966478Z"
    }
   },
   "outputs": [
    {
     "data": {
      "text/plain": [
       "1149"
      ]
     },
     "execution_count": 19,
     "metadata": {},
     "output_type": "execute_result"
    }
   ],
   "source": [
    "X_pure_train.shape[0]"
   ]
  },
  {
   "cell_type": "code",
   "execution_count": 20,
   "metadata": {
    "ExecuteTime": {
     "end_time": "2021-07-12T18:29:07.070644Z",
     "start_time": "2021-07-12T18:29:04.606621Z"
    },
    "scrolled": true
   },
   "outputs": [
    {
     "name": "stdout",
     "output_type": "stream",
     "text": [
      "Epoch 1/100\n",
      "36/36 [==============================] - 0s 683us/step - loss: 0.6719 - accuracy: 0.5718\n",
      "Epoch 2/100\n",
      "36/36 [==============================] - 0s 598us/step - loss: 0.6589 - accuracy: 0.6432\n",
      "Epoch 3/100\n",
      "36/36 [==============================] - 0s 671us/step - loss: 0.6463 - accuracy: 0.6849\n",
      "Epoch 4/100\n",
      "36/36 [==============================] - 0s 655us/step - loss: 0.6327 - accuracy: 0.7067\n",
      "Epoch 5/100\n",
      "36/36 [==============================] - 0s 541us/step - loss: 0.6174 - accuracy: 0.7293\n",
      "Epoch 6/100\n",
      "36/36 [==============================] - 0s 546us/step - loss: 0.6002 - accuracy: 0.7502\n",
      "Epoch 7/100\n",
      "36/36 [==============================] - 0s 513us/step - loss: 0.5813 - accuracy: 0.7781\n",
      "Epoch 8/100\n",
      "36/36 [==============================] - 0s 513us/step - loss: 0.5607 - accuracy: 0.7903\n",
      "Epoch 9/100\n",
      "36/36 [==============================] - 0s 551us/step - loss: 0.5382 - accuracy: 0.8007\n",
      "Epoch 10/100\n",
      "36/36 [==============================] - 0s 541us/step - loss: 0.5151 - accuracy: 0.8172\n",
      "Epoch 11/100\n",
      "36/36 [==============================] - 0s 541us/step - loss: 0.4915 - accuracy: 0.8233\n",
      "Epoch 12/100\n",
      "36/36 [==============================] - 0s 541us/step - loss: 0.4666 - accuracy: 0.8312\n",
      "Epoch 13/100\n",
      "36/36 [==============================] - 0s 569us/step - loss: 0.4430 - accuracy: 0.8451\n",
      "Epoch 14/100\n",
      "36/36 [==============================] - 0s 510us/step - loss: 0.4214 - accuracy: 0.8494\n",
      "Epoch 15/100\n",
      "36/36 [==============================] - 0s 541us/step - loss: 0.4013 - accuracy: 0.8529\n",
      "Epoch 16/100\n",
      "36/36 [==============================] - 0s 570us/step - loss: 0.3818 - accuracy: 0.8573\n",
      "Epoch 17/100\n",
      "36/36 [==============================] - 0s 525us/step - loss: 0.3643 - accuracy: 0.8607\n",
      "Epoch 18/100\n",
      "36/36 [==============================] - 0s 541us/step - loss: 0.3486 - accuracy: 0.8668\n",
      "Epoch 19/100\n",
      "36/36 [==============================] - 0s 559us/step - loss: 0.3345 - accuracy: 0.8721\n",
      "Epoch 20/100\n",
      "36/36 [==============================] - 0s 570us/step - loss: 0.3219 - accuracy: 0.8738\n",
      "Epoch 21/100\n",
      "36/36 [==============================] - 0s 597us/step - loss: 0.3107 - accuracy: 0.8816\n",
      "Epoch 22/100\n",
      "36/36 [==============================] - 0s 541us/step - loss: 0.3015 - accuracy: 0.8816\n",
      "Epoch 23/100\n",
      "36/36 [==============================] - 0s 528us/step - loss: 0.2935 - accuracy: 0.8799\n",
      "Epoch 24/100\n",
      "36/36 [==============================] - 0s 540us/step - loss: 0.2848 - accuracy: 0.8869\n",
      "Epoch 25/100\n",
      "36/36 [==============================] - 0s 556us/step - loss: 0.2781 - accuracy: 0.8895\n",
      "Epoch 26/100\n",
      "36/36 [==============================] - 0s 541us/step - loss: 0.2715 - accuracy: 0.8930\n",
      "Epoch 27/100\n",
      "36/36 [==============================] - 0s 541us/step - loss: 0.2650 - accuracy: 0.8956\n",
      "Epoch 28/100\n",
      "36/36 [==============================] - 0s 541us/step - loss: 0.2612 - accuracy: 0.8947\n",
      "Epoch 29/100\n",
      "36/36 [==============================] - 0s 513us/step - loss: 0.2556 - accuracy: 0.8982\n",
      "Epoch 30/100\n",
      "36/36 [==============================] - 0s 590us/step - loss: 0.2516 - accuracy: 0.8964\n",
      "Epoch 31/100\n",
      "36/36 [==============================] - 0s 541us/step - loss: 0.2480 - accuracy: 0.8999\n",
      "Epoch 32/100\n",
      "36/36 [==============================] - 0s 541us/step - loss: 0.2437 - accuracy: 0.8990\n",
      "Epoch 33/100\n",
      "36/36 [==============================] - 0s 541us/step - loss: 0.2400 - accuracy: 0.9051\n",
      "Epoch 34/100\n",
      "36/36 [==============================] - 0s 513us/step - loss: 0.2366 - accuracy: 0.9008\n",
      "Epoch 35/100\n",
      "36/36 [==============================] - 0s 513us/step - loss: 0.2328 - accuracy: 0.9034\n",
      "Epoch 36/100\n",
      "36/36 [==============================] - 0s 523us/step - loss: 0.2322 - accuracy: 0.9008\n",
      "Epoch 37/100\n",
      "36/36 [==============================] - 0s 541us/step - loss: 0.2277 - accuracy: 0.9043\n",
      "Epoch 38/100\n",
      "36/36 [==============================] - 0s 541us/step - loss: 0.2248 - accuracy: 0.9069\n",
      "Epoch 39/100\n",
      "36/36 [==============================] - 0s 541us/step - loss: 0.2231 - accuracy: 0.9077\n",
      "Epoch 40/100\n",
      "36/36 [==============================] - 0s 484us/step - loss: 0.2206 - accuracy: 0.9060\n",
      "Epoch 41/100\n",
      "36/36 [==============================] - 0s 541us/step - loss: 0.2168 - accuracy: 0.9060\n",
      "Epoch 42/100\n",
      "36/36 [==============================] - 0s 513us/step - loss: 0.2141 - accuracy: 0.9060\n",
      "Epoch 43/100\n",
      "36/36 [==============================] - 0s 541us/step - loss: 0.2128 - accuracy: 0.9086\n",
      "Epoch 44/100\n",
      "36/36 [==============================] - 0s 484us/step - loss: 0.2099 - accuracy: 0.9156\n",
      "Epoch 45/100\n",
      "36/36 [==============================] - 0s 513us/step - loss: 0.2081 - accuracy: 0.9147\n",
      "Epoch 46/100\n",
      "36/36 [==============================] - 0s 481us/step - loss: 0.2069 - accuracy: 0.9112\n",
      "Epoch 47/100\n",
      "36/36 [==============================] - 0s 514us/step - loss: 0.2053 - accuracy: 0.9138\n",
      "Epoch 48/100\n",
      "36/36 [==============================] - 0s 484us/step - loss: 0.2037 - accuracy: 0.9095\n",
      "Epoch 49/100\n",
      "36/36 [==============================] - 0s 513us/step - loss: 0.2012 - accuracy: 0.9156\n",
      "Epoch 50/100\n",
      "36/36 [==============================] - 0s 513us/step - loss: 0.1993 - accuracy: 0.9173\n",
      "Epoch 51/100\n",
      "36/36 [==============================] - 0s 513us/step - loss: 0.1983 - accuracy: 0.9138\n",
      "Epoch 52/100\n",
      "36/36 [==============================] - 0s 504us/step - loss: 0.1960 - accuracy: 0.9138\n",
      "Epoch 53/100\n",
      "36/36 [==============================] - 0s 629us/step - loss: 0.1950 - accuracy: 0.9147\n",
      "Epoch 54/100\n",
      "36/36 [==============================] - 0s 513us/step - loss: 0.1932 - accuracy: 0.9147\n",
      "Epoch 55/100\n",
      "36/36 [==============================] - 0s 513us/step - loss: 0.1914 - accuracy: 0.9164\n",
      "Epoch 56/100\n",
      "36/36 [==============================] - 0s 541us/step - loss: 0.1909 - accuracy: 0.9164\n",
      "Epoch 57/100\n",
      "36/36 [==============================] - 0s 484us/step - loss: 0.1886 - accuracy: 0.9164\n",
      "Epoch 58/100\n",
      "36/36 [==============================] - 0s 513us/step - loss: 0.1865 - accuracy: 0.9191\n",
      "Epoch 59/100\n",
      "36/36 [==============================] - 0s 513us/step - loss: 0.1861 - accuracy: 0.9173\n",
      "Epoch 60/100\n",
      "36/36 [==============================] - 0s 528us/step - loss: 0.1844 - accuracy: 0.9191\n",
      "Epoch 61/100\n",
      "36/36 [==============================] - 0s 499us/step - loss: 0.1826 - accuracy: 0.9208\n",
      "Epoch 62/100\n",
      "36/36 [==============================] - 0s 484us/step - loss: 0.1815 - accuracy: 0.9199\n",
      "Epoch 63/100\n",
      "36/36 [==============================] - 0s 553us/step - loss: 0.1800 - accuracy: 0.9164\n",
      "Epoch 64/100\n",
      "36/36 [==============================] - 0s 513us/step - loss: 0.1783 - accuracy: 0.9269\n",
      "Epoch 65/100\n",
      "36/36 [==============================] - 0s 484us/step - loss: 0.1780 - accuracy: 0.9225\n",
      "Epoch 66/100\n",
      "36/36 [==============================] - 0s 484us/step - loss: 0.1772 - accuracy: 0.9234\n",
      "Epoch 67/100\n",
      "36/36 [==============================] - 0s 557us/step - loss: 0.1748 - accuracy: 0.9208\n",
      "Epoch 68/100\n",
      "36/36 [==============================] - 0s 513us/step - loss: 0.1718 - accuracy: 0.9243\n",
      "Epoch 69/100\n",
      "36/36 [==============================] - 0s 513us/step - loss: 0.1747 - accuracy: 0.9234\n",
      "Epoch 70/100\n",
      "36/36 [==============================] - 0s 541us/step - loss: 0.1708 - accuracy: 0.9252\n",
      "Epoch 71/100\n",
      "36/36 [==============================] - 0s 534us/step - loss: 0.1692 - accuracy: 0.9269\n",
      "Epoch 72/100\n",
      "36/36 [==============================] - 0s 484us/step - loss: 0.1697 - accuracy: 0.9252\n",
      "Epoch 73/100\n",
      "36/36 [==============================] - 0s 599us/step - loss: 0.1678 - accuracy: 0.9269\n",
      "Epoch 74/100\n",
      "36/36 [==============================] - 0s 485us/step - loss: 0.1669 - accuracy: 0.9252\n",
      "Epoch 75/100\n",
      "36/36 [==============================] - 0s 513us/step - loss: 0.1645 - accuracy: 0.9269\n",
      "Epoch 76/100\n",
      "36/36 [==============================] - 0s 509us/step - loss: 0.1635 - accuracy: 0.9304\n",
      "Epoch 77/100\n",
      "36/36 [==============================] - 0s 513us/step - loss: 0.1635 - accuracy: 0.9286\n",
      "Epoch 78/100\n",
      "36/36 [==============================] - 0s 515us/step - loss: 0.1606 - accuracy: 0.9330\n",
      "Epoch 79/100\n",
      "36/36 [==============================] - 0s 498us/step - loss: 0.1628 - accuracy: 0.9286\n",
      "Epoch 80/100\n",
      "36/36 [==============================] - 0s 541us/step - loss: 0.1598 - accuracy: 0.9312\n",
      "Epoch 81/100\n"
     ]
    },
    {
     "name": "stdout",
     "output_type": "stream",
     "text": [
      "36/36 [==============================] - 0s 541us/step - loss: 0.1585 - accuracy: 0.9286\n",
      "Epoch 82/100\n",
      "36/36 [==============================] - 0s 627us/step - loss: 0.1582 - accuracy: 0.9312\n",
      "Epoch 83/100\n",
      "36/36 [==============================] - 0s 541us/step - loss: 0.1557 - accuracy: 0.9330\n",
      "Epoch 84/100\n",
      "36/36 [==============================] - 0s 541us/step - loss: 0.1558 - accuracy: 0.9330\n",
      "Epoch 85/100\n",
      "36/36 [==============================] - 0s 513us/step - loss: 0.1548 - accuracy: 0.9330\n",
      "Epoch 86/100\n",
      "36/36 [==============================] - 0s 570us/step - loss: 0.1536 - accuracy: 0.9312\n",
      "Epoch 87/100\n",
      "36/36 [==============================] - 0s 513us/step - loss: 0.1528 - accuracy: 0.9321\n",
      "Epoch 88/100\n",
      "36/36 [==============================] - 0s 541us/step - loss: 0.1513 - accuracy: 0.9356\n",
      "Epoch 89/100\n",
      "36/36 [==============================] - 0s 513us/step - loss: 0.1510 - accuracy: 0.9356\n",
      "Epoch 90/100\n",
      "36/36 [==============================] - 0s 513us/step - loss: 0.1495 - accuracy: 0.9391\n",
      "Epoch 91/100\n",
      "36/36 [==============================] - 0s 541us/step - loss: 0.1489 - accuracy: 0.9365\n",
      "Epoch 92/100\n",
      "36/36 [==============================] - 0s 598us/step - loss: 0.1492 - accuracy: 0.9391\n",
      "Epoch 93/100\n",
      "36/36 [==============================] - 0s 570us/step - loss: 0.1476 - accuracy: 0.9382\n",
      "Epoch 94/100\n",
      "36/36 [==============================] - 0s 570us/step - loss: 0.1444 - accuracy: 0.9382\n",
      "Epoch 95/100\n",
      "36/36 [==============================] - 0s 557us/step - loss: 0.1457 - accuracy: 0.9365\n",
      "Epoch 96/100\n",
      "36/36 [==============================] - 0s 541us/step - loss: 0.1429 - accuracy: 0.9417\n",
      "Epoch 97/100\n",
      "36/36 [==============================] - 0s 505us/step - loss: 0.1420 - accuracy: 0.9417\n",
      "Epoch 98/100\n",
      "36/36 [==============================] - 0s 484us/step - loss: 0.1434 - accuracy: 0.9365\n",
      "Epoch 99/100\n",
      "36/36 [==============================] - 0s 541us/step - loss: 0.1417 - accuracy: 0.9443\n",
      "Epoch 100/100\n",
      "36/36 [==============================] - 0s 520us/step - loss: 0.1406 - accuracy: 0.9434\n"
     ]
    }
   ],
   "source": [
    "model = Sequential()\n",
    "model.add(Dense(12, activation='relu', input_dim=64))\n",
    "model.add(Dense(8, activation='relu'))\n",
    "model.add(Dense(1, activation='sigmoid'))\n",
    "\n",
    "model.compile(optimizer='SGD',\n",
    "              loss='binary_crossentropy',\n",
    "              metrics=['accuracy'])\n",
    "\n",
    "# Assign the variable history to store the results,\n",
    "# and set verbose=1 so we can see the output.\n",
    "results = model.fit(X_pure_train, y_pure_train, epochs=100, batch_size=None, verbose=1)"
   ]
  },
  {
   "cell_type": "code",
   "execution_count": 21,
   "metadata": {
    "ExecuteTime": {
     "end_time": "2021-07-12T18:29:20.277843Z",
     "start_time": "2021-07-12T18:29:19.939544Z"
    }
   },
   "outputs": [
    {
     "data": {
      "image/png": "[encoded data removed]",
      "text/plain": [
       "<Figure size 720x360 with 2 Axes>"
      ]
     },
     "metadata": {
      "needs_background": "light"
     },
     "output_type": "display_data"
    }
   ],
   "source": [
    "sigmoid_loss = results.history['loss']\n",
    "sigmoid_accuracy = results.history['accuracy']\n",
    "\n",
    "fig, (ax1, ax2) = plt.subplots(1,2, figsize=(10,5))\n",
    "sns.lineplot(x=results.epoch, y=sigmoid_loss, ax=ax1, label='loss')\n",
    "sns.lineplot(x=results.epoch, y=sigmoid_accuracy, ax=ax2, label='accuracy');"
   ]
  },
  {
   "cell_type": "markdown",
   "metadata": {},
   "source": [
    "If we increase the learning rate to a very high number, we see that our model overshoots the minimum, and starts bouncing all around."
   ]
  },
  {
   "cell_type": "code",
   "execution_count": 22,
   "metadata": {
    "ExecuteTime": {
     "end_time": "2021-07-12T18:30:37.380435Z",
     "start_time": "2021-07-12T18:30:35.017365Z"
    },
    "scrolled": true
   },
   "outputs": [
    {
     "name": "stderr",
     "output_type": "stream",
     "text": [
      "C:\\Users\\IM\\anaconda3\\lib\\site-packages\\tensorflow\\python\\keras\\optimizer_v2\\optimizer_v2.py:374: UserWarning: The `lr` argument is deprecated, use `learning_rate` instead.\n",
      "  warnings.warn(\n"
     ]
    },
    {
     "name": "stdout",
     "output_type": "stream",
     "text": [
      "Epoch 1/30\n",
      "115/115 [==============================] - 0s 481us/step - loss: 1.3587 - accuracy: 0.4682\n",
      "Epoch 2/30\n",
      "115/115 [==============================] - 0s 560us/step - loss: 1.0192 - accuracy: 0.4970\n",
      "Epoch 3/30\n",
      "115/115 [==============================] - 0s 490us/step - loss: 0.9876 - accuracy: 0.5135\n",
      "Epoch 4/30\n",
      "115/115 [==============================] - 0s 472us/step - loss: 1.0113 - accuracy: 0.4883\n",
      "Epoch 5/30\n",
      "115/115 [==============================] - 0s 480us/step - loss: 0.9677 - accuracy: 0.4978\n",
      "Epoch 6/30\n",
      "115/115 [==============================] - 0s 558us/step - loss: 0.9650 - accuracy: 0.5048\n",
      "Epoch 7/30\n",
      "115/115 [==============================] - 0s 563us/step - loss: 0.9537 - accuracy: 0.5126\n",
      "Epoch 8/30\n",
      "115/115 [==============================] - 0s 587us/step - loss: 0.9820 - accuracy: 0.5004\n",
      "Epoch 9/30\n",
      "115/115 [==============================] - 0s 625us/step - loss: 0.9557 - accuracy: 0.5170\n",
      "Epoch 10/30\n",
      "115/115 [==============================] - 0s 479us/step - loss: 1.0410 - accuracy: 0.4795\n",
      "Epoch 11/30\n",
      "115/115 [==============================] - 0s 546us/step - loss: 0.9969 - accuracy: 0.5126\n",
      "Epoch 12/30\n",
      "115/115 [==============================] - 0s 470us/step - loss: 0.9440 - accuracy: 0.5039\n",
      "Epoch 13/30\n",
      "115/115 [==============================] - 0s 472us/step - loss: 1.0363 - accuracy: 0.4900\n",
      "Epoch 14/30\n",
      "115/115 [==============================] - 0s 516us/step - loss: 1.0889 - accuracy: 0.4865\n",
      "Epoch 15/30\n",
      "115/115 [==============================] - 0s 472us/step - loss: 0.9930 - accuracy: 0.5030\n",
      "Epoch 16/30\n",
      "115/115 [==============================] - 0s 490us/step - loss: 1.0352 - accuracy: 0.4987\n",
      "Epoch 17/30\n",
      "115/115 [==============================] - 0s 477us/step - loss: 1.0061 - accuracy: 0.5057\n",
      "Epoch 18/30\n",
      "115/115 [==============================] - 0s 471us/step - loss: 0.9932 - accuracy: 0.5248\n",
      "Epoch 19/30\n",
      "115/115 [==============================] - 0s 504us/step - loss: 0.9991 - accuracy: 0.5048\n",
      "Epoch 20/30\n",
      "115/115 [==============================] - 0s 455us/step - loss: 1.0360 - accuracy: 0.4865\n",
      "Epoch 21/30\n",
      "115/115 [==============================] - 0s 464us/step - loss: 1.0194 - accuracy: 0.4839\n",
      "Epoch 22/30\n",
      "115/115 [==============================] - 0s 472us/step - loss: 1.0199 - accuracy: 0.5048\n",
      "Epoch 23/30\n",
      "115/115 [==============================] - 0s 464us/step - loss: 0.9930 - accuracy: 0.4961\n",
      "Epoch 24/30\n",
      "115/115 [==============================] - 0s 462us/step - loss: 0.9911 - accuracy: 0.4996\n",
      "Epoch 25/30\n",
      "115/115 [==============================] - 0s 464us/step - loss: 0.9459 - accuracy: 0.5083\n",
      "Epoch 26/30\n",
      "115/115 [==============================] - 0s 460us/step - loss: 0.9720 - accuracy: 0.4987\n",
      "Epoch 27/30\n",
      "115/115 [==============================] - 0s 507us/step - loss: 0.9962 - accuracy: 0.4926\n",
      "Epoch 28/30\n",
      "115/115 [==============================] - 0s 504us/step - loss: 1.0074 - accuracy: 0.5013\n",
      "Epoch 29/30\n",
      "115/115 [==============================] - 0s 460us/step - loss: 1.0161 - accuracy: 0.4943\n",
      "Epoch 30/30\n",
      "115/115 [==============================] - 0s 481us/step - loss: 0.9997 - accuracy: 0.5057\n"
     ]
    },
    {
     "data": {
      "image/png": "[encoded data removed]",
      "text/plain": [
       "<Figure size 720x360 with 2 Axes>"
      ]
     },
     "metadata": {
      "needs_background": "light"
     },
     "output_type": "display_data"
    }
   ],
   "source": [
    "model = Sequential()\n",
    "\n",
    "sgd = SGD(lr=9)\n",
    "model.add(Dense(12, activation='relu', input_dim=64))\n",
    "model.add(Dense(8, activation='relu'))\n",
    "model.add(Dense(1, activation='sigmoid'))\n",
    "\n",
    "model.compile(optimizer=sgd,\n",
    "              loss='binary_crossentropy',\n",
    "              metrics=['accuracy'])\n",
    "\n",
    "results = model.fit(X_pure_train, y_pure_train,\n",
    "                    epochs=30, batch_size=10, verbose=1)\n",
    "\n",
    "relu_loss = results.history['loss']\n",
    "relu_accuracy = results.history['accuracy']\n",
    "\n",
    "fig, (ax1, ax2) = plt.subplots(1,2, figsize=(10,5))\n",
    "sns.lineplot(x=results.epoch, y=relu_loss, ax=ax1, label='loss')\n",
    "sns.lineplot(x=results.epoch, y=relu_accuracy, ax=ax2, label='accuracy');"
   ]
  },
  {
   "cell_type": "markdown",
   "metadata": {},
   "source": [
    "### Exercise\n",
    "\n",
    "We have been looking only at our training set. Let's add in our validation set to the picture. Check the docstring for the `.fit()` method and add in our validation data."
   ]
  },
  {
   "cell_type": "code",
   "execution_count": 25,
   "metadata": {
    "ExecuteTime": {
     "end_time": "2021-07-12T18:38:58.425715Z",
     "start_time": "2021-07-12T18:38:53.598856Z"
    }
   },
   "outputs": [
    {
     "name": "stdout",
     "output_type": "stream",
     "text": [
      "Epoch 1/100\n",
      "36/36 [==============================] - 1s 7ms/step - loss: 0.6463 - accuracy: 0.6205 - val_loss: 0.6202 - val_accuracy: 0.6875\n",
      "Epoch 2/100\n",
      "36/36 [==============================] - 0s 1ms/step - loss: 0.5804 - accuracy: 0.7206 - val_loss: 0.5607 - val_accuracy: 0.7118\n",
      "Epoch 3/100\n",
      "36/36 [==============================] - 0s 1ms/step - loss: 0.5123 - accuracy: 0.7746 - val_loss: 0.4926 - val_accuracy: 0.7882\n",
      "Epoch 4/100\n",
      "36/36 [==============================] - 0s 1ms/step - loss: 0.4517 - accuracy: 0.8138 - val_loss: 0.4281 - val_accuracy: 0.8125\n",
      "Epoch 5/100\n",
      "36/36 [==============================] - 0s 1ms/step - loss: 0.3941 - accuracy: 0.8381 - val_loss: 0.3624 - val_accuracy: 0.8472\n",
      "Epoch 6/100\n",
      "36/36 [==============================] - 0s 1ms/step - loss: 0.3368 - accuracy: 0.8616 - val_loss: 0.3101 - val_accuracy: 0.8750\n",
      "Epoch 7/100\n",
      "36/36 [==============================] - 0s 1ms/step - loss: 0.2895 - accuracy: 0.8903 - val_loss: 0.2703 - val_accuracy: 0.8993\n",
      "Epoch 8/100\n",
      "36/36 [==============================] - 0s 997us/step - loss: 0.2543 - accuracy: 0.9008 - val_loss: 0.2383 - val_accuracy: 0.9097\n",
      "Epoch 9/100\n",
      "36/36 [==============================] - 0s 997us/step - loss: 0.2269 - accuracy: 0.9086 - val_loss: 0.2145 - val_accuracy: 0.9201\n",
      "Epoch 10/100\n",
      "36/36 [==============================] - 0s 1ms/step - loss: 0.2116 - accuracy: 0.9156 - val_loss: 0.2081 - val_accuracy: 0.9201\n",
      "Epoch 11/100\n",
      "36/36 [==============================] - 0s 1ms/step - loss: 0.1989 - accuracy: 0.9173 - val_loss: 0.1948 - val_accuracy: 0.9236\n",
      "Epoch 12/100\n",
      "36/36 [==============================] - 0s 1ms/step - loss: 0.1869 - accuracy: 0.9252 - val_loss: 0.1829 - val_accuracy: 0.9271\n",
      "Epoch 13/100\n",
      "36/36 [==============================] - 0s 1ms/step - loss: 0.1744 - accuracy: 0.9295 - val_loss: 0.1711 - val_accuracy: 0.9306\n",
      "Epoch 14/100\n",
      "36/36 [==============================] - 0s 997us/step - loss: 0.1663 - accuracy: 0.9330 - val_loss: 0.1748 - val_accuracy: 0.9271\n",
      "Epoch 15/100\n",
      "36/36 [==============================] - 0s 1ms/step - loss: 0.1593 - accuracy: 0.9391 - val_loss: 0.1551 - val_accuracy: 0.9444\n",
      "Epoch 16/100\n",
      "36/36 [==============================] - 0s 1ms/step - loss: 0.1519 - accuracy: 0.9391 - val_loss: 0.1470 - val_accuracy: 0.9479\n",
      "Epoch 17/100\n",
      "36/36 [==============================] - 0s 986us/step - loss: 0.1430 - accuracy: 0.9443 - val_loss: 0.1441 - val_accuracy: 0.9479\n",
      "Epoch 18/100\n",
      "36/36 [==============================] - 0s 997us/step - loss: 0.1373 - accuracy: 0.9417 - val_loss: 0.1544 - val_accuracy: 0.9306\n",
      "Epoch 19/100\n",
      "36/36 [==============================] - 0s 1ms/step - loss: 0.1254 - accuracy: 0.9495 - val_loss: 0.1228 - val_accuracy: 0.9549\n",
      "Epoch 20/100\n",
      "36/36 [==============================] - 0s 997us/step - loss: 0.1138 - accuracy: 0.9634 - val_loss: 0.1228 - val_accuracy: 0.9549\n",
      "Epoch 21/100\n",
      "36/36 [==============================] - 0s 1ms/step - loss: 0.1058 - accuracy: 0.9617 - val_loss: 0.1117 - val_accuracy: 0.9583\n",
      "Epoch 22/100\n",
      "36/36 [==============================] - 0s 997us/step - loss: 0.1007 - accuracy: 0.9626 - val_loss: 0.1068 - val_accuracy: 0.9653\n",
      "Epoch 23/100\n",
      "36/36 [==============================] - 0s 997us/step - loss: 0.0941 - accuracy: 0.9661 - val_loss: 0.1007 - val_accuracy: 0.9653\n",
      "Epoch 24/100\n",
      "36/36 [==============================] - 0s 997us/step - loss: 0.0899 - accuracy: 0.9634 - val_loss: 0.0958 - val_accuracy: 0.9653\n",
      "Epoch 25/100\n",
      "36/36 [==============================] - 0s 1ms/step - loss: 0.0834 - accuracy: 0.9678 - val_loss: 0.0892 - val_accuracy: 0.9688\n",
      "Epoch 26/100\n",
      "36/36 [==============================] - 0s 1ms/step - loss: 0.0810 - accuracy: 0.9713 - val_loss: 0.0897 - val_accuracy: 0.9618\n",
      "Epoch 27/100\n",
      "36/36 [==============================] - 0s 999us/step - loss: 0.0760 - accuracy: 0.9695 - val_loss: 0.1035 - val_accuracy: 0.9618\n",
      "Epoch 28/100\n",
      "36/36 [==============================] - 0s 1ms/step - loss: 0.0734 - accuracy: 0.9713 - val_loss: 0.0998 - val_accuracy: 0.9653\n",
      "Epoch 29/100\n",
      "36/36 [==============================] - 0s 1ms/step - loss: 0.0680 - accuracy: 0.9748 - val_loss: 0.0841 - val_accuracy: 0.9722\n",
      "Epoch 30/100\n",
      "36/36 [==============================] - 0s 1ms/step - loss: 0.0630 - accuracy: 0.9782 - val_loss: 0.0787 - val_accuracy: 0.9722\n",
      "Epoch 31/100\n",
      "36/36 [==============================] - 0s 997us/step - loss: 0.0606 - accuracy: 0.9774 - val_loss: 0.0753 - val_accuracy: 0.9757\n",
      "Epoch 32/100\n",
      "36/36 [==============================] - 0s 1ms/step - loss: 0.0596 - accuracy: 0.9782 - val_loss: 0.0905 - val_accuracy: 0.9653\n",
      "Epoch 33/100\n",
      "36/36 [==============================] - 0s 1ms/step - loss: 0.0602 - accuracy: 0.9774 - val_loss: 0.0717 - val_accuracy: 0.9757\n",
      "Epoch 34/100\n",
      "36/36 [==============================] - 0s 1ms/step - loss: 0.0547 - accuracy: 0.9809 - val_loss: 0.0696 - val_accuracy: 0.9757\n",
      "Epoch 35/100\n",
      "36/36 [==============================] - 0s 1ms/step - loss: 0.0492 - accuracy: 0.9826 - val_loss: 0.0722 - val_accuracy: 0.9757\n",
      "Epoch 36/100\n",
      "36/36 [==============================] - 0s 1ms/step - loss: 0.0476 - accuracy: 0.9843 - val_loss: 0.0676 - val_accuracy: 0.9792\n",
      "Epoch 37/100\n",
      "36/36 [==============================] - 0s 997us/step - loss: 0.0451 - accuracy: 0.9826 - val_loss: 0.0629 - val_accuracy: 0.9757\n",
      "Epoch 38/100\n",
      "36/36 [==============================] - 0s 1ms/step - loss: 0.0432 - accuracy: 0.9843 - val_loss: 0.0614 - val_accuracy: 0.9757\n",
      "Epoch 39/100\n",
      "36/36 [==============================] - 0s 1ms/step - loss: 0.0405 - accuracy: 0.9861 - val_loss: 0.0619 - val_accuracy: 0.9757\n",
      "Epoch 40/100\n",
      "36/36 [==============================] - 0s 997us/step - loss: 0.0410 - accuracy: 0.9852 - val_loss: 0.0625 - val_accuracy: 0.9792\n",
      "Epoch 41/100\n",
      "36/36 [==============================] - 0s 997us/step - loss: 0.0372 - accuracy: 0.9887 - val_loss: 0.0588 - val_accuracy: 0.9792\n",
      "Epoch 42/100\n",
      "36/36 [==============================] - 0s 1ms/step - loss: 0.0344 - accuracy: 0.9913 - val_loss: 0.0614 - val_accuracy: 0.9792\n",
      "Epoch 43/100\n",
      "36/36 [==============================] - 0s 997us/step - loss: 0.0348 - accuracy: 0.9896 - val_loss: 0.0572 - val_accuracy: 0.9757\n",
      "Epoch 44/100\n",
      "36/36 [==============================] - 0s 997us/step - loss: 0.0321 - accuracy: 0.9904 - val_loss: 0.0594 - val_accuracy: 0.9792\n",
      "Epoch 45/100\n",
      "36/36 [==============================] - 0s 1ms/step - loss: 0.0291 - accuracy: 0.9956 - val_loss: 0.0544 - val_accuracy: 0.9757\n",
      "Epoch 46/100\n",
      "36/36 [==============================] - 0s 1ms/step - loss: 0.0281 - accuracy: 0.9930 - val_loss: 0.0605 - val_accuracy: 0.9792\n",
      "Epoch 47/100\n",
      "36/36 [==============================] - 0s 1ms/step - loss: 0.0269 - accuracy: 0.9956 - val_loss: 0.0547 - val_accuracy: 0.9792\n",
      "Epoch 48/100\n",
      "36/36 [==============================] - 0s 941us/step - loss: 0.0252 - accuracy: 0.9956 - val_loss: 0.0528 - val_accuracy: 0.9757\n",
      "Epoch 49/100\n",
      "36/36 [==============================] - 0s 969us/step - loss: 0.0243 - accuracy: 0.9948 - val_loss: 0.0576 - val_accuracy: 0.9792\n",
      "Epoch 50/100\n",
      "36/36 [==============================] - 0s 1ms/step - loss: 0.0271 - accuracy: 0.9939 - val_loss: 0.0504 - val_accuracy: 0.9757\n",
      "Epoch 51/100\n",
      "36/36 [==============================] - 0s 997us/step - loss: 0.0227 - accuracy: 0.9948 - val_loss: 0.0687 - val_accuracy: 0.9792\n",
      "Epoch 52/100\n",
      "36/36 [==============================] - 0s 997us/step - loss: 0.0219 - accuracy: 0.9956 - val_loss: 0.0576 - val_accuracy: 0.9792\n",
      "Epoch 53/100\n",
      "36/36 [==============================] - 0s 1ms/step - loss: 0.0213 - accuracy: 0.9965 - val_loss: 0.0498 - val_accuracy: 0.9792\n",
      "Epoch 54/100\n",
      "36/36 [==============================] - 0s 997us/step - loss: 0.0206 - accuracy: 0.9974 - val_loss: 0.0548 - val_accuracy: 0.9792\n",
      "Epoch 55/100\n",
      "36/36 [==============================] - 0s 997us/step - loss: 0.0177 - accuracy: 0.9983 - val_loss: 0.0502 - val_accuracy: 0.9757\n",
      "Epoch 56/100\n",
      "36/36 [==============================] - 0s 970us/step - loss: 0.0180 - accuracy: 0.9991 - val_loss: 0.0482 - val_accuracy: 0.9792\n",
      "Epoch 57/100\n",
      "36/36 [==============================] - 0s 1ms/step - loss: 0.0165 - accuracy: 0.9991 - val_loss: 0.0504 - val_accuracy: 0.9757\n",
      "Epoch 58/100\n"
     ]
    },
    {
     "name": "stdout",
     "output_type": "stream",
     "text": [
      "36/36 [==============================] - 0s 1ms/step - loss: 0.0156 - accuracy: 0.9983 - val_loss: 0.0489 - val_accuracy: 0.9757\n",
      "Epoch 59/100\n",
      "36/36 [==============================] - 0s 1ms/step - loss: 0.0154 - accuracy: 0.9991 - val_loss: 0.0500 - val_accuracy: 0.9792\n",
      "Epoch 60/100\n",
      "36/36 [==============================] - 0s 998us/step - loss: 0.0139 - accuracy: 0.9983 - val_loss: 0.0533 - val_accuracy: 0.9792\n",
      "Epoch 61/100\n",
      "36/36 [==============================] - 0s 1ms/step - loss: 0.0138 - accuracy: 0.9991 - val_loss: 0.0469 - val_accuracy: 0.9792\n",
      "Epoch 62/100\n",
      "36/36 [==============================] - 0s 997us/step - loss: 0.0137 - accuracy: 0.9991 - val_loss: 0.0544 - val_accuracy: 0.9792\n",
      "Epoch 63/100\n",
      "36/36 [==============================] - 0s 969us/step - loss: 0.0120 - accuracy: 1.0000 - val_loss: 0.0489 - val_accuracy: 0.9757\n",
      "Epoch 64/100\n",
      "36/36 [==============================] - 0s 997us/step - loss: 0.0130 - accuracy: 1.0000 - val_loss: 0.0500 - val_accuracy: 0.9792\n",
      "Epoch 65/100\n",
      "36/36 [==============================] - 0s 1ms/step - loss: 0.0112 - accuracy: 1.0000 - val_loss: 0.0472 - val_accuracy: 0.9792\n",
      "Epoch 66/100\n",
      "36/36 [==============================] - 0s 969us/step - loss: 0.0106 - accuracy: 1.0000 - val_loss: 0.0483 - val_accuracy: 0.9757\n",
      "Epoch 67/100\n",
      "36/36 [==============================] - 0s 997us/step - loss: 0.0101 - accuracy: 0.9991 - val_loss: 0.0597 - val_accuracy: 0.9792\n",
      "Epoch 68/100\n",
      "36/36 [==============================] - 0s 998us/step - loss: 0.0110 - accuracy: 1.0000 - val_loss: 0.0468 - val_accuracy: 0.9757\n",
      "Epoch 69/100\n",
      "36/36 [==============================] - 0s 997us/step - loss: 0.0092 - accuracy: 0.9991 - val_loss: 0.0504 - val_accuracy: 0.9792\n",
      "Epoch 70/100\n",
      "36/36 [==============================] - 0s 997us/step - loss: 0.0092 - accuracy: 1.0000 - val_loss: 0.0526 - val_accuracy: 0.9757\n",
      "Epoch 71/100\n",
      "36/36 [==============================] - 0s 997us/step - loss: 0.0081 - accuracy: 1.0000 - val_loss: 0.0476 - val_accuracy: 0.9757\n",
      "Epoch 72/100\n",
      "36/36 [==============================] - 0s 1ms/step - loss: 0.0080 - accuracy: 1.0000 - val_loss: 0.0503 - val_accuracy: 0.9757\n",
      "Epoch 73/100\n",
      "36/36 [==============================] - 0s 969us/step - loss: 0.0076 - accuracy: 1.0000 - val_loss: 0.0495 - val_accuracy: 0.9792\n",
      "Epoch 74/100\n",
      "36/36 [==============================] - 0s 1ms/step - loss: 0.0071 - accuracy: 1.0000 - val_loss: 0.0476 - val_accuracy: 0.9757\n",
      "Epoch 75/100\n",
      "36/36 [==============================] - 0s 997us/step - loss: 0.0070 - accuracy: 1.0000 - val_loss: 0.0474 - val_accuracy: 0.9792\n",
      "Epoch 76/100\n",
      "36/36 [==============================] - 0s 997us/step - loss: 0.0067 - accuracy: 1.0000 - val_loss: 0.0460 - val_accuracy: 0.9757\n",
      "Epoch 77/100\n",
      "36/36 [==============================] - 0s 1ms/step - loss: 0.0073 - accuracy: 1.0000 - val_loss: 0.0447 - val_accuracy: 0.9792\n",
      "Epoch 78/100\n",
      "36/36 [==============================] - 0s 1ms/step - loss: 0.0069 - accuracy: 1.0000 - val_loss: 0.0487 - val_accuracy: 0.9792\n",
      "Epoch 79/100\n",
      "36/36 [==============================] - 0s 997us/step - loss: 0.0058 - accuracy: 1.0000 - val_loss: 0.0485 - val_accuracy: 0.9792\n",
      "Epoch 80/100\n",
      "36/36 [==============================] - 0s 1ms/step - loss: 0.0057 - accuracy: 1.0000 - val_loss: 0.0530 - val_accuracy: 0.9792\n",
      "Epoch 81/100\n",
      "36/36 [==============================] - 0s 1ms/step - loss: 0.0055 - accuracy: 1.0000 - val_loss: 0.0428 - val_accuracy: 0.9792\n",
      "Epoch 82/100\n",
      "36/36 [==============================] - 0s 997us/step - loss: 0.0058 - accuracy: 1.0000 - val_loss: 0.0438 - val_accuracy: 0.9792\n",
      "Epoch 83/100\n",
      "36/36 [==============================] - 0s 983us/step - loss: 0.0049 - accuracy: 1.0000 - val_loss: 0.0472 - val_accuracy: 0.9792\n",
      "Epoch 84/100\n",
      "36/36 [==============================] - 0s 997us/step - loss: 0.0052 - accuracy: 1.0000 - val_loss: 0.0456 - val_accuracy: 0.9826\n",
      "Epoch 85/100\n",
      "36/36 [==============================] - 0s 998us/step - loss: 0.0051 - accuracy: 1.0000 - val_loss: 0.0444 - val_accuracy: 0.9861\n",
      "Epoch 86/100\n",
      "36/36 [==============================] - 0s 997us/step - loss: 0.0045 - accuracy: 1.0000 - val_loss: 0.0455 - val_accuracy: 0.9861\n",
      "Epoch 87/100\n",
      "36/36 [==============================] - 0s 1ms/step - loss: 0.0043 - accuracy: 1.0000 - val_loss: 0.0462 - val_accuracy: 0.9792\n",
      "Epoch 88/100\n",
      "36/36 [==============================] - 0s 997us/step - loss: 0.0039 - accuracy: 1.0000 - val_loss: 0.0467 - val_accuracy: 0.9792\n",
      "Epoch 89/100\n",
      "36/36 [==============================] - 0s 1ms/step - loss: 0.0047 - accuracy: 1.0000 - val_loss: 0.0456 - val_accuracy: 0.9757\n",
      "Epoch 90/100\n",
      "36/36 [==============================] - 0s 1ms/step - loss: 0.0037 - accuracy: 1.0000 - val_loss: 0.0593 - val_accuracy: 0.9792\n",
      "Epoch 91/100\n",
      "36/36 [==============================] - 0s 969us/step - loss: 0.0043 - accuracy: 1.0000 - val_loss: 0.0472 - val_accuracy: 0.9826\n",
      "Epoch 92/100\n",
      "36/36 [==============================] - 0s 997us/step - loss: 0.0037 - accuracy: 1.0000 - val_loss: 0.0464 - val_accuracy: 0.9757\n",
      "Epoch 93/100\n",
      "36/36 [==============================] - 0s 969us/step - loss: 0.0039 - accuracy: 1.0000 - val_loss: 0.0500 - val_accuracy: 0.9792\n",
      "Epoch 94/100\n",
      "36/36 [==============================] - 0s 997us/step - loss: 0.0034 - accuracy: 1.0000 - val_loss: 0.0474 - val_accuracy: 0.9792\n",
      "Epoch 95/100\n",
      "36/36 [==============================] - 0s 991us/step - loss: 0.0029 - accuracy: 1.0000 - val_loss: 0.0467 - val_accuracy: 0.9792\n",
      "Epoch 96/100\n",
      "36/36 [==============================] - 0s 969us/step - loss: 0.0037 - accuracy: 1.0000 - val_loss: 0.0503 - val_accuracy: 0.9757\n",
      "Epoch 97/100\n",
      "36/36 [==============================] - 0s 1ms/step - loss: 0.0030 - accuracy: 1.0000 - val_loss: 0.0526 - val_accuracy: 0.9826\n",
      "Epoch 98/100\n",
      "36/36 [==============================] - 0s 1ms/step - loss: 0.0026 - accuracy: 1.0000 - val_loss: 0.0500 - val_accuracy: 0.9792\n",
      "Epoch 99/100\n",
      "36/36 [==============================] - 0s 997us/step - loss: 0.0026 - accuracy: 1.0000 - val_loss: 0.0499 - val_accuracy: 0.9792\n",
      "Epoch 100/100\n",
      "36/36 [==============================] - 0s 1ms/step - loss: 0.0028 - accuracy: 1.0000 - val_loss: 0.0506 - val_accuracy: 0.9792\n"
     ]
    },
    {
     "data": {
      "image/png": "[encoded data removed]",
      "text/plain": [
       "<Figure size 720x360 with 2 Axes>"
      ]
     },
     "metadata": {
      "needs_background": "light"
     },
     "output_type": "display_data"
    }
   ],
   "source": [
    "model = Sequential()\n",
    "model.add(Dense(12, activation='relu', input_dim=64))\n",
    "model.add(Dense(8, activation='relu'))\n",
    "model.add(Dense(4, activation='relu'))\n",
    "model.add(Dense(1, activation='sigmoid'))\n",
    "\n",
    "model.compile(optimizer='adam',\n",
    "              loss='binary_crossentropy',\n",
    "              metrics=['accuracy'])\n",
    "\n",
    "\n",
    "## YOUR CODE HERE\n",
    "results = model.fit(X_pure_train, y_pure_train,\n",
    "                    epochs=100,\n",
    "                    batch_size=None,\n",
    "                    verbose=1,\n",
    "                    validation_data = (X_val, y_val))\n",
    "\n",
    "train_loss = results.history['loss']\n",
    "train_acc = results.history['accuracy']\n",
    "val_loss = results.history['val_loss']\n",
    "val_acc = results.history['val_accuracy']\n",
    "\n",
    "fig, (ax1, ax2) = plt.subplots(1, 2, figsize=(10, 5))\n",
    "sns.lineplot(x=results.epoch, y=train_loss, ax=ax1, label='train_loss')\n",
    "sns.lineplot(x=results.epoch, y=train_acc, ax=ax2, label='train_accuracy')\n",
    "\n",
    "sns.lineplot(x=results.epoch, y=val_loss, ax=ax1, label='val_loss')\n",
    "sns.lineplot(x=results.epoch, y=val_acc, ax=ax2, label='val_accuracy');"
   ]
  },
  {
   "cell_type": "code",
   "execution_count": 26,
   "metadata": {
    "ExecuteTime": {
     "end_time": "2021-07-12T18:42:36.543033Z",
     "start_time": "2021-07-12T18:42:36.410378Z"
    }
   },
   "outputs": [
    {
     "data": {
      "text/plain": [
       "0.9791666865348816"
      ]
     },
     "execution_count": 26,
     "metadata": {},
     "output_type": "execute_result"
    }
   ],
   "source": [
    "results.history['val_accuracy'][-1]"
   ]
  },
  {
   "cell_type": "markdown",
   "metadata": {},
   "source": [
    "## Connecting with `sklearn`\n",
    "\n",
    "The `keras.wrappers` submodule means that we can turn `keras` models into estimators that `sklearn` tools will recognize."
   ]
  },
  {
   "cell_type": "code",
   "execution_count": 27,
   "metadata": {
    "ExecuteTime": {
     "end_time": "2021-07-12T18:42:39.002712Z",
     "start_time": "2021-07-12T18:42:38.169833Z"
    }
   },
   "outputs": [
    {
     "ename": "TypeError",
     "evalue": "If no scoring is specified, the estimator passed should have a 'score' method. The estimator <tensorflow.python.keras.engine.sequential.Sequential object at 0x000001F79F65EF10> does not.",
     "output_type": "error",
     "traceback": [
      "\u001b[1;31m---------------------------------------------------------------------------\u001b[0m",
      "\u001b[1;31mTypeError\u001b[0m                                 Traceback (most recent call last)",
      "\u001b[1;32m<ipython-input-27-440685741601>\u001b[0m in \u001b[0;36m<module>\u001b[1;34m\u001b[0m\n\u001b[0;32m      1\u001b[0m \u001b[1;31m# This will throw an error.\u001b[0m\u001b[1;33m\u001b[0m\u001b[1;33m\u001b[0m\u001b[1;33m\u001b[0m\u001b[0m\n\u001b[0;32m      2\u001b[0m \u001b[1;33m\u001b[0m\u001b[0m\n\u001b[1;32m----> 3\u001b[1;33m \u001b[0mcross_val_score\u001b[0m\u001b[1;33m(\u001b[0m\u001b[0mmodel\u001b[0m\u001b[1;33m,\u001b[0m \u001b[0mX_pure_train\u001b[0m\u001b[1;33m,\u001b[0m \u001b[0my_pure_train\u001b[0m\u001b[1;33m)\u001b[0m\u001b[1;33m\u001b[0m\u001b[1;33m\u001b[0m\u001b[0m\n\u001b[0m",
      "\u001b[1;32m~\\anaconda3\\lib\\site-packages\\sklearn\\utils\\validation.py\u001b[0m in \u001b[0;36minner_f\u001b[1;34m(*args, **kwargs)\u001b[0m\n\u001b[0;32m     61\u001b[0m             \u001b[0mextra_args\u001b[0m \u001b[1;33m=\u001b[0m \u001b[0mlen\u001b[0m\u001b[1;33m(\u001b[0m\u001b[0margs\u001b[0m\u001b[1;33m)\u001b[0m \u001b[1;33m-\u001b[0m \u001b[0mlen\u001b[0m\u001b[1;33m(\u001b[0m\u001b[0mall_args\u001b[0m\u001b[1;33m)\u001b[0m\u001b[1;33m\u001b[0m\u001b[1;33m\u001b[0m\u001b[0m\n\u001b[0;32m     62\u001b[0m             \u001b[1;32mif\u001b[0m \u001b[0mextra_args\u001b[0m \u001b[1;33m<=\u001b[0m \u001b[1;36m0\u001b[0m\u001b[1;33m:\u001b[0m\u001b[1;33m\u001b[0m\u001b[1;33m\u001b[0m\u001b[0m\n\u001b[1;32m---> 63\u001b[1;33m                 \u001b[1;32mreturn\u001b[0m \u001b[0mf\u001b[0m\u001b[1;33m(\u001b[0m\u001b[1;33m*\u001b[0m\u001b[0margs\u001b[0m\u001b[1;33m,\u001b[0m \u001b[1;33m**\u001b[0m\u001b[0mkwargs\u001b[0m\u001b[1;33m)\u001b[0m\u001b[1;33m\u001b[0m\u001b[1;33m\u001b[0m\u001b[0m\n\u001b[0m\u001b[0;32m     64\u001b[0m \u001b[1;33m\u001b[0m\u001b[0m\n\u001b[0;32m     65\u001b[0m             \u001b[1;31m# extra_args > 0\u001b[0m\u001b[1;33m\u001b[0m\u001b[1;33m\u001b[0m\u001b[1;33m\u001b[0m\u001b[0m\n",
      "\u001b[1;32m~\\anaconda3\\lib\\site-packages\\sklearn\\model_selection\\_validation.py\u001b[0m in \u001b[0;36mcross_val_score\u001b[1;34m(estimator, X, y, groups, scoring, cv, n_jobs, verbose, fit_params, pre_dispatch, error_score)\u001b[0m\n\u001b[0;32m    441\u001b[0m     \"\"\"\n\u001b[0;32m    442\u001b[0m     \u001b[1;31m# To ensure multimetric format is not supported\u001b[0m\u001b[1;33m\u001b[0m\u001b[1;33m\u001b[0m\u001b[1;33m\u001b[0m\u001b[0m\n\u001b[1;32m--> 443\u001b[1;33m     \u001b[0mscorer\u001b[0m \u001b[1;33m=\u001b[0m \u001b[0mcheck_scoring\u001b[0m\u001b[1;33m(\u001b[0m\u001b[0mestimator\u001b[0m\u001b[1;33m,\u001b[0m \u001b[0mscoring\u001b[0m\u001b[1;33m=\u001b[0m\u001b[0mscoring\u001b[0m\u001b[1;33m)\u001b[0m\u001b[1;33m\u001b[0m\u001b[1;33m\u001b[0m\u001b[0m\n\u001b[0m\u001b[0;32m    444\u001b[0m \u001b[1;33m\u001b[0m\u001b[0m\n\u001b[0;32m    445\u001b[0m     cv_results = cross_validate(estimator=estimator, X=X, y=y, groups=groups,\n",
      "\u001b[1;32m~\\anaconda3\\lib\\site-packages\\sklearn\\utils\\validation.py\u001b[0m in \u001b[0;36minner_f\u001b[1;34m(*args, **kwargs)\u001b[0m\n\u001b[0;32m     61\u001b[0m             \u001b[0mextra_args\u001b[0m \u001b[1;33m=\u001b[0m \u001b[0mlen\u001b[0m\u001b[1;33m(\u001b[0m\u001b[0margs\u001b[0m\u001b[1;33m)\u001b[0m \u001b[1;33m-\u001b[0m \u001b[0mlen\u001b[0m\u001b[1;33m(\u001b[0m\u001b[0mall_args\u001b[0m\u001b[1;33m)\u001b[0m\u001b[1;33m\u001b[0m\u001b[1;33m\u001b[0m\u001b[0m\n\u001b[0;32m     62\u001b[0m             \u001b[1;32mif\u001b[0m \u001b[0mextra_args\u001b[0m \u001b[1;33m<=\u001b[0m \u001b[1;36m0\u001b[0m\u001b[1;33m:\u001b[0m\u001b[1;33m\u001b[0m\u001b[1;33m\u001b[0m\u001b[0m\n\u001b[1;32m---> 63\u001b[1;33m                 \u001b[1;32mreturn\u001b[0m \u001b[0mf\u001b[0m\u001b[1;33m(\u001b[0m\u001b[1;33m*\u001b[0m\u001b[0margs\u001b[0m\u001b[1;33m,\u001b[0m \u001b[1;33m**\u001b[0m\u001b[0mkwargs\u001b[0m\u001b[1;33m)\u001b[0m\u001b[1;33m\u001b[0m\u001b[1;33m\u001b[0m\u001b[0m\n\u001b[0m\u001b[0;32m     64\u001b[0m \u001b[1;33m\u001b[0m\u001b[0m\n\u001b[0;32m     65\u001b[0m             \u001b[1;31m# extra_args > 0\u001b[0m\u001b[1;33m\u001b[0m\u001b[1;33m\u001b[0m\u001b[1;33m\u001b[0m\u001b[0m\n",
      "\u001b[1;32m~\\anaconda3\\lib\\site-packages\\sklearn\\metrics\\_scorer.py\u001b[0m in \u001b[0;36mcheck_scoring\u001b[1;34m(estimator, scoring, allow_none)\u001b[0m\n\u001b[0;32m    448\u001b[0m             \u001b[1;32mreturn\u001b[0m \u001b[1;32mNone\u001b[0m\u001b[1;33m\u001b[0m\u001b[1;33m\u001b[0m\u001b[0m\n\u001b[0;32m    449\u001b[0m         \u001b[1;32melse\u001b[0m\u001b[1;33m:\u001b[0m\u001b[1;33m\u001b[0m\u001b[1;33m\u001b[0m\u001b[0m\n\u001b[1;32m--> 450\u001b[1;33m             raise TypeError(\n\u001b[0m\u001b[0;32m    451\u001b[0m                 \u001b[1;34m\"If no scoring is specified, the estimator passed should \"\u001b[0m\u001b[1;33m\u001b[0m\u001b[1;33m\u001b[0m\u001b[0m\n\u001b[0;32m    452\u001b[0m                 \u001b[1;34m\"have a 'score' method. The estimator %r does not.\"\u001b[0m\u001b[1;33m\u001b[0m\u001b[1;33m\u001b[0m\u001b[0m\n",
      "\u001b[1;31mTypeError\u001b[0m: If no scoring is specified, the estimator passed should have a 'score' method. The estimator <tensorflow.python.keras.engine.sequential.Sequential object at 0x000001F79F65EF10> does not."
     ]
    }
   ],
   "source": [
    "# This will throw an error.\n",
    "\n",
    "cross_val_score(model, X_pure_train, y_pure_train)"
   ]
  },
  {
   "cell_type": "code",
   "execution_count": 28,
   "metadata": {
    "ExecuteTime": {
     "end_time": "2021-07-12T18:42:49.596205Z",
     "start_time": "2021-07-12T18:42:49.467536Z"
    }
   },
   "outputs": [],
   "source": [
    "def build_model():\n",
    "    model = Sequential()\n",
    "    model.add(Dense(12, activation='relu', input_dim=64))\n",
    "    model.add(Dense(8, activation='relu'))\n",
    "    model.add(Dense(4, activation='relu'))\n",
    "    model.add(Dense(1, activation = 'sigmoid'))\n",
    "\n",
    "    model.compile(optimizer='adam',\n",
    "                  loss='binary_crossentropy',\n",
    "                  metrics=['accuracy'])\n",
    "    return model"
   ]
  },
  {
   "cell_type": "code",
   "execution_count": 29,
   "metadata": {
    "ExecuteTime": {
     "end_time": "2021-07-12T18:42:52.214084Z",
     "start_time": "2021-07-12T18:42:52.086403Z"
    }
   },
   "outputs": [],
   "source": [
    "keras_model = scikit_learn.KerasClassifier(build_model,\n",
    "                                          epochs=50,\n",
    "                                          batch_size=32,\n",
    "                                          verbose=2)"
   ]
  },
  {
   "cell_type": "code",
   "execution_count": 30,
   "metadata": {
    "ExecuteTime": {
     "end_time": "2021-07-12T18:42:52.954663Z",
     "start_time": "2021-07-12T18:42:52.821974Z"
    }
   },
   "outputs": [
    {
     "data": {
      "text/plain": [
       "tensorflow.python.keras.wrappers.scikit_learn.KerasClassifier"
      ]
     },
     "execution_count": 30,
     "metadata": {},
     "output_type": "execute_result"
    }
   ],
   "source": [
    "type(keras_model)"
   ]
  },
  {
   "cell_type": "code",
   "execution_count": 31,
   "metadata": {
    "ExecuteTime": {
     "end_time": "2021-07-12T18:42:59.886435Z",
     "start_time": "2021-07-12T18:42:53.694533Z"
    }
   },
   "outputs": [
    {
     "name": "stdout",
     "output_type": "stream",
     "text": [
      "Epoch 1/50\n",
      "29/29 - 0s - loss: 0.6926 - accuracy: 0.5267\n",
      "Epoch 2/50\n",
      "29/29 - 0s - loss: 0.6846 - accuracy: 0.6007\n",
      "Epoch 3/50\n",
      "29/29 - 0s - loss: 0.6755 - accuracy: 0.6638\n",
      "Epoch 4/50\n",
      "29/29 - 0s - loss: 0.6632 - accuracy: 0.6464\n",
      "Epoch 5/50\n",
      "29/29 - 0s - loss: 0.6430 - accuracy: 0.6823\n",
      "Epoch 6/50\n",
      "29/29 - 0s - loss: 0.6122 - accuracy: 0.7661\n",
      "Epoch 7/50\n",
      "29/29 - 0s - loss: 0.5710 - accuracy: 0.7802\n",
      "Epoch 8/50\n",
      "29/29 - 0s - loss: 0.5283 - accuracy: 0.8172\n",
      "Epoch 9/50\n",
      "29/29 - 0s - loss: 0.4909 - accuracy: 0.8629\n",
      "Epoch 10/50\n",
      "29/29 - 0s - loss: 0.4615 - accuracy: 0.8934\n",
      "Epoch 11/50\n",
      "29/29 - 0s - loss: 0.4392 - accuracy: 0.8890\n",
      "Epoch 12/50\n",
      "29/29 - 0s - loss: 0.4189 - accuracy: 0.9064\n",
      "Epoch 13/50\n",
      "29/29 - 0s - loss: 0.4031 - accuracy: 0.9129\n",
      "Epoch 14/50\n",
      "29/29 - 0s - loss: 0.3892 - accuracy: 0.9173\n",
      "Epoch 15/50\n",
      "29/29 - 0s - loss: 0.3759 - accuracy: 0.9282\n",
      "Epoch 16/50\n",
      "29/29 - 0s - loss: 0.3635 - accuracy: 0.9271\n",
      "Epoch 17/50\n",
      "29/29 - 0s - loss: 0.3513 - accuracy: 0.9314\n",
      "Epoch 18/50\n",
      "29/29 - 0s - loss: 0.3411 - accuracy: 0.9369\n",
      "Epoch 19/50\n",
      "29/29 - 0s - loss: 0.3304 - accuracy: 0.9380\n",
      "Epoch 20/50\n",
      "29/29 - 0s - loss: 0.3215 - accuracy: 0.9347\n",
      "Epoch 21/50\n",
      "29/29 - 0s - loss: 0.3113 - accuracy: 0.9391\n",
      "Epoch 22/50\n",
      "29/29 - 0s - loss: 0.3043 - accuracy: 0.9489\n",
      "Epoch 23/50\n",
      "29/29 - 0s - loss: 0.2945 - accuracy: 0.9510\n",
      "Epoch 24/50\n",
      "29/29 - 0s - loss: 0.2862 - accuracy: 0.9510\n",
      "Epoch 25/50\n",
      "29/29 - 0s - loss: 0.2784 - accuracy: 0.9521\n",
      "Epoch 26/50\n",
      "29/29 - 0s - loss: 0.2714 - accuracy: 0.9663\n",
      "Epoch 27/50\n",
      "29/29 - 0s - loss: 0.2645 - accuracy: 0.9630\n",
      "Epoch 28/50\n",
      "29/29 - 0s - loss: 0.2579 - accuracy: 0.9641\n",
      "Epoch 29/50\n",
      "29/29 - 0s - loss: 0.2510 - accuracy: 0.9652\n",
      "Epoch 30/50\n",
      "29/29 - 0s - loss: 0.2461 - accuracy: 0.9695\n",
      "Epoch 31/50\n",
      "29/29 - 0s - loss: 0.2391 - accuracy: 0.9695\n",
      "Epoch 32/50\n",
      "29/29 - 0s - loss: 0.2367 - accuracy: 0.9684\n",
      "Epoch 33/50\n",
      "29/29 - 0s - loss: 0.2325 - accuracy: 0.9652\n",
      "Epoch 34/50\n",
      "29/29 - 0s - loss: 0.2284 - accuracy: 0.9717\n",
      "Epoch 35/50\n",
      "29/29 - 0s - loss: 0.2178 - accuracy: 0.9750\n",
      "Epoch 36/50\n",
      "29/29 - 0s - loss: 0.2135 - accuracy: 0.9793\n",
      "Epoch 37/50\n",
      "29/29 - 0s - loss: 0.2085 - accuracy: 0.9750\n",
      "Epoch 38/50\n",
      "29/29 - 0s - loss: 0.2045 - accuracy: 0.9826\n",
      "Epoch 39/50\n",
      "29/29 - 0s - loss: 0.2010 - accuracy: 0.9771\n",
      "Epoch 40/50\n",
      "29/29 - 0s - loss: 0.1968 - accuracy: 0.9782\n",
      "Epoch 41/50\n",
      "29/29 - 0s - loss: 0.1906 - accuracy: 0.9782\n",
      "Epoch 42/50\n",
      "29/29 - 0s - loss: 0.1871 - accuracy: 0.9815\n",
      "Epoch 43/50\n",
      "29/29 - 0s - loss: 0.1839 - accuracy: 0.9804\n",
      "Epoch 44/50\n",
      "29/29 - 0s - loss: 0.1797 - accuracy: 0.9793\n",
      "Epoch 45/50\n",
      "29/29 - 0s - loss: 0.1753 - accuracy: 0.9815\n",
      "Epoch 46/50\n",
      "29/29 - 0s - loss: 0.1735 - accuracy: 0.9793\n",
      "Epoch 47/50\n",
      "29/29 - 0s - loss: 0.1698 - accuracy: 0.9815\n",
      "Epoch 48/50\n",
      "29/29 - 0s - loss: 0.1654 - accuracy: 0.9837\n",
      "Epoch 49/50\n",
      "29/29 - 0s - loss: 0.1632 - accuracy: 0.9837\n",
      "Epoch 50/50\n",
      "29/29 - 0s - loss: 0.1593 - accuracy: 0.9837\n",
      "8/8 - 0s - loss: 0.1912 - accuracy: 0.9478\n",
      "Epoch 1/50\n",
      "29/29 - 0s - loss: 0.6746 - accuracy: 0.5702\n",
      "Epoch 2/50\n",
      "29/29 - 0s - loss: 0.6102 - accuracy: 0.7018\n",
      "Epoch 3/50\n",
      "29/29 - 0s - loss: 0.5295 - accuracy: 0.7715\n",
      "Epoch 4/50\n",
      "29/29 - 0s - loss: 0.4363 - accuracy: 0.8237\n",
      "Epoch 5/50\n",
      "29/29 - 0s - loss: 0.3524 - accuracy: 0.8672\n",
      "Epoch 6/50\n",
      "29/29 - 0s - loss: 0.2905 - accuracy: 0.8857\n",
      "Epoch 7/50\n",
      "29/29 - 0s - loss: 0.2604 - accuracy: 0.8934\n",
      "Epoch 8/50\n",
      "29/29 - 0s - loss: 0.2318 - accuracy: 0.9064\n",
      "Epoch 9/50\n",
      "29/29 - 0s - loss: 0.2182 - accuracy: 0.9075\n",
      "Epoch 10/50\n",
      "29/29 - 0s - loss: 0.2054 - accuracy: 0.9119\n",
      "Epoch 11/50\n",
      "29/29 - 0s - loss: 0.1898 - accuracy: 0.9206\n",
      "Epoch 12/50\n",
      "29/29 - 0s - loss: 0.1842 - accuracy: 0.9217\n",
      "Epoch 13/50\n",
      "29/29 - 0s - loss: 0.1696 - accuracy: 0.9314\n",
      "Epoch 14/50\n",
      "29/29 - 0s - loss: 0.1623 - accuracy: 0.9304\n",
      "Epoch 15/50\n",
      "29/29 - 0s - loss: 0.1546 - accuracy: 0.9423\n",
      "Epoch 16/50\n",
      "29/29 - 0s - loss: 0.1509 - accuracy: 0.9445\n",
      "Epoch 17/50\n",
      "29/29 - 0s - loss: 0.1426 - accuracy: 0.9467\n",
      "Epoch 18/50\n",
      "29/29 - 0s - loss: 0.1342 - accuracy: 0.9532\n",
      "Epoch 19/50\n",
      "29/29 - 0s - loss: 0.1322 - accuracy: 0.9478\n",
      "Epoch 20/50\n",
      "29/29 - 0s - loss: 0.1260 - accuracy: 0.9510\n",
      "Epoch 21/50\n",
      "29/29 - 0s - loss: 0.1179 - accuracy: 0.9576\n",
      "Epoch 22/50\n",
      "29/29 - 0s - loss: 0.1124 - accuracy: 0.9576\n",
      "Epoch 23/50\n",
      "29/29 - 0s - loss: 0.1110 - accuracy: 0.9608\n",
      "Epoch 24/50\n",
      "29/29 - 0s - loss: 0.1056 - accuracy: 0.9630\n",
      "Epoch 25/50\n",
      "29/29 - 0s - loss: 0.1015 - accuracy: 0.9674\n",
      "Epoch 26/50\n",
      "29/29 - 0s - loss: 0.0976 - accuracy: 0.9630\n",
      "Epoch 27/50\n",
      "29/29 - 0s - loss: 0.0967 - accuracy: 0.9619\n",
      "Epoch 28/50\n",
      "29/29 - 0s - loss: 0.0926 - accuracy: 0.9684\n",
      "Epoch 29/50\n",
      "29/29 - 0s - loss: 0.0883 - accuracy: 0.9706\n",
      "Epoch 30/50\n",
      "29/29 - 0s - loss: 0.0855 - accuracy: 0.9717\n",
      "Epoch 31/50\n",
      "29/29 - 0s - loss: 0.0829 - accuracy: 0.9706\n",
      "Epoch 32/50\n",
      "29/29 - 0s - loss: 0.0801 - accuracy: 0.9674\n",
      "Epoch 33/50\n",
      "29/29 - 0s - loss: 0.0768 - accuracy: 0.9728\n",
      "Epoch 34/50\n",
      "29/29 - 0s - loss: 0.0724 - accuracy: 0.9782\n",
      "Epoch 35/50\n",
      "29/29 - 0s - loss: 0.0723 - accuracy: 0.9717\n",
      "Epoch 36/50\n",
      "29/29 - 0s - loss: 0.0670 - accuracy: 0.9804\n",
      "Epoch 37/50\n",
      "29/29 - 0s - loss: 0.0644 - accuracy: 0.9804\n",
      "Epoch 38/50\n",
      "29/29 - 0s - loss: 0.0649 - accuracy: 0.9782\n",
      "Epoch 39/50\n",
      "29/29 - 0s - loss: 0.0618 - accuracy: 0.9804\n",
      "Epoch 40/50\n",
      "29/29 - 0s - loss: 0.0583 - accuracy: 0.9793\n",
      "Epoch 41/50\n",
      "29/29 - 0s - loss: 0.0561 - accuracy: 0.9848\n",
      "Epoch 42/50\n",
      "29/29 - 0s - loss: 0.0539 - accuracy: 0.9837\n",
      "Epoch 43/50\n",
      "29/29 - 0s - loss: 0.0520 - accuracy: 0.9869\n",
      "Epoch 44/50\n",
      "29/29 - 0s - loss: 0.0481 - accuracy: 0.9869\n",
      "Epoch 45/50\n",
      "29/29 - 0s - loss: 0.0477 - accuracy: 0.9869\n",
      "Epoch 46/50\n",
      "29/29 - 0s - loss: 0.0457 - accuracy: 0.9902\n",
      "Epoch 47/50\n",
      "29/29 - 0s - loss: 0.0461 - accuracy: 0.9880\n",
      "Epoch 48/50\n",
      "29/29 - 0s - loss: 0.0423 - accuracy: 0.9902\n",
      "Epoch 49/50\n",
      "29/29 - 0s - loss: 0.0430 - accuracy: 0.9859\n",
      "Epoch 50/50\n",
      "29/29 - 0s - loss: 0.0408 - accuracy: 0.9924\n",
      "8/8 - 0s - loss: 0.0989 - accuracy: 0.9652\n",
      "Epoch 1/50\n",
      "29/29 - 0s - loss: 0.7102 - accuracy: 0.5060\n",
      "Epoch 2/50\n",
      "29/29 - 0s - loss: 0.6647 - accuracy: 0.6779\n",
      "Epoch 3/50\n",
      "29/29 - 0s - loss: 0.6264 - accuracy: 0.7388\n",
      "Epoch 4/50\n",
      "29/29 - 0s - loss: 0.5738 - accuracy: 0.7911\n",
      "Epoch 5/50\n",
      "29/29 - 0s - loss: 0.5053 - accuracy: 0.8455\n",
      "Epoch 6/50\n",
      "29/29 - 0s - loss: 0.4283 - accuracy: 0.8749\n",
      "Epoch 7/50\n",
      "29/29 - 0s - loss: 0.3583 - accuracy: 0.8977\n",
      "Epoch 8/50\n",
      "29/29 - 0s - loss: 0.3079 - accuracy: 0.9075\n",
      "Epoch 9/50\n",
      "29/29 - 0s - loss: 0.2729 - accuracy: 0.9075\n",
      "Epoch 10/50\n",
      "29/29 - 0s - loss: 0.2460 - accuracy: 0.9162\n",
      "Epoch 11/50\n",
      "29/29 - 0s - loss: 0.2285 - accuracy: 0.9217\n",
      "Epoch 12/50\n",
      "29/29 - 0s - loss: 0.2150 - accuracy: 0.9206\n",
      "Epoch 13/50\n",
      "29/29 - 0s - loss: 0.2058 - accuracy: 0.9227\n",
      "Epoch 14/50\n",
      "29/29 - 0s - loss: 0.1944 - accuracy: 0.9282\n",
      "Epoch 15/50\n",
      "29/29 - 0s - loss: 0.1872 - accuracy: 0.9358\n",
      "Epoch 16/50\n",
      "29/29 - 0s - loss: 0.1780 - accuracy: 0.9358\n",
      "Epoch 17/50\n",
      "29/29 - 0s - loss: 0.1710 - accuracy: 0.9369\n",
      "Epoch 18/50\n",
      "29/29 - 0s - loss: 0.1649 - accuracy: 0.9380\n",
      "Epoch 19/50\n",
      "29/29 - 0s - loss: 0.1596 - accuracy: 0.9412\n",
      "Epoch 20/50\n",
      "29/29 - 0s - loss: 0.1539 - accuracy: 0.9423\n",
      "Epoch 21/50\n",
      "29/29 - 0s - loss: 0.1474 - accuracy: 0.9412\n",
      "Epoch 22/50\n",
      "29/29 - 0s - loss: 0.1452 - accuracy: 0.9434\n",
      "Epoch 23/50\n",
      "29/29 - 0s - loss: 0.1390 - accuracy: 0.9467\n",
      "Epoch 24/50\n",
      "29/29 - 0s - loss: 0.1337 - accuracy: 0.9521\n",
      "Epoch 25/50\n",
      "29/29 - 0s - loss: 0.1309 - accuracy: 0.9532\n",
      "Epoch 26/50\n",
      "29/29 - 0s - loss: 0.1251 - accuracy: 0.9543\n",
      "Epoch 27/50\n",
      "29/29 - 0s - loss: 0.1237 - accuracy: 0.9543\n",
      "Epoch 28/50\n",
      "29/29 - 0s - loss: 0.1207 - accuracy: 0.9499\n",
      "Epoch 29/50\n",
      "29/29 - 0s - loss: 0.1166 - accuracy: 0.9565\n",
      "Epoch 30/50\n",
      "29/29 - 0s - loss: 0.1130 - accuracy: 0.9587\n",
      "Epoch 31/50\n",
      "29/29 - 0s - loss: 0.1089 - accuracy: 0.9619\n",
      "Epoch 32/50\n",
      "29/29 - 0s - loss: 0.1058 - accuracy: 0.9587\n",
      "Epoch 33/50\n",
      "29/29 - 0s - loss: 0.1049 - accuracy: 0.9597\n",
      "Epoch 34/50\n",
      "29/29 - 0s - loss: 0.1058 - accuracy: 0.9619\n",
      "Epoch 35/50\n",
      "29/29 - 0s - loss: 0.0988 - accuracy: 0.9652\n",
      "Epoch 36/50\n",
      "29/29 - 0s - loss: 0.0959 - accuracy: 0.9695\n",
      "Epoch 37/50\n",
      "29/29 - 0s - loss: 0.0927 - accuracy: 0.9684\n",
      "Epoch 38/50\n",
      "29/29 - 0s - loss: 0.0901 - accuracy: 0.9684\n",
      "Epoch 39/50\n",
      "29/29 - 0s - loss: 0.0924 - accuracy: 0.9652\n",
      "Epoch 40/50\n",
      "29/29 - 0s - loss: 0.0865 - accuracy: 0.9717\n",
      "Epoch 41/50\n",
      "29/29 - 0s - loss: 0.0877 - accuracy: 0.9695\n",
      "Epoch 42/50\n",
      "29/29 - 0s - loss: 0.0821 - accuracy: 0.9728\n",
      "Epoch 43/50\n",
      "29/29 - 0s - loss: 0.0817 - accuracy: 0.9750\n"
     ]
    },
    {
     "name": "stdout",
     "output_type": "stream",
     "text": [
      "Epoch 44/50\n",
      "29/29 - 0s - loss: 0.0775 - accuracy: 0.9717\n",
      "Epoch 45/50\n",
      "29/29 - 0s - loss: 0.0769 - accuracy: 0.9750\n",
      "Epoch 46/50\n",
      "29/29 - 0s - loss: 0.0759 - accuracy: 0.9706\n",
      "Epoch 47/50\n",
      "29/29 - 0s - loss: 0.0723 - accuracy: 0.9771\n",
      "Epoch 48/50\n",
      "29/29 - 0s - loss: 0.0713 - accuracy: 0.9761\n",
      "Epoch 49/50\n",
      "29/29 - 0s - loss: 0.0709 - accuracy: 0.9739\n",
      "Epoch 50/50\n",
      "29/29 - 0s - loss: 0.0676 - accuracy: 0.9804\n",
      "8/8 - 0s - loss: 0.1226 - accuracy: 0.9435\n",
      "Epoch 1/50\n",
      "29/29 - 0s - loss: 0.6880 - accuracy: 0.6039\n",
      "Epoch 2/50\n",
      "29/29 - 0s - loss: 0.6621 - accuracy: 0.7084\n",
      "Epoch 3/50\n",
      "29/29 - 0s - loss: 0.6020 - accuracy: 0.7682\n",
      "Epoch 4/50\n",
      "29/29 - 0s - loss: 0.5134 - accuracy: 0.8303\n",
      "Epoch 5/50\n",
      "29/29 - 0s - loss: 0.4304 - accuracy: 0.8477\n",
      "Epoch 6/50\n",
      "29/29 - 0s - loss: 0.3685 - accuracy: 0.8618\n",
      "Epoch 7/50\n",
      "29/29 - 0s - loss: 0.3248 - accuracy: 0.8738\n",
      "Epoch 8/50\n",
      "29/29 - 0s - loss: 0.2867 - accuracy: 0.8825\n",
      "Epoch 9/50\n",
      "29/29 - 0s - loss: 0.2575 - accuracy: 0.8923\n",
      "Epoch 10/50\n",
      "29/29 - 0s - loss: 0.2335 - accuracy: 0.8999\n",
      "Epoch 11/50\n",
      "29/29 - 0s - loss: 0.2154 - accuracy: 0.9086\n",
      "Epoch 12/50\n",
      "29/29 - 0s - loss: 0.2033 - accuracy: 0.9119\n",
      "Epoch 13/50\n",
      "29/29 - 0s - loss: 0.1958 - accuracy: 0.9140\n",
      "Epoch 14/50\n",
      "29/29 - 0s - loss: 0.1785 - accuracy: 0.9184\n",
      "Epoch 15/50\n",
      "29/29 - 0s - loss: 0.1700 - accuracy: 0.9195\n",
      "Epoch 16/50\n",
      "29/29 - 0s - loss: 0.1644 - accuracy: 0.9206\n",
      "Epoch 17/50\n",
      "29/29 - 0s - loss: 0.1542 - accuracy: 0.9358\n",
      "Epoch 18/50\n",
      "29/29 - 0s - loss: 0.1456 - accuracy: 0.9347\n",
      "Epoch 19/50\n",
      "29/29 - 0s - loss: 0.1416 - accuracy: 0.9325\n",
      "Epoch 20/50\n",
      "29/29 - 0s - loss: 0.1368 - accuracy: 0.9467\n",
      "Epoch 21/50\n",
      "29/29 - 0s - loss: 0.1350 - accuracy: 0.9434\n",
      "Epoch 22/50\n",
      "29/29 - 0s - loss: 0.1250 - accuracy: 0.9456\n",
      "Epoch 23/50\n",
      "29/29 - 0s - loss: 0.1196 - accuracy: 0.9510\n",
      "Epoch 24/50\n",
      "29/29 - 0s - loss: 0.1260 - accuracy: 0.9467\n",
      "Epoch 25/50\n",
      "29/29 - 0s - loss: 0.1127 - accuracy: 0.9543\n",
      "Epoch 26/50\n",
      "29/29 - 0s - loss: 0.1088 - accuracy: 0.9543\n",
      "Epoch 27/50\n",
      "29/29 - 0s - loss: 0.1056 - accuracy: 0.9652\n",
      "Epoch 28/50\n",
      "29/29 - 0s - loss: 0.0980 - accuracy: 0.9587\n",
      "Epoch 29/50\n",
      "29/29 - 0s - loss: 0.0977 - accuracy: 0.9630\n",
      "Epoch 30/50\n",
      "29/29 - 0s - loss: 0.0941 - accuracy: 0.9608\n",
      "Epoch 31/50\n",
      "29/29 - 0s - loss: 0.0946 - accuracy: 0.9619\n",
      "Epoch 32/50\n",
      "29/29 - 0s - loss: 0.0873 - accuracy: 0.9652\n",
      "Epoch 33/50\n",
      "29/29 - 0s - loss: 0.0808 - accuracy: 0.9706\n",
      "Epoch 34/50\n",
      "29/29 - 0s - loss: 0.0904 - accuracy: 0.9597\n",
      "Epoch 35/50\n",
      "29/29 - 0s - loss: 0.0804 - accuracy: 0.9674\n",
      "Epoch 36/50\n",
      "29/29 - 0s - loss: 0.0798 - accuracy: 0.9750\n",
      "Epoch 37/50\n",
      "29/29 - 0s - loss: 0.0779 - accuracy: 0.9728\n",
      "Epoch 38/50\n",
      "29/29 - 0s - loss: 0.0763 - accuracy: 0.9684\n",
      "Epoch 39/50\n",
      "29/29 - 0s - loss: 0.0749 - accuracy: 0.9674\n",
      "Epoch 40/50\n",
      "29/29 - 0s - loss: 0.0714 - accuracy: 0.9761\n",
      "Epoch 41/50\n",
      "29/29 - 0s - loss: 0.0686 - accuracy: 0.9771\n",
      "Epoch 42/50\n",
      "29/29 - 0s - loss: 0.0667 - accuracy: 0.9782\n",
      "Epoch 43/50\n",
      "29/29 - 0s - loss: 0.0660 - accuracy: 0.9761\n",
      "Epoch 44/50\n",
      "29/29 - 0s - loss: 0.0757 - accuracy: 0.9706\n",
      "Epoch 45/50\n",
      "29/29 - 0s - loss: 0.0627 - accuracy: 0.9771\n",
      "Epoch 46/50\n",
      "29/29 - 0s - loss: 0.0597 - accuracy: 0.9793\n",
      "Epoch 47/50\n",
      "29/29 - 0s - loss: 0.0637 - accuracy: 0.9728\n",
      "Epoch 48/50\n",
      "29/29 - 0s - loss: 0.0599 - accuracy: 0.9804\n",
      "Epoch 49/50\n",
      "29/29 - 0s - loss: 0.0552 - accuracy: 0.9804\n",
      "Epoch 50/50\n",
      "29/29 - 0s - loss: 0.0544 - accuracy: 0.9815\n",
      "8/8 - 0s - loss: 0.1257 - accuracy: 0.9478\n",
      "Epoch 1/50\n",
      "29/29 - 0s - loss: 0.6846 - accuracy: 0.6370\n",
      "Epoch 2/50\n",
      "29/29 - 0s - loss: 0.6513 - accuracy: 0.7217\n",
      "Epoch 3/50\n",
      "29/29 - 0s - loss: 0.5927 - accuracy: 0.7772\n",
      "Epoch 4/50\n",
      "29/29 - 0s - loss: 0.5274 - accuracy: 0.8207\n",
      "Epoch 5/50\n",
      "29/29 - 0s - loss: 0.4565 - accuracy: 0.8609\n",
      "Epoch 6/50\n",
      "29/29 - 0s - loss: 0.3925 - accuracy: 0.8815\n",
      "Epoch 7/50\n",
      "29/29 - 0s - loss: 0.3371 - accuracy: 0.8989\n",
      "Epoch 8/50\n",
      "29/29 - 0s - loss: 0.2897 - accuracy: 0.9109\n",
      "Epoch 9/50\n",
      "29/29 - 0s - loss: 0.2577 - accuracy: 0.9163\n",
      "Epoch 10/50\n",
      "29/29 - 0s - loss: 0.2335 - accuracy: 0.9196\n",
      "Epoch 11/50\n",
      "29/29 - 0s - loss: 0.2144 - accuracy: 0.9250\n",
      "Epoch 12/50\n",
      "29/29 - 0s - loss: 0.1983 - accuracy: 0.9272\n",
      "Epoch 13/50\n",
      "29/29 - 0s - loss: 0.1897 - accuracy: 0.9304\n",
      "Epoch 14/50\n",
      "29/29 - 0s - loss: 0.1748 - accuracy: 0.9315\n",
      "Epoch 15/50\n",
      "29/29 - 0s - loss: 0.1659 - accuracy: 0.9380\n",
      "Epoch 16/50\n",
      "29/29 - 0s - loss: 0.1602 - accuracy: 0.9380\n",
      "Epoch 17/50\n",
      "29/29 - 0s - loss: 0.1523 - accuracy: 0.9413\n",
      "Epoch 18/50\n",
      "29/29 - 0s - loss: 0.1452 - accuracy: 0.9402\n",
      "Epoch 19/50\n",
      "29/29 - 0s - loss: 0.1401 - accuracy: 0.9467\n",
      "Epoch 20/50\n",
      "29/29 - 0s - loss: 0.1327 - accuracy: 0.9489\n",
      "Epoch 21/50\n",
      "29/29 - 0s - loss: 0.1267 - accuracy: 0.9543\n",
      "Epoch 22/50\n",
      "29/29 - 0s - loss: 0.1223 - accuracy: 0.9565\n",
      "Epoch 23/50\n",
      "29/29 - 0s - loss: 0.1177 - accuracy: 0.9533\n",
      "Epoch 24/50\n",
      "29/29 - 0s - loss: 0.1118 - accuracy: 0.9598\n",
      "Epoch 25/50\n",
      "29/29 - 0s - loss: 0.1079 - accuracy: 0.9587\n",
      "Epoch 26/50\n",
      "29/29 - 0s - loss: 0.1025 - accuracy: 0.9641\n",
      "Epoch 27/50\n",
      "29/29 - 0s - loss: 0.1019 - accuracy: 0.9630\n",
      "Epoch 28/50\n",
      "29/29 - 0s - loss: 0.0953 - accuracy: 0.9674\n",
      "Epoch 29/50\n",
      "29/29 - 0s - loss: 0.0922 - accuracy: 0.9707\n",
      "Epoch 30/50\n",
      "29/29 - 0s - loss: 0.0897 - accuracy: 0.9707\n",
      "Epoch 31/50\n",
      "29/29 - 0s - loss: 0.0857 - accuracy: 0.9696\n",
      "Epoch 32/50\n",
      "29/29 - 0s - loss: 0.0836 - accuracy: 0.9739\n",
      "Epoch 33/50\n",
      "29/29 - 0s - loss: 0.0798 - accuracy: 0.9739\n",
      "Epoch 34/50\n",
      "29/29 - 0s - loss: 0.0776 - accuracy: 0.9761\n",
      "Epoch 35/50\n",
      "29/29 - 0s - loss: 0.0747 - accuracy: 0.9739\n",
      "Epoch 36/50\n",
      "29/29 - 0s - loss: 0.0775 - accuracy: 0.9772\n",
      "Epoch 37/50\n",
      "29/29 - 0s - loss: 0.0732 - accuracy: 0.9750\n",
      "Epoch 38/50\n",
      "29/29 - 0s - loss: 0.0703 - accuracy: 0.9793\n",
      "Epoch 39/50\n",
      "29/29 - 0s - loss: 0.0685 - accuracy: 0.9761\n",
      "Epoch 40/50\n",
      "29/29 - 0s - loss: 0.0698 - accuracy: 0.9793\n",
      "Epoch 41/50\n",
      "29/29 - 0s - loss: 0.0627 - accuracy: 0.9793\n",
      "Epoch 42/50\n",
      "29/29 - 0s - loss: 0.0631 - accuracy: 0.9804\n",
      "Epoch 43/50\n",
      "29/29 - 0s - loss: 0.0615 - accuracy: 0.9837\n",
      "Epoch 44/50\n",
      "29/29 - 0s - loss: 0.0574 - accuracy: 0.9826\n",
      "Epoch 45/50\n",
      "29/29 - 0s - loss: 0.0562 - accuracy: 0.9804\n",
      "Epoch 46/50\n",
      "29/29 - 0s - loss: 0.0557 - accuracy: 0.9848\n",
      "Epoch 47/50\n",
      "29/29 - 0s - loss: 0.0535 - accuracy: 0.9837\n",
      "Epoch 48/50\n",
      "29/29 - 0s - loss: 0.0523 - accuracy: 0.9859\n",
      "Epoch 49/50\n",
      "29/29 - 0s - loss: 0.0503 - accuracy: 0.9870\n",
      "Epoch 50/50\n",
      "29/29 - 0s - loss: 0.0494 - accuracy: 0.9859\n",
      "8/8 - 0s - loss: 0.1413 - accuracy: 0.9345\n"
     ]
    },
    {
     "data": {
      "text/plain": [
       "array([0.94782609, 0.96521741, 0.94347829, 0.94782609, 0.93449783])"
      ]
     },
     "execution_count": 31,
     "metadata": {},
     "output_type": "execute_result"
    }
   ],
   "source": [
    "cross_val_score(keras_model, X_pure_train, y_pure_train)"
   ]
  },
  {
   "cell_type": "markdown",
   "metadata": {},
   "source": [
    "## Regularization"
   ]
  },
  {
   "cell_type": "markdown",
   "metadata": {},
   "source": [
    "Does regularization make sense in the context of neural networks? <br/>\n",
    "\n",
    "Yes! We still have all of the salient ingredients: a loss function, overfitting vs. underfitting, and coefficients (weights) that could get too large.\n",
    "\n",
    "But there are now a few different flavors besides L1 and L2 regularization. (Note that L1 regularization is not common in the context of  neural networks.)\n",
    "\n",
    "We'll add a few more layers to give regularization a better chance of making a difference!"
   ]
  },
  {
   "cell_type": "code",
   "execution_count": 32,
   "metadata": {
    "ExecuteTime": {
     "end_time": "2021-07-12T18:46:17.211538Z",
     "start_time": "2021-07-12T18:46:15.522876Z"
    }
   },
   "outputs": [
    {
     "data": {
      "image/png": "[encoded data removed]",
      "text/plain": [
       "<Figure size 720x360 with 2 Axes>"
      ]
     },
     "metadata": {
      "needs_background": "light"
     },
     "output_type": "display_data"
    }
   ],
   "source": [
    "model = Sequential()\n",
    "model.add(Dense(30, activation='relu', input_dim=64))\n",
    "\n",
    "# We can add L2 (or L1) regularization right into\n",
    "# the layer with the kernel_regularizer parameter.\n",
    "\n",
    "model.add(Dense(20, activation='relu',\n",
    "                kernel_regularizer=l2(l2=0.05)))\n",
    "\n",
    "# Note that there is also a bias_regularizer,\n",
    "# but this tends to have less effect.\n",
    "\n",
    "model.add(Dense(12, activation='relu'))\n",
    "model.add(Dense(12, activation='relu'))\n",
    "model.add(Dense(12, activation='relu'))\n",
    "model.add(Dense(8, activation='relu'))\n",
    "model.add(Dense(4, activation='relu'))\n",
    "model.add(Dense(1, activation ='sigmoid'))\n",
    "\n",
    "model.compile(optimizer='adam',\n",
    "              loss='binary_crossentropy',\n",
    "              metrics=['accuracy'])\n",
    "\n",
    "results = model.fit(X_pure_train, y_pure_train, epochs=20, batch_size=32,\n",
    "                    verbose=0, validation_data=(X_val, y_val))\n",
    "\n",
    "train_loss = results.history['loss']\n",
    "train_acc = results.history['accuracy']\n",
    "val_loss = results.history['val_loss']\n",
    "val_acc = results.history['val_accuracy']\n",
    "\n",
    "\n",
    "fig, (ax1, ax2) = plt.subplots(1, 2, figsize=(10, 5))\n",
    "sns.lineplot(x=results.epoch, y=train_loss, ax=ax1, label='train_loss')\n",
    "sns.lineplot(x=results.epoch, y=train_acc, ax=ax2, label='train_accuracy')\n",
    "\n",
    "sns.lineplot(x=results.epoch, y=val_loss, ax=ax1, label='val_loss')\n",
    "sns.lineplot(x=results.epoch, y=val_acc, ax=ax2, label='val_accuracy');"
   ]
  },
  {
   "cell_type": "markdown",
   "metadata": {},
   "source": [
    "Adding L2 to multiple layers:"
   ]
  },
  {
   "cell_type": "code",
   "execution_count": 33,
   "metadata": {
    "ExecuteTime": {
     "end_time": "2021-07-12T18:46:47.411273Z",
     "start_time": "2021-07-12T18:46:45.590398Z"
    }
   },
   "outputs": [
    {
     "data": {
      "image/png": "[encoded data removed]",
      "text/plain": [
       "<Figure size 720x360 with 2 Axes>"
      ]
     },
     "metadata": {
      "needs_background": "light"
     },
     "output_type": "display_data"
    }
   ],
   "source": [
    "model = Sequential()\n",
    "model.add(Dense(30, activation='relu',\n",
    "                input_dim=64))\n",
    "model.add(Dense(20, activation='relu',\n",
    "                kernel_regularizer=l2(l2=0.01)))\n",
    "\n",
    "model.add(Dense(12, activation='relu',\n",
    "                kernel_regularizer=l2(l2=0.01)))\n",
    "model.add(Dense(12, activation='relu',\n",
    "                kernel_regularizer=l2(l2=0.01)))\n",
    "model.add(Dense(12, activation='relu',\n",
    "                kernel_regularizer=l2(l2=0.01)))\n",
    "model.add(Dense(8, activation='relu',\n",
    "                kernel_regularizer=l2(l2=0.01)))\n",
    "model.add(Dense(4, activation='relu',\n",
    "                kernel_regularizer=l2(l2=0.01)))\n",
    "model.add(Dense(1, activation='sigmoid'))\n",
    "\n",
    "model.compile(optimizer='adam',\n",
    "              loss='binary_crossentropy',\n",
    "              metrics=['accuracy'])\n",
    "\n",
    "results = model.fit(X_pure_train, y_pure_train, epochs=20, batch_size=32,\n",
    "                    verbose=0, validation_data=(X_val, y_val))\n",
    "\n",
    "train_loss = results.history['loss']\n",
    "train_acc = results.history['accuracy']\n",
    "val_loss = results.history['val_loss']\n",
    "val_acc = results.history['val_accuracy']\n",
    "\n",
    "\n",
    "fig, (ax1, ax2) = plt.subplots(1, 2, figsize=(10, 5))\n",
    "sns.lineplot(x=results.epoch, y=train_loss, ax=ax1, label='train_loss')\n",
    "sns.lineplot(x=results.epoch, y=train_acc, ax=ax2, label='train_accuracy')\n",
    "\n",
    "sns.lineplot(x=results.epoch, y=val_loss, ax=ax1, label='val_loss')\n",
    "sns.lineplot(x=results.epoch, y=val_acc, ax=ax2, label='val_accuracy');"
   ]
  },
  {
   "cell_type": "markdown",
   "metadata": {},
   "source": [
    "### Dropout\n",
    "\n",
    "We can also specify a dropout layer in keras, which randomly shuts off different nodes during training. This can help to prevent overfitting.\n",
    "\n",
    "![drop_out](img/drop_out.png)"
   ]
  },
  {
   "cell_type": "markdown",
   "metadata": {},
   "source": [
    "### Exercise\n",
    "\n",
    "To add dropout to a `keras` network, simply add it as though it were a layer. It will apply to the immediately preceding layer.\n",
    "\n",
    "Add Dropout to one or more layers below."
   ]
  },
  {
   "cell_type": "code",
   "execution_count": 41,
   "metadata": {
    "ExecuteTime": {
     "end_time": "2021-07-12T18:51:32.869903Z",
     "start_time": "2021-07-12T18:51:30.231061Z"
    }
   },
   "outputs": [
    {
     "data": {
      "image/png": "[encoded data removed]",
      "text/plain": [
       "<Figure size 720x360 with 2 Axes>"
      ]
     },
     "metadata": {
      "needs_background": "light"
     },
     "output_type": "display_data"
    }
   ],
   "source": [
    "model = Sequential()\n",
    "model.add(Dense(30, activation='relu', input_dim=64))\n",
    "model.add(Dense(20, activation='relu'))\n",
    "model.add(Dropout(0.5))\n",
    "model.add(Dense(12, activation='relu'))\n",
    "model.add(Dense(12, activation='relu'))\n",
    "model.add(Dense(12, activation='relu'))\n",
    "model.add(Dense(8, activation='relu'))\n",
    "model.add(Dense(4, activation='relu'))\n",
    "model.add(Dense(1, activation ='sigmoid'))\n",
    "\n",
    "model.compile(optimizer='adam',\n",
    "              loss='binary_crossentropy',\n",
    "              metrics=['accuracy'])\n",
    "\n",
    "results = model.fit(X_pure_train, y_pure_train, epochs=50,\n",
    "                    batch_size= 32, verbose=0,\n",
    "                    validation_data=(X_val, y_val))\n",
    "\n",
    "train_loss = results.history['loss']\n",
    "train_acc = results.history['accuracy']\n",
    "val_loss = results.history['val_loss']\n",
    "val_acc = results.history['val_accuracy']\n",
    "\n",
    "\n",
    "fig, (ax1, ax2) = plt.subplots(1, 2, figsize=(10, 5))\n",
    "sns.lineplot(x=results.epoch, y=train_loss, ax=ax1, label='train_loss')\n",
    "sns.lineplot(x=results.epoch, y=train_acc, ax=ax2, label='train_accuracy')\n",
    "\n",
    "sns.lineplot(x=results.epoch, y=val_loss, ax=ax1, label='val_loss')\n",
    "sns.lineplot(x=results.epoch, y=val_acc, ax=ax2, label='val_accuracy');"
   ]
  },
  {
   "cell_type": "code",
   "execution_count": 39,
   "metadata": {
    "ExecuteTime": {
     "end_time": "2021-07-12T18:49:46.496099Z",
     "start_time": "2021-07-12T18:49:46.376419Z"
    }
   },
   "outputs": [
    {
     "data": {
      "text/plain": [
       "0.96875"
      ]
     },
     "execution_count": 39,
     "metadata": {},
     "output_type": "execute_result"
    }
   ],
   "source": [
    "results.history['val_accuracy'][-1]"
   ]
  },
  {
   "cell_type": "markdown",
   "metadata": {},
   "source": [
    "### Early Stopping"
   ]
  },
  {
   "cell_type": "markdown",
   "metadata": {},
   "source": [
    "We can also tell our neural network to stop once it stops realizing any gain.\n",
    "\n",
    "Here we tell it to stop once the a very small positive change in the validation loss occurs:"
   ]
  },
  {
   "cell_type": "code",
   "execution_count": 47,
   "metadata": {
    "ExecuteTime": {
     "end_time": "2021-07-12T18:56:35.401413Z",
     "start_time": "2021-07-12T18:56:34.511062Z"
    }
   },
   "outputs": [
    {
     "data": {
      "image/png": "[encoded data removed]",
      "text/plain": [
       "<Figure size 720x360 with 2 Axes>"
      ]
     },
     "metadata": {
      "needs_background": "light"
     },
     "output_type": "display_data"
    }
   ],
   "source": [
    "model = Sequential()\n",
    "model.add(Dense(30, activation='relu', input_dim=64))\n",
    "model.add(Dense(20, activation='relu'))\n",
    "model.add(Dropout(0.5))\n",
    "model.add(Dense(12, activation='relu'))\n",
    "model.add(Dense(12, activation='relu'))\n",
    "model.add(Dense(12, activation='relu'))\n",
    "model.add(Dense(8, activation='relu'))\n",
    "model.add(Dense(4, activation='relu'))\n",
    "model.add(Dense(1, activation ='sigmoid'))\n",
    "\n",
    "model.compile(optimizer='adam',\n",
    "              loss='binary_crossentropy',\n",
    "              metrics=['accuracy'])\n",
    "\n",
    "# Define the EarlyStopping object\n",
    "early_stop = EarlyStopping(monitor='val_loss', min_delta=1e-8,\n",
    "                           verbose=1,\n",
    "                           mode='min')\n",
    "\n",
    "# Place this in a list as the value of the `callbacks` parameter\n",
    "# in the `.fit()` method.\n",
    "results = model.fit(X_pure_train, y_pure_train,\n",
    "                    epochs=20, batch_size=32,\n",
    "                    verbose=0, validation_data=(X_val, y_val),\n",
    "                    callbacks=[early_stop])\n",
    "\n",
    "train_loss = results.history['loss']\n",
    "train_acc = results.history['accuracy']\n",
    "val_loss = results.history['val_loss']\n",
    "val_acc = results.history['val_accuracy']\n",
    "\n",
    "\n",
    "fig, (ax1, ax2) = plt.subplots(1, 2, figsize=(10, 5))\n",
    "sns.lineplot(x=results.epoch, y=train_loss, ax=ax1, label='train_loss')\n",
    "sns.lineplot(x=results.epoch, y=train_acc, ax=ax2, label='train_accuracy')\n",
    "\n",
    "sns.lineplot(x=results.epoch, y=val_loss, ax=ax1, label='val_loss')\n",
    "sns.lineplot(x=results.epoch, y=val_acc, ax=ax2, label='val_accuracy');"
   ]
  },
  {
   "cell_type": "markdown",
   "metadata": {},
   "source": [
    "### Exercise\n",
    "\n",
    "That probably stopped too early. We can specify the number of epochs in which it doesn't see decrease in the loss with the `patience` parameter. Modify the code below to include an Early Stop with a patience of 5 epochs."
   ]
  },
  {
   "cell_type": "code",
   "execution_count": 48,
   "metadata": {
    "ExecuteTime": {
     "end_time": "2021-07-12T18:57:27.344129Z",
     "start_time": "2021-07-12T18:57:25.579961Z"
    }
   },
   "outputs": [
    {
     "name": "stdout",
     "output_type": "stream",
     "text": [
      "Epoch 00025: early stopping\n"
     ]
    },
    {
     "data": {
      "image/png": "[encoded data removed]",
      "text/plain": [
       "<Figure size 720x360 with 2 Axes>"
      ]
     },
     "metadata": {
      "needs_background": "light"
     },
     "output_type": "display_data"
    }
   ],
   "source": [
    "model = Sequential()\n",
    "model.add(Dense(30, activation='relu', input_dim=64))\n",
    "model.add(Dense(20, activation='relu'))\n",
    "model.add(Dropout(0.5))\n",
    "model.add(Dense(12, activation='relu'))\n",
    "model.add(Dense(12, activation='relu'))\n",
    "model.add(Dense(12, activation='relu'))\n",
    "model.add(Dense(8, activation='relu'))\n",
    "model.add(Dense(4, activation='relu'))\n",
    "model.add(Dense(1, activation ='sigmoid'))\n",
    "\n",
    "model.compile(optimizer='adam',\n",
    "              loss='binary_crossentropy',\n",
    "              metrics=['accuracy'])\n",
    "\n",
    "# Define the EarlyStopping object\n",
    "early_stop = EarlyStopping(monitor='val_loss', min_delta=1e-8,\n",
    "                           patience = 5,\n",
    "                           verbose=1,\n",
    "                           mode='min')\n",
    "\n",
    "\n",
    "# Place this in a list as the value of the `callbacks` parameter\n",
    "# in the `.fit()` method.\n",
    "results = model.fit(X_pure_train, y_pure_train,\n",
    "                    epochs=50, batch_size= 32,\n",
    "                    verbose=0, validation_data=(X_val, y_val),\n",
    "                    callbacks=[early_stop])\n",
    "\n",
    "train_loss = results.history['loss']\n",
    "train_acc = results.history['accuracy']\n",
    "val_loss = results.history['val_loss']\n",
    "val_acc = results.history['val_accuracy']\n",
    "\n",
    "\n",
    "fig, (ax1, ax2) = plt.subplots(1, 2, figsize=(10, 5))\n",
    "sns.lineplot(x=results.epoch, y=train_loss, ax=ax1, label='train_loss')\n",
    "sns.lineplot(x=results.epoch, y=train_acc, ax=ax2, label='train_accuracy')\n",
    "\n",
    "sns.lineplot(x=results.epoch, y=val_loss, ax=ax1, label='val_loss')\n",
    "sns.lineplot(x=results.epoch, y=val_acc, ax=ax2, label='val_accuracy');"
   ]
  },
  {
   "cell_type": "code",
   "execution_count": 49,
   "metadata": {
    "ExecuteTime": {
     "end_time": "2021-07-12T19:02:58.412163Z",
     "start_time": "2021-07-12T19:02:58.282477Z"
    }
   },
   "outputs": [
    {
     "data": {
      "text/plain": [
       "0.9791666865348816"
      ]
     },
     "execution_count": 49,
     "metadata": {},
     "output_type": "execute_result"
    }
   ],
   "source": [
    "results.history['val_accuracy'][-1]"
   ]
  },
  {
   "cell_type": "markdown",
   "metadata": {},
   "source": [
    "## Multiclass Classification and Softmax"
   ]
  },
  {
   "cell_type": "markdown",
   "metadata": {},
   "source": [
    "Now let's return to the problem of predicting digits 0 through 9."
   ]
  },
  {
   "cell_type": "code",
   "execution_count": 50,
   "metadata": {
    "ExecuteTime": {
     "end_time": "2021-07-12T19:03:43.038504Z",
     "start_time": "2021-07-12T19:03:42.832154Z"
    }
   },
   "outputs": [],
   "source": [
    "digits = load_digits()\n",
    "X = digits.data\n",
    "y = digits.target"
   ]
  },
  {
   "cell_type": "code",
   "execution_count": 51,
   "metadata": {
    "ExecuteTime": {
     "end_time": "2021-07-12T19:03:43.284586Z",
     "start_time": "2021-07-12T19:03:43.163719Z"
    }
   },
   "outputs": [],
   "source": [
    "X_train, X_test, y_train, y_test = train_test_split(X, y,\n",
    "                                                    random_state=42,\n",
    "                                                    test_size=0.2)\n",
    "X_pure_train, X_val, y_pure_train, y_val =\\\n",
    "    train_test_split(X_train, y_train,\n",
    "                     random_state=42, test_size=0.2)\n",
    "X_pure_train, X_val, X_test = X_pure_train/16, X_val/16, X_test/16"
   ]
  },
  {
   "cell_type": "markdown",
   "metadata": {},
   "source": [
    "For a multiclass output, our neural net expects our target to be in a certain form."
   ]
  },
  {
   "cell_type": "code",
   "execution_count": 52,
   "metadata": {
    "ExecuteTime": {
     "end_time": "2021-07-12T19:03:43.735905Z",
     "start_time": "2021-07-12T19:03:43.564407Z"
    }
   },
   "outputs": [],
   "source": [
    "ohe = OneHotEncoder(sparse=False)\n",
    "y_pure_train = ohe.fit_transform(y_pure_train.reshape(-1,1))\n",
    "y_val = ohe.transform(y_val.reshape(-1,1))\n",
    "y_test = ohe.transform(y_test.reshape(-1,1))"
   ]
  },
  {
   "cell_type": "code",
   "execution_count": 53,
   "metadata": {
    "ExecuteTime": {
     "end_time": "2021-07-12T19:03:44.984852Z",
     "start_time": "2021-07-12T19:03:44.851184Z"
    }
   },
   "outputs": [
    {
     "data": {
      "text/plain": [
       "array([[0., 0., 0., ..., 0., 0., 0.],\n",
       "       [0., 0., 0., ..., 0., 0., 1.],\n",
       "       [0., 0., 0., ..., 0., 0., 0.],\n",
       "       ...,\n",
       "       [0., 0., 0., ..., 0., 1., 0.],\n",
       "       [0., 0., 0., ..., 0., 0., 0.],\n",
       "       [0., 0., 0., ..., 0., 0., 0.]])"
      ]
     },
     "execution_count": 53,
     "metadata": {},
     "output_type": "execute_result"
    }
   ],
   "source": [
    "#Columns for each digit. The 1 indicates what digit it is\n",
    "y_test"
   ]
  },
  {
   "cell_type": "code",
   "execution_count": 54,
   "metadata": {
    "ExecuteTime": {
     "end_time": "2021-07-12T19:05:31.273791Z",
     "start_time": "2021-07-12T19:05:26.257514Z"
    }
   },
   "outputs": [
    {
     "name": "stdout",
     "output_type": "stream",
     "text": [
      "Epoch 1/50\n",
      "115/115 [==============================] - 1s 1ms/step - loss: 2.2309 - accuracy: 0.1802 - val_loss: 2.1633 - val_accuracy: 0.2396\n",
      "Epoch 2/50\n",
      "115/115 [==============================] - 0s 714us/step - loss: 2.0353 - accuracy: 0.3081 - val_loss: 1.9200 - val_accuracy: 0.3194\n",
      "Epoch 3/50\n",
      "115/115 [==============================] - 0s 689us/step - loss: 1.7259 - accuracy: 0.4134 - val_loss: 1.6153 - val_accuracy: 0.4792\n",
      "Epoch 4/50\n",
      "115/115 [==============================] - 0s 729us/step - loss: 1.4400 - accuracy: 0.5866 - val_loss: 1.3712 - val_accuracy: 0.5868\n",
      "Epoch 5/50\n",
      "115/115 [==============================] - 0s 717us/step - loss: 1.1951 - accuracy: 0.6771 - val_loss: 1.1390 - val_accuracy: 0.6736\n",
      "Epoch 6/50\n",
      "115/115 [==============================] - 0s 699us/step - loss: 0.9590 - accuracy: 0.7415 - val_loss: 0.9273 - val_accuracy: 0.7500\n",
      "Epoch 7/50\n",
      "115/115 [==============================] - 0s 702us/step - loss: 0.7714 - accuracy: 0.8094 - val_loss: 0.7588 - val_accuracy: 0.7917\n",
      "Epoch 8/50\n",
      "115/115 [==============================] - 0s 706us/step - loss: 0.6281 - accuracy: 0.8442 - val_loss: 0.6321 - val_accuracy: 0.8368\n",
      "Epoch 9/50\n",
      "115/115 [==============================] - 0s 784us/step - loss: 0.5259 - accuracy: 0.8607 - val_loss: 0.5365 - val_accuracy: 0.8715\n",
      "Epoch 10/50\n",
      "115/115 [==============================] - 0s 773us/step - loss: 0.4503 - accuracy: 0.8773 - val_loss: 0.4646 - val_accuracy: 0.8958\n",
      "Epoch 11/50\n",
      "115/115 [==============================] - 0s 748us/step - loss: 0.3991 - accuracy: 0.9008 - val_loss: 0.4281 - val_accuracy: 0.9097\n",
      "Epoch 12/50\n",
      "115/115 [==============================] - 0s 749us/step - loss: 0.3577 - accuracy: 0.9051 - val_loss: 0.3782 - val_accuracy: 0.9097\n",
      "Epoch 13/50\n",
      "115/115 [==============================] - 0s 703us/step - loss: 0.3263 - accuracy: 0.9112 - val_loss: 0.3550 - val_accuracy: 0.9062\n",
      "Epoch 14/50\n",
      "115/115 [==============================] - 0s 709us/step - loss: 0.3009 - accuracy: 0.9182 - val_loss: 0.3382 - val_accuracy: 0.9201\n",
      "Epoch 15/50\n",
      "115/115 [==============================] - 0s 700us/step - loss: 0.2825 - accuracy: 0.9173 - val_loss: 0.3076 - val_accuracy: 0.9271\n",
      "Epoch 16/50\n",
      "115/115 [==============================] - 0s 725us/step - loss: 0.2588 - accuracy: 0.9278 - val_loss: 0.2932 - val_accuracy: 0.9201\n",
      "Epoch 17/50\n",
      "115/115 [==============================] - 0s 709us/step - loss: 0.2432 - accuracy: 0.9365 - val_loss: 0.2802 - val_accuracy: 0.9340\n",
      "Epoch 18/50\n",
      "115/115 [==============================] - 0s 718us/step - loss: 0.2339 - accuracy: 0.9339 - val_loss: 0.2740 - val_accuracy: 0.9410\n",
      "Epoch 19/50\n",
      "115/115 [==============================] - 0s 707us/step - loss: 0.2173 - accuracy: 0.9452 - val_loss: 0.2546 - val_accuracy: 0.9340\n",
      "Epoch 20/50\n",
      "115/115 [==============================] - 0s 723us/step - loss: 0.2065 - accuracy: 0.9460 - val_loss: 0.2494 - val_accuracy: 0.9306\n",
      "Epoch 21/50\n",
      "115/115 [==============================] - 0s 711us/step - loss: 0.1989 - accuracy: 0.9460 - val_loss: 0.2376 - val_accuracy: 0.9410\n",
      "Epoch 22/50\n",
      "115/115 [==============================] - 0s 708us/step - loss: 0.1898 - accuracy: 0.9452 - val_loss: 0.2280 - val_accuracy: 0.9375\n",
      "Epoch 23/50\n",
      "115/115 [==============================] - 0s 695us/step - loss: 0.1799 - accuracy: 0.9539 - val_loss: 0.2149 - val_accuracy: 0.9444\n",
      "Epoch 24/50\n",
      "115/115 [==============================] - 0s 689us/step - loss: 0.1724 - accuracy: 0.9547 - val_loss: 0.2098 - val_accuracy: 0.9340\n",
      "Epoch 25/50\n",
      "115/115 [==============================] - 0s 696us/step - loss: 0.1655 - accuracy: 0.9556 - val_loss: 0.2034 - val_accuracy: 0.9375\n",
      "Epoch 26/50\n",
      "115/115 [==============================] - 0s 696us/step - loss: 0.1563 - accuracy: 0.9591 - val_loss: 0.2030 - val_accuracy: 0.9410\n",
      "Epoch 27/50\n",
      "115/115 [==============================] - 0s 704us/step - loss: 0.1506 - accuracy: 0.9634 - val_loss: 0.1955 - val_accuracy: 0.9479\n",
      "Epoch 28/50\n",
      "115/115 [==============================] - 0s 717us/step - loss: 0.1461 - accuracy: 0.9574 - val_loss: 0.1950 - val_accuracy: 0.9340\n",
      "Epoch 29/50\n",
      "115/115 [==============================] - 0s 701us/step - loss: 0.1392 - accuracy: 0.9626 - val_loss: 0.1846 - val_accuracy: 0.9410\n",
      "Epoch 30/50\n",
      "115/115 [==============================] - 0s 731us/step - loss: 0.1363 - accuracy: 0.9652 - val_loss: 0.1783 - val_accuracy: 0.9444\n",
      "Epoch 31/50\n",
      "115/115 [==============================] - 0s 689us/step - loss: 0.1306 - accuracy: 0.9617 - val_loss: 0.1804 - val_accuracy: 0.9514\n",
      "Epoch 32/50\n",
      "115/115 [==============================] - 0s 716us/step - loss: 0.1249 - accuracy: 0.9661 - val_loss: 0.1719 - val_accuracy: 0.9479\n",
      "Epoch 33/50\n",
      "115/115 [==============================] - 0s 765us/step - loss: 0.1207 - accuracy: 0.9661 - val_loss: 0.1650 - val_accuracy: 0.9479\n",
      "Epoch 34/50\n",
      "115/115 [==============================] - 0s 779us/step - loss: 0.1188 - accuracy: 0.9695 - val_loss: 0.1735 - val_accuracy: 0.9375\n",
      "Epoch 35/50\n",
      "115/115 [==============================] - 0s 733us/step - loss: 0.1140 - accuracy: 0.9721 - val_loss: 0.1582 - val_accuracy: 0.9444\n",
      "Epoch 36/50\n",
      "115/115 [==============================] - 0s 732us/step - loss: 0.1104 - accuracy: 0.9678 - val_loss: 0.1637 - val_accuracy: 0.9618\n",
      "Epoch 37/50\n",
      "115/115 [==============================] - 0s 701us/step - loss: 0.1054 - accuracy: 0.9765 - val_loss: 0.1592 - val_accuracy: 0.9583\n",
      "Epoch 38/50\n",
      "115/115 [==============================] - 0s 707us/step - loss: 0.1007 - accuracy: 0.9730 - val_loss: 0.1641 - val_accuracy: 0.9479\n",
      "Epoch 39/50\n",
      "115/115 [==============================] - 0s 691us/step - loss: 0.1000 - accuracy: 0.9713 - val_loss: 0.1580 - val_accuracy: 0.9410\n",
      "Epoch 40/50\n",
      "115/115 [==============================] - 0s 726us/step - loss: 0.0975 - accuracy: 0.9765 - val_loss: 0.1657 - val_accuracy: 0.9410\n",
      "Epoch 41/50\n",
      "115/115 [==============================] - 0s 709us/step - loss: 0.0910 - accuracy: 0.9739 - val_loss: 0.1492 - val_accuracy: 0.9514\n",
      "Epoch 42/50\n",
      "115/115 [==============================] - 0s 735us/step - loss: 0.0906 - accuracy: 0.9730 - val_loss: 0.1476 - val_accuracy: 0.9583\n",
      "Epoch 43/50\n",
      "115/115 [==============================] - 0s 757us/step - loss: 0.0872 - accuracy: 0.9756 - val_loss: 0.1363 - val_accuracy: 0.9514\n",
      "Epoch 44/50\n",
      "115/115 [==============================] - 0s 717us/step - loss: 0.0836 - accuracy: 0.9791 - val_loss: 0.1400 - val_accuracy: 0.9583\n",
      "Epoch 45/50\n",
      "115/115 [==============================] - 0s 746us/step - loss: 0.0805 - accuracy: 0.9800 - val_loss: 0.1444 - val_accuracy: 0.9583\n",
      "Epoch 46/50\n",
      "115/115 [==============================] - 0s 719us/step - loss: 0.0816 - accuracy: 0.9809 - val_loss: 0.1338 - val_accuracy: 0.9549\n",
      "Epoch 47/50\n",
      "115/115 [==============================] - 0s 696us/step - loss: 0.0779 - accuracy: 0.9756 - val_loss: 0.1388 - val_accuracy: 0.9618\n",
      "Epoch 48/50\n",
      "115/115 [==============================] - 0s 757us/step - loss: 0.0761 - accuracy: 0.9800 - val_loss: 0.1480 - val_accuracy: 0.9410\n",
      "Epoch 49/50\n",
      "115/115 [==============================] - 0s 696us/step - loss: 0.0727 - accuracy: 0.9826 - val_loss: 0.1303 - val_accuracy: 0.9688\n",
      "Epoch 50/50\n",
      "115/115 [==============================] - 0s 685us/step - loss: 0.0715 - accuracy: 0.9800 - val_loss: 0.1315 - val_accuracy: 0.9618\n"
     ]
    }
   ],
   "source": [
    "# Model from above, but now with ten output neurons:\n",
    "\n",
    "model = Sequential()\n",
    "model.add(Dense(12, activation='relu', input_dim=64))\n",
    "model.add(Dense(8, activation='relu'))\n",
    "model.add(Dense(10, activation='softmax'))\n",
    "\n",
    "model.compile(optimizer='adam',\n",
    "              loss='categorical_crossentropy',\n",
    "              metrics=['accuracy'])\n",
    "\n",
    "results = model.fit(X_pure_train, y_pure_train,\n",
    "                   epochs=50, batch_size=10,\n",
    "                   validation_data=(X_val, y_val))"
   ]
  },
  {
   "cell_type": "markdown",
   "metadata": {},
   "source": [
    "$$\\large \\text{Softmax}(x_{i}) = \\frac{\\exp(x_i)}{\\sum_j \\exp(x_j)}$$\n",
    "\n",
    "The sofmax function outputs a number between 0 and 1 for each of our classes.  All of the probabilities of the classes sum up to 1.\n",
    "\n",
    "The number of nodes in our output layer equals the number of categories in our dataset.\n",
    "\n",
    "We also need a new loss function: **categorical crossentropy**, which calculates a separate loss for each label and then sums the results."
   ]
  },
  {
   "cell_type": "code",
   "execution_count": 55,
   "metadata": {
    "ExecuteTime": {
     "end_time": "2021-07-12T19:06:42.107002Z",
     "start_time": "2021-07-12T19:06:41.971766Z"
    }
   },
   "outputs": [],
   "source": [
    "history = results.history\n",
    "training_loss = history['loss']\n",
    "val_loss = history['val_loss']\n",
    "training_accuracy = history['accuracy']\n",
    "val_accuracy = history['val_accuracy']"
   ]
  },
  {
   "cell_type": "code",
   "execution_count": 56,
   "metadata": {
    "ExecuteTime": {
     "end_time": "2021-07-12T19:06:45.268938Z",
     "start_time": "2021-07-12T19:06:44.895061Z"
    }
   },
   "outputs": [
    {
     "data": {
      "image/png": "[encoded data removed]",
      "text/plain": [
       "<Figure size 1080x360 with 2 Axes>"
      ]
     },
     "metadata": {
      "needs_background": "light"
     },
     "output_type": "display_data"
    }
   ],
   "source": [
    "fig, (ax1,ax2) = plt.subplots(1,2,figsize=(15,5))\n",
    "\n",
    "\n",
    "sns.lineplot(x=list(range(len(training_loss))),\n",
    "             y=training_loss, color='r', label='training', ax=ax1)\n",
    "sns.lineplot(x=list(range(len(val_loss))),\n",
    "             y=val_loss, color='b', label='validation', ax=ax1)\n",
    "sns.lineplot(x=list(range(len(training_loss))),\n",
    "             y=training_accuracy, color='r', label='training',ax=ax2)\n",
    "sns.lineplot(x=list(range(len(val_loss))),\n",
    "             y=val_accuracy, color='b', label='validation',ax=ax2)\n",
    "ax1.legend();"
   ]
  },
  {
   "cell_type": "code",
   "execution_count": 57,
   "metadata": {
    "ExecuteTime": {
     "end_time": "2021-07-12T19:06:46.139921Z",
     "start_time": "2021-07-12T19:06:45.918463Z"
    }
   },
   "outputs": [],
   "source": [
    "y_hat_test = np.argmax(model.predict(X_test), axis=-1)"
   ]
  },
  {
   "cell_type": "code",
   "execution_count": 58,
   "metadata": {
    "ExecuteTime": {
     "end_time": "2021-07-12T19:06:46.401231Z",
     "start_time": "2021-07-12T19:06:46.278534Z"
    }
   },
   "outputs": [
    {
     "data": {
      "text/plain": [
       "array([[31,  0,  0,  0,  0,  0,  1,  1,  0,  0],\n",
       "       [ 0, 28,  0,  0,  0,  0,  0,  0,  0,  0],\n",
       "       [ 0,  0, 30,  1,  0,  0,  0,  0,  2,  0],\n",
       "       [ 0,  0,  1, 32,  0,  0,  1,  0,  0,  0],\n",
       "       [ 0,  1,  0,  0, 45,  0,  0,  0,  0,  0],\n",
       "       [ 0,  0,  0,  1,  0, 46,  0,  0,  0,  0],\n",
       "       [ 0,  0,  0,  0,  1,  0, 34,  0,  0,  0],\n",
       "       [ 0,  0,  0,  0,  0,  0,  0, 33,  0,  1],\n",
       "       [ 0,  1,  1,  0,  0,  1,  0,  1, 25,  1],\n",
       "       [ 0,  0,  0,  3,  0,  1,  0,  0,  2, 34]], dtype=int64)"
      ]
     },
     "execution_count": 58,
     "metadata": {},
     "output_type": "execute_result"
    }
   ],
   "source": [
    "y_test_restore = ohe.inverse_transform(y_test)\n",
    "confusion_matrix(y_test_restore, y_hat_test)"
   ]
  },
  {
   "cell_type": "markdown",
   "metadata": {},
   "source": [
    "Wow, look at that performance!  \n",
    "\n",
    "That is great, but remember, we were dealing with simple black and white images.  With color, our basic neural net will have less success.\n",
    "\n",
    "We will explore more advanced tools in the coming days.\n"
   ]
  },
  {
   "cell_type": "code",
   "execution_count": null,
   "metadata": {
    "colab_type": "text",
    "id": "EdZDyJfARV8l"
   },
   "outputs": [],
   "source": [
    "#convoluntional neural net for color images"
   ]
  }
 ],
 "metadata": {
  "celltoolbar": "Raw Cell Format",
  "colab": {
   "collapsed_sections": [],
   "name": "intro-to-keras.ipynb",
   "provenance": []
  },
  "kernelspec": {
   "display_name": "Python 3",
   "language": "python",
   "name": "python3"
  },
  "language_info": {
   "codemirror_mode": {
    "name": "ipython",
    "version": 3
   },
   "file_extension": ".py",
   "mimetype": "text/x-python",
   "name": "python",
   "nbconvert_exporter": "python",
   "pygments_lexer": "ipython3",
   "version": "3.8.5"
  },
  "toc": {
   "base_numbering": 1,
   "nav_menu": {},
   "number_sections": true,
   "sideBar": true,
   "skip_h1_title": false,
   "title_cell": "Table of Contents",
   "title_sidebar": "Contents",
   "toc_cell": false,
   "toc_position": {},
   "toc_section_display": true,
   "toc_window_display": false
  },
  "varInspector": {
   "cols": {
    "lenName": 16,
    "lenType": 16,
    "lenVar": 40
   },
   "kernels_config": {
    "python": {
     "delete_cmd_postfix": "",
     "delete_cmd_prefix": "del ",
     "library": "var_list.py",
     "varRefreshCmd": "print(var_dic_list())"
    },
    "r": {
     "delete_cmd_postfix": ") ",
     "delete_cmd_prefix": "rm(",
     "library": "var_list.r",
     "varRefreshCmd": "cat(var_dic_list()) "
    }
   },
   "types_to_exclude": [
    "module",
    "function",
    "builtin_function_or_method",
    "instance",
    "_Feature"
   ],
   "window_display": false
  }
 },
 "nbformat": 4,
 "nbformat_minor": 4
}
