{
 "cells": [
  {
   "cell_type": "markdown",
   "metadata": {
    "toc": true
   },
   "source": [
    "<h1>Table of Contents<span class=\"tocSkip\"></span></h1>\n",
    "<div class=\"toc\"><ul class=\"toc-item\"><li><span><a href=\"#Objectives\" data-toc-modified-id=\"Objectives-1\"><span class=\"toc-item-num\">1&nbsp;&nbsp;</span>Objectives</a></span></li><li><span><a href=\"#What-Are-Time-Series-Data?\" data-toc-modified-id=\"What-Are-Time-Series-Data?-2\"><span class=\"toc-item-num\">2&nbsp;&nbsp;</span>What Are Time Series Data?</a></span><ul class=\"toc-item\"><li><span><a href=\"#Some-Examples\" data-toc-modified-id=\"Some-Examples-2.1\"><span class=\"toc-item-num\">2.1&nbsp;&nbsp;</span>Some Examples</a></span></li><li><span><a href=\"#Uses-for-Time-Series\" data-toc-modified-id=\"Uses-for-Time-Series-2.2\"><span class=\"toc-item-num\">2.2&nbsp;&nbsp;</span>Uses for Time Series</a></span></li><li><span><a href=\"#Example-Data\" data-toc-modified-id=\"Example-Data-2.3\"><span class=\"toc-item-num\">2.3&nbsp;&nbsp;</span>Example Data</a></span></li></ul></li><li><span><a href=\"#Datetime-Objects\" data-toc-modified-id=\"Datetime-Objects-3\"><span class=\"toc-item-num\">3&nbsp;&nbsp;</span>Datetime Objects</a></span><ul class=\"toc-item\"><li><span><a href=\"#Setting-Datetime-Objects-as-the-Index\" data-toc-modified-id=\"Setting-Datetime-Objects-as-the-Index-3.1\"><span class=\"toc-item-num\">3.1&nbsp;&nbsp;</span>Setting Datetime Objects as the Index</a></span></li><li><span><a href=\"#Investigating-Time-Series-with-Datetime-Objects\" data-toc-modified-id=\"Investigating-Time-Series-with-Datetime-Objects-3.2\"><span class=\"toc-item-num\">3.2&nbsp;&nbsp;</span>Investigating Time Series with Datetime Objects</a></span></li></ul></li><li><span><a href=\"#Resampling-Techniques\" data-toc-modified-id=\"Resampling-Techniques-4\"><span class=\"toc-item-num\">4&nbsp;&nbsp;</span>Resampling Techniques</a></span><ul class=\"toc-item\"><li><span><a href=\"#Aside:-Deeper-Exploration\" data-toc-modified-id=\"Aside:-Deeper-Exploration-4.1\"><span class=\"toc-item-num\">4.1&nbsp;&nbsp;</span>Aside: Deeper Exploration</a></span></li></ul></li><li><span><a href=\"#Visualizing-Time-Series\" data-toc-modified-id=\"Visualizing-Time-Series-5\"><span class=\"toc-item-num\">5&nbsp;&nbsp;</span>Visualizing Time Series</a></span><ul class=\"toc-item\"><li><span><a href=\"#Showing-Changes-Over-Time\" data-toc-modified-id=\"Showing-Changes-Over-Time-5.1\"><span class=\"toc-item-num\">5.1&nbsp;&nbsp;</span>Showing Changes Over Time</a></span><ul class=\"toc-item\"><li><span><a href=\"#Line-Plot\" data-toc-modified-id=\"Line-Plot-5.1.1\"><span class=\"toc-item-num\">5.1.1&nbsp;&nbsp;</span>Line Plot</a></span></li><li><span><a href=\"#Dot-Plot\" data-toc-modified-id=\"Dot-Plot-5.1.2\"><span class=\"toc-item-num\">5.1.2&nbsp;&nbsp;</span>Dot Plot</a></span></li><li><span><a href=\"#Grouping-Plots\" data-toc-modified-id=\"Grouping-Plots-5.1.3\"><span class=\"toc-item-num\">5.1.3&nbsp;&nbsp;</span>Grouping Plots</a></span><ul class=\"toc-item\"><li><span><a href=\"#All-Annual-Separated\" data-toc-modified-id=\"All-Annual-Separated-5.1.3.1\"><span class=\"toc-item-num\">5.1.3.1&nbsp;&nbsp;</span>All Annual Separated</a></span></li><li><span><a href=\"#All-Annual-Together\" data-toc-modified-id=\"All-Annual-Together-5.1.3.2\"><span class=\"toc-item-num\">5.1.3.2&nbsp;&nbsp;</span>All Annual Together</a></span></li></ul></li></ul></li><li><span><a href=\"#Showing-Distributions\" data-toc-modified-id=\"Showing-Distributions-5.2\"><span class=\"toc-item-num\">5.2&nbsp;&nbsp;</span>Showing Distributions</a></span><ul class=\"toc-item\"><li><span><a href=\"#Histogram\" data-toc-modified-id=\"Histogram-5.2.1\"><span class=\"toc-item-num\">5.2.1&nbsp;&nbsp;</span>Histogram</a></span></li><li><span><a href=\"#Density\" data-toc-modified-id=\"Density-5.2.2\"><span class=\"toc-item-num\">5.2.2&nbsp;&nbsp;</span>Density</a></span></li><li><span><a href=\"#Box-Plot\" data-toc-modified-id=\"Box-Plot-5.2.3\"><span class=\"toc-item-num\">5.2.3&nbsp;&nbsp;</span>Box Plot</a></span></li><li><span><a href=\"#Heat-Maps\" data-toc-modified-id=\"Heat-Maps-5.2.4\"><span class=\"toc-item-num\">5.2.4&nbsp;&nbsp;</span>Heat Maps</a></span><ul class=\"toc-item\"><li><span><a href=\"#Example-of-how-heat-maps-are-useful\" data-toc-modified-id=\"Example-of-how-heat-maps-are-useful-5.2.4.1\"><span class=\"toc-item-num\">5.2.4.1&nbsp;&nbsp;</span>Example of how heat maps are useful</a></span></li></ul></li></ul></li></ul></li><li><span><a href=\"#Level-Up\" data-toc-modified-id=\"Level-Up-6\"><span class=\"toc-item-num\">6&nbsp;&nbsp;</span>Level Up</a></span><ul class=\"toc-item\"><li><span><a href=\"#EDA\" data-toc-modified-id=\"EDA-6.1\"><span class=\"toc-item-num\">6.1&nbsp;&nbsp;</span>EDA</a></span></li></ul></li></ul></div>"
   ]
  },
  {
   "cell_type": "code",
   "execution_count": 1,
   "metadata": {
    "ExecuteTime": {
     "end_time": "2021-07-05T20:57:01.514257Z",
     "start_time": "2021-07-05T20:57:00.264235Z"
    }
   },
   "outputs": [],
   "source": [
    "import pandas as pd\n",
    "import numpy as np\n",
    "pd.set_option('display.max_rows', 1000)\n",
    "\n",
    "import matplotlib.pyplot as plt\n",
    "import seaborn as sns\n",
    "plt.style.use('ggplot')"
   ]
  },
  {
   "cell_type": "markdown",
   "metadata": {
    "heading_collapsed": true
   },
   "source": [
    "#  Objectives"
   ]
  },
  {
   "cell_type": "markdown",
   "metadata": {
    "hidden": true
   },
   "source": [
    "- Understand the use case for time series data\n",
    "- Manipulate datetime objects\n",
    "- Understand different resampling techniques\n",
    "- Implement different visualization techniques for time series data"
   ]
  },
  {
   "cell_type": "markdown",
   "metadata": {
    "heading_collapsed": true
   },
   "source": [
    "# What Are Time Series Data?"
   ]
  },
  {
   "cell_type": "markdown",
   "metadata": {
    "hidden": true
   },
   "source": [
    "> We can saw data is a **time series** when the temporal information is a key focus of the data."
   ]
  },
  {
   "cell_type": "markdown",
   "metadata": {
    "hidden": true
   },
   "source": [
    "Data in a time series can stem from historical data or data that is dependent on past values."
   ]
  },
  {
   "cell_type": "markdown",
   "metadata": {
    "heading_collapsed": true,
    "hidden": true
   },
   "source": [
    "## Some Examples"
   ]
  },
  {
   "cell_type": "markdown",
   "metadata": {
    "hidden": true
   },
   "source": [
    "- Stock prices\n",
    "- Atmospheric changes over the course of decades\n",
    "- Audio samples\n",
    "- Heart rate data"
   ]
  },
  {
   "cell_type": "markdown",
   "metadata": {
    "heading_collapsed": true,
    "hidden": true
   },
   "source": [
    "## Uses for Time Series"
   ]
  },
  {
   "cell_type": "markdown",
   "metadata": {
    "hidden": true
   },
   "source": [
    "- Understand some underlying process\n",
    "- Forecasting (what we'll mostly focus on)\n",
    "- Imputation (filling missing \"past\" data)\n",
    "- Anomaly detection"
   ]
  },
  {
   "cell_type": "markdown",
   "metadata": {
    "heading_collapsed": true,
    "hidden": true
   },
   "source": [
    "## Example Data"
   ]
  },
  {
   "cell_type": "code",
   "execution_count": 2,
   "metadata": {
    "ExecuteTime": {
     "end_time": "2021-07-05T20:57:01.530233Z",
     "start_time": "2021-07-05T20:57:01.515255Z"
    },
    "hidden": true
   },
   "outputs": [],
   "source": [
    "# Define a function that will help us load and\n",
    "# clean up a dataset.\n",
    "\n",
    "def load_trend(trend_name='football', country_code='us'):\n",
    "    df = pd.read_csv('data/google-trends_'\n",
    "                     + trend_name + '_'\n",
    "                     + country_code\n",
    "                     + '.csv').iloc[1:, :]\n",
    "    df.columns = ['counts']\n",
    "    df['counts'] = df['counts'].str.replace('<1', '0').astype(int)\n",
    "    return df"
   ]
  },
  {
   "cell_type": "code",
   "execution_count": 3,
   "metadata": {
    "ExecuteTime": {
     "end_time": "2021-07-05T20:57:01.577088Z",
     "start_time": "2021-07-05T20:57:01.531220Z"
    },
    "hidden": true
   },
   "outputs": [
    {
     "data": {
      "text/html": [
       "<div>\n",
       "<style scoped>\n",
       "    .dataframe tbody tr th:only-of-type {\n",
       "        vertical-align: middle;\n",
       "    }\n",
       "\n",
       "    .dataframe tbody tr th {\n",
       "        vertical-align: top;\n",
       "    }\n",
       "\n",
       "    .dataframe thead th {\n",
       "        text-align: right;\n",
       "    }\n",
       "</style>\n",
       "<table border=\"1\" class=\"dataframe\">\n",
       "  <thead>\n",
       "    <tr style=\"text-align: right;\">\n",
       "      <th></th>\n",
       "      <th>counts</th>\n",
       "    </tr>\n",
       "  </thead>\n",
       "  <tbody>\n",
       "    <tr>\n",
       "      <th>2004-01</th>\n",
       "      <td>17</td>\n",
       "    </tr>\n",
       "    <tr>\n",
       "      <th>2004-02</th>\n",
       "      <td>5</td>\n",
       "    </tr>\n",
       "    <tr>\n",
       "      <th>2004-03</th>\n",
       "      <td>11</td>\n",
       "    </tr>\n",
       "    <tr>\n",
       "      <th>2004-04</th>\n",
       "      <td>10</td>\n",
       "    </tr>\n",
       "    <tr>\n",
       "      <th>2004-05</th>\n",
       "      <td>8</td>\n",
       "    </tr>\n",
       "  </tbody>\n",
       "</table>\n",
       "</div>"
      ],
      "text/plain": [
       "         counts\n",
       "2004-01      17\n",
       "2004-02       5\n",
       "2004-03      11\n",
       "2004-04      10\n",
       "2004-05       8"
      ]
     },
     "execution_count": 3,
     "metadata": {},
     "output_type": "execute_result"
    }
   ],
   "source": [
    "df = load_trend(**{'trend_name': 'data-science', 'country_code': 'us'})\n",
    "df.head()"
   ]
  },
  {
   "cell_type": "markdown",
   "metadata": {
    "hidden": true
   },
   "source": [
    "Now we can do this with multiple time series data!"
   ]
  },
  {
   "cell_type": "code",
   "execution_count": 4,
   "metadata": {
    "ExecuteTime": {
     "end_time": "2021-07-05T20:57:01.593045Z",
     "start_time": "2021-07-05T20:57:01.578085Z"
    },
    "hidden": true
   },
   "outputs": [],
   "source": [
    "trends = [\n",
    "    {'trend_name': 'data-science', 'country_code': 'us'},\n",
    "    {'trend_name': 'football', 'country_code': 'us'},\n",
    "    {'trend_name': 'football', 'country_code': 'uk'},\n",
    "    {'trend_name': 'coronavirus', 'country_code': 'us'},\n",
    "    {'trend_name': 'trump', 'country_code': 'us'},\n",
    "    {'trend_name': 'taxes', 'country_code': 'us'},\n",
    "    {'trend_name': 'avengers', 'country_code': 'us'}\n",
    "]"
   ]
  },
  {
   "cell_type": "code",
   "execution_count": 5,
   "metadata": {
    "ExecuteTime": {
     "end_time": "2021-07-05T20:57:01.624960Z",
     "start_time": "2021-07-05T20:57:01.595040Z"
    },
    "hidden": true
   },
   "outputs": [],
   "source": [
    "trend_dfs = [load_trend(**trend) for trend in trends]"
   ]
  },
  {
   "cell_type": "markdown",
   "metadata": {
    "heading_collapsed": true
   },
   "source": [
    "# Datetime Objects"
   ]
  },
  {
   "cell_type": "markdown",
   "metadata": {
    "hidden": true
   },
   "source": [
    "Datetime objects make our time series modeling lives easier.  They will allow us to perform essential data prep tasks with a few lines of code.  \n",
    "\n",
    "We need our time series **index** to be datetime objects, since our models will rely on being able to identify the previous chronological value."
   ]
  },
  {
   "cell_type": "markdown",
   "metadata": {
    "hidden": true
   },
   "source": [
    "There is a `datetime` [library](https://docs.python.org/2/library/datetime.html), and inside `pandas` there is a datetime module as well as a to_datetime() function.\n",
    "\n",
    "For time series modeling, the first step often is to make sure that the index is a datetime object."
   ]
  },
  {
   "cell_type": "markdown",
   "metadata": {
    "heading_collapsed": true,
    "hidden": true
   },
   "source": [
    "## Setting Datetime Objects as the Index"
   ]
  },
  {
   "cell_type": "markdown",
   "metadata": {
    "hidden": true
   },
   "source": [
    "There are a few ways to **reindex** our series to datetime. \n",
    "\n",
    "We can use `pandas.to_datetime()` method:"
   ]
  },
  {
   "cell_type": "code",
   "execution_count": 6,
   "metadata": {
    "ExecuteTime": {
     "end_time": "2021-07-05T20:57:02.113681Z",
     "start_time": "2021-07-05T20:57:01.703770Z"
    },
    "hidden": true
   },
   "outputs": [],
   "source": [
    "ts_no_datetime = pd.read_csv('data/Gun_Crimes_Heat_Map.csv')"
   ]
  },
  {
   "cell_type": "code",
   "execution_count": 7,
   "metadata": {
    "ExecuteTime": {
     "end_time": "2021-07-05T20:57:02.161556Z",
     "start_time": "2021-07-05T20:57:02.114652Z"
    },
    "hidden": true
   },
   "outputs": [
    {
     "data": {
      "text/html": [
       "<div>\n",
       "<style scoped>\n",
       "    .dataframe tbody tr th:only-of-type {\n",
       "        vertical-align: middle;\n",
       "    }\n",
       "\n",
       "    .dataframe tbody tr th {\n",
       "        vertical-align: top;\n",
       "    }\n",
       "\n",
       "    .dataframe thead th {\n",
       "        text-align: right;\n",
       "    }\n",
       "</style>\n",
       "<table border=\"1\" class=\"dataframe\">\n",
       "  <thead>\n",
       "    <tr style=\"text-align: right;\">\n",
       "      <th></th>\n",
       "      <th>ID</th>\n",
       "      <th>Case Number</th>\n",
       "      <th>Date</th>\n",
       "      <th>Block</th>\n",
       "      <th>IUCR</th>\n",
       "      <th>Primary Type</th>\n",
       "      <th>Description</th>\n",
       "      <th>Location Description</th>\n",
       "      <th>Arrest</th>\n",
       "      <th>Domestic</th>\n",
       "      <th>...</th>\n",
       "      <th>Ward</th>\n",
       "      <th>Community Area</th>\n",
       "      <th>FBI Code</th>\n",
       "      <th>X Coordinate</th>\n",
       "      <th>Y Coordinate</th>\n",
       "      <th>Year</th>\n",
       "      <th>Updated On</th>\n",
       "      <th>Latitude</th>\n",
       "      <th>Longitude</th>\n",
       "      <th>Location</th>\n",
       "    </tr>\n",
       "  </thead>\n",
       "  <tbody>\n",
       "    <tr>\n",
       "      <th>0</th>\n",
       "      <td>9446834</td>\n",
       "      <td>HX100098</td>\n",
       "      <td>01/01/2014 12:02:00 AM</td>\n",
       "      <td>072XX S MORGAN ST</td>\n",
       "      <td>1477</td>\n",
       "      <td>WEAPONS VIOLATION</td>\n",
       "      <td>RECKLESS FIREARM DISCHARGE</td>\n",
       "      <td>RESIDENTIAL YARD (FRONT/BACK)</td>\n",
       "      <td>True</td>\n",
       "      <td>False</td>\n",
       "      <td>...</td>\n",
       "      <td>17.0</td>\n",
       "      <td>68</td>\n",
       "      <td>15</td>\n",
       "      <td>1170897.0</td>\n",
       "      <td>1856795.0</td>\n",
       "      <td>2014</td>\n",
       "      <td>02/10/2018 03:50:01 PM</td>\n",
       "      <td>41.762519</td>\n",
       "      <td>-87.649198</td>\n",
       "      <td>(41.762519013, -87.64919809)</td>\n",
       "    </tr>\n",
       "    <tr>\n",
       "      <th>1</th>\n",
       "      <td>9446765</td>\n",
       "      <td>HX100013</td>\n",
       "      <td>01/01/2014 12:03:00 AM</td>\n",
       "      <td>064XX S ROCKWELL ST</td>\n",
       "      <td>143A</td>\n",
       "      <td>WEAPONS VIOLATION</td>\n",
       "      <td>UNLAWFUL POSS OF HANDGUN</td>\n",
       "      <td>RESIDENTIAL YARD (FRONT/BACK)</td>\n",
       "      <td>True</td>\n",
       "      <td>False</td>\n",
       "      <td>...</td>\n",
       "      <td>15.0</td>\n",
       "      <td>66</td>\n",
       "      <td>15</td>\n",
       "      <td>1160145.0</td>\n",
       "      <td>1861909.0</td>\n",
       "      <td>2014</td>\n",
       "      <td>02/10/2018 03:50:01 PM</td>\n",
       "      <td>41.776780</td>\n",
       "      <td>-87.688465</td>\n",
       "      <td>(41.776780469, -87.688465418)</td>\n",
       "    </tr>\n",
       "    <tr>\n",
       "      <th>2</th>\n",
       "      <td>9446921</td>\n",
       "      <td>HX100067</td>\n",
       "      <td>01/01/2014 12:04:00 AM</td>\n",
       "      <td>048XX S PRAIRIE AVE</td>\n",
       "      <td>1460</td>\n",
       "      <td>WEAPONS VIOLATION</td>\n",
       "      <td>POSS FIREARM/AMMO:NO FOID CARD</td>\n",
       "      <td>APARTMENT</td>\n",
       "      <td>True</td>\n",
       "      <td>False</td>\n",
       "      <td>...</td>\n",
       "      <td>3.0</td>\n",
       "      <td>38</td>\n",
       "      <td>15</td>\n",
       "      <td>1178859.0</td>\n",
       "      <td>1872997.0</td>\n",
       "      <td>2014</td>\n",
       "      <td>02/04/2016 06:33:39 AM</td>\n",
       "      <td>41.806801</td>\n",
       "      <td>-87.619523</td>\n",
       "      <td>(41.806801421, -87.61952336)</td>\n",
       "    </tr>\n",
       "    <tr>\n",
       "      <th>3</th>\n",
       "      <td>9446783</td>\n",
       "      <td>HX100093</td>\n",
       "      <td>01/01/2014 12:05:00 AM</td>\n",
       "      <td>011XX W 50TH ST</td>\n",
       "      <td>143A</td>\n",
       "      <td>WEAPONS VIOLATION</td>\n",
       "      <td>UNLAWFUL POSS OF HANDGUN</td>\n",
       "      <td>PARKING LOT/GARAGE(NON.RESID.)</td>\n",
       "      <td>True</td>\n",
       "      <td>False</td>\n",
       "      <td>...</td>\n",
       "      <td>16.0</td>\n",
       "      <td>61</td>\n",
       "      <td>15</td>\n",
       "      <td>1169689.0</td>\n",
       "      <td>1871646.0</td>\n",
       "      <td>2014</td>\n",
       "      <td>02/10/2018 03:50:01 PM</td>\n",
       "      <td>41.803298</td>\n",
       "      <td>-87.653195</td>\n",
       "      <td>(41.8032982, -87.653195042)</td>\n",
       "    </tr>\n",
       "    <tr>\n",
       "      <th>4</th>\n",
       "      <td>9446811</td>\n",
       "      <td>HX100017</td>\n",
       "      <td>01/01/2014 12:05:00 AM</td>\n",
       "      <td>031XX W WALNUT ST</td>\n",
       "      <td>143A</td>\n",
       "      <td>WEAPONS VIOLATION</td>\n",
       "      <td>UNLAWFUL POSS OF HANDGUN</td>\n",
       "      <td>RESIDENCE PORCH/HALLWAY</td>\n",
       "      <td>True</td>\n",
       "      <td>False</td>\n",
       "      <td>...</td>\n",
       "      <td>27.0</td>\n",
       "      <td>27</td>\n",
       "      <td>15</td>\n",
       "      <td>1155344.0</td>\n",
       "      <td>1901461.0</td>\n",
       "      <td>2014</td>\n",
       "      <td>02/10/2018 03:50:01 PM</td>\n",
       "      <td>41.885414</td>\n",
       "      <td>-87.705005</td>\n",
       "      <td>(41.885413516, -87.705005317)</td>\n",
       "    </tr>\n",
       "  </tbody>\n",
       "</table>\n",
       "<p>5 rows × 22 columns</p>\n",
       "</div>"
      ],
      "text/plain": [
       "        ID Case Number                    Date                Block  IUCR  \\\n",
       "0  9446834    HX100098  01/01/2014 12:02:00 AM    072XX S MORGAN ST  1477   \n",
       "1  9446765    HX100013  01/01/2014 12:03:00 AM  064XX S ROCKWELL ST  143A   \n",
       "2  9446921    HX100067  01/01/2014 12:04:00 AM  048XX S PRAIRIE AVE  1460   \n",
       "3  9446783    HX100093  01/01/2014 12:05:00 AM      011XX W 50TH ST  143A   \n",
       "4  9446811    HX100017  01/01/2014 12:05:00 AM    031XX W WALNUT ST  143A   \n",
       "\n",
       "        Primary Type                     Description  \\\n",
       "0  WEAPONS VIOLATION      RECKLESS FIREARM DISCHARGE   \n",
       "1  WEAPONS VIOLATION        UNLAWFUL POSS OF HANDGUN   \n",
       "2  WEAPONS VIOLATION  POSS FIREARM/AMMO:NO FOID CARD   \n",
       "3  WEAPONS VIOLATION        UNLAWFUL POSS OF HANDGUN   \n",
       "4  WEAPONS VIOLATION        UNLAWFUL POSS OF HANDGUN   \n",
       "\n",
       "             Location Description  Arrest  Domestic  ...  Ward  \\\n",
       "0   RESIDENTIAL YARD (FRONT/BACK)    True     False  ...  17.0   \n",
       "1   RESIDENTIAL YARD (FRONT/BACK)    True     False  ...  15.0   \n",
       "2                       APARTMENT    True     False  ...   3.0   \n",
       "3  PARKING LOT/GARAGE(NON.RESID.)    True     False  ...  16.0   \n",
       "4         RESIDENCE PORCH/HALLWAY    True     False  ...  27.0   \n",
       "\n",
       "   Community Area  FBI Code  X Coordinate Y Coordinate  Year  \\\n",
       "0              68        15     1170897.0    1856795.0  2014   \n",
       "1              66        15     1160145.0    1861909.0  2014   \n",
       "2              38        15     1178859.0    1872997.0  2014   \n",
       "3              61        15     1169689.0    1871646.0  2014   \n",
       "4              27        15     1155344.0    1901461.0  2014   \n",
       "\n",
       "               Updated On   Latitude  Longitude                       Location  \n",
       "0  02/10/2018 03:50:01 PM  41.762519 -87.649198   (41.762519013, -87.64919809)  \n",
       "1  02/10/2018 03:50:01 PM  41.776780 -87.688465  (41.776780469, -87.688465418)  \n",
       "2  02/04/2016 06:33:39 AM  41.806801 -87.619523   (41.806801421, -87.61952336)  \n",
       "3  02/10/2018 03:50:01 PM  41.803298 -87.653195    (41.8032982, -87.653195042)  \n",
       "4  02/10/2018 03:50:01 PM  41.885414 -87.705005  (41.885413516, -87.705005317)  \n",
       "\n",
       "[5 rows x 22 columns]"
      ]
     },
     "execution_count": 7,
     "metadata": {},
     "output_type": "execute_result"
    }
   ],
   "source": [
    "ts_no_datetime.head()"
   ]
  },
  {
   "cell_type": "code",
   "execution_count": 8,
   "metadata": {
    "ExecuteTime": {
     "end_time": "2021-07-05T20:57:02.177512Z",
     "start_time": "2021-07-05T20:57:02.162523Z"
    },
    "hidden": true
   },
   "outputs": [
    {
     "data": {
      "text/plain": [
       "RangeIndex(start=0, stop=97437, step=1)"
      ]
     },
     "execution_count": 8,
     "metadata": {},
     "output_type": "execute_result"
    }
   ],
   "source": [
    "ts_no_datetime.index"
   ]
  },
  {
   "cell_type": "code",
   "execution_count": 9,
   "metadata": {
    "ExecuteTime": {
     "end_time": "2021-07-05T20:57:10.627555Z",
     "start_time": "2021-07-05T20:57:02.178480Z"
    },
    "hidden": true
   },
   "outputs": [],
   "source": [
    "ts = ts_no_datetime.set_index(pd.to_datetime(ts_no_datetime['Date']), drop=True)"
   ]
  },
  {
   "cell_type": "markdown",
   "metadata": {
    "hidden": true
   },
   "source": [
    "> Alternatively, we can parse the dates directly on import"
   ]
  },
  {
   "cell_type": "code",
   "execution_count": 10,
   "metadata": {
    "ExecuteTime": {
     "end_time": "2021-07-05T20:57:19.824419Z",
     "start_time": "2021-07-05T20:57:10.628551Z"
    },
    "hidden": true
   },
   "outputs": [],
   "source": [
    "ts = pd.read_csv('data/Gun_Crimes_Heat_Map.csv', index_col='Date', parse_dates=True)"
   ]
  },
  {
   "cell_type": "code",
   "execution_count": 11,
   "metadata": {
    "ExecuteTime": {
     "end_time": "2021-07-05T20:57:19.840375Z",
     "start_time": "2021-07-05T20:57:19.825417Z"
    },
    "hidden": true
   },
   "outputs": [
    {
     "name": "stdout",
     "output_type": "stream",
     "text": [
      "Now our index is a <class 'pandas.core.indexes.datetimes.DatetimeIndex'>\n"
     ]
    }
   ],
   "source": [
    "print(f\"Now our index is a {type(ts.index)}\")"
   ]
  },
  {
   "cell_type": "code",
   "execution_count": 12,
   "metadata": {
    "ExecuteTime": {
     "end_time": "2021-07-05T20:57:19.871294Z",
     "start_time": "2021-07-05T20:57:19.841373Z"
    },
    "hidden": true
   },
   "outputs": [
    {
     "data": {
      "text/html": [
       "<div>\n",
       "<style scoped>\n",
       "    .dataframe tbody tr th:only-of-type {\n",
       "        vertical-align: middle;\n",
       "    }\n",
       "\n",
       "    .dataframe tbody tr th {\n",
       "        vertical-align: top;\n",
       "    }\n",
       "\n",
       "    .dataframe thead th {\n",
       "        text-align: right;\n",
       "    }\n",
       "</style>\n",
       "<table border=\"1\" class=\"dataframe\">\n",
       "  <thead>\n",
       "    <tr style=\"text-align: right;\">\n",
       "      <th></th>\n",
       "      <th>ID</th>\n",
       "      <th>Case Number</th>\n",
       "      <th>Block</th>\n",
       "      <th>IUCR</th>\n",
       "      <th>Primary Type</th>\n",
       "      <th>Description</th>\n",
       "      <th>Location Description</th>\n",
       "      <th>Arrest</th>\n",
       "      <th>Domestic</th>\n",
       "      <th>Beat</th>\n",
       "      <th>...</th>\n",
       "      <th>Ward</th>\n",
       "      <th>Community Area</th>\n",
       "      <th>FBI Code</th>\n",
       "      <th>X Coordinate</th>\n",
       "      <th>Y Coordinate</th>\n",
       "      <th>Year</th>\n",
       "      <th>Updated On</th>\n",
       "      <th>Latitude</th>\n",
       "      <th>Longitude</th>\n",
       "      <th>Location</th>\n",
       "    </tr>\n",
       "    <tr>\n",
       "      <th>Date</th>\n",
       "      <th></th>\n",
       "      <th></th>\n",
       "      <th></th>\n",
       "      <th></th>\n",
       "      <th></th>\n",
       "      <th></th>\n",
       "      <th></th>\n",
       "      <th></th>\n",
       "      <th></th>\n",
       "      <th></th>\n",
       "      <th></th>\n",
       "      <th></th>\n",
       "      <th></th>\n",
       "      <th></th>\n",
       "      <th></th>\n",
       "      <th></th>\n",
       "      <th></th>\n",
       "      <th></th>\n",
       "      <th></th>\n",
       "      <th></th>\n",
       "      <th></th>\n",
       "    </tr>\n",
       "  </thead>\n",
       "  <tbody>\n",
       "    <tr>\n",
       "      <th>2014-01-01 00:02:00</th>\n",
       "      <td>9446834</td>\n",
       "      <td>HX100098</td>\n",
       "      <td>072XX S MORGAN ST</td>\n",
       "      <td>1477</td>\n",
       "      <td>WEAPONS VIOLATION</td>\n",
       "      <td>RECKLESS FIREARM DISCHARGE</td>\n",
       "      <td>RESIDENTIAL YARD (FRONT/BACK)</td>\n",
       "      <td>True</td>\n",
       "      <td>False</td>\n",
       "      <td>733</td>\n",
       "      <td>...</td>\n",
       "      <td>17.0</td>\n",
       "      <td>68</td>\n",
       "      <td>15</td>\n",
       "      <td>1170897.0</td>\n",
       "      <td>1856795.0</td>\n",
       "      <td>2014</td>\n",
       "      <td>02/10/2018 03:50:01 PM</td>\n",
       "      <td>41.762519</td>\n",
       "      <td>-87.649198</td>\n",
       "      <td>(41.762519013, -87.64919809)</td>\n",
       "    </tr>\n",
       "    <tr>\n",
       "      <th>2014-01-01 00:03:00</th>\n",
       "      <td>9446765</td>\n",
       "      <td>HX100013</td>\n",
       "      <td>064XX S ROCKWELL ST</td>\n",
       "      <td>143A</td>\n",
       "      <td>WEAPONS VIOLATION</td>\n",
       "      <td>UNLAWFUL POSS OF HANDGUN</td>\n",
       "      <td>RESIDENTIAL YARD (FRONT/BACK)</td>\n",
       "      <td>True</td>\n",
       "      <td>False</td>\n",
       "      <td>825</td>\n",
       "      <td>...</td>\n",
       "      <td>15.0</td>\n",
       "      <td>66</td>\n",
       "      <td>15</td>\n",
       "      <td>1160145.0</td>\n",
       "      <td>1861909.0</td>\n",
       "      <td>2014</td>\n",
       "      <td>02/10/2018 03:50:01 PM</td>\n",
       "      <td>41.776780</td>\n",
       "      <td>-87.688465</td>\n",
       "      <td>(41.776780469, -87.688465418)</td>\n",
       "    </tr>\n",
       "    <tr>\n",
       "      <th>2014-01-01 00:04:00</th>\n",
       "      <td>9446921</td>\n",
       "      <td>HX100067</td>\n",
       "      <td>048XX S PRAIRIE AVE</td>\n",
       "      <td>1460</td>\n",
       "      <td>WEAPONS VIOLATION</td>\n",
       "      <td>POSS FIREARM/AMMO:NO FOID CARD</td>\n",
       "      <td>APARTMENT</td>\n",
       "      <td>True</td>\n",
       "      <td>False</td>\n",
       "      <td>224</td>\n",
       "      <td>...</td>\n",
       "      <td>3.0</td>\n",
       "      <td>38</td>\n",
       "      <td>15</td>\n",
       "      <td>1178859.0</td>\n",
       "      <td>1872997.0</td>\n",
       "      <td>2014</td>\n",
       "      <td>02/04/2016 06:33:39 AM</td>\n",
       "      <td>41.806801</td>\n",
       "      <td>-87.619523</td>\n",
       "      <td>(41.806801421, -87.61952336)</td>\n",
       "    </tr>\n",
       "    <tr>\n",
       "      <th>2014-01-01 00:05:00</th>\n",
       "      <td>9446783</td>\n",
       "      <td>HX100093</td>\n",
       "      <td>011XX W 50TH ST</td>\n",
       "      <td>143A</td>\n",
       "      <td>WEAPONS VIOLATION</td>\n",
       "      <td>UNLAWFUL POSS OF HANDGUN</td>\n",
       "      <td>PARKING LOT/GARAGE(NON.RESID.)</td>\n",
       "      <td>True</td>\n",
       "      <td>False</td>\n",
       "      <td>933</td>\n",
       "      <td>...</td>\n",
       "      <td>16.0</td>\n",
       "      <td>61</td>\n",
       "      <td>15</td>\n",
       "      <td>1169689.0</td>\n",
       "      <td>1871646.0</td>\n",
       "      <td>2014</td>\n",
       "      <td>02/10/2018 03:50:01 PM</td>\n",
       "      <td>41.803298</td>\n",
       "      <td>-87.653195</td>\n",
       "      <td>(41.8032982, -87.653195042)</td>\n",
       "    </tr>\n",
       "    <tr>\n",
       "      <th>2014-01-01 00:05:00</th>\n",
       "      <td>9446811</td>\n",
       "      <td>HX100017</td>\n",
       "      <td>031XX W WALNUT ST</td>\n",
       "      <td>143A</td>\n",
       "      <td>WEAPONS VIOLATION</td>\n",
       "      <td>UNLAWFUL POSS OF HANDGUN</td>\n",
       "      <td>RESIDENCE PORCH/HALLWAY</td>\n",
       "      <td>True</td>\n",
       "      <td>False</td>\n",
       "      <td>1222</td>\n",
       "      <td>...</td>\n",
       "      <td>27.0</td>\n",
       "      <td>27</td>\n",
       "      <td>15</td>\n",
       "      <td>1155344.0</td>\n",
       "      <td>1901461.0</td>\n",
       "      <td>2014</td>\n",
       "      <td>02/10/2018 03:50:01 PM</td>\n",
       "      <td>41.885414</td>\n",
       "      <td>-87.705005</td>\n",
       "      <td>(41.885413516, -87.705005317)</td>\n",
       "    </tr>\n",
       "  </tbody>\n",
       "</table>\n",
       "<p>5 rows × 21 columns</p>\n",
       "</div>"
      ],
      "text/plain": [
       "                          ID Case Number                Block  IUCR  \\\n",
       "Date                                                                  \n",
       "2014-01-01 00:02:00  9446834    HX100098    072XX S MORGAN ST  1477   \n",
       "2014-01-01 00:03:00  9446765    HX100013  064XX S ROCKWELL ST  143A   \n",
       "2014-01-01 00:04:00  9446921    HX100067  048XX S PRAIRIE AVE  1460   \n",
       "2014-01-01 00:05:00  9446783    HX100093      011XX W 50TH ST  143A   \n",
       "2014-01-01 00:05:00  9446811    HX100017    031XX W WALNUT ST  143A   \n",
       "\n",
       "                          Primary Type                     Description  \\\n",
       "Date                                                                     \n",
       "2014-01-01 00:02:00  WEAPONS VIOLATION      RECKLESS FIREARM DISCHARGE   \n",
       "2014-01-01 00:03:00  WEAPONS VIOLATION        UNLAWFUL POSS OF HANDGUN   \n",
       "2014-01-01 00:04:00  WEAPONS VIOLATION  POSS FIREARM/AMMO:NO FOID CARD   \n",
       "2014-01-01 00:05:00  WEAPONS VIOLATION        UNLAWFUL POSS OF HANDGUN   \n",
       "2014-01-01 00:05:00  WEAPONS VIOLATION        UNLAWFUL POSS OF HANDGUN   \n",
       "\n",
       "                               Location Description  Arrest  Domestic  Beat  \\\n",
       "Date                                                                          \n",
       "2014-01-01 00:02:00   RESIDENTIAL YARD (FRONT/BACK)    True     False   733   \n",
       "2014-01-01 00:03:00   RESIDENTIAL YARD (FRONT/BACK)    True     False   825   \n",
       "2014-01-01 00:04:00                       APARTMENT    True     False   224   \n",
       "2014-01-01 00:05:00  PARKING LOT/GARAGE(NON.RESID.)    True     False   933   \n",
       "2014-01-01 00:05:00         RESIDENCE PORCH/HALLWAY    True     False  1222   \n",
       "\n",
       "                     ...  Ward  Community Area  FBI Code X Coordinate  \\\n",
       "Date                 ...                                                \n",
       "2014-01-01 00:02:00  ...  17.0              68        15    1170897.0   \n",
       "2014-01-01 00:03:00  ...  15.0              66        15    1160145.0   \n",
       "2014-01-01 00:04:00  ...   3.0              38        15    1178859.0   \n",
       "2014-01-01 00:05:00  ...  16.0              61        15    1169689.0   \n",
       "2014-01-01 00:05:00  ...  27.0              27        15    1155344.0   \n",
       "\n",
       "                     Y Coordinate  Year              Updated On   Latitude  \\\n",
       "Date                                                                         \n",
       "2014-01-01 00:02:00     1856795.0  2014  02/10/2018 03:50:01 PM  41.762519   \n",
       "2014-01-01 00:03:00     1861909.0  2014  02/10/2018 03:50:01 PM  41.776780   \n",
       "2014-01-01 00:04:00     1872997.0  2014  02/04/2016 06:33:39 AM  41.806801   \n",
       "2014-01-01 00:05:00     1871646.0  2014  02/10/2018 03:50:01 PM  41.803298   \n",
       "2014-01-01 00:05:00     1901461.0  2014  02/10/2018 03:50:01 PM  41.885414   \n",
       "\n",
       "                     Longitude                       Location  \n",
       "Date                                                           \n",
       "2014-01-01 00:02:00 -87.649198   (41.762519013, -87.64919809)  \n",
       "2014-01-01 00:03:00 -87.688465  (41.776780469, -87.688465418)  \n",
       "2014-01-01 00:04:00 -87.619523   (41.806801421, -87.61952336)  \n",
       "2014-01-01 00:05:00 -87.653195    (41.8032982, -87.653195042)  \n",
       "2014-01-01 00:05:00 -87.705005  (41.885413516, -87.705005317)  \n",
       "\n",
       "[5 rows x 21 columns]"
      ]
     },
     "execution_count": 12,
     "metadata": {},
     "output_type": "execute_result"
    }
   ],
   "source": [
    "ts.head()"
   ]
  },
  {
   "cell_type": "markdown",
   "metadata": {
    "heading_collapsed": true,
    "hidden": true
   },
   "source": [
    "## Investigating Time Series with Datetime Objects"
   ]
  },
  {
   "cell_type": "markdown",
   "metadata": {
    "hidden": true
   },
   "source": [
    "Datetime objects include aspects of the date as attributes, like month and year:"
   ]
  },
  {
   "cell_type": "code",
   "execution_count": 13,
   "metadata": {
    "ExecuteTime": {
     "end_time": "2021-07-05T20:57:19.886284Z",
     "start_time": "2021-07-05T20:57:19.873288Z"
    },
    "hidden": true
   },
   "outputs": [
    {
     "data": {
      "text/plain": [
       "Timestamp('2014-01-01 00:02:00')"
      ]
     },
     "execution_count": 13,
     "metadata": {},
     "output_type": "execute_result"
    }
   ],
   "source": [
    "ts.index[0]"
   ]
  },
  {
   "cell_type": "code",
   "execution_count": 14,
   "metadata": {
    "ExecuteTime": {
     "end_time": "2021-07-05T20:57:19.901214Z",
     "start_time": "2021-07-05T20:57:19.888281Z"
    },
    "hidden": true
   },
   "outputs": [
    {
     "data": {
      "text/plain": [
       "1"
      ]
     },
     "execution_count": 14,
     "metadata": {},
     "output_type": "execute_result"
    }
   ],
   "source": [
    "ts.index[0].month"
   ]
  },
  {
   "cell_type": "code",
   "execution_count": 15,
   "metadata": {
    "ExecuteTime": {
     "end_time": "2021-07-05T20:57:19.916192Z",
     "start_time": "2021-07-05T20:57:19.902239Z"
    },
    "hidden": true
   },
   "outputs": [
    {
     "data": {
      "text/plain": [
       "2014"
      ]
     },
     "execution_count": 15,
     "metadata": {},
     "output_type": "execute_result"
    }
   ],
   "source": [
    "ts.index[0].year"
   ]
  },
  {
   "cell_type": "markdown",
   "metadata": {
    "hidden": true
   },
   "source": [
    "We can also use the date to directly slice the DataFrame"
   ]
  },
  {
   "cell_type": "code",
   "execution_count": 16,
   "metadata": {
    "ExecuteTime": {
     "end_time": "2021-07-05T20:57:20.010920Z",
     "start_time": "2021-07-05T20:57:19.918168Z"
    },
    "hidden": true
   },
   "outputs": [
    {
     "data": {
      "text/html": [
       "<div>\n",
       "<style scoped>\n",
       "    .dataframe tbody tr th:only-of-type {\n",
       "        vertical-align: middle;\n",
       "    }\n",
       "\n",
       "    .dataframe tbody tr th {\n",
       "        vertical-align: top;\n",
       "    }\n",
       "\n",
       "    .dataframe thead th {\n",
       "        text-align: right;\n",
       "    }\n",
       "</style>\n",
       "<table border=\"1\" class=\"dataframe\">\n",
       "  <thead>\n",
       "    <tr style=\"text-align: right;\">\n",
       "      <th></th>\n",
       "      <th>ID</th>\n",
       "      <th>Case Number</th>\n",
       "      <th>Block</th>\n",
       "      <th>IUCR</th>\n",
       "      <th>Primary Type</th>\n",
       "      <th>Description</th>\n",
       "      <th>Location Description</th>\n",
       "      <th>Arrest</th>\n",
       "      <th>Domestic</th>\n",
       "      <th>Beat</th>\n",
       "      <th>...</th>\n",
       "      <th>Ward</th>\n",
       "      <th>Community Area</th>\n",
       "      <th>FBI Code</th>\n",
       "      <th>X Coordinate</th>\n",
       "      <th>Y Coordinate</th>\n",
       "      <th>Year</th>\n",
       "      <th>Updated On</th>\n",
       "      <th>Latitude</th>\n",
       "      <th>Longitude</th>\n",
       "      <th>Location</th>\n",
       "    </tr>\n",
       "    <tr>\n",
       "      <th>Date</th>\n",
       "      <th></th>\n",
       "      <th></th>\n",
       "      <th></th>\n",
       "      <th></th>\n",
       "      <th></th>\n",
       "      <th></th>\n",
       "      <th></th>\n",
       "      <th></th>\n",
       "      <th></th>\n",
       "      <th></th>\n",
       "      <th></th>\n",
       "      <th></th>\n",
       "      <th></th>\n",
       "      <th></th>\n",
       "      <th></th>\n",
       "      <th></th>\n",
       "      <th></th>\n",
       "      <th></th>\n",
       "      <th></th>\n",
       "      <th></th>\n",
       "      <th></th>\n",
       "    </tr>\n",
       "  </thead>\n",
       "  <tbody>\n",
       "    <tr>\n",
       "      <th>2021-01-01 00:00:00</th>\n",
       "      <td>12258861</td>\n",
       "      <td>JE100369</td>\n",
       "      <td>016XX N CICERO AVE</td>\n",
       "      <td>051A</td>\n",
       "      <td>ASSAULT</td>\n",
       "      <td>AGGRAVATED - HANDGUN</td>\n",
       "      <td>ALLEY</td>\n",
       "      <td>False</td>\n",
       "      <td>False</td>\n",
       "      <td>2533</td>\n",
       "      <td>...</td>\n",
       "      <td>37.0</td>\n",
       "      <td>25</td>\n",
       "      <td>04A</td>\n",
       "      <td>1144145.0</td>\n",
       "      <td>1910673.0</td>\n",
       "      <td>2021</td>\n",
       "      <td>01/16/2021 03:49:23 PM</td>\n",
       "      <td>41.910910</td>\n",
       "      <td>-87.745899</td>\n",
       "      <td>(41.910909931, -87.745898897)</td>\n",
       "    </tr>\n",
       "    <tr>\n",
       "      <th>2021-01-01 00:00:00</th>\n",
       "      <td>12259020</td>\n",
       "      <td>JE100698</td>\n",
       "      <td>075XX S JEFFERY BLVD</td>\n",
       "      <td>141B</td>\n",
       "      <td>WEAPONS VIOLATION</td>\n",
       "      <td>UNLAWFUL USE - OTHER FIREARM</td>\n",
       "      <td>STREET</td>\n",
       "      <td>False</td>\n",
       "      <td>False</td>\n",
       "      <td>414</td>\n",
       "      <td>...</td>\n",
       "      <td>8.0</td>\n",
       "      <td>43</td>\n",
       "      <td>15</td>\n",
       "      <td>1190847.0</td>\n",
       "      <td>1855361.0</td>\n",
       "      <td>2021</td>\n",
       "      <td>01/16/2021 03:49:23 PM</td>\n",
       "      <td>41.758125</td>\n",
       "      <td>-87.576126</td>\n",
       "      <td>(41.758125331, -87.576125553)</td>\n",
       "    </tr>\n",
       "    <tr>\n",
       "      <th>2021-01-01 00:00:00</th>\n",
       "      <td>12259663</td>\n",
       "      <td>JE101362</td>\n",
       "      <td>040XX S LAKE PARK AVE</td>\n",
       "      <td>141B</td>\n",
       "      <td>WEAPONS VIOLATION</td>\n",
       "      <td>UNLAWFUL USE - OTHER FIREARM</td>\n",
       "      <td>ALLEY</td>\n",
       "      <td>False</td>\n",
       "      <td>False</td>\n",
       "      <td>214</td>\n",
       "      <td>...</td>\n",
       "      <td>4.0</td>\n",
       "      <td>36</td>\n",
       "      <td>15</td>\n",
       "      <td>1183760.0</td>\n",
       "      <td>1878197.0</td>\n",
       "      <td>2021</td>\n",
       "      <td>01/16/2021 03:49:23 PM</td>\n",
       "      <td>41.820957</td>\n",
       "      <td>-87.601386</td>\n",
       "      <td>(41.820957498, -87.601385842)</td>\n",
       "    </tr>\n",
       "    <tr>\n",
       "      <th>2021-01-01 00:03:00</th>\n",
       "      <td>12258570</td>\n",
       "      <td>JE100122</td>\n",
       "      <td>057XX S MARSHFIELD AVE</td>\n",
       "      <td>143B</td>\n",
       "      <td>WEAPONS VIOLATION</td>\n",
       "      <td>UNLAWFUL POSSESSION - OTHER FIREARM</td>\n",
       "      <td>RESIDENCE - YARD (FRONT / BACK)</td>\n",
       "      <td>False</td>\n",
       "      <td>False</td>\n",
       "      <td>715</td>\n",
       "      <td>...</td>\n",
       "      <td>16.0</td>\n",
       "      <td>67</td>\n",
       "      <td>15</td>\n",
       "      <td>1166325.0</td>\n",
       "      <td>1866554.0</td>\n",
       "      <td>2021</td>\n",
       "      <td>01/16/2021 03:49:23 PM</td>\n",
       "      <td>41.789398</td>\n",
       "      <td>-87.665677</td>\n",
       "      <td>(41.789397529, -87.665677479)</td>\n",
       "    </tr>\n",
       "    <tr>\n",
       "      <th>2021-01-01 00:05:00</th>\n",
       "      <td>12258631</td>\n",
       "      <td>JE100007</td>\n",
       "      <td>064XX N CLAREMONT AVE</td>\n",
       "      <td>143A</td>\n",
       "      <td>WEAPONS VIOLATION</td>\n",
       "      <td>UNLAWFUL POSSESSION - HANDGUN</td>\n",
       "      <td>ALLEY</td>\n",
       "      <td>True</td>\n",
       "      <td>False</td>\n",
       "      <td>2412</td>\n",
       "      <td>...</td>\n",
       "      <td>50.0</td>\n",
       "      <td>2</td>\n",
       "      <td>15</td>\n",
       "      <td>1159480.0</td>\n",
       "      <td>1942629.0</td>\n",
       "      <td>2021</td>\n",
       "      <td>01/16/2021 03:49:23 PM</td>\n",
       "      <td>41.998297</td>\n",
       "      <td>-87.688680</td>\n",
       "      <td>(41.998296976, -87.688680214)</td>\n",
       "    </tr>\n",
       "    <tr>\n",
       "      <th>...</th>\n",
       "      <td>...</td>\n",
       "      <td>...</td>\n",
       "      <td>...</td>\n",
       "      <td>...</td>\n",
       "      <td>...</td>\n",
       "      <td>...</td>\n",
       "      <td>...</td>\n",
       "      <td>...</td>\n",
       "      <td>...</td>\n",
       "      <td>...</td>\n",
       "      <td>...</td>\n",
       "      <td>...</td>\n",
       "      <td>...</td>\n",
       "      <td>...</td>\n",
       "      <td>...</td>\n",
       "      <td>...</td>\n",
       "      <td>...</td>\n",
       "      <td>...</td>\n",
       "      <td>...</td>\n",
       "      <td>...</td>\n",
       "      <td>...</td>\n",
       "    </tr>\n",
       "    <tr>\n",
       "      <th>2021-02-11 21:56:00</th>\n",
       "      <td>12291334</td>\n",
       "      <td>JE139290</td>\n",
       "      <td>015XX E 73RD ST</td>\n",
       "      <td>041A</td>\n",
       "      <td>BATTERY</td>\n",
       "      <td>AGGRAVATED - HANDGUN</td>\n",
       "      <td>STREET</td>\n",
       "      <td>False</td>\n",
       "      <td>False</td>\n",
       "      <td>324</td>\n",
       "      <td>...</td>\n",
       "      <td>7.0</td>\n",
       "      <td>43</td>\n",
       "      <td>04B</td>\n",
       "      <td>NaN</td>\n",
       "      <td>NaN</td>\n",
       "      <td>2021</td>\n",
       "      <td>02/18/2021 03:52:19 PM</td>\n",
       "      <td>NaN</td>\n",
       "      <td>NaN</td>\n",
       "      <td>NaN</td>\n",
       "    </tr>\n",
       "    <tr>\n",
       "      <th>2021-02-11 21:56:00</th>\n",
       "      <td>12291244</td>\n",
       "      <td>JE139274</td>\n",
       "      <td>059XX W MADISON ST</td>\n",
       "      <td>143A</td>\n",
       "      <td>WEAPONS VIOLATION</td>\n",
       "      <td>UNLAWFUL POSSESSION - HANDGUN</td>\n",
       "      <td>RESTAURANT</td>\n",
       "      <td>True</td>\n",
       "      <td>False</td>\n",
       "      <td>1513</td>\n",
       "      <td>...</td>\n",
       "      <td>29.0</td>\n",
       "      <td>25</td>\n",
       "      <td>15</td>\n",
       "      <td>NaN</td>\n",
       "      <td>NaN</td>\n",
       "      <td>2021</td>\n",
       "      <td>02/18/2021 03:52:19 PM</td>\n",
       "      <td>NaN</td>\n",
       "      <td>NaN</td>\n",
       "      <td>NaN</td>\n",
       "    </tr>\n",
       "    <tr>\n",
       "      <th>2021-02-11 22:16:00</th>\n",
       "      <td>12291306</td>\n",
       "      <td>JE139291</td>\n",
       "      <td>004XX S KEDZIE AVE</td>\n",
       "      <td>143A</td>\n",
       "      <td>WEAPONS VIOLATION</td>\n",
       "      <td>UNLAWFUL POSSESSION - HANDGUN</td>\n",
       "      <td>STREET</td>\n",
       "      <td>True</td>\n",
       "      <td>False</td>\n",
       "      <td>1134</td>\n",
       "      <td>...</td>\n",
       "      <td>28.0</td>\n",
       "      <td>27</td>\n",
       "      <td>15</td>\n",
       "      <td>NaN</td>\n",
       "      <td>NaN</td>\n",
       "      <td>2021</td>\n",
       "      <td>02/18/2021 03:52:19 PM</td>\n",
       "      <td>NaN</td>\n",
       "      <td>NaN</td>\n",
       "      <td>NaN</td>\n",
       "    </tr>\n",
       "    <tr>\n",
       "      <th>2021-02-11 22:55:00</th>\n",
       "      <td>12291295</td>\n",
       "      <td>JE139305</td>\n",
       "      <td>099XX S VINCENNES AVE</td>\n",
       "      <td>143A</td>\n",
       "      <td>WEAPONS VIOLATION</td>\n",
       "      <td>UNLAWFUL POSSESSION - HANDGUN</td>\n",
       "      <td>GAS STATION</td>\n",
       "      <td>True</td>\n",
       "      <td>False</td>\n",
       "      <td>2213</td>\n",
       "      <td>...</td>\n",
       "      <td>34.0</td>\n",
       "      <td>73</td>\n",
       "      <td>15</td>\n",
       "      <td>NaN</td>\n",
       "      <td>NaN</td>\n",
       "      <td>2021</td>\n",
       "      <td>02/18/2021 03:52:19 PM</td>\n",
       "      <td>NaN</td>\n",
       "      <td>NaN</td>\n",
       "      <td>NaN</td>\n",
       "    </tr>\n",
       "    <tr>\n",
       "      <th>2021-02-11 23:30:00</th>\n",
       "      <td>12293080</td>\n",
       "      <td>JE141688</td>\n",
       "      <td>010XX N FRANCISCO AVE</td>\n",
       "      <td>031A</td>\n",
       "      <td>ROBBERY</td>\n",
       "      <td>ARMED - HANDGUN</td>\n",
       "      <td>STREET</td>\n",
       "      <td>False</td>\n",
       "      <td>False</td>\n",
       "      <td>1211</td>\n",
       "      <td>...</td>\n",
       "      <td>26.0</td>\n",
       "      <td>24</td>\n",
       "      <td>03</td>\n",
       "      <td>NaN</td>\n",
       "      <td>NaN</td>\n",
       "      <td>2021</td>\n",
       "      <td>02/18/2021 03:52:19 PM</td>\n",
       "      <td>NaN</td>\n",
       "      <td>NaN</td>\n",
       "      <td>NaN</td>\n",
       "    </tr>\n",
       "  </tbody>\n",
       "</table>\n",
       "<p>1802 rows × 21 columns</p>\n",
       "</div>"
      ],
      "text/plain": [
       "                           ID Case Number                   Block  IUCR  \\\n",
       "Date                                                                      \n",
       "2021-01-01 00:00:00  12258861    JE100369      016XX N CICERO AVE  051A   \n",
       "2021-01-01 00:00:00  12259020    JE100698    075XX S JEFFERY BLVD  141B   \n",
       "2021-01-01 00:00:00  12259663    JE101362   040XX S LAKE PARK AVE  141B   \n",
       "2021-01-01 00:03:00  12258570    JE100122  057XX S MARSHFIELD AVE  143B   \n",
       "2021-01-01 00:05:00  12258631    JE100007   064XX N CLAREMONT AVE  143A   \n",
       "...                       ...         ...                     ...   ...   \n",
       "2021-02-11 21:56:00  12291334    JE139290         015XX E 73RD ST  041A   \n",
       "2021-02-11 21:56:00  12291244    JE139274      059XX W MADISON ST  143A   \n",
       "2021-02-11 22:16:00  12291306    JE139291      004XX S KEDZIE AVE  143A   \n",
       "2021-02-11 22:55:00  12291295    JE139305   099XX S VINCENNES AVE  143A   \n",
       "2021-02-11 23:30:00  12293080    JE141688   010XX N FRANCISCO AVE  031A   \n",
       "\n",
       "                          Primary Type                          Description  \\\n",
       "Date                                                                          \n",
       "2021-01-01 00:00:00            ASSAULT                 AGGRAVATED - HANDGUN   \n",
       "2021-01-01 00:00:00  WEAPONS VIOLATION         UNLAWFUL USE - OTHER FIREARM   \n",
       "2021-01-01 00:00:00  WEAPONS VIOLATION         UNLAWFUL USE - OTHER FIREARM   \n",
       "2021-01-01 00:03:00  WEAPONS VIOLATION  UNLAWFUL POSSESSION - OTHER FIREARM   \n",
       "2021-01-01 00:05:00  WEAPONS VIOLATION        UNLAWFUL POSSESSION - HANDGUN   \n",
       "...                                ...                                  ...   \n",
       "2021-02-11 21:56:00            BATTERY                 AGGRAVATED - HANDGUN   \n",
       "2021-02-11 21:56:00  WEAPONS VIOLATION        UNLAWFUL POSSESSION - HANDGUN   \n",
       "2021-02-11 22:16:00  WEAPONS VIOLATION        UNLAWFUL POSSESSION - HANDGUN   \n",
       "2021-02-11 22:55:00  WEAPONS VIOLATION        UNLAWFUL POSSESSION - HANDGUN   \n",
       "2021-02-11 23:30:00            ROBBERY                      ARMED - HANDGUN   \n",
       "\n",
       "                                Location Description  Arrest  Domestic  Beat  \\\n",
       "Date                                                                           \n",
       "2021-01-01 00:00:00                            ALLEY   False     False  2533   \n",
       "2021-01-01 00:00:00                           STREET   False     False   414   \n",
       "2021-01-01 00:00:00                            ALLEY   False     False   214   \n",
       "2021-01-01 00:03:00  RESIDENCE - YARD (FRONT / BACK)   False     False   715   \n",
       "2021-01-01 00:05:00                            ALLEY    True     False  2412   \n",
       "...                                              ...     ...       ...   ...   \n",
       "2021-02-11 21:56:00                           STREET   False     False   324   \n",
       "2021-02-11 21:56:00                       RESTAURANT    True     False  1513   \n",
       "2021-02-11 22:16:00                           STREET    True     False  1134   \n",
       "2021-02-11 22:55:00                      GAS STATION    True     False  2213   \n",
       "2021-02-11 23:30:00                           STREET   False     False  1211   \n",
       "\n",
       "                     ...  Ward  Community Area  FBI Code X Coordinate  \\\n",
       "Date                 ...                                                \n",
       "2021-01-01 00:00:00  ...  37.0              25       04A    1144145.0   \n",
       "2021-01-01 00:00:00  ...   8.0              43        15    1190847.0   \n",
       "2021-01-01 00:00:00  ...   4.0              36        15    1183760.0   \n",
       "2021-01-01 00:03:00  ...  16.0              67        15    1166325.0   \n",
       "2021-01-01 00:05:00  ...  50.0               2        15    1159480.0   \n",
       "...                  ...   ...             ...       ...          ...   \n",
       "2021-02-11 21:56:00  ...   7.0              43       04B          NaN   \n",
       "2021-02-11 21:56:00  ...  29.0              25        15          NaN   \n",
       "2021-02-11 22:16:00  ...  28.0              27        15          NaN   \n",
       "2021-02-11 22:55:00  ...  34.0              73        15          NaN   \n",
       "2021-02-11 23:30:00  ...  26.0              24        03          NaN   \n",
       "\n",
       "                     Y Coordinate  Year              Updated On   Latitude  \\\n",
       "Date                                                                         \n",
       "2021-01-01 00:00:00     1910673.0  2021  01/16/2021 03:49:23 PM  41.910910   \n",
       "2021-01-01 00:00:00     1855361.0  2021  01/16/2021 03:49:23 PM  41.758125   \n",
       "2021-01-01 00:00:00     1878197.0  2021  01/16/2021 03:49:23 PM  41.820957   \n",
       "2021-01-01 00:03:00     1866554.0  2021  01/16/2021 03:49:23 PM  41.789398   \n",
       "2021-01-01 00:05:00     1942629.0  2021  01/16/2021 03:49:23 PM  41.998297   \n",
       "...                           ...   ...                     ...        ...   \n",
       "2021-02-11 21:56:00           NaN  2021  02/18/2021 03:52:19 PM        NaN   \n",
       "2021-02-11 21:56:00           NaN  2021  02/18/2021 03:52:19 PM        NaN   \n",
       "2021-02-11 22:16:00           NaN  2021  02/18/2021 03:52:19 PM        NaN   \n",
       "2021-02-11 22:55:00           NaN  2021  02/18/2021 03:52:19 PM        NaN   \n",
       "2021-02-11 23:30:00           NaN  2021  02/18/2021 03:52:19 PM        NaN   \n",
       "\n",
       "                     Longitude                       Location  \n",
       "Date                                                           \n",
       "2021-01-01 00:00:00 -87.745899  (41.910909931, -87.745898897)  \n",
       "2021-01-01 00:00:00 -87.576126  (41.758125331, -87.576125553)  \n",
       "2021-01-01 00:00:00 -87.601386  (41.820957498, -87.601385842)  \n",
       "2021-01-01 00:03:00 -87.665677  (41.789397529, -87.665677479)  \n",
       "2021-01-01 00:05:00 -87.688680  (41.998296976, -87.688680214)  \n",
       "...                        ...                            ...  \n",
       "2021-02-11 21:56:00        NaN                            NaN  \n",
       "2021-02-11 21:56:00        NaN                            NaN  \n",
       "2021-02-11 22:16:00        NaN                            NaN  \n",
       "2021-02-11 22:55:00        NaN                            NaN  \n",
       "2021-02-11 23:30:00        NaN                            NaN  \n",
       "\n",
       "[1802 rows x 21 columns]"
      ]
     },
     "execution_count": 16,
     "metadata": {},
     "output_type": "execute_result"
    }
   ],
   "source": [
    "# Only data after 2021\n",
    "ts['2021':]"
   ]
  },
  {
   "cell_type": "code",
   "execution_count": 17,
   "metadata": {
    "ExecuteTime": {
     "end_time": "2021-07-05T20:57:20.041837Z",
     "start_time": "2021-07-05T20:57:20.011918Z"
    },
    "hidden": true
   },
   "outputs": [
    {
     "data": {
      "text/html": [
       "<div>\n",
       "<style scoped>\n",
       "    .dataframe tbody tr th:only-of-type {\n",
       "        vertical-align: middle;\n",
       "    }\n",
       "\n",
       "    .dataframe tbody tr th {\n",
       "        vertical-align: top;\n",
       "    }\n",
       "\n",
       "    .dataframe thead th {\n",
       "        text-align: right;\n",
       "    }\n",
       "</style>\n",
       "<table border=\"1\" class=\"dataframe\">\n",
       "  <thead>\n",
       "    <tr style=\"text-align: right;\">\n",
       "      <th></th>\n",
       "      <th>ID</th>\n",
       "      <th>Case Number</th>\n",
       "      <th>Block</th>\n",
       "      <th>IUCR</th>\n",
       "      <th>Primary Type</th>\n",
       "      <th>Description</th>\n",
       "      <th>Location Description</th>\n",
       "      <th>Arrest</th>\n",
       "      <th>Domestic</th>\n",
       "      <th>Beat</th>\n",
       "      <th>...</th>\n",
       "      <th>Ward</th>\n",
       "      <th>Community Area</th>\n",
       "      <th>FBI Code</th>\n",
       "      <th>X Coordinate</th>\n",
       "      <th>Y Coordinate</th>\n",
       "      <th>Year</th>\n",
       "      <th>Updated On</th>\n",
       "      <th>Latitude</th>\n",
       "      <th>Longitude</th>\n",
       "      <th>Location</th>\n",
       "    </tr>\n",
       "    <tr>\n",
       "      <th>Date</th>\n",
       "      <th></th>\n",
       "      <th></th>\n",
       "      <th></th>\n",
       "      <th></th>\n",
       "      <th></th>\n",
       "      <th></th>\n",
       "      <th></th>\n",
       "      <th></th>\n",
       "      <th></th>\n",
       "      <th></th>\n",
       "      <th></th>\n",
       "      <th></th>\n",
       "      <th></th>\n",
       "      <th></th>\n",
       "      <th></th>\n",
       "      <th></th>\n",
       "      <th></th>\n",
       "      <th></th>\n",
       "      <th></th>\n",
       "      <th></th>\n",
       "      <th></th>\n",
       "    </tr>\n",
       "  </thead>\n",
       "  <tbody>\n",
       "    <tr>\n",
       "      <th>2020-02-01 00:09:00</th>\n",
       "      <td>11968268</td>\n",
       "      <td>JD135841</td>\n",
       "      <td>042XX S LA SALLE ST</td>\n",
       "      <td>143A</td>\n",
       "      <td>WEAPONS VIOLATION</td>\n",
       "      <td>UNLAWFUL POSS OF HANDGUN</td>\n",
       "      <td>STREET</td>\n",
       "      <td>True</td>\n",
       "      <td>False</td>\n",
       "      <td>213</td>\n",
       "      <td>...</td>\n",
       "      <td>3.0</td>\n",
       "      <td>37</td>\n",
       "      <td>15</td>\n",
       "      <td>1176121.0</td>\n",
       "      <td>1876929.0</td>\n",
       "      <td>2020</td>\n",
       "      <td>02/08/2020 03:49:23 PM</td>\n",
       "      <td>41.817653</td>\n",
       "      <td>-87.629447</td>\n",
       "      <td>(41.817653149, -87.629447264)</td>\n",
       "    </tr>\n",
       "    <tr>\n",
       "      <th>2020-02-01 00:35:00</th>\n",
       "      <td>11968266</td>\n",
       "      <td>JD135848</td>\n",
       "      <td>075XX S MORGAN ST</td>\n",
       "      <td>143A</td>\n",
       "      <td>WEAPONS VIOLATION</td>\n",
       "      <td>UNLAWFUL POSS OF HANDGUN</td>\n",
       "      <td>STREET</td>\n",
       "      <td>True</td>\n",
       "      <td>False</td>\n",
       "      <td>621</td>\n",
       "      <td>...</td>\n",
       "      <td>17.0</td>\n",
       "      <td>71</td>\n",
       "      <td>15</td>\n",
       "      <td>1170949.0</td>\n",
       "      <td>1854878.0</td>\n",
       "      <td>2020</td>\n",
       "      <td>02/08/2020 03:49:23 PM</td>\n",
       "      <td>41.757257</td>\n",
       "      <td>-87.649063</td>\n",
       "      <td>(41.757257385, -87.649063391)</td>\n",
       "    </tr>\n",
       "    <tr>\n",
       "      <th>2020-02-01 00:44:00</th>\n",
       "      <td>11979865</td>\n",
       "      <td>JD135845</td>\n",
       "      <td>005XX W 95TH ST</td>\n",
       "      <td>051A</td>\n",
       "      <td>ASSAULT</td>\n",
       "      <td>AGGRAVATED: HANDGUN</td>\n",
       "      <td>RESIDENCE</td>\n",
       "      <td>False</td>\n",
       "      <td>True</td>\n",
       "      <td>2223</td>\n",
       "      <td>...</td>\n",
       "      <td>21.0</td>\n",
       "      <td>73</td>\n",
       "      <td>04A</td>\n",
       "      <td>1174193.0</td>\n",
       "      <td>1841887.0</td>\n",
       "      <td>2020</td>\n",
       "      <td>02/19/2020 03:49:58 PM</td>\n",
       "      <td>41.721537</td>\n",
       "      <td>-87.637560</td>\n",
       "      <td>(41.721536966, -87.637559575)</td>\n",
       "    </tr>\n",
       "    <tr>\n",
       "      <th>2020-02-01 00:47:00</th>\n",
       "      <td>11968240</td>\n",
       "      <td>JD135837</td>\n",
       "      <td>045XX W JACKSON BLVD</td>\n",
       "      <td>143A</td>\n",
       "      <td>WEAPONS VIOLATION</td>\n",
       "      <td>UNLAWFUL POSS OF HANDGUN</td>\n",
       "      <td>VACANT LOT/LAND</td>\n",
       "      <td>True</td>\n",
       "      <td>False</td>\n",
       "      <td>1113</td>\n",
       "      <td>...</td>\n",
       "      <td>28.0</td>\n",
       "      <td>26</td>\n",
       "      <td>15</td>\n",
       "      <td>1146237.0</td>\n",
       "      <td>1898304.0</td>\n",
       "      <td>2020</td>\n",
       "      <td>02/08/2020 03:49:23 PM</td>\n",
       "      <td>41.876928</td>\n",
       "      <td>-87.738529</td>\n",
       "      <td>(41.876928448, -87.738528552)</td>\n",
       "    </tr>\n",
       "  </tbody>\n",
       "</table>\n",
       "<p>4 rows × 21 columns</p>\n",
       "</div>"
      ],
      "text/plain": [
       "                           ID Case Number                 Block  IUCR  \\\n",
       "Date                                                                    \n",
       "2020-02-01 00:09:00  11968268    JD135841   042XX S LA SALLE ST  143A   \n",
       "2020-02-01 00:35:00  11968266    JD135848     075XX S MORGAN ST  143A   \n",
       "2020-02-01 00:44:00  11979865    JD135845       005XX W 95TH ST  051A   \n",
       "2020-02-01 00:47:00  11968240    JD135837  045XX W JACKSON BLVD  143A   \n",
       "\n",
       "                          Primary Type               Description  \\\n",
       "Date                                                               \n",
       "2020-02-01 00:09:00  WEAPONS VIOLATION  UNLAWFUL POSS OF HANDGUN   \n",
       "2020-02-01 00:35:00  WEAPONS VIOLATION  UNLAWFUL POSS OF HANDGUN   \n",
       "2020-02-01 00:44:00            ASSAULT       AGGRAVATED: HANDGUN   \n",
       "2020-02-01 00:47:00  WEAPONS VIOLATION  UNLAWFUL POSS OF HANDGUN   \n",
       "\n",
       "                    Location Description  Arrest  Domestic  Beat  ...  Ward  \\\n",
       "Date                                                              ...         \n",
       "2020-02-01 00:09:00               STREET    True     False   213  ...   3.0   \n",
       "2020-02-01 00:35:00               STREET    True     False   621  ...  17.0   \n",
       "2020-02-01 00:44:00            RESIDENCE   False      True  2223  ...  21.0   \n",
       "2020-02-01 00:47:00      VACANT LOT/LAND    True     False  1113  ...  28.0   \n",
       "\n",
       "                     Community Area  FBI Code X Coordinate  Y Coordinate  \\\n",
       "Date                                                                       \n",
       "2020-02-01 00:09:00              37        15    1176121.0     1876929.0   \n",
       "2020-02-01 00:35:00              71        15    1170949.0     1854878.0   \n",
       "2020-02-01 00:44:00              73       04A    1174193.0     1841887.0   \n",
       "2020-02-01 00:47:00              26        15    1146237.0     1898304.0   \n",
       "\n",
       "                     Year              Updated On   Latitude  Longitude  \\\n",
       "Date                                                                      \n",
       "2020-02-01 00:09:00  2020  02/08/2020 03:49:23 PM  41.817653 -87.629447   \n",
       "2020-02-01 00:35:00  2020  02/08/2020 03:49:23 PM  41.757257 -87.649063   \n",
       "2020-02-01 00:44:00  2020  02/19/2020 03:49:58 PM  41.721537 -87.637560   \n",
       "2020-02-01 00:47:00  2020  02/08/2020 03:49:23 PM  41.876928 -87.738529   \n",
       "\n",
       "                                          Location  \n",
       "Date                                                \n",
       "2020-02-01 00:09:00  (41.817653149, -87.629447264)  \n",
       "2020-02-01 00:35:00  (41.757257385, -87.649063391)  \n",
       "2020-02-01 00:44:00  (41.721536966, -87.637559575)  \n",
       "2020-02-01 00:47:00  (41.876928448, -87.738528552)  \n",
       "\n",
       "[4 rows x 21 columns]"
      ]
     },
     "execution_count": 17,
     "metadata": {},
     "output_type": "execute_result"
    }
   ],
   "source": [
    "# Only data from this time period\n",
    "ts['2020-02-01 00:00':'2020-02-01 01:00']"
   ]
  },
  {
   "cell_type": "markdown",
   "metadata": {
    "hidden": true
   },
   "source": [
    "We can easily see now whether offenses happen, for example, during business hours."
   ]
  },
  {
   "cell_type": "code",
   "execution_count": 18,
   "metadata": {
    "ExecuteTime": {
     "end_time": "2021-07-05T20:57:20.515572Z",
     "start_time": "2021-07-05T20:57:20.042835Z"
    },
    "hidden": true,
    "scrolled": true
   },
   "outputs": [
    {
     "data": {
      "image/png": "[encoded data removed]",
      "text/plain": [
       "<Figure size 432x288 with 1 Axes>"
      ]
     },
     "metadata": {},
     "output_type": "display_data"
    }
   ],
   "source": [
    "fig, ax = plt.subplots()\n",
    "\n",
    "ts['hour'] = ts.index\n",
    "ts['hour'] = ts.hour.apply(lambda x: x.hour)\n",
    "ts['business_hours'] = ts.hour.apply(lambda x: 9 <= x <= 17)\n",
    "\n",
    "bh_ratio = ts.business_hours.value_counts()[1]/len(ts)\n",
    "\n",
    "x = ts.business_hours.value_counts().index\n",
    "y = ts.business_hours.value_counts()\n",
    "sns.barplot(x=x, y=y)\n",
    "\n",
    "ax.set_title(f'{bh_ratio: 0.2%} of Offenses\\n Happen Btwn 9 and 5');"
   ]
  },
  {
   "cell_type": "markdown",
   "metadata": {
    "heading_collapsed": true
   },
   "source": [
    "# Resampling Techniques"
   ]
  },
  {
   "cell_type": "markdown",
   "metadata": {
    "hidden": true
   },
   "source": [
    "> **Resampling** allows us to convert the time series into a particular frequency\n",
    "\n",
    "https://pandas.pydata.org/pandas-docs/stable/reference/api/pandas.DataFrame.resample.html\n",
    "https://pandas.pydata.org/pandas-docs/stable/user_guide/timeseries.html#resampling"
   ]
  },
  {
   "cell_type": "markdown",
   "metadata": {
    "hidden": true
   },
   "source": [
    "With a Datetime index, we also have new abilities, such as **resampling**.\n",
    "\n",
    "To create our timeseries, we will count the number of gun offenses reported per day."
   ]
  },
  {
   "cell_type": "code",
   "execution_count": 19,
   "metadata": {
    "ExecuteTime": {
     "end_time": "2021-07-05T20:57:20.547512Z",
     "start_time": "2021-07-05T20:57:20.516568Z"
    },
    "hidden": true
   },
   "outputs": [
    {
     "data": {
      "text/plain": [
       "<pandas.core.resample.DatetimeIndexResampler object at 0x00000207859D5D00>"
      ]
     },
     "execution_count": 19,
     "metadata": {},
     "output_type": "execute_result"
    }
   ],
   "source": [
    "ts.resample('D')"
   ]
  },
  {
   "cell_type": "markdown",
   "metadata": {
    "hidden": true
   },
   "source": [
    "There are many possible units for resampling, each with its own alias:"
   ]
  },
  {
   "cell_type": "markdown",
   "metadata": {
    "hidden": true
   },
   "source": [
    "<table style=\"display: inline-block\">\n",
    "    <caption style=\"text-align: center\"><strong>TIME SERIES OFFSET ALIASES</strong></caption>\n",
    "<tr><th>ALIAS</th><th>DESCRIPTION</th></tr>\n",
    "<tr><td>B</td><td>business day frequency</td></tr>\n",
    "<tr><td>C</td><td>custom business day frequency (experimental)</td></tr>\n",
    "<tr><td>D</td><td>calendar day frequency</td></tr>\n",
    "<tr><td>W</td><td>weekly frequency</td></tr>\n",
    "<tr><td>M</td><td>month end frequency</td></tr>\n",
    "<tr><td>SM</td><td>semi-month end frequency (15th and end of month)</td></tr>\n",
    "<tr><td>BM</td><td>business month end frequency</td></tr>\n",
    "<tr><td>CBM</td><td>custom business month end frequency</td></tr>\n",
    "<tr><td>MS</td><td>month start frequency</td></tr>\n",
    "<tr><td>SMS</td><td>semi-month start frequency (1st and 15th)</td></tr>\n",
    "<tr><td>BMS</td><td>business month start frequency</td></tr>\n",
    "<tr><td>CBMS</td><td>custom business month start frequency</td></tr>\n",
    "<tr><td>Q</td><td>quarter end frequency</td></tr>\n",
    "<tr><td></td><td><font color=white>intentionally left blank</font></td></tr></table>\n",
    "\n",
    "<table style=\"display: inline-block; margin-left: 40px\">\n",
    "<caption style=\"text-align: center\"></caption>\n",
    "<tr><th>ALIAS</th><th>DESCRIPTION</th></tr>\n",
    "<tr><td>BQ</td><td>business quarter endfrequency</td></tr>\n",
    "<tr><td>QS</td><td>quarter start frequency</td></tr>\n",
    "<tr><td>BQS</td><td>business quarter start frequency</td></tr>\n",
    "<tr><td>A</td><td>year end frequency</td></tr>\n",
    "<tr><td>BA</td><td>business year end frequency</td></tr>\n",
    "<tr><td>AS</td><td>year start frequency</td></tr>\n",
    "<tr><td>BAS</td><td>business year start frequency</td></tr>\n",
    "<tr><td>BH</td><td>business hour frequency</td></tr>\n",
    "<tr><td>H</td><td>hourly frequency</td></tr>\n",
    "<tr><td>T, min</td><td>minutely frequency</td></tr>\n",
    "<tr><td>S</td><td>secondly frequency</td></tr>\n",
    "<tr><td>L, ms</td><td>milliseconds</td></tr>\n",
    "<tr><td>U, us</td><td>microseconds</td></tr>\n",
    "<tr><td>N</td><td>nanoseconds</td></tr></table>"
   ]
  },
  {
   "cell_type": "markdown",
   "metadata": {
    "hidden": true
   },
   "source": [
    "When resampling, we have to provide a rule to resample by, and an **aggregate function**."
   ]
  },
  {
   "cell_type": "markdown",
   "metadata": {
    "hidden": true
   },
   "source": [
    "**To upsample** is to increase the frequency of the data of interest.  \n",
    "**To downsample** is to decrease the frequency of the data of interest.\n",
    "\n",
    "For our purposes, we will downsample, and  count the number of occurences per day."
   ]
  },
  {
   "cell_type": "code",
   "execution_count": 20,
   "metadata": {
    "ExecuteTime": {
     "end_time": "2021-07-05T20:57:20.611316Z",
     "start_time": "2021-07-05T20:57:20.548483Z"
    },
    "hidden": true
   },
   "outputs": [
    {
     "data": {
      "text/html": [
       "<div>\n",
       "<style scoped>\n",
       "    .dataframe tbody tr th:only-of-type {\n",
       "        vertical-align: middle;\n",
       "    }\n",
       "\n",
       "    .dataframe tbody tr th {\n",
       "        vertical-align: top;\n",
       "    }\n",
       "\n",
       "    .dataframe thead th {\n",
       "        text-align: right;\n",
       "    }\n",
       "</style>\n",
       "<table border=\"1\" class=\"dataframe\">\n",
       "  <thead>\n",
       "    <tr style=\"text-align: right;\">\n",
       "      <th></th>\n",
       "      <th>ID</th>\n",
       "      <th>Case Number</th>\n",
       "      <th>Block</th>\n",
       "      <th>IUCR</th>\n",
       "      <th>Primary Type</th>\n",
       "      <th>Description</th>\n",
       "      <th>Location Description</th>\n",
       "      <th>Arrest</th>\n",
       "      <th>Domestic</th>\n",
       "      <th>Beat</th>\n",
       "      <th>...</th>\n",
       "      <th>FBI Code</th>\n",
       "      <th>X Coordinate</th>\n",
       "      <th>Y Coordinate</th>\n",
       "      <th>Year</th>\n",
       "      <th>Updated On</th>\n",
       "      <th>Latitude</th>\n",
       "      <th>Longitude</th>\n",
       "      <th>Location</th>\n",
       "      <th>hour</th>\n",
       "      <th>business_hours</th>\n",
       "    </tr>\n",
       "    <tr>\n",
       "      <th>Date</th>\n",
       "      <th></th>\n",
       "      <th></th>\n",
       "      <th></th>\n",
       "      <th></th>\n",
       "      <th></th>\n",
       "      <th></th>\n",
       "      <th></th>\n",
       "      <th></th>\n",
       "      <th></th>\n",
       "      <th></th>\n",
       "      <th></th>\n",
       "      <th></th>\n",
       "      <th></th>\n",
       "      <th></th>\n",
       "      <th></th>\n",
       "      <th></th>\n",
       "      <th></th>\n",
       "      <th></th>\n",
       "      <th></th>\n",
       "      <th></th>\n",
       "      <th></th>\n",
       "    </tr>\n",
       "  </thead>\n",
       "  <tbody>\n",
       "    <tr>\n",
       "      <th>2014-01-01</th>\n",
       "      <td>50</td>\n",
       "      <td>50</td>\n",
       "      <td>50</td>\n",
       "      <td>50</td>\n",
       "      <td>50</td>\n",
       "      <td>50</td>\n",
       "      <td>50</td>\n",
       "      <td>50</td>\n",
       "      <td>50</td>\n",
       "      <td>50</td>\n",
       "      <td>...</td>\n",
       "      <td>50</td>\n",
       "      <td>50</td>\n",
       "      <td>50</td>\n",
       "      <td>50</td>\n",
       "      <td>50</td>\n",
       "      <td>50</td>\n",
       "      <td>50</td>\n",
       "      <td>50</td>\n",
       "      <td>50</td>\n",
       "      <td>50</td>\n",
       "    </tr>\n",
       "    <tr>\n",
       "      <th>2014-01-02</th>\n",
       "      <td>33</td>\n",
       "      <td>33</td>\n",
       "      <td>33</td>\n",
       "      <td>33</td>\n",
       "      <td>33</td>\n",
       "      <td>33</td>\n",
       "      <td>33</td>\n",
       "      <td>33</td>\n",
       "      <td>33</td>\n",
       "      <td>33</td>\n",
       "      <td>...</td>\n",
       "      <td>33</td>\n",
       "      <td>33</td>\n",
       "      <td>33</td>\n",
       "      <td>33</td>\n",
       "      <td>33</td>\n",
       "      <td>33</td>\n",
       "      <td>33</td>\n",
       "      <td>33</td>\n",
       "      <td>33</td>\n",
       "      <td>33</td>\n",
       "    </tr>\n",
       "    <tr>\n",
       "      <th>2014-01-03</th>\n",
       "      <td>24</td>\n",
       "      <td>24</td>\n",
       "      <td>24</td>\n",
       "      <td>24</td>\n",
       "      <td>24</td>\n",
       "      <td>24</td>\n",
       "      <td>24</td>\n",
       "      <td>24</td>\n",
       "      <td>24</td>\n",
       "      <td>24</td>\n",
       "      <td>...</td>\n",
       "      <td>24</td>\n",
       "      <td>24</td>\n",
       "      <td>24</td>\n",
       "      <td>24</td>\n",
       "      <td>24</td>\n",
       "      <td>24</td>\n",
       "      <td>24</td>\n",
       "      <td>24</td>\n",
       "      <td>24</td>\n",
       "      <td>24</td>\n",
       "    </tr>\n",
       "    <tr>\n",
       "      <th>2014-01-04</th>\n",
       "      <td>32</td>\n",
       "      <td>32</td>\n",
       "      <td>32</td>\n",
       "      <td>32</td>\n",
       "      <td>32</td>\n",
       "      <td>32</td>\n",
       "      <td>32</td>\n",
       "      <td>32</td>\n",
       "      <td>32</td>\n",
       "      <td>32</td>\n",
       "      <td>...</td>\n",
       "      <td>32</td>\n",
       "      <td>32</td>\n",
       "      <td>32</td>\n",
       "      <td>32</td>\n",
       "      <td>32</td>\n",
       "      <td>32</td>\n",
       "      <td>32</td>\n",
       "      <td>32</td>\n",
       "      <td>32</td>\n",
       "      <td>32</td>\n",
       "    </tr>\n",
       "    <tr>\n",
       "      <th>2014-01-05</th>\n",
       "      <td>17</td>\n",
       "      <td>17</td>\n",
       "      <td>17</td>\n",
       "      <td>17</td>\n",
       "      <td>17</td>\n",
       "      <td>17</td>\n",
       "      <td>17</td>\n",
       "      <td>17</td>\n",
       "      <td>17</td>\n",
       "      <td>17</td>\n",
       "      <td>...</td>\n",
       "      <td>17</td>\n",
       "      <td>17</td>\n",
       "      <td>17</td>\n",
       "      <td>17</td>\n",
       "      <td>17</td>\n",
       "      <td>17</td>\n",
       "      <td>17</td>\n",
       "      <td>17</td>\n",
       "      <td>17</td>\n",
       "      <td>17</td>\n",
       "    </tr>\n",
       "    <tr>\n",
       "      <th>...</th>\n",
       "      <td>...</td>\n",
       "      <td>...</td>\n",
       "      <td>...</td>\n",
       "      <td>...</td>\n",
       "      <td>...</td>\n",
       "      <td>...</td>\n",
       "      <td>...</td>\n",
       "      <td>...</td>\n",
       "      <td>...</td>\n",
       "      <td>...</td>\n",
       "      <td>...</td>\n",
       "      <td>...</td>\n",
       "      <td>...</td>\n",
       "      <td>...</td>\n",
       "      <td>...</td>\n",
       "      <td>...</td>\n",
       "      <td>...</td>\n",
       "      <td>...</td>\n",
       "      <td>...</td>\n",
       "      <td>...</td>\n",
       "      <td>...</td>\n",
       "    </tr>\n",
       "    <tr>\n",
       "      <th>2021-02-07</th>\n",
       "      <td>34</td>\n",
       "      <td>34</td>\n",
       "      <td>34</td>\n",
       "      <td>34</td>\n",
       "      <td>34</td>\n",
       "      <td>34</td>\n",
       "      <td>34</td>\n",
       "      <td>34</td>\n",
       "      <td>34</td>\n",
       "      <td>34</td>\n",
       "      <td>...</td>\n",
       "      <td>34</td>\n",
       "      <td>33</td>\n",
       "      <td>33</td>\n",
       "      <td>34</td>\n",
       "      <td>34</td>\n",
       "      <td>33</td>\n",
       "      <td>33</td>\n",
       "      <td>33</td>\n",
       "      <td>34</td>\n",
       "      <td>34</td>\n",
       "    </tr>\n",
       "    <tr>\n",
       "      <th>2021-02-08</th>\n",
       "      <td>30</td>\n",
       "      <td>30</td>\n",
       "      <td>30</td>\n",
       "      <td>30</td>\n",
       "      <td>30</td>\n",
       "      <td>30</td>\n",
       "      <td>30</td>\n",
       "      <td>30</td>\n",
       "      <td>30</td>\n",
       "      <td>30</td>\n",
       "      <td>...</td>\n",
       "      <td>30</td>\n",
       "      <td>26</td>\n",
       "      <td>26</td>\n",
       "      <td>30</td>\n",
       "      <td>30</td>\n",
       "      <td>26</td>\n",
       "      <td>26</td>\n",
       "      <td>26</td>\n",
       "      <td>30</td>\n",
       "      <td>30</td>\n",
       "    </tr>\n",
       "    <tr>\n",
       "      <th>2021-02-09</th>\n",
       "      <td>38</td>\n",
       "      <td>38</td>\n",
       "      <td>38</td>\n",
       "      <td>38</td>\n",
       "      <td>38</td>\n",
       "      <td>38</td>\n",
       "      <td>38</td>\n",
       "      <td>38</td>\n",
       "      <td>38</td>\n",
       "      <td>38</td>\n",
       "      <td>...</td>\n",
       "      <td>38</td>\n",
       "      <td>19</td>\n",
       "      <td>19</td>\n",
       "      <td>38</td>\n",
       "      <td>38</td>\n",
       "      <td>19</td>\n",
       "      <td>19</td>\n",
       "      <td>19</td>\n",
       "      <td>38</td>\n",
       "      <td>38</td>\n",
       "    </tr>\n",
       "    <tr>\n",
       "      <th>2021-02-10</th>\n",
       "      <td>34</td>\n",
       "      <td>34</td>\n",
       "      <td>34</td>\n",
       "      <td>34</td>\n",
       "      <td>34</td>\n",
       "      <td>34</td>\n",
       "      <td>34</td>\n",
       "      <td>34</td>\n",
       "      <td>34</td>\n",
       "      <td>34</td>\n",
       "      <td>...</td>\n",
       "      <td>34</td>\n",
       "      <td>0</td>\n",
       "      <td>0</td>\n",
       "      <td>34</td>\n",
       "      <td>34</td>\n",
       "      <td>0</td>\n",
       "      <td>0</td>\n",
       "      <td>0</td>\n",
       "      <td>34</td>\n",
       "      <td>34</td>\n",
       "    </tr>\n",
       "    <tr>\n",
       "      <th>2021-02-11</th>\n",
       "      <td>29</td>\n",
       "      <td>29</td>\n",
       "      <td>29</td>\n",
       "      <td>29</td>\n",
       "      <td>29</td>\n",
       "      <td>29</td>\n",
       "      <td>29</td>\n",
       "      <td>29</td>\n",
       "      <td>29</td>\n",
       "      <td>29</td>\n",
       "      <td>...</td>\n",
       "      <td>29</td>\n",
       "      <td>0</td>\n",
       "      <td>0</td>\n",
       "      <td>29</td>\n",
       "      <td>29</td>\n",
       "      <td>0</td>\n",
       "      <td>0</td>\n",
       "      <td>0</td>\n",
       "      <td>29</td>\n",
       "      <td>29</td>\n",
       "    </tr>\n",
       "  </tbody>\n",
       "</table>\n",
       "<p>2599 rows × 23 columns</p>\n",
       "</div>"
      ],
      "text/plain": [
       "            ID  Case Number  Block  IUCR  Primary Type  Description  \\\n",
       "Date                                                                  \n",
       "2014-01-01  50           50     50    50            50           50   \n",
       "2014-01-02  33           33     33    33            33           33   \n",
       "2014-01-03  24           24     24    24            24           24   \n",
       "2014-01-04  32           32     32    32            32           32   \n",
       "2014-01-05  17           17     17    17            17           17   \n",
       "...         ..          ...    ...   ...           ...          ...   \n",
       "2021-02-07  34           34     34    34            34           34   \n",
       "2021-02-08  30           30     30    30            30           30   \n",
       "2021-02-09  38           38     38    38            38           38   \n",
       "2021-02-10  34           34     34    34            34           34   \n",
       "2021-02-11  29           29     29    29            29           29   \n",
       "\n",
       "            Location Description  Arrest  Domestic  Beat  ...  FBI Code  \\\n",
       "Date                                                      ...             \n",
       "2014-01-01                    50      50        50    50  ...        50   \n",
       "2014-01-02                    33      33        33    33  ...        33   \n",
       "2014-01-03                    24      24        24    24  ...        24   \n",
       "2014-01-04                    32      32        32    32  ...        32   \n",
       "2014-01-05                    17      17        17    17  ...        17   \n",
       "...                          ...     ...       ...   ...  ...       ...   \n",
       "2021-02-07                    34      34        34    34  ...        34   \n",
       "2021-02-08                    30      30        30    30  ...        30   \n",
       "2021-02-09                    38      38        38    38  ...        38   \n",
       "2021-02-10                    34      34        34    34  ...        34   \n",
       "2021-02-11                    29      29        29    29  ...        29   \n",
       "\n",
       "            X Coordinate  Y Coordinate  Year  Updated On  Latitude  Longitude  \\\n",
       "Date                                                                            \n",
       "2014-01-01            50            50    50          50        50         50   \n",
       "2014-01-02            33            33    33          33        33         33   \n",
       "2014-01-03            24            24    24          24        24         24   \n",
       "2014-01-04            32            32    32          32        32         32   \n",
       "2014-01-05            17            17    17          17        17         17   \n",
       "...                  ...           ...   ...         ...       ...        ...   \n",
       "2021-02-07            33            33    34          34        33         33   \n",
       "2021-02-08            26            26    30          30        26         26   \n",
       "2021-02-09            19            19    38          38        19         19   \n",
       "2021-02-10             0             0    34          34         0          0   \n",
       "2021-02-11             0             0    29          29         0          0   \n",
       "\n",
       "            Location  hour  business_hours  \n",
       "Date                                        \n",
       "2014-01-01        50    50              50  \n",
       "2014-01-02        33    33              33  \n",
       "2014-01-03        24    24              24  \n",
       "2014-01-04        32    32              32  \n",
       "2014-01-05        17    17              17  \n",
       "...              ...   ...             ...  \n",
       "2021-02-07        33    34              34  \n",
       "2021-02-08        26    30              30  \n",
       "2021-02-09        19    38              38  \n",
       "2021-02-10         0    34              34  \n",
       "2021-02-11         0    29              29  \n",
       "\n",
       "[2599 rows x 23 columns]"
      ]
     },
     "execution_count": 20,
     "metadata": {},
     "output_type": "execute_result"
    }
   ],
   "source": [
    "ts.resample('D').count()"
   ]
  },
  {
   "cell_type": "markdown",
   "metadata": {
    "hidden": true
   },
   "source": [
    "Our time series will consist of a series of counts of gun reports per day."
   ]
  },
  {
   "cell_type": "code",
   "execution_count": 21,
   "metadata": {
    "ExecuteTime": {
     "end_time": "2021-07-05T20:57:20.658727Z",
     "start_time": "2021-07-05T20:57:20.612342Z"
    },
    "hidden": true
   },
   "outputs": [],
   "source": [
    "# ID is unimportant. We could choose any column, since the counts are the same.\n",
    "ts = ts.resample('D').count()['ID']"
   ]
  },
  {
   "cell_type": "code",
   "execution_count": 22,
   "metadata": {
    "ExecuteTime": {
     "end_time": "2021-07-05T20:57:20.674684Z",
     "start_time": "2021-07-05T20:57:20.659696Z"
    },
    "hidden": true
   },
   "outputs": [
    {
     "data": {
      "text/plain": [
       "Date\n",
       "2014-01-01    50\n",
       "2014-01-02    33\n",
       "2014-01-03    24\n",
       "2014-01-04    32\n",
       "2014-01-05    17\n",
       "              ..\n",
       "2021-02-07    34\n",
       "2021-02-08    30\n",
       "2021-02-09    38\n",
       "2021-02-10    34\n",
       "2021-02-11    29\n",
       "Freq: D, Name: ID, Length: 2599, dtype: int64"
      ]
     },
     "execution_count": 22,
     "metadata": {},
     "output_type": "execute_result"
    }
   ],
   "source": [
    "ts"
   ]
  },
  {
   "cell_type": "markdown",
   "metadata": {
    "hidden": true
   },
   "source": [
    "Let's visualize our timeseries with a plot."
   ]
  },
  {
   "cell_type": "code",
   "execution_count": 23,
   "metadata": {
    "ExecuteTime": {
     "end_time": "2021-07-05T20:57:20.831549Z",
     "start_time": "2021-07-05T20:57:20.675693Z"
    },
    "hidden": true
   },
   "outputs": [
    {
     "data": {
      "image/png": "[encoded data removed]",
      "text/plain": [
       "<Figure size 720x360 with 1 Axes>"
      ]
     },
     "metadata": {},
     "output_type": "display_data"
    }
   ],
   "source": [
    "fig, ax = plt.subplots(figsize=(10, 5))\n",
    "ax.plot(ts.index, ts.values)\n",
    "ax.set_title('Gun Crimes per day in Chicago')\n",
    "ax.set_ylabel('Reported Gun Crimes');"
   ]
  },
  {
   "cell_type": "markdown",
   "metadata": {
    "hidden": true
   },
   "source": [
    "There seems to be some abnormal activity happening towards the end of our series.\n",
    "\n",
    "**[sun-times](https://chicago.suntimes.com/crime/2020/6/8/21281998/chicago-deadliest-day-violence-murder-history-police-crime)**"
   ]
  },
  {
   "cell_type": "markdown",
   "metadata": {
    "heading_collapsed": true,
    "hidden": true
   },
   "source": [
    "## Aside: Deeper Exploration"
   ]
  },
  {
   "cell_type": "code",
   "execution_count": 24,
   "metadata": {
    "ExecuteTime": {
     "end_time": "2021-07-05T20:57:20.846509Z",
     "start_time": "2021-07-05T20:57:20.832546Z"
    },
    "hidden": true
   },
   "outputs": [
    {
     "data": {
      "text/plain": [
       "Date\n",
       "2020-05-31    134\n",
       "2020-06-02    110\n",
       "2020-06-01     99\n",
       "2020-05-25     94\n",
       "2020-06-03     94\n",
       "2020-09-06     92\n",
       "2020-07-05     91\n",
       "2020-08-30     90\n",
       "2020-08-08     90\n",
       "2021-01-01     89\n",
       "Name: ID, dtype: int64"
      ]
     },
     "execution_count": 24,
     "metadata": {},
     "output_type": "execute_result"
    }
   ],
   "source": [
    "ts.sort_values(ascending=False)[:10]"
   ]
  },
  {
   "cell_type": "markdown",
   "metadata": {
    "hidden": true
   },
   "source": [
    "Let's treat the span of days from 5-31 to 6-03 as outliers. \n",
    "\n",
    "There are several ways to do this, but let's first remove the outliers, and populate an an empty array with the original date range. That will introduce us to the `pandas.date_range()` method."
   ]
  },
  {
   "cell_type": "code",
   "execution_count": 25,
   "metadata": {
    "ExecuteTime": {
     "end_time": "2021-07-05T20:57:21.097031Z",
     "start_time": "2021-07-05T20:57:20.848506Z"
    },
    "hidden": true
   },
   "outputs": [],
   "source": [
    "daily_count = ts[ts < 90]\n",
    "ts_dr = pd.date_range(daily_count.index[0], daily_count.index[-1])\n",
    "ts_daily = np.empty(shape=len(ts_dr))\n",
    "ts_daily = pd.Series(ts_daily)\n",
    "ts_daily = ts_daily.reindex(ts_dr)\n",
    "ts = ts_daily.fillna(daily_count)"
   ]
  },
  {
   "cell_type": "code",
   "execution_count": 26,
   "metadata": {
    "ExecuteTime": {
     "end_time": "2021-07-05T20:57:21.112989Z",
     "start_time": "2021-07-05T20:57:21.098030Z"
    },
    "hidden": true
   },
   "outputs": [
    {
     "data": {
      "text/plain": [
       "2014-01-01    50.0\n",
       "2014-01-02    33.0\n",
       "2014-01-03    24.0\n",
       "2014-01-04    32.0\n",
       "2014-01-05    17.0\n",
       "              ... \n",
       "2021-02-07    34.0\n",
       "2021-02-08    30.0\n",
       "2021-02-09    38.0\n",
       "2021-02-10    34.0\n",
       "2021-02-11    29.0\n",
       "Freq: D, Length: 2599, dtype: float64"
      ]
     },
     "execution_count": 26,
     "metadata": {},
     "output_type": "execute_result"
    }
   ],
   "source": [
    "ts"
   ]
  },
  {
   "cell_type": "code",
   "execution_count": 27,
   "metadata": {
    "ExecuteTime": {
     "end_time": "2021-07-05T20:57:21.315474Z",
     "start_time": "2021-07-05T20:57:21.114019Z"
    },
    "hidden": true
   },
   "outputs": [
    {
     "data": {
      "image/png": "[encoded data removed]",
      "text/plain": [
       "<Figure size 720x360 with 1 Axes>"
      ]
     },
     "metadata": {},
     "output_type": "display_data"
    }
   ],
   "source": [
    "fig, ax = plt.subplots(figsize=(10, 5))\n",
    "ts.plot(ax=ax)\n",
    "ax.set_title('Gun Crimes in Chicago with Deadliest Days Removed');"
   ]
  },
  {
   "cell_type": "markdown",
   "metadata": {
    "hidden": true
   },
   "source": [
    "Let's zoom in on that week again:"
   ]
  },
  {
   "cell_type": "code",
   "execution_count": 28,
   "metadata": {
    "ExecuteTime": {
     "end_time": "2021-07-05T20:57:21.457253Z",
     "start_time": "2021-07-05T20:57:21.318465Z"
    },
    "hidden": true
   },
   "outputs": [
    {
     "data": {
      "image/png": "[encoded data removed]",
      "text/plain": [
       "<Figure size 432x288 with 1 Axes>"
      ]
     },
     "metadata": {},
     "output_type": "display_data"
    }
   ],
   "source": [
    "fig, ax = plt.subplots()\n",
    "ax.plot(ts[(ts.index > '2020-05-20') \n",
    "                 & (ts.index < '2020-06-07')]\n",
    "       )\n",
    "ax.tick_params(rotation=45)\n",
    "ax.set_title('We have some gaps now');"
   ]
  },
  {
   "cell_type": "markdown",
   "metadata": {
    "hidden": true
   },
   "source": [
    "The datetime object allows us several options of how to fill those gaps:"
   ]
  },
  {
   "cell_type": "code",
   "execution_count": 29,
   "metadata": {
    "ExecuteTime": {
     "end_time": "2021-07-05T20:57:21.725652Z",
     "start_time": "2021-07-05T20:57:21.459243Z"
    },
    "hidden": true
   },
   "outputs": [
    {
     "data": {
      "image/png": "[encoded data removed]",
      "text/plain": [
       "<Figure size 720x360 with 2 Axes>"
      ]
     },
     "metadata": {},
     "output_type": "display_data"
    }
   ],
   "source": [
    "# .ffill()\n",
    "\n",
    "fig, (ax1, ax2) = plt.subplots(1, 2, figsize = (10, 5))\n",
    "ax1.plot(ts.ffill()[(ts.index > '2020-05-20') \n",
    "                 & (ts.index < '2020-06-07')]\n",
    "       )\n",
    "ax1.tick_params(rotation=45)\n",
    "ax1.set_title('Forward Fill')\n",
    "\n",
    "ax2.plot(ts[(ts.index > '2020-05-20') \n",
    "                 & (ts.index < '2020-06-07')]\n",
    "       )\n",
    "ax2.tick_params(rotation=45)\n",
    "ax2.set_title('Original');"
   ]
  },
  {
   "cell_type": "code",
   "execution_count": 30,
   "metadata": {
    "ExecuteTime": {
     "end_time": "2021-07-05T20:57:21.991000Z",
     "start_time": "2021-07-05T20:57:21.726648Z"
    },
    "hidden": true
   },
   "outputs": [
    {
     "data": {
      "image/png": "[encoded data removed]",
      "text/plain": [
       "<Figure size 720x360 with 2 Axes>"
      ]
     },
     "metadata": {},
     "output_type": "display_data"
    }
   ],
   "source": [
    "# .bfill()\n",
    "\n",
    "fig, (ax1, ax2) = plt.subplots(1, 2, figsize = (10, 5))\n",
    "ax1.plot(ts.bfill()[(ts.index > '2020-05-20') \n",
    "                 & (ts.index < '2020-06-07')]\n",
    "       )\n",
    "ax1.tick_params(rotation=45)\n",
    "ax1.set_title('Back Fill')\n",
    "\n",
    "ax2.plot(ts[(ts.index > '2020-05-20') \n",
    "                 & (ts.index < '2020-06-07')]\n",
    "       )\n",
    "ax2.tick_params(rotation=45)\n",
    "ax2.set_title('Original');"
   ]
  },
  {
   "cell_type": "code",
   "execution_count": 31,
   "metadata": {
    "ExecuteTime": {
     "end_time": "2021-07-05T20:57:22.226374Z",
     "start_time": "2021-07-05T20:57:21.991999Z"
    },
    "hidden": true
   },
   "outputs": [
    {
     "data": {
      "image/png": "[encoded data removed]",
      "text/plain": [
       "<Figure size 720x360 with 2 Axes>"
      ]
     },
     "metadata": {},
     "output_type": "display_data"
    }
   ],
   "source": [
    "# .interpolate()\n",
    "\n",
    "fig, (ax1, ax2) = plt.subplots(1, 2, figsize = (10, 5))\n",
    "ax1.plot(ts.interpolate()[(ts.index > '2020-05-20') \n",
    "                 & (ts.index < '2020-06-07')]\n",
    "       )\n",
    "ax1.tick_params(rotation=45)\n",
    "ax1.set_title('Interpolation')\n",
    "\n",
    "ax2.plot(ts[(ts.index > '2020-05-20') \n",
    "                 & (ts.index < '2020-06-07')]\n",
    "       )\n",
    "ax2.tick_params(rotation=45)\n",
    "ax2.set_title('Original');"
   ]
  },
  {
   "cell_type": "markdown",
   "metadata": {
    "hidden": true
   },
   "source": [
    "Let's proceed with the interpolated data."
   ]
  },
  {
   "cell_type": "code",
   "execution_count": 32,
   "metadata": {
    "ExecuteTime": {
     "end_time": "2021-07-05T20:57:22.242307Z",
     "start_time": "2021-07-05T20:57:22.227348Z"
    },
    "hidden": true
   },
   "outputs": [
    {
     "data": {
      "text/plain": [
       "0"
      ]
     },
     "execution_count": 32,
     "metadata": {},
     "output_type": "execute_result"
    }
   ],
   "source": [
    "ts = ts.interpolate()\n",
    "ts.isna().sum()"
   ]
  },
  {
   "cell_type": "markdown",
   "metadata": {
    "hidden": true
   },
   "source": [
    "Now that we've cleaned up a few data points, let's downsample to the week level.  "
   ]
  },
  {
   "cell_type": "code",
   "execution_count": 33,
   "metadata": {
    "ExecuteTime": {
     "end_time": "2021-07-05T20:57:22.288208Z",
     "start_time": "2021-07-05T20:57:22.243305Z"
    },
    "hidden": true
   },
   "outputs": [],
   "source": [
    "ts_weekly = ts.resample('W').mean()"
   ]
  },
  {
   "cell_type": "code",
   "execution_count": 34,
   "metadata": {
    "ExecuteTime": {
     "end_time": "2021-07-05T20:57:22.445787Z",
     "start_time": "2021-07-05T20:57:22.289182Z"
    },
    "hidden": true,
    "scrolled": false
   },
   "outputs": [
    {
     "data": {
      "image/png": "[encoded data removed]",
      "text/plain": [
       "<Figure size 432x288 with 1 Axes>"
      ]
     },
     "metadata": {},
     "output_type": "display_data"
    }
   ],
   "source": [
    "ts_weekly.plot();"
   ]
  },
  {
   "cell_type": "markdown",
   "metadata": {
    "heading_collapsed": true
   },
   "source": [
    "# Visualizing Time Series"
   ]
  },
  {
   "cell_type": "markdown",
   "metadata": {
    "hidden": true
   },
   "source": [
    "There can be a lot information to be found in time series! Visualizations can help us tease out this information to something we can more easily observe."
   ]
  },
  {
   "cell_type": "markdown",
   "metadata": {
    "heading_collapsed": true,
    "hidden": true
   },
   "source": [
    "## Showing Changes Over Time"
   ]
  },
  {
   "cell_type": "markdown",
   "metadata": {
    "hidden": true
   },
   "source": [
    "Can identify patterns and trends with visualizations"
   ]
  },
  {
   "cell_type": "code",
   "execution_count": 35,
   "metadata": {
    "ExecuteTime": {
     "end_time": "2021-07-05T20:57:22.475976Z",
     "start_time": "2021-07-05T20:57:22.446760Z"
    },
    "hidden": true
   },
   "outputs": [],
   "source": [
    "# New York Stock Exchange average monthly returns [1961-1966] from curriculum\n",
    "nyse = pd.read_csv(\"data/NYSE_monthly.csv\")\n",
    "col_name= 'Month'\n",
    "nyse[col_name] = pd.to_datetime(nyse[col_name])\n",
    "nyse.set_index(col_name, inplace=True)"
   ]
  },
  {
   "cell_type": "code",
   "execution_count": 36,
   "metadata": {
    "ExecuteTime": {
     "end_time": "2021-07-05T20:57:22.505872Z",
     "start_time": "2021-07-05T20:57:22.476949Z"
    },
    "hidden": true
   },
   "outputs": [
    {
     "data": {
      "text/html": [
       "<div>\n",
       "<style scoped>\n",
       "    .dataframe tbody tr th:only-of-type {\n",
       "        vertical-align: middle;\n",
       "    }\n",
       "\n",
       "    .dataframe tbody tr th {\n",
       "        vertical-align: top;\n",
       "    }\n",
       "\n",
       "    .dataframe thead th {\n",
       "        text-align: right;\n",
       "    }\n",
       "</style>\n",
       "<table border=\"1\" class=\"dataframe\">\n",
       "  <thead>\n",
       "    <tr style=\"text-align: right;\">\n",
       "      <th></th>\n",
       "      <th>monthly_return</th>\n",
       "    </tr>\n",
       "    <tr>\n",
       "      <th>Month</th>\n",
       "      <th></th>\n",
       "    </tr>\n",
       "  </thead>\n",
       "  <tbody>\n",
       "    <tr>\n",
       "      <th>1961-01-01</th>\n",
       "      <td>0.082</td>\n",
       "    </tr>\n",
       "    <tr>\n",
       "      <th>1961-02-01</th>\n",
       "      <td>0.059</td>\n",
       "    </tr>\n",
       "    <tr>\n",
       "      <th>1961-03-01</th>\n",
       "      <td>0.050</td>\n",
       "    </tr>\n",
       "    <tr>\n",
       "      <th>1961-04-01</th>\n",
       "      <td>0.008</td>\n",
       "    </tr>\n",
       "    <tr>\n",
       "      <th>1961-05-01</th>\n",
       "      <td>0.042</td>\n",
       "    </tr>\n",
       "    <tr>\n",
       "      <th>1961-06-01</th>\n",
       "      <td>-0.042</td>\n",
       "    </tr>\n",
       "    <tr>\n",
       "      <th>1961-07-01</th>\n",
       "      <td>0.011</td>\n",
       "    </tr>\n",
       "    <tr>\n",
       "      <th>1961-08-01</th>\n",
       "      <td>0.021</td>\n",
       "    </tr>\n",
       "    <tr>\n",
       "      <th>1961-09-01</th>\n",
       "      <td>-0.030</td>\n",
       "    </tr>\n",
       "    <tr>\n",
       "      <th>1961-10-01</th>\n",
       "      <td>0.021</td>\n",
       "    </tr>\n",
       "  </tbody>\n",
       "</table>\n",
       "</div>"
      ],
      "text/plain": [
       "            monthly_return\n",
       "Month                     \n",
       "1961-01-01           0.082\n",
       "1961-02-01           0.059\n",
       "1961-03-01           0.050\n",
       "1961-04-01           0.008\n",
       "1961-05-01           0.042\n",
       "1961-06-01          -0.042\n",
       "1961-07-01           0.011\n",
       "1961-08-01           0.021\n",
       "1961-09-01          -0.030\n",
       "1961-10-01           0.021"
      ]
     },
     "metadata": {},
     "output_type": "display_data"
    },
    {
     "name": "stdout",
     "output_type": "stream",
     "text": [
      "<class 'pandas.core.frame.DataFrame'>\n",
      "DatetimeIndex: 72 entries, 1961-01-01 to 1966-12-01\n",
      "Data columns (total 1 columns):\n",
      " #   Column          Non-Null Count  Dtype  \n",
      "---  ------          --------------  -----  \n",
      " 0   monthly_return  72 non-null     float64\n",
      "dtypes: float64(1)\n",
      "memory usage: 1.1 KB\n"
     ]
    },
    {
     "data": {
      "text/plain": [
       "None"
      ]
     },
     "metadata": {},
     "output_type": "display_data"
    }
   ],
   "source": [
    "display(nyse.head(10))\n",
    "display(nyse.info())"
   ]
  },
  {
   "cell_type": "markdown",
   "metadata": {
    "heading_collapsed": true,
    "hidden": true
   },
   "source": [
    "### Line Plot"
   ]
  },
  {
   "cell_type": "code",
   "execution_count": 37,
   "metadata": {
    "ExecuteTime": {
     "end_time": "2021-07-05T20:57:22.759194Z",
     "start_time": "2021-07-05T20:57:22.506869Z"
    },
    "hidden": true
   },
   "outputs": [
    {
     "data": {
      "image/png": "[encoded data removed]",
      "text/plain": [
       "<Figure size 1152x432 with 1 Axes>"
      ]
     },
     "metadata": {},
     "output_type": "display_data"
    }
   ],
   "source": [
    "nyse.plot(figsize = (16,6))\n",
    "plt.show()"
   ]
  },
  {
   "cell_type": "markdown",
   "metadata": {
    "heading_collapsed": true,
    "hidden": true
   },
   "source": [
    "### Dot Plot"
   ]
  },
  {
   "cell_type": "code",
   "execution_count": 38,
   "metadata": {
    "ExecuteTime": {
     "end_time": "2021-07-05T20:57:22.932889Z",
     "start_time": "2021-07-05T20:57:22.760191Z"
    },
    "hidden": true
   },
   "outputs": [
    {
     "data": {
      "image/png": "[encoded data removed]",
      "text/plain": [
       "<Figure size 1152x432 with 1 Axes>"
      ]
     },
     "metadata": {},
     "output_type": "display_data"
    }
   ],
   "source": [
    "nyse.plot(figsize = (16,6), style=\"*\")\n",
    "plt.show()"
   ]
  },
  {
   "cell_type": "markdown",
   "metadata": {
    "hidden": true
   },
   "source": [
    "> Note the difference between this and the line plot.\n",
    ">\n",
    "> When might you want a dot vs a line plot?"
   ]
  },
  {
   "cell_type": "markdown",
   "metadata": {
    "heading_collapsed": true,
    "hidden": true
   },
   "source": [
    "### Grouping Plots"
   ]
  },
  {
   "cell_type": "markdown",
   "metadata": {
    "hidden": true
   },
   "source": [
    "What if we wanted to look at year-to-year (e.g., temperature throughout many years)\n",
    "\n",
    "There are a couple options to choose from."
   ]
  },
  {
   "cell_type": "markdown",
   "metadata": {
    "heading_collapsed": true,
    "hidden": true
   },
   "source": [
    "#### All Annual Separated"
   ]
  },
  {
   "cell_type": "code",
   "execution_count": 39,
   "metadata": {
    "ExecuteTime": {
     "end_time": "2021-07-05T20:57:23.202675Z",
     "start_time": "2021-07-05T20:57:22.933886Z"
    }
   },
   "outputs": [
    {
     "ename": "NameError",
     "evalue": "name 'year_groups' is not defined",
     "output_type": "error",
     "traceback": [
      "\u001b[1;31m---------------------------------------------------------------------------\u001b[0m",
      "\u001b[1;31mNameError\u001b[0m                                 Traceback (most recent call last)",
      "\u001b[1;32m<ipython-input-39-a74f4da334b5>\u001b[0m in \u001b[0;36m<module>\u001b[1;34m\u001b[0m\n\u001b[1;32m----> 1\u001b[1;33m \u001b[0myear_groups\u001b[0m \u001b[1;33m==\u001b[0m \u001b[0mnyse\u001b[0m\u001b[1;33m.\u001b[0m\u001b[0mgroupby\u001b[0m\u001b[1;33m(\u001b[0m\u001b[1;33m)\u001b[0m\u001b[1;33m\u001b[0m\u001b[1;33m\u001b[0m\u001b[0m\n\u001b[0m",
      "\u001b[1;31mNameError\u001b[0m: name 'year_groups' is not defined"
     ]
    }
   ],
   "source": [
    "year_groups == nyse.groupby()"
   ]
  },
  {
   "cell_type": "code",
   "execution_count": null,
   "metadata": {
    "ExecuteTime": {
     "end_time": "2021-07-05T20:57:23.207662Z",
     "start_time": "2021-07-05T20:57:04.948Z"
    },
    "hidden": true
   },
   "outputs": [],
   "source": [
    "# Annual Frequency\n",
    "year_groups = nyse.groupby(pd.Grouper(freq ='A'))\n",
    "\n",
    "#Create a new DataFrame and store yearly values in columns \n",
    "nyse_annual = pd.DataFrame()\n",
    "\n",
    "for yr, group in year_groups:\n",
    "    nyse_annual[yr.year] = group.values.ravel()\n",
    "    \n",
    "# Plot the yearly groups as subplots\n",
    "nyse_annual.plot(figsize = (13,8), subplots=True, legend=True)\n",
    "plt.show()"
   ]
  },
  {
   "cell_type": "markdown",
   "metadata": {
    "heading_collapsed": true,
    "hidden": true
   },
   "source": [
    "#### All Annual Together"
   ]
  },
  {
   "cell_type": "code",
   "execution_count": null,
   "metadata": {
    "ExecuteTime": {
     "end_time": "2021-07-05T20:57:23.208660Z",
     "start_time": "2021-07-05T20:57:05.066Z"
    },
    "hidden": true
   },
   "outputs": [],
   "source": [
    "# Plot overlapping yearly groups \n",
    "nyse_annual.plot(figsize = (15,5), subplots=False, legend=True)\n",
    "plt.show()"
   ]
  },
  {
   "cell_type": "markdown",
   "metadata": {
    "heading_collapsed": true,
    "hidden": true
   },
   "source": [
    "## Showing Distributions"
   ]
  },
  {
   "cell_type": "markdown",
   "metadata": {
    "hidden": true
   },
   "source": [
    "Sometimes the distribution of the values are important.\n",
    "\n",
    "What are some reasons?\n",
    "\n",
    "- Checking for normality (for stat testing)\n",
    "- First check on raw & transformed data"
   ]
  },
  {
   "cell_type": "markdown",
   "metadata": {
    "heading_collapsed": true,
    "hidden": true
   },
   "source": [
    "### Histogram"
   ]
  },
  {
   "cell_type": "code",
   "execution_count": null,
   "metadata": {
    "ExecuteTime": {
     "end_time": "2021-07-05T20:57:23.209656Z",
     "start_time": "2021-07-05T20:57:05.408Z"
    },
    "hidden": true
   },
   "outputs": [],
   "source": [
    "nyse.hist(figsize = (10,6))\n",
    "plt.show()"
   ]
  },
  {
   "cell_type": "code",
   "execution_count": null,
   "metadata": {
    "ExecuteTime": {
     "end_time": "2021-07-05T20:57:23.209656Z",
     "start_time": "2021-07-05T20:57:05.411Z"
    },
    "hidden": true
   },
   "outputs": [],
   "source": [
    "# Bin it to make it more obvious if normal\n",
    "nyse.hist(figsize = (10,6), bins = 7)\n",
    "plt.show()"
   ]
  },
  {
   "cell_type": "markdown",
   "metadata": {
    "heading_collapsed": true,
    "hidden": true
   },
   "source": [
    "### Density"
   ]
  },
  {
   "cell_type": "code",
   "execution_count": null,
   "metadata": {
    "ExecuteTime": {
     "end_time": "2021-07-05T20:57:23.210653Z",
     "start_time": "2021-07-05T20:57:05.527Z"
    },
    "hidden": true
   },
   "outputs": [],
   "source": [
    "nyse.plot(kind='kde', figsize = (15,10))\n",
    "plt.show()"
   ]
  },
  {
   "cell_type": "markdown",
   "metadata": {
    "heading_collapsed": true,
    "hidden": true
   },
   "source": [
    "### Box Plot"
   ]
  },
  {
   "cell_type": "markdown",
   "metadata": {
    "hidden": true
   },
   "source": [
    "- Shows distribution over time\n",
    "- Can help show outliers\n",
    "- Seasonal trends"
   ]
  },
  {
   "cell_type": "code",
   "execution_count": null,
   "metadata": {
    "ExecuteTime": {
     "end_time": "2021-07-05T20:57:23.211650Z",
     "start_time": "2021-07-05T20:57:05.765Z"
    },
    "hidden": true
   },
   "outputs": [],
   "source": [
    "# Generate a box and whiskers plot for temp_annual dataframe\n",
    "nyse_annual.boxplot(figsize = (12,7))\n",
    "plt.show()"
   ]
  },
  {
   "cell_type": "markdown",
   "metadata": {
    "heading_collapsed": true,
    "hidden": true
   },
   "source": [
    "### Heat Maps"
   ]
  },
  {
   "cell_type": "markdown",
   "metadata": {
    "hidden": true
   },
   "source": [
    "Use color to show patterns throughout a time period for data"
   ]
  },
  {
   "cell_type": "markdown",
   "metadata": {
    "heading_collapsed": true,
    "hidden": true
   },
   "source": [
    "#### Example of how heat maps are useful"
   ]
  },
  {
   "cell_type": "code",
   "execution_count": null,
   "metadata": {
    "ExecuteTime": {
     "end_time": "2021-07-05T20:57:23.211650Z",
     "start_time": "2021-07-05T20:57:06.123Z"
    },
    "hidden": true
   },
   "outputs": [],
   "source": [
    "df_temp = pd.read_csv(\n",
    "    'data/min_temp.csv',             # Data to read\n",
    "    index_col=0,                # Use the first column as index ('Date')\n",
    "    parse_dates=True,           # Have Pandas parse the dates\n",
    "    infer_datetime_format=True, # Make Pandas try to parse dates automatically\n",
    "    dayfirst=True               # Impoprtant to know format is DD/MM\n",
    ")"
   ]
  },
  {
   "cell_type": "code",
   "execution_count": null,
   "metadata": {
    "ExecuteTime": {
     "end_time": "2021-07-05T20:57:23.212648Z",
     "start_time": "2021-07-05T20:57:06.125Z"
    },
    "hidden": true
   },
   "outputs": [],
   "source": [
    "display(df_temp.head())\n",
    "display(df_temp.info())"
   ]
  },
  {
   "cell_type": "code",
   "execution_count": null,
   "metadata": {
    "ExecuteTime": {
     "end_time": "2021-07-05T20:57:23.213645Z",
     "start_time": "2021-07-05T20:57:06.127Z"
    },
    "hidden": true
   },
   "outputs": [],
   "source": [
    "# Create a new DataFrame and store yearly values in columns for temperature\n",
    "temp_annual = pd.DataFrame()\n",
    "\n",
    "for yr, group in df_temp.groupby(pd.Grouper(freq ='A')):\n",
    "    temp_annual[yr.year] = group.values.ravel()"
   ]
  },
  {
   "cell_type": "markdown",
   "metadata": {
    "heading_collapsed": true,
    "hidden": true
   },
   "source": [
    "##### Plotting each line plot in a subplot"
   ]
  },
  {
   "cell_type": "markdown",
   "metadata": {
    "hidden": true
   },
   "source": [
    "Let's use our strategy in plotting multiple line plots to see if we can see a pattern:"
   ]
  },
  {
   "cell_type": "code",
   "execution_count": null,
   "metadata": {
    "ExecuteTime": {
     "end_time": "2021-07-05T20:57:23.214645Z",
     "start_time": "2021-07-05T20:57:06.390Z"
    },
    "hidden": true
   },
   "outputs": [],
   "source": [
    "# Plot the yearly groups as subplots\n",
    "temp_annual.plot(figsize = (16,8), subplots=True, legend=True)\n",
    "plt.show()"
   ]
  },
  {
   "cell_type": "markdown",
   "metadata": {
    "hidden": true
   },
   "source": [
    "You likely will have a hard time seeing exactly the temperature shift is throughout the year (if it even exists!)\n",
    "\n",
    "We can try plotting all the lines together to see if a pattern is more obvious in our visual."
   ]
  },
  {
   "cell_type": "markdown",
   "metadata": {
    "heading_collapsed": true,
    "hidden": true
   },
   "source": [
    "##### Plotting all line plots in one plot"
   ]
  },
  {
   "cell_type": "code",
   "execution_count": null,
   "metadata": {
    "ExecuteTime": {
     "end_time": "2021-07-05T20:57:23.215641Z",
     "start_time": "2021-07-05T20:57:06.649Z"
    },
    "hidden": true
   },
   "outputs": [],
   "source": [
    "# Plot overlapping yearly groups \n",
    "temp_annual.plot(figsize = (15,5), subplots=False, legend=True)\n",
    "plt.show()"
   ]
  },
  {
   "cell_type": "markdown",
   "metadata": {
    "hidden": true
   },
   "source": [
    "That's great we can see that the temperature decreases in the middle of the data! But now we sacrificed being able to observe any pattern for an individual year. \n",
    "\n",
    "This is where using a heat map can help visualize patterns throughout the year for temperature! And of course, the heat map can be used for more than just temperature related data."
   ]
  },
  {
   "cell_type": "markdown",
   "metadata": {
    "heading_collapsed": true,
    "hidden": true
   },
   "source": [
    "##### And finally, using a heat map to visualize a pattern"
   ]
  },
  {
   "cell_type": "code",
   "execution_count": null,
   "metadata": {
    "ExecuteTime": {
     "end_time": "2021-07-05T20:57:23.216638Z",
     "start_time": "2021-07-05T20:57:06.912Z"
    },
    "hidden": true
   },
   "outputs": [],
   "source": [
    "# Year and month \n",
    "year_matrix = temp_annual.T\n",
    "plt.matshow(year_matrix, interpolation=None, aspect='auto', cmap=plt.cm.Spectral_r)\n",
    "plt.show()"
   ]
  },
  {
   "cell_type": "markdown",
   "metadata": {
    "hidden": true
   },
   "source": [
    "☝🏼 Look at that beautiful visual pattern! Makes me want to weep with joy for all the information density available to us!"
   ]
  },
  {
   "cell_type": "markdown",
   "metadata": {
    "heading_collapsed": true
   },
   "source": [
    "# Level Up"
   ]
  },
  {
   "cell_type": "markdown",
   "metadata": {
    "heading_collapsed": true,
    "hidden": true
   },
   "source": [
    "## EDA\n",
    "\n",
    "Let's import some data on **gun violence in Chicago**.\n",
    "\n",
    "[source](https://data.cityofchicago.org/Public-Safety/Gun-Crimes-Heat-Map/iinq-m3rg)"
   ]
  },
  {
   "cell_type": "code",
   "execution_count": null,
   "metadata": {
    "ExecuteTime": {
     "end_time": "2021-07-05T20:57:23.217635Z",
     "start_time": "2021-07-05T20:57:07.349Z"
    },
    "hidden": true
   },
   "outputs": [],
   "source": [
    "ts = pd.read_csv('data/Gun_Crimes_Heat_Map.csv')"
   ]
  },
  {
   "cell_type": "code",
   "execution_count": null,
   "metadata": {
    "ExecuteTime": {
     "end_time": "2021-07-05T20:57:23.217635Z",
     "start_time": "2021-07-05T20:57:07.352Z"
    },
    "hidden": true
   },
   "outputs": [],
   "source": [
    "ts.head()"
   ]
  },
  {
   "cell_type": "markdown",
   "metadata": {
    "hidden": true
   },
   "source": [
    "Let's look at some summary stats:"
   ]
  },
  {
   "cell_type": "code",
   "execution_count": null,
   "metadata": {
    "ExecuteTime": {
     "end_time": "2021-07-05T20:57:23.218632Z",
     "start_time": "2021-07-05T20:57:07.485Z"
    },
    "hidden": true
   },
   "outputs": [],
   "source": [
    "print(f\"There are {ts.shape[0]} records in our timeseries\")"
   ]
  },
  {
   "cell_type": "code",
   "execution_count": null,
   "metadata": {
    "ExecuteTime": {
     "end_time": "2021-07-05T20:57:23.219629Z",
     "start_time": "2021-07-05T20:57:07.487Z"
    },
    "hidden": true
   },
   "outputs": [],
   "source": [
    "# Definitely some messy input of our Desciption data\n",
    "ts['Description'].value_counts()"
   ]
  },
  {
   "cell_type": "code",
   "execution_count": null,
   "metadata": {
    "ExecuteTime": {
     "end_time": "2021-07-05T20:57:23.220627Z",
     "start_time": "2021-07-05T20:57:07.489Z"
    },
    "hidden": true
   },
   "outputs": [],
   "source": [
    "height = ts['Description'].value_counts()[:10]\n",
    "offense_names = ts['Description'].value_counts()[:10].index\n",
    "\n",
    "fig, ax = plt.subplots()\n",
    "sns.barplot(height, offense_names, color='r', ax=ax)\n",
    "ax.set_title('Mostly Handgun offenses');"
   ]
  },
  {
   "cell_type": "code",
   "execution_count": null,
   "metadata": {
    "ExecuteTime": {
     "end_time": "2021-07-05T20:57:23.221624Z",
     "start_time": "2021-07-05T20:57:07.491Z"
    },
    "hidden": true
   },
   "outputs": [],
   "source": [
    "# Mostly non-domestic offenses\n",
    "\n",
    "fig, ax = plt.subplots()\n",
    "sns.barplot( ts['Domestic'].value_counts().index, \n",
    "             ts['Domestic'].value_counts(),  \n",
    "             palette=[ 'r', 'b'], ax=ax\n",
    "           )\n",
    "\n",
    "ax.set_title(\"Overwhelmingly Non-Domestic Offenses\");"
   ]
  },
  {
   "cell_type": "code",
   "execution_count": null,
   "metadata": {
    "ExecuteTime": {
     "end_time": "2021-07-05T20:57:23.222622Z",
     "start_time": "2021-07-05T20:57:07.494Z"
    },
    "hidden": true
   },
   "outputs": [],
   "source": [
    "# Mostly non-domestic offenses\n",
    "\n",
    "arrest_rate = ts['Arrest'].value_counts()[1]/len(ts)\n",
    "\n",
    "fig, ax = plt.subplots()\n",
    "\n",
    "sns.barplot( ts['Arrest'].value_counts().index, \n",
    "             ts['Arrest'].value_counts(), \n",
    "             palette=['r', 'g'], ax=ax\n",
    "           )\n",
    "\n",
    "ax.set_title(f'{arrest_rate: 0.2%} of Total Cases\\n Result in Arrest');"
   ]
  },
  {
   "cell_type": "code",
   "execution_count": null,
   "metadata": {
    "ExecuteTime": {
     "end_time": "2021-07-05T20:57:23.223619Z",
     "start_time": "2021-07-05T20:57:07.496Z"
    },
    "hidden": true
   },
   "outputs": [],
   "source": [
    "fig, ax = plt.subplots()\n",
    "sns.barplot( ts['Year'].value_counts().index, \n",
    "             ts['Year'].value_counts(),  \n",
    "             color= 'r', ax=ax\n",
    "           )\n",
    "\n",
    "ax.set_title(\"Offenses By Year\");"
   ]
  },
  {
   "cell_type": "markdown",
   "metadata": {
    "hidden": true
   },
   "source": [
    "While this does show some interesting information that will be relevant to our time series analysis, we are going to get more granular."
   ]
  }
 ],
 "metadata": {
  "kernelspec": {
   "display_name": "Python 3",
   "language": "python",
   "name": "python3"
  },
  "language_info": {
   "codemirror_mode": {
    "name": "ipython",
    "version": 3
   },
   "file_extension": ".py",
   "mimetype": "text/x-python",
   "name": "python",
   "nbconvert_exporter": "python",
   "pygments_lexer": "ipython3",
   "version": "3.8.5"
  },
  "toc": {
   "base_numbering": 1,
   "nav_menu": {},
   "number_sections": true,
   "sideBar": true,
   "skip_h1_title": false,
   "title_cell": "Table of Contents",
   "title_sidebar": "Contents",
   "toc_cell": true,
   "toc_position": {
    "height": "calc(100% - 180px)",
    "left": "10px",
    "top": "150px",
    "width": "260.383px"
   },
   "toc_section_display": true,
   "toc_window_display": true
  },
  "varInspector": {
   "cols": {
    "lenName": 16,
    "lenType": 16,
    "lenVar": 40
   },
   "kernels_config": {
    "python": {
     "delete_cmd_postfix": "",
     "delete_cmd_prefix": "del ",
     "library": "var_list.py",
     "varRefreshCmd": "print(var_dic_list())"
    },
    "r": {
     "delete_cmd_postfix": ") ",
     "delete_cmd_prefix": "rm(",
     "library": "var_list.r",
     "varRefreshCmd": "cat(var_dic_list()) "
    }
   },
   "types_to_exclude": [
    "module",
    "function",
    "builtin_function_or_method",
    "instance",
    "_Feature"
   ],
   "window_display": false
  }
 },
 "nbformat": 4,
 "nbformat_minor": 4
}
