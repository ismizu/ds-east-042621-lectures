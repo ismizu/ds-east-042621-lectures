{
 "cells": [
  {
   "cell_type": "markdown",
   "metadata": {
    "toc": true
   },
   "source": [
    "<h1>Table of Contents<span class=\"tocSkip\"></span></h1>\n",
    "<div class=\"toc\"><ul class=\"toc-item\"><li><span><a href=\"#Aggregating-and-Combining-pandas-DataFrames\" data-toc-modified-id=\"Aggregating-and-Combining-pandas-DataFrames-1\"><span class=\"toc-item-num\">1&nbsp;&nbsp;</span>Aggregating and Combining <code>pandas</code> DataFrames</a></span><ul class=\"toc-item\"><li><span><a href=\"#Learning-Goals\" data-toc-modified-id=\"Learning-Goals-1.1\"><span class=\"toc-item-num\">1.1&nbsp;&nbsp;</span>Learning Goals</a></span><ul class=\"toc-item\"><li><span><a href=\"#Austin-Animal-Center-Data\" data-toc-modified-id=\"Austin-Animal-Center-Data-1.1.1\"><span class=\"toc-item-num\">1.1.1&nbsp;&nbsp;</span>Austin Animal Center Data</a></span></li></ul></li><li><span><a href=\"#Aggregating-over-DataFrames:-.groupby()\" data-toc-modified-id=\"Aggregating-over-DataFrames:-.groupby()-1.2\"><span class=\"toc-item-num\">1.2&nbsp;&nbsp;</span>Aggregating over DataFrames: <code>.groupby()</code></a></span><ul class=\"toc-item\"><li><span><a href=\"#.groups-and-.get_group()\" data-toc-modified-id=\".groups-and-.get_group()-1.2.1\"><span class=\"toc-item-num\">1.2.1&nbsp;&nbsp;</span><code>.groups</code> and <code>.get_group()</code></a></span><ul class=\"toc-item\"><li><span><a href=\"#Multi-Indexing\" data-toc-modified-id=\"Multi-Indexing-1.2.1.1\"><span class=\"toc-item-num\">1.2.1.1&nbsp;&nbsp;</span>Multi-Indexing</a></span></li></ul></li><li><span><a href=\"#Aggregating\" data-toc-modified-id=\"Aggregating-1.2.2\"><span class=\"toc-item-num\">1.2.2&nbsp;&nbsp;</span>Aggregating</a></span></li><li><span><a href=\"#Exercise\" data-toc-modified-id=\"Exercise-1.2.3\"><span class=\"toc-item-num\">1.2.3&nbsp;&nbsp;</span>Exercise</a></span></li></ul></li><li><span><a href=\"#Pivoting-a-DataFrame\" data-toc-modified-id=\"Pivoting-a-DataFrame-1.3\"><span class=\"toc-item-num\">1.3&nbsp;&nbsp;</span>Pivoting a DataFrame</a></span><ul class=\"toc-item\"><li><span><a href=\"#.pivot_table()\" data-toc-modified-id=\".pivot_table()-1.3.1\"><span class=\"toc-item-num\">1.3.1&nbsp;&nbsp;</span><code>.pivot_table()</code></a></span><ul class=\"toc-item\"><li><span><a href=\"#Example\" data-toc-modified-id=\"Example-1.3.1.1\"><span class=\"toc-item-num\">1.3.1.1&nbsp;&nbsp;</span>Example</a></span></li><li><span><a href=\"#Back-to-Austin-animals\" data-toc-modified-id=\"Back-to-Austin-animals-1.3.1.2\"><span class=\"toc-item-num\">1.3.1.2&nbsp;&nbsp;</span>Back to Austin animals</a></span></li></ul></li><li><span><a href=\"#Exercise\" data-toc-modified-id=\"Exercise-1.3.2\"><span class=\"toc-item-num\">1.3.2&nbsp;&nbsp;</span>Exercise</a></span></li></ul></li><li><span><a href=\"#Methods-for-Combining-DataFrames:-.join(),-.merge(),-pd.concat()\" data-toc-modified-id=\"Methods-for-Combining-DataFrames:-.join(),-.merge(),-pd.concat()-1.4\"><span class=\"toc-item-num\">1.4&nbsp;&nbsp;</span>Methods for Combining DataFrames: <code>.join()</code>, <code>.merge()</code>, <code>pd.concat()</code></a></span><ul class=\"toc-item\"><li><span><a href=\"#.join()\" data-toc-modified-id=\".join()-1.4.1\"><span class=\"toc-item-num\">1.4.1&nbsp;&nbsp;</span><code>.join()</code></a></span></li><li><span><a href=\"#.merge()\" data-toc-modified-id=\".merge()-1.4.2\"><span class=\"toc-item-num\">1.4.2&nbsp;&nbsp;</span><code>.merge()</code></a></span></li><li><span><a href=\"#The-how-Parameter\" data-toc-modified-id=\"The-how-Parameter-1.4.3\"><span class=\"toc-item-num\">1.4.3&nbsp;&nbsp;</span>The <code>how</code> Parameter</a></span></li><li><span><a href=\"#pd.concat()\" data-toc-modified-id=\"pd.concat()-1.4.4\"><span class=\"toc-item-num\">1.4.4&nbsp;&nbsp;</span><code>pd.concat()</code></a></span></li></ul></li><li><span><a href=\"#King-County-Assessments\" data-toc-modified-id=\"King-County-Assessments-1.5\"><span class=\"toc-item-num\">1.5&nbsp;&nbsp;</span>King County Assessments</a></span><ul class=\"toc-item\"><li><span><a href=\"#First,-get-the-data!\" data-toc-modified-id=\"First,-get-the-data!-1.5.1\"><span class=\"toc-item-num\">1.5.1&nbsp;&nbsp;</span>First, get the data!</a></span></li><li><span><a href=\"#Exercise\" data-toc-modified-id=\"Exercise-1.5.2\"><span class=\"toc-item-num\">1.5.2&nbsp;&nbsp;</span>Exercise</a></span></li></ul></li><li><span><a href=\"#Time-Permitting:-Data-Cleaning-with-Pandas\" data-toc-modified-id=\"Time-Permitting:-Data-Cleaning-with-Pandas-1.6\"><span class=\"toc-item-num\">1.6&nbsp;&nbsp;</span>Time Permitting: Data Cleaning with Pandas</a></span><ul class=\"toc-item\"><li><span><a href=\"#1.-Investigate-and-drop-rows-with-invalid-values-in-the-SalePrice-and-SqFtTotLiving-columns.\" data-toc-modified-id=\"1.-Investigate-and-drop-rows-with-invalid-values-in-the-SalePrice-and-SqFtTotLiving-columns.-1.6.1\"><span class=\"toc-item-num\">1.6.1&nbsp;&nbsp;</span>1. Investigate and drop rows with invalid values in the SalePrice and SqFtTotLiving columns.</a></span></li><li><span><a href=\"#2.-Investigate-and-handle-non-numeric-ZipCode-values\" data-toc-modified-id=\"2.-Investigate-and-handle-non-numeric-ZipCode-values-1.6.2\"><span class=\"toc-item-num\">1.6.2&nbsp;&nbsp;</span>2. Investigate and handle non-numeric ZipCode values</a></span></li><li><span><a href=\"#3.-Add-a-column-for-PricePerSqFt\" data-toc-modified-id=\"3.-Add-a-column-for-PricePerSqFt-1.6.3\"><span class=\"toc-item-num\">1.6.3&nbsp;&nbsp;</span>3. Add a column for PricePerSqFt</a></span></li><li><span><a href=\"#4.-Subset-the-data-to-2021-sales-only.\" data-toc-modified-id=\"4.-Subset-the-data-to-2021-sales-only.-1.6.4\"><span class=\"toc-item-num\">1.6.4&nbsp;&nbsp;</span>4. Subset the data to 2021 sales only.</a></span></li><li><span><a href=\"#5.-What-is-the-mean-price-per-square-foot-for-a-house-sold-in-Seattle-in-2021?\" data-toc-modified-id=\"5.-What-is-the-mean-price-per-square-foot-for-a-house-sold-in-Seattle-in-2021?-1.6.5\"><span class=\"toc-item-num\">1.6.5&nbsp;&nbsp;</span>5. What is the mean price per square foot for a house sold in Seattle in 2021?</a></span></li></ul></li><li><span><a href=\"#Level-Up:-pandas.set_option()\" data-toc-modified-id=\"Level-Up:-pandas.set_option()-1.7\"><span class=\"toc-item-num\">1.7&nbsp;&nbsp;</span>Level Up: <code>pandas.set_option()</code></a></span><ul class=\"toc-item\"><li><span><a href=\"#Block-Scientific-Notation\" data-toc-modified-id=\"Block-Scientific-Notation-1.7.1\"><span class=\"toc-item-num\">1.7.1&nbsp;&nbsp;</span>Block Scientific Notation</a></span></li><li><span><a href=\"#See-More-Rows\" data-toc-modified-id=\"See-More-Rows-1.7.2\"><span class=\"toc-item-num\">1.7.2&nbsp;&nbsp;</span>See More Rows</a></span></li></ul></li></ul></li></ul></div>"
   ]
  },
  {
   "cell_type": "markdown",
   "metadata": {
    "heading_collapsed": true
   },
   "source": [
    "# Aggregating and Combining `pandas` DataFrames"
   ]
  },
  {
   "cell_type": "code",
   "execution_count": 1,
   "metadata": {
    "hidden": true
   },
   "outputs": [],
   "source": [
    "import pandas as pd\n",
    "import numpy as np\n",
    "import requests as rq\n",
    "#requests gets data from the web\n",
    "from sklearn.preprocessing import OneHotEncoder\n",
    "from zipfile import ZipFile"
   ]
  },
  {
   "cell_type": "markdown",
   "metadata": {
    "heading_collapsed": true
   },
   "source": [
    "## Learning Goals"
   ]
  },
  {
   "cell_type": "markdown",
   "metadata": {
    "hidden": true
   },
   "source": [
    "- Use GroupBy objects to organize and aggregate data\n",
    "- Create pivot tables from DataFrames\n",
    "- Combine DataFrames by merging and appending "
   ]
  },
  {
   "cell_type": "markdown",
   "metadata": {
    "hidden": true
   },
   "source": [
    "We'll work with the Austin Animal Center dataset and with data from King County's Department of Assessments (Seattle housing data)."
   ]
  },
  {
   "cell_type": "markdown",
   "metadata": {
    "heading_collapsed": true,
    "hidden": true
   },
   "source": [
    "### Austin Animal Center Data"
   ]
  },
  {
   "cell_type": "code",
   "execution_count": 2,
   "metadata": {
    "hidden": true
   },
   "outputs": [],
   "source": [
    "data = rq.get('https://data.austintexas.gov/resource/9t4d-g238.json').text"
   ]
  },
  {
   "cell_type": "code",
   "execution_count": 3,
   "metadata": {
    "hidden": true
   },
   "outputs": [],
   "source": [
    "animals = pd.read_json(data)"
   ]
  },
  {
   "cell_type": "code",
   "execution_count": 4,
   "metadata": {
    "hidden": true
   },
   "outputs": [
    {
     "data": {
      "text/html": [
       "<div>\n",
       "<style scoped>\n",
       "    .dataframe tbody tr th:only-of-type {\n",
       "        vertical-align: middle;\n",
       "    }\n",
       "\n",
       "    .dataframe tbody tr th {\n",
       "        vertical-align: top;\n",
       "    }\n",
       "\n",
       "    .dataframe thead th {\n",
       "        text-align: right;\n",
       "    }\n",
       "</style>\n",
       "<table border=\"1\" class=\"dataframe\">\n",
       "  <thead>\n",
       "    <tr style=\"text-align: right;\">\n",
       "      <th></th>\n",
       "      <th>animal_id</th>\n",
       "      <th>datetime</th>\n",
       "      <th>monthyear</th>\n",
       "      <th>date_of_birth</th>\n",
       "      <th>outcome_type</th>\n",
       "      <th>outcome_subtype</th>\n",
       "      <th>animal_type</th>\n",
       "      <th>sex_upon_outcome</th>\n",
       "      <th>age_upon_outcome</th>\n",
       "      <th>breed</th>\n",
       "      <th>color</th>\n",
       "      <th>name</th>\n",
       "    </tr>\n",
       "  </thead>\n",
       "  <tbody>\n",
       "    <tr>\n",
       "      <th>0</th>\n",
       "      <td>A833386</td>\n",
       "      <td>2021-05-03 09:12:00</td>\n",
       "      <td>2021-05-03T09:12:00.000</td>\n",
       "      <td>2020-04-29T00:00:00.000</td>\n",
       "      <td>Euthanasia</td>\n",
       "      <td>Rabies Risk</td>\n",
       "      <td>Other</td>\n",
       "      <td>Unknown</td>\n",
       "      <td>1 year</td>\n",
       "      <td>Bat</td>\n",
       "      <td>Black</td>\n",
       "      <td>NaN</td>\n",
       "    </tr>\n",
       "    <tr>\n",
       "      <th>1</th>\n",
       "      <td>A833565</td>\n",
       "      <td>2021-05-03 07:36:00</td>\n",
       "      <td>2021-05-03T07:36:00.000</td>\n",
       "      <td>2020-05-02T00:00:00.000</td>\n",
       "      <td>Died</td>\n",
       "      <td>In Kennel</td>\n",
       "      <td>Other</td>\n",
       "      <td>Unknown</td>\n",
       "      <td>1 year</td>\n",
       "      <td>Bat</td>\n",
       "      <td>Brown</td>\n",
       "      <td>NaN</td>\n",
       "    </tr>\n",
       "    <tr>\n",
       "      <th>2</th>\n",
       "      <td>A829674</td>\n",
       "      <td>2021-05-02 17:37:00</td>\n",
       "      <td>2021-05-02T17:37:00.000</td>\n",
       "      <td>2019-02-20T00:00:00.000</td>\n",
       "      <td>Adoption</td>\n",
       "      <td>NaN</td>\n",
       "      <td>Dog</td>\n",
       "      <td>Spayed Female</td>\n",
       "      <td>2 years</td>\n",
       "      <td>Border Collie Mix</td>\n",
       "      <td>Black/White</td>\n",
       "      <td>Ebony</td>\n",
       "    </tr>\n",
       "    <tr>\n",
       "      <th>3</th>\n",
       "      <td>A832899</td>\n",
       "      <td>2021-05-02 16:47:00</td>\n",
       "      <td>2021-05-02T16:47:00.000</td>\n",
       "      <td>2021-02-06T00:00:00.000</td>\n",
       "      <td>Transfer</td>\n",
       "      <td>Partner</td>\n",
       "      <td>Dog</td>\n",
       "      <td>Neutered Male</td>\n",
       "      <td>2 months</td>\n",
       "      <td>Siberian Husky/German Shepherd</td>\n",
       "      <td>Tan/White</td>\n",
       "      <td>*Superman - Event</td>\n",
       "    </tr>\n",
       "    <tr>\n",
       "      <th>4</th>\n",
       "      <td>A832788</td>\n",
       "      <td>2021-05-02 15:56:00</td>\n",
       "      <td>2021-05-02T15:56:00.000</td>\n",
       "      <td>2019-04-19T00:00:00.000</td>\n",
       "      <td>Adoption</td>\n",
       "      <td>NaN</td>\n",
       "      <td>Dog</td>\n",
       "      <td>Neutered Male</td>\n",
       "      <td>2 years</td>\n",
       "      <td>Dutch Shepherd Mix</td>\n",
       "      <td>Brown Brindle/White</td>\n",
       "      <td>*Bruno</td>\n",
       "    </tr>\n",
       "  </tbody>\n",
       "</table>\n",
       "</div>"
      ],
      "text/plain": [
       "  animal_id            datetime                monthyear  \\\n",
       "0   A833386 2021-05-03 09:12:00  2021-05-03T09:12:00.000   \n",
       "1   A833565 2021-05-03 07:36:00  2021-05-03T07:36:00.000   \n",
       "2   A829674 2021-05-02 17:37:00  2021-05-02T17:37:00.000   \n",
       "3   A832899 2021-05-02 16:47:00  2021-05-02T16:47:00.000   \n",
       "4   A832788 2021-05-02 15:56:00  2021-05-02T15:56:00.000   \n",
       "\n",
       "             date_of_birth outcome_type outcome_subtype animal_type  \\\n",
       "0  2020-04-29T00:00:00.000   Euthanasia     Rabies Risk       Other   \n",
       "1  2020-05-02T00:00:00.000         Died       In Kennel       Other   \n",
       "2  2019-02-20T00:00:00.000     Adoption             NaN         Dog   \n",
       "3  2021-02-06T00:00:00.000     Transfer         Partner         Dog   \n",
       "4  2019-04-19T00:00:00.000     Adoption             NaN         Dog   \n",
       "\n",
       "  sex_upon_outcome age_upon_outcome                           breed  \\\n",
       "0          Unknown           1 year                             Bat   \n",
       "1          Unknown           1 year                             Bat   \n",
       "2    Spayed Female          2 years               Border Collie Mix   \n",
       "3    Neutered Male         2 months  Siberian Husky/German Shepherd   \n",
       "4    Neutered Male          2 years              Dutch Shepherd Mix   \n",
       "\n",
       "                 color               name  \n",
       "0                Black                NaN  \n",
       "1                Brown                NaN  \n",
       "2          Black/White              Ebony  \n",
       "3            Tan/White  *Superman - Event  \n",
       "4  Brown Brindle/White             *Bruno  "
      ]
     },
     "execution_count": 4,
     "metadata": {},
     "output_type": "execute_result"
    }
   ],
   "source": [
    "animals.head()"
   ]
  },
  {
   "cell_type": "markdown",
   "metadata": {},
   "source": [
    "## Aggregating over DataFrames: `.groupby()`"
   ]
  },
  {
   "cell_type": "markdown",
   "metadata": {},
   "source": [
    "Those of you familiar with SQL have probably used the GROUP BY command. (And if you haven't, you'll see it very soon!) Pandas has this, too.\n",
    "\n",
    "The `.groupby()` method is especially useful for aggregate functions applied to the data grouped in particular ways."
   ]
  },
  {
   "cell_type": "code",
   "execution_count": 5,
   "metadata": {},
   "outputs": [
    {
     "data": {
      "text/plain": [
       "<pandas.core.groupby.generic.DataFrameGroupBy object at 0x000001E47988EC40>"
      ]
     },
     "execution_count": 5,
     "metadata": {},
     "output_type": "execute_result"
    }
   ],
   "source": [
    "animals.groupby('animal_type')"
   ]
  },
  {
   "cell_type": "code",
   "execution_count": 6,
   "metadata": {},
   "outputs": [
    {
     "data": {
      "text/plain": [
       "Index(['animal_id', 'datetime', 'monthyear', 'date_of_birth', 'outcome_type',\n",
       "       'outcome_subtype', 'animal_type', 'sex_upon_outcome',\n",
       "       'age_upon_outcome', 'breed', 'color', 'name'],\n",
       "      dtype='object')"
      ]
     },
     "execution_count": 6,
     "metadata": {},
     "output_type": "execute_result"
    }
   ],
   "source": [
    "animals.columns"
   ]
  },
  {
   "cell_type": "markdown",
   "metadata": {},
   "source": [
    "We can group by multiple columns, and also return a DataFrameGroupBy object\n",
    "\n",
    "Notice the object type [DataFrameGroupBy](https://pandas.pydata.org/pandas-docs/stable/user_guide/groupby.html) object. "
   ]
  },
  {
   "cell_type": "markdown",
   "metadata": {},
   "source": [
    "### `.groups` and `.get_group()`"
   ]
  },
  {
   "cell_type": "code",
   "execution_count": 7,
   "metadata": {},
   "outputs": [
    {
     "data": {
      "text/plain": [
       "<pandas.core.groupby.generic.DataFrameGroupBy object at 0x000001E4798BF070>"
      ]
     },
     "execution_count": 7,
     "metadata": {},
     "output_type": "execute_result"
    }
   ],
   "source": [
    "animals.groupby(['animal_type', 'outcome_type'])"
   ]
  },
  {
   "cell_type": "code",
   "execution_count": 8,
   "metadata": {},
   "outputs": [
    {
     "data": {
      "text/plain": [
       "{'Bird': [225, 445, 446, 447, 461, 529, 958], 'Cat': [9, 10, 11, 12, 13, 19, 20, 26, 44, 46, 48, 51, 52, 64, 65, 66, 82, 84, 86, 89, 90, 91, 92, 99, 103, 104, 105, 106, 107, 108, 111, 112, 113, 114, 115, 116, 122, 123, 130, 131, 132, 133, 136, 139, 140, 149, 150, 151, 152, 153, 154, 156, 161, 164, 165, 170, 173, 174, 175, 176, 177, 182, 186, 187, 188, 189, 192, 193, 202, 220, 221, 222, 223, 227, 229, 233, 234, 248, 256, 257, 259, 260, 263, 272, 278, 279, 282, 283, 284, 285, 286, 287, 289, 291, 296, 297, 298, 300, 305, 316, ...], 'Dog': [2, 3, 4, 5, 6, 7, 8, 15, 16, 17, 21, 22, 23, 24, 25, 27, 28, 29, 30, 31, 32, 33, 34, 35, 36, 37, 38, 39, 40, 41, 42, 43, 45, 47, 50, 53, 54, 55, 56, 57, 58, 59, 61, 63, 67, 68, 69, 70, 71, 72, 73, 74, 75, 76, 77, 78, 79, 80, 81, 83, 85, 87, 88, 93, 95, 96, 97, 98, 100, 101, 102, 109, 110, 124, 125, 126, 127, 128, 129, 134, 135, 137, 138, 141, 142, 143, 144, 145, 146, 147, 148, 155, 157, 158, 159, 160, 162, 163, 166, 167, ...], 'Other': [0, 1, 14, 18, 49, 60, 62, 94, 117, 118, 119, 120, 121, 171, 195, 203, 204, 205, 206, 207, 208, 209, 210, 211, 212, 213, 214, 216, 253, 276, 281, 299, 303, 304, 306, 309, 315, 389, 390, 391, 392, 431, 435, 448, 456, 475, 478, 486, 492, 556, 558, 566, 567, 568, 576, 590, 594, 597, 598, 599, 609, 617, 619, 628, 629, 630, 643, 664, 677, 689, 697, 698, 699, 707, 710, 731, 765, 769, 770, 771, 772, 776, 788, 802, 808, 825, 831, 832, 855, 865, 866, 867, 881, 882, 921, 922, 923, 940, 941, 942, ...]}"
      ]
     },
     "execution_count": 8,
     "metadata": {},
     "output_type": "execute_result"
    }
   ],
   "source": [
    "# This retuns each group indexed by the group name: I.E. 'Bird', along with the row indices of each value\n",
    "animals.groupby('animal_type').groups"
   ]
  },
  {
   "cell_type": "markdown",
   "metadata": {},
   "source": [
    "Once we know we are working with a type of object, it opens up a suite of attributes and methods. One attribute we can look at is groups."
   ]
  },
  {
   "cell_type": "code",
   "execution_count": 9,
   "metadata": {},
   "outputs": [
    {
     "data": {
      "text/html": [
       "<div>\n",
       "<style scoped>\n",
       "    .dataframe tbody tr th:only-of-type {\n",
       "        vertical-align: middle;\n",
       "    }\n",
       "\n",
       "    .dataframe tbody tr th {\n",
       "        vertical-align: top;\n",
       "    }\n",
       "\n",
       "    .dataframe thead th {\n",
       "        text-align: right;\n",
       "    }\n",
       "</style>\n",
       "<table border=\"1\" class=\"dataframe\">\n",
       "  <thead>\n",
       "    <tr style=\"text-align: right;\">\n",
       "      <th></th>\n",
       "      <th>animal_id</th>\n",
       "      <th>datetime</th>\n",
       "      <th>monthyear</th>\n",
       "      <th>date_of_birth</th>\n",
       "      <th>outcome_type</th>\n",
       "      <th>outcome_subtype</th>\n",
       "      <th>animal_type</th>\n",
       "      <th>sex_upon_outcome</th>\n",
       "      <th>age_upon_outcome</th>\n",
       "      <th>breed</th>\n",
       "      <th>color</th>\n",
       "      <th>name</th>\n",
       "    </tr>\n",
       "  </thead>\n",
       "  <tbody>\n",
       "    <tr>\n",
       "      <th>2</th>\n",
       "      <td>A829674</td>\n",
       "      <td>2021-05-02 17:37:00</td>\n",
       "      <td>2021-05-02T17:37:00.000</td>\n",
       "      <td>2019-02-20T00:00:00.000</td>\n",
       "      <td>Adoption</td>\n",
       "      <td>NaN</td>\n",
       "      <td>Dog</td>\n",
       "      <td>Spayed Female</td>\n",
       "      <td>2 years</td>\n",
       "      <td>Border Collie Mix</td>\n",
       "      <td>Black/White</td>\n",
       "      <td>Ebony</td>\n",
       "    </tr>\n",
       "    <tr>\n",
       "      <th>3</th>\n",
       "      <td>A832899</td>\n",
       "      <td>2021-05-02 16:47:00</td>\n",
       "      <td>2021-05-02T16:47:00.000</td>\n",
       "      <td>2021-02-06T00:00:00.000</td>\n",
       "      <td>Transfer</td>\n",
       "      <td>Partner</td>\n",
       "      <td>Dog</td>\n",
       "      <td>Neutered Male</td>\n",
       "      <td>2 months</td>\n",
       "      <td>Siberian Husky/German Shepherd</td>\n",
       "      <td>Tan/White</td>\n",
       "      <td>*Superman - Event</td>\n",
       "    </tr>\n",
       "    <tr>\n",
       "      <th>4</th>\n",
       "      <td>A832788</td>\n",
       "      <td>2021-05-02 15:56:00</td>\n",
       "      <td>2021-05-02T15:56:00.000</td>\n",
       "      <td>2019-04-19T00:00:00.000</td>\n",
       "      <td>Adoption</td>\n",
       "      <td>NaN</td>\n",
       "      <td>Dog</td>\n",
       "      <td>Neutered Male</td>\n",
       "      <td>2 years</td>\n",
       "      <td>Dutch Shepherd Mix</td>\n",
       "      <td>Brown Brindle/White</td>\n",
       "      <td>*Bruno</td>\n",
       "    </tr>\n",
       "    <tr>\n",
       "      <th>5</th>\n",
       "      <td>A832671</td>\n",
       "      <td>2021-05-02 15:35:00</td>\n",
       "      <td>2021-05-02T15:35:00.000</td>\n",
       "      <td>2013-04-18T00:00:00.000</td>\n",
       "      <td>Transfer</td>\n",
       "      <td>Partner</td>\n",
       "      <td>Dog</td>\n",
       "      <td>Spayed Female</td>\n",
       "      <td>8 years</td>\n",
       "      <td>Pug</td>\n",
       "      <td>Black</td>\n",
       "      <td>Pepper</td>\n",
       "    </tr>\n",
       "    <tr>\n",
       "      <th>6</th>\n",
       "      <td>A832672</td>\n",
       "      <td>2021-05-02 15:35:00</td>\n",
       "      <td>2021-05-02T15:35:00.000</td>\n",
       "      <td>2016-04-18T00:00:00.000</td>\n",
       "      <td>Transfer</td>\n",
       "      <td>Partner</td>\n",
       "      <td>Dog</td>\n",
       "      <td>Spayed Female</td>\n",
       "      <td>5 years</td>\n",
       "      <td>Pug/Chihuahua Shorthair</td>\n",
       "      <td>Brown Brindle</td>\n",
       "      <td>Lucy</td>\n",
       "    </tr>\n",
       "    <tr>\n",
       "      <th>...</th>\n",
       "      <td>...</td>\n",
       "      <td>...</td>\n",
       "      <td>...</td>\n",
       "      <td>...</td>\n",
       "      <td>...</td>\n",
       "      <td>...</td>\n",
       "      <td>...</td>\n",
       "      <td>...</td>\n",
       "      <td>...</td>\n",
       "      <td>...</td>\n",
       "      <td>...</td>\n",
       "      <td>...</td>\n",
       "    </tr>\n",
       "    <tr>\n",
       "      <th>994</th>\n",
       "      <td>A545642</td>\n",
       "      <td>2021-03-23 09:39:00</td>\n",
       "      <td>2021-03-23T09:39:00.000</td>\n",
       "      <td>2009-01-05T00:00:00.000</td>\n",
       "      <td>Adoption</td>\n",
       "      <td>Foster</td>\n",
       "      <td>Dog</td>\n",
       "      <td>Spayed Female</td>\n",
       "      <td>12 years</td>\n",
       "      <td>Miniature Pinscher</td>\n",
       "      <td>Black/Brown</td>\n",
       "      <td>Cow</td>\n",
       "    </tr>\n",
       "    <tr>\n",
       "      <th>995</th>\n",
       "      <td>A735407</td>\n",
       "      <td>2021-03-23 07:35:00</td>\n",
       "      <td>2021-03-23T07:35:00.000</td>\n",
       "      <td>2010-11-23T00:00:00.000</td>\n",
       "      <td>Adoption</td>\n",
       "      <td>Foster</td>\n",
       "      <td>Dog</td>\n",
       "      <td>Neutered Male</td>\n",
       "      <td>10 years</td>\n",
       "      <td>Pit Bull</td>\n",
       "      <td>Blue</td>\n",
       "      <td>Blue</td>\n",
       "    </tr>\n",
       "    <tr>\n",
       "      <th>996</th>\n",
       "      <td>A830162</td>\n",
       "      <td>2021-03-23 07:25:00</td>\n",
       "      <td>2021-03-23T07:25:00.000</td>\n",
       "      <td>2021-01-20T00:00:00.000</td>\n",
       "      <td>Adoption</td>\n",
       "      <td>Foster</td>\n",
       "      <td>Dog</td>\n",
       "      <td>Neutered Male</td>\n",
       "      <td>2 months</td>\n",
       "      <td>French Bulldog/Miniature Poodle</td>\n",
       "      <td>Black/White</td>\n",
       "      <td>*Stanley</td>\n",
       "    </tr>\n",
       "    <tr>\n",
       "      <th>997</th>\n",
       "      <td>A830848</td>\n",
       "      <td>2021-03-22 17:44:00</td>\n",
       "      <td>2021-03-22T17:44:00.000</td>\n",
       "      <td>2020-08-17T00:00:00.000</td>\n",
       "      <td>Adoption</td>\n",
       "      <td>NaN</td>\n",
       "      <td>Dog</td>\n",
       "      <td>Neutered Male</td>\n",
       "      <td>7 months</td>\n",
       "      <td>Pit Bull Mix</td>\n",
       "      <td>Brown/White</td>\n",
       "      <td>*Chili</td>\n",
       "    </tr>\n",
       "    <tr>\n",
       "      <th>999</th>\n",
       "      <td>A830175</td>\n",
       "      <td>2021-03-22 17:15:00</td>\n",
       "      <td>2021-03-22T17:15:00.000</td>\n",
       "      <td>2018-03-03T00:00:00.000</td>\n",
       "      <td>Adoption</td>\n",
       "      <td>NaN</td>\n",
       "      <td>Dog</td>\n",
       "      <td>Spayed Female</td>\n",
       "      <td>3 years</td>\n",
       "      <td>German Shepherd Mix</td>\n",
       "      <td>Black/Brown</td>\n",
       "      <td>*Ella</td>\n",
       "    </tr>\n",
       "  </tbody>\n",
       "</table>\n",
       "<p>575 rows × 12 columns</p>\n",
       "</div>"
      ],
      "text/plain": [
       "    animal_id            datetime                monthyear  \\\n",
       "2     A829674 2021-05-02 17:37:00  2021-05-02T17:37:00.000   \n",
       "3     A832899 2021-05-02 16:47:00  2021-05-02T16:47:00.000   \n",
       "4     A832788 2021-05-02 15:56:00  2021-05-02T15:56:00.000   \n",
       "5     A832671 2021-05-02 15:35:00  2021-05-02T15:35:00.000   \n",
       "6     A832672 2021-05-02 15:35:00  2021-05-02T15:35:00.000   \n",
       "..        ...                 ...                      ...   \n",
       "994   A545642 2021-03-23 09:39:00  2021-03-23T09:39:00.000   \n",
       "995   A735407 2021-03-23 07:35:00  2021-03-23T07:35:00.000   \n",
       "996   A830162 2021-03-23 07:25:00  2021-03-23T07:25:00.000   \n",
       "997   A830848 2021-03-22 17:44:00  2021-03-22T17:44:00.000   \n",
       "999   A830175 2021-03-22 17:15:00  2021-03-22T17:15:00.000   \n",
       "\n",
       "               date_of_birth outcome_type outcome_subtype animal_type  \\\n",
       "2    2019-02-20T00:00:00.000     Adoption             NaN         Dog   \n",
       "3    2021-02-06T00:00:00.000     Transfer         Partner         Dog   \n",
       "4    2019-04-19T00:00:00.000     Adoption             NaN         Dog   \n",
       "5    2013-04-18T00:00:00.000     Transfer         Partner         Dog   \n",
       "6    2016-04-18T00:00:00.000     Transfer         Partner         Dog   \n",
       "..                       ...          ...             ...         ...   \n",
       "994  2009-01-05T00:00:00.000     Adoption          Foster         Dog   \n",
       "995  2010-11-23T00:00:00.000     Adoption          Foster         Dog   \n",
       "996  2021-01-20T00:00:00.000     Adoption          Foster         Dog   \n",
       "997  2020-08-17T00:00:00.000     Adoption             NaN         Dog   \n",
       "999  2018-03-03T00:00:00.000     Adoption             NaN         Dog   \n",
       "\n",
       "    sex_upon_outcome age_upon_outcome                            breed  \\\n",
       "2      Spayed Female          2 years                Border Collie Mix   \n",
       "3      Neutered Male         2 months   Siberian Husky/German Shepherd   \n",
       "4      Neutered Male          2 years               Dutch Shepherd Mix   \n",
       "5      Spayed Female          8 years                              Pug   \n",
       "6      Spayed Female          5 years          Pug/Chihuahua Shorthair   \n",
       "..               ...              ...                              ...   \n",
       "994    Spayed Female         12 years               Miniature Pinscher   \n",
       "995    Neutered Male         10 years                         Pit Bull   \n",
       "996    Neutered Male         2 months  French Bulldog/Miniature Poodle   \n",
       "997    Neutered Male         7 months                     Pit Bull Mix   \n",
       "999    Spayed Female          3 years              German Shepherd Mix   \n",
       "\n",
       "                   color               name  \n",
       "2            Black/White              Ebony  \n",
       "3              Tan/White  *Superman - Event  \n",
       "4    Brown Brindle/White             *Bruno  \n",
       "5                  Black             Pepper  \n",
       "6          Brown Brindle               Lucy  \n",
       "..                   ...                ...  \n",
       "994          Black/Brown                Cow  \n",
       "995                 Blue               Blue  \n",
       "996          Black/White           *Stanley  \n",
       "997          Brown/White             *Chili  \n",
       "999          Black/Brown              *Ella  \n",
       "\n",
       "[575 rows x 12 columns]"
      ]
     },
     "execution_count": 9,
     "metadata": {},
     "output_type": "execute_result"
    }
   ],
   "source": [
    "# Once we know the group indices, we can return the groups using those indices.\n",
    "animals.groupby('animal_type').get_group('Dog')"
   ]
  },
  {
   "cell_type": "markdown",
   "metadata": {},
   "source": [
    "#### Multi-Indexing"
   ]
  },
  {
   "cell_type": "code",
   "execution_count": 10,
   "metadata": {},
   "outputs": [
    {
     "data": {
      "text/plain": [
       "{('Other', 'Euthanasia'): [0, 14, 18, 49, 117, 118, 119, 120, 121, 171, 195, 204, 205, 206, 207, 208, 209, 210, 211, 212, 213, 214, 216, 253, 276, 303, 304, 309, 389, 390, 391, 448, 456, 478, 486, 556, 558, 566, 576, 590, 597, 598, 599, 609, 628, 629, 630, 643, 664, 677, 689, 697, 698, 699, 707, 731, 765, 769, 770, 771, 772, 776, 788, 808, 825, 831, 832, 855, 865, 866, 867, 881, 882, 921, 922, 923, 940, 941, 942, 943, 965, 966, 969, 993, 998], ('Other', 'Died'): [1], ('Dog', 'Adoption'): [2, 4, 7, 21, 22, 23, 25, 28, 30, 31, 32, 33, 34, 35, 36, 37, 38, 39, 40, 41, 42, 43, 45, 47, 50, 53, 54, 57, 58, 59, 61, 63, 75, 85, 87, 88, 93, 95, 98, 100, 102, 109, 110, 124, 125, 126, 127, 128, 129, 134, 135, 137, 141, 142, 143, 144, 147, 148, 159, 160, 163, 172, 178, 179, 181, 184, 185, 190, 196, 198, 201, 217, 218, 219, 224, 226, 228, 230, 235, 240, 241, 245, 246, 247, 249, 254, 255, 261, 262, 264, 271, 275, 277, 288, 290, 292, 293, 294, 301, 302, ...], ('Dog', 'Transfer'): [3, 5, 6, 29, 68, 69, 70, 71, 72, 73, 74, 77, 78, 79, 80, 81, 83, 158, 166, 167, 168, 169, 194, 199, 200, 236, 237, 238, 239, 251, 258, 295, 335, 336, 337, 340, 362, 363, 370, 380, 381, 403, 408, 409, 410, 411, 412, 413, 414, 415, 416, 417, 418, 419, 423, 424, 425, 426, 428, 429, 430, 438, 476, 481, 489, 491, 509, 514, 517, 524, 541, 542, 544, 551, 574, 584, 585, 586, 595, 611, 631, 642, 652, 656, 657, 658, 690, 691, 692, 694, 696, 732, 733, 741, 763, 764, 782, 785, 794, 805, ...], ('Dog', 'Return to Owner'): [8, 15, 16, 17, 24, 27, 55, 56, 67, 76, 96, 97, 101, 138, 145, 146, 155, 162, 180, 183, 191, 197, 231, 232, 242, 243, 265, 268, 269, 270, 273, 307, 308, 311, 338, 339, 341, 348, 352, 353, 356, 359, 364, 365, 366, 402, 421, 436, 442, 470, 471, 500, 501, 502, 516, 522, 526, 527, 528, 545, 552, 557, 575, 581, 601, 625, 638, 672, 676, 679, 680, 735, 739, 750, 751, 752, 753, 756, 778, 789, 813, 815, 816, 818, 824, 833, 835, 856, 860, 861, 874, 875, 878, 884, 893, 905, 906, 907, 909, 916, ...], ('Cat', 'Transfer'): [9, 10, 11, 12, 13, 19, 20, 44, 46, 65, 66, 82, 84, 89, 90, 91, 92, 103, 104, 105, 106, 107, 108, 111, 112, 113, 114, 116, 130, 131, 132, 133, 150, 151, 152, 153, 161, 164, 174, 175, 176, 177, 188, 192, 193, 220, 221, 222, 223, 227, 234, 256, 257, 259, 260, 278, 282, 283, 284, 285, 286, 287, 291, 296, 297, 298, 324, 325, 326, 327, 328, 329, 330, 331, 332, 333, 334, 350, 351, 367, 394, 395, 397, 398, 444, 449, 455, 460, 465, 466, 467, 497, 512, 513, 518, 519, 530, 531, 532, 533, ...], ('Cat', 'Return to Owner'): [26, 48, 229, 248, 300, 305, 383, 384, 385, 386, 387, 483, 583, 610, 616, 730, 736, 820, 870, 964], ('Cat', 'Adoption'): [51, 52, 64, 86, 99, 122, 123, 136, 140, 149, 156, 165, 173, 182, 186, 187, 202, 263, 272, 289, 316, 317, 318, 319, 347, 358, 378, 379, 388, 404, 405, 406, 407, 433, 468, 490, 494, 496, 504, 507, 508, 515, 523, 539, 540, 550, 555, 560, 561, 563, 573, 579, 623, 624, 632, 636, 644, 653, 659, 663, 668, 669, 670, 674, 675, 687, 701, 702, 712, 716, 717, 718, 722, 755, 757, 761, 762, 777, 801, 806, 807, 810, 812, 830, 840, 894, 903, 917, 920, 926, 933, 947, 957, 970, 989, 990], ('Other', 'Adoption'): [60, 62, 94, 299, 306, 315, 431, 435, 492, 567, 568, 617, 619, 710, 802], ('Cat', 'Rto-Adopt'): [115, 511], ('Cat', 'Euthanasia'): [139, 170, 189, 279, 320, 393, 459, 498, 569, 605, 637, 684, 817, 901, 911], ('Cat', nan): [154, 233], ('Dog', 'Rto-Adopt'): [157, 244, 252, 266, 280, 344, 376, 432, 618, 728, 798], ('Other', 'Disposal'): [203, 392, 475], ('Dog', 'Euthanasia'): [215, 342, 372, 457, 577, 787, 800, 938], ('Bird', 'Adoption'): [225], ('Dog', nan): [250, 314, 322], ('Dog', 'Died'): [267, 274, 458, 786], ('Other', 'Transfer'): [281], ('Bird', 'Transfer'): [445, 446, 447], ('Bird', 'Euthanasia'): [461], ('Cat', 'Died'): [499], ('Bird', 'Died'): [529], ('Cat', 'Disposal'): [578, 827], ('Other', 'Return to Owner'): [594], ('Dog', 'Disposal'): [828], ('Bird', 'Return to Owner'): [958]}"
      ]
     },
     "execution_count": 10,
     "metadata": {},
     "output_type": "execute_result"
    }
   ],
   "source": [
    "# Same goes for multi index groupbys\n",
    "animal_outcome = animals.groupby(['animal_type', 'outcome_type'])\n",
    "animal_outcome.groups"
   ]
  },
  {
   "cell_type": "code",
   "execution_count": 11,
   "metadata": {},
   "outputs": [
    {
     "data": {
      "text/plain": [
       "dict_keys([('Other', 'Euthanasia'), ('Other', 'Died'), ('Dog', 'Adoption'), ('Dog', 'Transfer'), ('Dog', 'Return to Owner'), ('Cat', 'Transfer'), ('Cat', 'Return to Owner'), ('Cat', 'Adoption'), ('Other', 'Adoption'), ('Cat', 'Rto-Adopt'), ('Cat', 'Euthanasia'), ('Cat', nan), ('Dog', 'Rto-Adopt'), ('Other', 'Disposal'), ('Dog', 'Euthanasia'), ('Bird', 'Adoption'), ('Dog', nan), ('Dog', 'Died'), ('Other', 'Transfer'), ('Bird', 'Transfer'), ('Bird', 'Euthanasia'), ('Cat', 'Died'), ('Bird', 'Died'), ('Cat', 'Disposal'), ('Other', 'Return to Owner'), ('Dog', 'Disposal'), ('Bird', 'Return to Owner')])"
      ]
     },
     "execution_count": 11,
     "metadata": {},
     "output_type": "execute_result"
    }
   ],
   "source": [
    "# animal_outcome.groups is a dictionary, so we can access the group names using keys()\n",
    "animal_outcome.groups.keys()"
   ]
  },
  {
   "cell_type": "code",
   "execution_count": 13,
   "metadata": {},
   "outputs": [
    {
     "data": {
      "text/html": [
       "<div>\n",
       "<style scoped>\n",
       "    .dataframe tbody tr th:only-of-type {\n",
       "        vertical-align: middle;\n",
       "    }\n",
       "\n",
       "    .dataframe tbody tr th {\n",
       "        vertical-align: top;\n",
       "    }\n",
       "\n",
       "    .dataframe thead th {\n",
       "        text-align: right;\n",
       "    }\n",
       "</style>\n",
       "<table border=\"1\" class=\"dataframe\">\n",
       "  <thead>\n",
       "    <tr style=\"text-align: right;\">\n",
       "      <th></th>\n",
       "      <th>animal_id</th>\n",
       "      <th>datetime</th>\n",
       "      <th>monthyear</th>\n",
       "      <th>date_of_birth</th>\n",
       "      <th>outcome_type</th>\n",
       "      <th>outcome_subtype</th>\n",
       "      <th>animal_type</th>\n",
       "      <th>sex_upon_outcome</th>\n",
       "      <th>age_upon_outcome</th>\n",
       "      <th>breed</th>\n",
       "      <th>color</th>\n",
       "      <th>name</th>\n",
       "    </tr>\n",
       "  </thead>\n",
       "  <tbody>\n",
       "    <tr>\n",
       "      <th>51</th>\n",
       "      <td>A833244</td>\n",
       "      <td>2021-04-30 18:09:00</td>\n",
       "      <td>2021-04-30T18:09:00.000</td>\n",
       "      <td>2019-04-26T00:00:00.000</td>\n",
       "      <td>Adoption</td>\n",
       "      <td>NaN</td>\n",
       "      <td>Cat</td>\n",
       "      <td>Spayed Female</td>\n",
       "      <td>2 years</td>\n",
       "      <td>Domestic Shorthair</td>\n",
       "      <td>Orange Tabby</td>\n",
       "      <td>NaN</td>\n",
       "    </tr>\n",
       "    <tr>\n",
       "      <th>52</th>\n",
       "      <td>A833245</td>\n",
       "      <td>2021-04-30 18:08:00</td>\n",
       "      <td>2021-04-30T18:08:00.000</td>\n",
       "      <td>2021-03-11T00:00:00.000</td>\n",
       "      <td>Adoption</td>\n",
       "      <td>NaN</td>\n",
       "      <td>Cat</td>\n",
       "      <td>Spayed Female</td>\n",
       "      <td>1 month</td>\n",
       "      <td>Domestic Shorthair</td>\n",
       "      <td>Cream Tabby</td>\n",
       "      <td>NaN</td>\n",
       "    </tr>\n",
       "    <tr>\n",
       "      <th>64</th>\n",
       "      <td>A833246</td>\n",
       "      <td>2021-04-30 16:29:00</td>\n",
       "      <td>2021-04-30T16:29:00.000</td>\n",
       "      <td>2021-03-11T00:00:00.000</td>\n",
       "      <td>Adoption</td>\n",
       "      <td>NaN</td>\n",
       "      <td>Cat</td>\n",
       "      <td>Neutered Male</td>\n",
       "      <td>1 month</td>\n",
       "      <td>Domestic Shorthair</td>\n",
       "      <td>Cream Tabby</td>\n",
       "      <td>NaN</td>\n",
       "    </tr>\n",
       "    <tr>\n",
       "      <th>86</th>\n",
       "      <td>A832117</td>\n",
       "      <td>2021-04-30 12:00:00</td>\n",
       "      <td>2021-04-30T12:00:00.000</td>\n",
       "      <td>2019-04-07T00:00:00.000</td>\n",
       "      <td>Adoption</td>\n",
       "      <td>NaN</td>\n",
       "      <td>Cat</td>\n",
       "      <td>Neutered Male</td>\n",
       "      <td>2 years</td>\n",
       "      <td>Domestic Shorthair Mix</td>\n",
       "      <td>Brown Tabby</td>\n",
       "      <td>Buster</td>\n",
       "    </tr>\n",
       "    <tr>\n",
       "      <th>99</th>\n",
       "      <td>A833077</td>\n",
       "      <td>2021-04-29 16:25:00</td>\n",
       "      <td>2021-04-29T16:25:00.000</td>\n",
       "      <td>2020-04-23T00:00:00.000</td>\n",
       "      <td>Adoption</td>\n",
       "      <td>NaN</td>\n",
       "      <td>Cat</td>\n",
       "      <td>Spayed Female</td>\n",
       "      <td>1 year</td>\n",
       "      <td>Domestic Shorthair</td>\n",
       "      <td>White/Black</td>\n",
       "      <td>*Maeve</td>\n",
       "    </tr>\n",
       "    <tr>\n",
       "      <th>...</th>\n",
       "      <td>...</td>\n",
       "      <td>...</td>\n",
       "      <td>...</td>\n",
       "      <td>...</td>\n",
       "      <td>...</td>\n",
       "      <td>...</td>\n",
       "      <td>...</td>\n",
       "      <td>...</td>\n",
       "      <td>...</td>\n",
       "      <td>...</td>\n",
       "      <td>...</td>\n",
       "      <td>...</td>\n",
       "    </tr>\n",
       "    <tr>\n",
       "      <th>947</th>\n",
       "      <td>A830787</td>\n",
       "      <td>2021-03-25 10:01:00</td>\n",
       "      <td>2021-03-25T10:01:00.000</td>\n",
       "      <td>2019-03-16T00:00:00.000</td>\n",
       "      <td>Adoption</td>\n",
       "      <td>NaN</td>\n",
       "      <td>Cat</td>\n",
       "      <td>Intact Male</td>\n",
       "      <td>2 years</td>\n",
       "      <td>Siamese</td>\n",
       "      <td>Lynx Point</td>\n",
       "      <td>Zimba</td>\n",
       "    </tr>\n",
       "    <tr>\n",
       "      <th>957</th>\n",
       "      <td>A831044</td>\n",
       "      <td>2021-03-24 16:41:00</td>\n",
       "      <td>2021-03-24T16:41:00.000</td>\n",
       "      <td>2020-04-21T00:00:00.000</td>\n",
       "      <td>Adoption</td>\n",
       "      <td>NaN</td>\n",
       "      <td>Cat</td>\n",
       "      <td>Spayed Female</td>\n",
       "      <td>11 months</td>\n",
       "      <td>Domestic Shorthair</td>\n",
       "      <td>Brown Tabby</td>\n",
       "      <td>Kiri</td>\n",
       "    </tr>\n",
       "    <tr>\n",
       "      <th>970</th>\n",
       "      <td>A830792</td>\n",
       "      <td>2021-03-23 17:46:00</td>\n",
       "      <td>2021-03-23T17:46:00.000</td>\n",
       "      <td>2020-03-16T00:00:00.000</td>\n",
       "      <td>Adoption</td>\n",
       "      <td>NaN</td>\n",
       "      <td>Cat</td>\n",
       "      <td>Neutered Male</td>\n",
       "      <td>1 year</td>\n",
       "      <td>Domestic Shorthair Mix</td>\n",
       "      <td>Black/White</td>\n",
       "      <td>Hunnii</td>\n",
       "    </tr>\n",
       "    <tr>\n",
       "      <th>989</th>\n",
       "      <td>A830435</td>\n",
       "      <td>2021-03-23 11:57:00</td>\n",
       "      <td>2021-03-23T11:57:00.000</td>\n",
       "      <td>2018-04-09T00:00:00.000</td>\n",
       "      <td>Adoption</td>\n",
       "      <td>Foster</td>\n",
       "      <td>Cat</td>\n",
       "      <td>Neutered Male</td>\n",
       "      <td>2 years</td>\n",
       "      <td>Domestic Shorthair</td>\n",
       "      <td>Blue Tabby</td>\n",
       "      <td>Benji</td>\n",
       "    </tr>\n",
       "    <tr>\n",
       "      <th>990</th>\n",
       "      <td>A813886</td>\n",
       "      <td>2021-03-23 11:53:00</td>\n",
       "      <td>2021-03-23T11:53:00.000</td>\n",
       "      <td>2019-07-20T00:00:00.000</td>\n",
       "      <td>Adoption</td>\n",
       "      <td>NaN</td>\n",
       "      <td>Cat</td>\n",
       "      <td>Spayed Female</td>\n",
       "      <td>1 year</td>\n",
       "      <td>Domestic Shorthair</td>\n",
       "      <td>Black/White</td>\n",
       "      <td>Chula</td>\n",
       "    </tr>\n",
       "  </tbody>\n",
       "</table>\n",
       "<p>96 rows × 12 columns</p>\n",
       "</div>"
      ],
      "text/plain": [
       "    animal_id            datetime                monthyear  \\\n",
       "51    A833244 2021-04-30 18:09:00  2021-04-30T18:09:00.000   \n",
       "52    A833245 2021-04-30 18:08:00  2021-04-30T18:08:00.000   \n",
       "64    A833246 2021-04-30 16:29:00  2021-04-30T16:29:00.000   \n",
       "86    A832117 2021-04-30 12:00:00  2021-04-30T12:00:00.000   \n",
       "99    A833077 2021-04-29 16:25:00  2021-04-29T16:25:00.000   \n",
       "..        ...                 ...                      ...   \n",
       "947   A830787 2021-03-25 10:01:00  2021-03-25T10:01:00.000   \n",
       "957   A831044 2021-03-24 16:41:00  2021-03-24T16:41:00.000   \n",
       "970   A830792 2021-03-23 17:46:00  2021-03-23T17:46:00.000   \n",
       "989   A830435 2021-03-23 11:57:00  2021-03-23T11:57:00.000   \n",
       "990   A813886 2021-03-23 11:53:00  2021-03-23T11:53:00.000   \n",
       "\n",
       "               date_of_birth outcome_type outcome_subtype animal_type  \\\n",
       "51   2019-04-26T00:00:00.000     Adoption             NaN         Cat   \n",
       "52   2021-03-11T00:00:00.000     Adoption             NaN         Cat   \n",
       "64   2021-03-11T00:00:00.000     Adoption             NaN         Cat   \n",
       "86   2019-04-07T00:00:00.000     Adoption             NaN         Cat   \n",
       "99   2020-04-23T00:00:00.000     Adoption             NaN         Cat   \n",
       "..                       ...          ...             ...         ...   \n",
       "947  2019-03-16T00:00:00.000     Adoption             NaN         Cat   \n",
       "957  2020-04-21T00:00:00.000     Adoption             NaN         Cat   \n",
       "970  2020-03-16T00:00:00.000     Adoption             NaN         Cat   \n",
       "989  2018-04-09T00:00:00.000     Adoption          Foster         Cat   \n",
       "990  2019-07-20T00:00:00.000     Adoption             NaN         Cat   \n",
       "\n",
       "    sex_upon_outcome age_upon_outcome                   breed         color  \\\n",
       "51     Spayed Female          2 years      Domestic Shorthair  Orange Tabby   \n",
       "52     Spayed Female          1 month      Domestic Shorthair   Cream Tabby   \n",
       "64     Neutered Male          1 month      Domestic Shorthair   Cream Tabby   \n",
       "86     Neutered Male          2 years  Domestic Shorthair Mix   Brown Tabby   \n",
       "99     Spayed Female           1 year      Domestic Shorthair   White/Black   \n",
       "..               ...              ...                     ...           ...   \n",
       "947      Intact Male          2 years                 Siamese    Lynx Point   \n",
       "957    Spayed Female        11 months      Domestic Shorthair   Brown Tabby   \n",
       "970    Neutered Male           1 year  Domestic Shorthair Mix   Black/White   \n",
       "989    Neutered Male          2 years      Domestic Shorthair    Blue Tabby   \n",
       "990    Spayed Female           1 year      Domestic Shorthair   Black/White   \n",
       "\n",
       "       name  \n",
       "51      NaN  \n",
       "52      NaN  \n",
       "64      NaN  \n",
       "86   Buster  \n",
       "99   *Maeve  \n",
       "..      ...  \n",
       "947   Zimba  \n",
       "957    Kiri  \n",
       "970  Hunnii  \n",
       "989   Benji  \n",
       "990   Chula  \n",
       "\n",
       "[96 rows x 12 columns]"
      ]
     },
     "execution_count": 13,
     "metadata": {},
     "output_type": "execute_result"
    }
   ],
   "source": [
    "# We can then get a specific group, such as Cats that were adopted\n",
    "animal_outcome.get_group(('Cat', 'Adoption'))\n",
    "#don't forget the key is now a tuple"
   ]
  },
  {
   "cell_type": "markdown",
   "metadata": {},
   "source": [
    "### Aggregating"
   ]
  },
  {
   "cell_type": "markdown",
   "metadata": {},
   "source": [
    "Once again, as we will see in SQL, groupby objects are intended to be used with aggregation. In SQL, we will see that our queries that include GROUP BY require aggregation performed on columns.\n",
    "\n",
    "We can use `.sum()`, `.mean()`, `.count()`, `.max()`, `.min()`, etc. Find a list of common aggregations [here](https://pandas.pydata.org/pandas-docs/stable/user_guide/groupby.html)."
   ]
  },
  {
   "cell_type": "code",
   "execution_count": 14,
   "metadata": {},
   "outputs": [
    {
     "data": {
      "text/html": [
       "<div>\n",
       "<style scoped>\n",
       "    .dataframe tbody tr th:only-of-type {\n",
       "        vertical-align: middle;\n",
       "    }\n",
       "\n",
       "    .dataframe tbody tr th {\n",
       "        vertical-align: top;\n",
       "    }\n",
       "\n",
       "    .dataframe thead th {\n",
       "        text-align: right;\n",
       "    }\n",
       "</style>\n",
       "<table border=\"1\" class=\"dataframe\">\n",
       "  <thead>\n",
       "    <tr style=\"text-align: right;\">\n",
       "      <th></th>\n",
       "      <th>animal_id</th>\n",
       "      <th>datetime</th>\n",
       "      <th>monthyear</th>\n",
       "      <th>date_of_birth</th>\n",
       "      <th>outcome_type</th>\n",
       "      <th>outcome_subtype</th>\n",
       "      <th>sex_upon_outcome</th>\n",
       "      <th>age_upon_outcome</th>\n",
       "      <th>breed</th>\n",
       "      <th>color</th>\n",
       "      <th>name</th>\n",
       "    </tr>\n",
       "    <tr>\n",
       "      <th>animal_type</th>\n",
       "      <th></th>\n",
       "      <th></th>\n",
       "      <th></th>\n",
       "      <th></th>\n",
       "      <th></th>\n",
       "      <th></th>\n",
       "      <th></th>\n",
       "      <th></th>\n",
       "      <th></th>\n",
       "      <th></th>\n",
       "      <th></th>\n",
       "    </tr>\n",
       "  </thead>\n",
       "  <tbody>\n",
       "    <tr>\n",
       "      <th>Bird</th>\n",
       "      <td>7</td>\n",
       "      <td>7</td>\n",
       "      <td>7</td>\n",
       "      <td>7</td>\n",
       "      <td>7</td>\n",
       "      <td>5</td>\n",
       "      <td>7</td>\n",
       "      <td>7</td>\n",
       "      <td>7</td>\n",
       "      <td>7</td>\n",
       "      <td>3</td>\n",
       "    </tr>\n",
       "    <tr>\n",
       "      <th>Cat</th>\n",
       "      <td>312</td>\n",
       "      <td>312</td>\n",
       "      <td>312</td>\n",
       "      <td>312</td>\n",
       "      <td>310</td>\n",
       "      <td>227</td>\n",
       "      <td>312</td>\n",
       "      <td>312</td>\n",
       "      <td>312</td>\n",
       "      <td>312</td>\n",
       "      <td>175</td>\n",
       "    </tr>\n",
       "    <tr>\n",
       "      <th>Dog</th>\n",
       "      <td>575</td>\n",
       "      <td>575</td>\n",
       "      <td>575</td>\n",
       "      <td>575</td>\n",
       "      <td>572</td>\n",
       "      <td>220</td>\n",
       "      <td>575</td>\n",
       "      <td>575</td>\n",
       "      <td>575</td>\n",
       "      <td>575</td>\n",
       "      <td>465</td>\n",
       "    </tr>\n",
       "    <tr>\n",
       "      <th>Other</th>\n",
       "      <td>106</td>\n",
       "      <td>106</td>\n",
       "      <td>106</td>\n",
       "      <td>106</td>\n",
       "      <td>106</td>\n",
       "      <td>86</td>\n",
       "      <td>106</td>\n",
       "      <td>106</td>\n",
       "      <td>106</td>\n",
       "      <td>106</td>\n",
       "      <td>16</td>\n",
       "    </tr>\n",
       "  </tbody>\n",
       "</table>\n",
       "</div>"
      ],
      "text/plain": [
       "             animal_id  datetime  monthyear  date_of_birth  outcome_type  \\\n",
       "animal_type                                                                \n",
       "Bird                 7         7          7              7             7   \n",
       "Cat                312       312        312            312           310   \n",
       "Dog                575       575        575            575           572   \n",
       "Other              106       106        106            106           106   \n",
       "\n",
       "             outcome_subtype  sex_upon_outcome  age_upon_outcome  breed  \\\n",
       "animal_type                                                               \n",
       "Bird                       5                 7                 7      7   \n",
       "Cat                      227               312               312    312   \n",
       "Dog                      220               575               575    575   \n",
       "Other                     86               106               106    106   \n",
       "\n",
       "             color  name  \n",
       "animal_type               \n",
       "Bird             7     3  \n",
       "Cat            312   175  \n",
       "Dog            575   465  \n",
       "Other          106    16  "
      ]
     },
     "execution_count": 14,
     "metadata": {},
     "output_type": "execute_result"
    }
   ],
   "source": [
    "animals.groupby('animal_type').count()"
   ]
  },
  {
   "cell_type": "markdown",
   "metadata": {},
   "source": [
    "### Exercise\n",
    "\n",
    "Use `.groupby()` to find the most recently born of each (main) animal type."
   ]
  },
  {
   "cell_type": "code",
   "execution_count": 26,
   "metadata": {},
   "outputs": [
    {
     "data": {
      "text/plain": [
       "animal_type\n",
       "Bird     2021-03-15T00:00:00.000\n",
       "Cat      2021-04-30T00:00:00.000\n",
       "Dog      2021-04-16T00:00:00.000\n",
       "Other    2021-03-27T00:00:00.000\n",
       "Name: date_of_birth, dtype: object"
      ]
     },
     "execution_count": 26,
     "metadata": {},
     "output_type": "execute_result"
    }
   ],
   "source": [
    "animals.groupby('animal_type')['date_of_birth'].max()"
   ]
  },
  {
   "cell_type": "markdown",
   "metadata": {},
   "source": [
    "<details>\n",
    "    <summary>Answer</summary>\n",
    "    <code>animals.groupby('animal_type')['date_of_birth'].max()</code>\n",
    "    </details>"
   ]
  },
  {
   "cell_type": "markdown",
   "metadata": {
    "heading_collapsed": true,
    "hidden": true
   },
   "source": [
    "## Pivoting a DataFrame"
   ]
  },
  {
   "cell_type": "markdown",
   "metadata": {
    "heading_collapsed": true,
    "hidden": true
   },
   "source": [
    "### `.pivot_table()`"
   ]
  },
  {
   "cell_type": "markdown",
   "metadata": {
    "hidden": true
   },
   "source": [
    "Those of you familiar with Excel have probably used Pivot Tables. Pandas has a similar functionality.\n",
    "\n",
    "Grouping by two different columns can be very helpful."
   ]
  },
  {
   "cell_type": "code",
   "execution_count": 27,
   "metadata": {
    "hidden": true
   },
   "outputs": [
    {
     "data": {
      "text/html": [
       "<div>\n",
       "<style scoped>\n",
       "    .dataframe tbody tr th:only-of-type {\n",
       "        vertical-align: middle;\n",
       "    }\n",
       "\n",
       "    .dataframe tbody tr th {\n",
       "        vertical-align: top;\n",
       "    }\n",
       "\n",
       "    .dataframe thead th {\n",
       "        text-align: right;\n",
       "    }\n",
       "</style>\n",
       "<table border=\"1\" class=\"dataframe\">\n",
       "  <thead>\n",
       "    <tr style=\"text-align: right;\">\n",
       "      <th></th>\n",
       "      <th></th>\n",
       "      <th>animal_id</th>\n",
       "      <th>datetime</th>\n",
       "      <th>monthyear</th>\n",
       "      <th>date_of_birth</th>\n",
       "      <th>outcome_subtype</th>\n",
       "      <th>animal_type</th>\n",
       "      <th>age_upon_outcome</th>\n",
       "      <th>breed</th>\n",
       "      <th>color</th>\n",
       "      <th>name</th>\n",
       "    </tr>\n",
       "    <tr>\n",
       "      <th>outcome_type</th>\n",
       "      <th>sex_upon_outcome</th>\n",
       "      <th></th>\n",
       "      <th></th>\n",
       "      <th></th>\n",
       "      <th></th>\n",
       "      <th></th>\n",
       "      <th></th>\n",
       "      <th></th>\n",
       "      <th></th>\n",
       "      <th></th>\n",
       "      <th></th>\n",
       "    </tr>\n",
       "  </thead>\n",
       "  <tbody>\n",
       "    <tr>\n",
       "      <th rowspan=\"5\" valign=\"top\">Adoption</th>\n",
       "      <th>Intact Female</th>\n",
       "      <td>1</td>\n",
       "      <td>1</td>\n",
       "      <td>1</td>\n",
       "      <td>1</td>\n",
       "      <td>1</td>\n",
       "      <td>1</td>\n",
       "      <td>1</td>\n",
       "      <td>1</td>\n",
       "      <td>1</td>\n",
       "      <td>1</td>\n",
       "    </tr>\n",
       "    <tr>\n",
       "      <th>Intact Male</th>\n",
       "      <td>11</td>\n",
       "      <td>11</td>\n",
       "      <td>11</td>\n",
       "      <td>11</td>\n",
       "      <td>11</td>\n",
       "      <td>11</td>\n",
       "      <td>11</td>\n",
       "      <td>11</td>\n",
       "      <td>11</td>\n",
       "      <td>11</td>\n",
       "    </tr>\n",
       "    <tr>\n",
       "      <th>Neutered Male</th>\n",
       "      <td>202</td>\n",
       "      <td>202</td>\n",
       "      <td>202</td>\n",
       "      <td>202</td>\n",
       "      <td>202</td>\n",
       "      <td>202</td>\n",
       "      <td>202</td>\n",
       "      <td>202</td>\n",
       "      <td>202</td>\n",
       "      <td>202</td>\n",
       "    </tr>\n",
       "    <tr>\n",
       "      <th>Spayed Female</th>\n",
       "      <td>203</td>\n",
       "      <td>203</td>\n",
       "      <td>203</td>\n",
       "      <td>203</td>\n",
       "      <td>203</td>\n",
       "      <td>203</td>\n",
       "      <td>203</td>\n",
       "      <td>203</td>\n",
       "      <td>203</td>\n",
       "      <td>203</td>\n",
       "    </tr>\n",
       "    <tr>\n",
       "      <th>Unknown</th>\n",
       "      <td>6</td>\n",
       "      <td>6</td>\n",
       "      <td>6</td>\n",
       "      <td>6</td>\n",
       "      <td>6</td>\n",
       "      <td>6</td>\n",
       "      <td>6</td>\n",
       "      <td>6</td>\n",
       "      <td>6</td>\n",
       "      <td>6</td>\n",
       "    </tr>\n",
       "    <tr>\n",
       "      <th rowspan=\"5\" valign=\"top\">Died</th>\n",
       "      <th>Intact Female</th>\n",
       "      <td>1</td>\n",
       "      <td>1</td>\n",
       "      <td>1</td>\n",
       "      <td>1</td>\n",
       "      <td>1</td>\n",
       "      <td>1</td>\n",
       "      <td>1</td>\n",
       "      <td>1</td>\n",
       "      <td>1</td>\n",
       "      <td>1</td>\n",
       "    </tr>\n",
       "    <tr>\n",
       "      <th>Intact Male</th>\n",
       "      <td>1</td>\n",
       "      <td>1</td>\n",
       "      <td>1</td>\n",
       "      <td>1</td>\n",
       "      <td>1</td>\n",
       "      <td>1</td>\n",
       "      <td>1</td>\n",
       "      <td>1</td>\n",
       "      <td>1</td>\n",
       "      <td>1</td>\n",
       "    </tr>\n",
       "    <tr>\n",
       "      <th>Neutered Male</th>\n",
       "      <td>2</td>\n",
       "      <td>2</td>\n",
       "      <td>2</td>\n",
       "      <td>2</td>\n",
       "      <td>2</td>\n",
       "      <td>2</td>\n",
       "      <td>2</td>\n",
       "      <td>2</td>\n",
       "      <td>2</td>\n",
       "      <td>2</td>\n",
       "    </tr>\n",
       "    <tr>\n",
       "      <th>Spayed Female</th>\n",
       "      <td>1</td>\n",
       "      <td>1</td>\n",
       "      <td>1</td>\n",
       "      <td>1</td>\n",
       "      <td>1</td>\n",
       "      <td>1</td>\n",
       "      <td>1</td>\n",
       "      <td>1</td>\n",
       "      <td>1</td>\n",
       "      <td>1</td>\n",
       "    </tr>\n",
       "    <tr>\n",
       "      <th>Unknown</th>\n",
       "      <td>2</td>\n",
       "      <td>2</td>\n",
       "      <td>2</td>\n",
       "      <td>2</td>\n",
       "      <td>2</td>\n",
       "      <td>2</td>\n",
       "      <td>2</td>\n",
       "      <td>2</td>\n",
       "      <td>2</td>\n",
       "      <td>2</td>\n",
       "    </tr>\n",
       "    <tr>\n",
       "      <th rowspan=\"2\" valign=\"top\">Disposal</th>\n",
       "      <th>Intact Female</th>\n",
       "      <td>1</td>\n",
       "      <td>1</td>\n",
       "      <td>1</td>\n",
       "      <td>1</td>\n",
       "      <td>1</td>\n",
       "      <td>1</td>\n",
       "      <td>1</td>\n",
       "      <td>1</td>\n",
       "      <td>1</td>\n",
       "      <td>1</td>\n",
       "    </tr>\n",
       "    <tr>\n",
       "      <th>Unknown</th>\n",
       "      <td>5</td>\n",
       "      <td>5</td>\n",
       "      <td>5</td>\n",
       "      <td>5</td>\n",
       "      <td>5</td>\n",
       "      <td>5</td>\n",
       "      <td>5</td>\n",
       "      <td>5</td>\n",
       "      <td>5</td>\n",
       "      <td>5</td>\n",
       "    </tr>\n",
       "    <tr>\n",
       "      <th rowspan=\"5\" valign=\"top\">Euthanasia</th>\n",
       "      <th>Intact Female</th>\n",
       "      <td>7</td>\n",
       "      <td>7</td>\n",
       "      <td>7</td>\n",
       "      <td>7</td>\n",
       "      <td>7</td>\n",
       "      <td>7</td>\n",
       "      <td>7</td>\n",
       "      <td>7</td>\n",
       "      <td>7</td>\n",
       "      <td>7</td>\n",
       "    </tr>\n",
       "    <tr>\n",
       "      <th>Intact Male</th>\n",
       "      <td>6</td>\n",
       "      <td>6</td>\n",
       "      <td>6</td>\n",
       "      <td>6</td>\n",
       "      <td>6</td>\n",
       "      <td>6</td>\n",
       "      <td>6</td>\n",
       "      <td>6</td>\n",
       "      <td>6</td>\n",
       "      <td>6</td>\n",
       "    </tr>\n",
       "    <tr>\n",
       "      <th>Neutered Male</th>\n",
       "      <td>6</td>\n",
       "      <td>6</td>\n",
       "      <td>6</td>\n",
       "      <td>6</td>\n",
       "      <td>6</td>\n",
       "      <td>6</td>\n",
       "      <td>6</td>\n",
       "      <td>6</td>\n",
       "      <td>6</td>\n",
       "      <td>6</td>\n",
       "    </tr>\n",
       "    <tr>\n",
       "      <th>Spayed Female</th>\n",
       "      <td>4</td>\n",
       "      <td>4</td>\n",
       "      <td>4</td>\n",
       "      <td>4</td>\n",
       "      <td>4</td>\n",
       "      <td>4</td>\n",
       "      <td>4</td>\n",
       "      <td>4</td>\n",
       "      <td>4</td>\n",
       "      <td>4</td>\n",
       "    </tr>\n",
       "    <tr>\n",
       "      <th>Unknown</th>\n",
       "      <td>86</td>\n",
       "      <td>86</td>\n",
       "      <td>86</td>\n",
       "      <td>86</td>\n",
       "      <td>86</td>\n",
       "      <td>86</td>\n",
       "      <td>86</td>\n",
       "      <td>86</td>\n",
       "      <td>86</td>\n",
       "      <td>86</td>\n",
       "    </tr>\n",
       "    <tr>\n",
       "      <th rowspan=\"5\" valign=\"top\">Return to Owner</th>\n",
       "      <th>Intact Female</th>\n",
       "      <td>20</td>\n",
       "      <td>20</td>\n",
       "      <td>20</td>\n",
       "      <td>20</td>\n",
       "      <td>20</td>\n",
       "      <td>20</td>\n",
       "      <td>20</td>\n",
       "      <td>20</td>\n",
       "      <td>20</td>\n",
       "      <td>20</td>\n",
       "    </tr>\n",
       "    <tr>\n",
       "      <th>Intact Male</th>\n",
       "      <td>39</td>\n",
       "      <td>39</td>\n",
       "      <td>39</td>\n",
       "      <td>39</td>\n",
       "      <td>39</td>\n",
       "      <td>39</td>\n",
       "      <td>39</td>\n",
       "      <td>39</td>\n",
       "      <td>39</td>\n",
       "      <td>39</td>\n",
       "    </tr>\n",
       "    <tr>\n",
       "      <th>Neutered Male</th>\n",
       "      <td>42</td>\n",
       "      <td>42</td>\n",
       "      <td>42</td>\n",
       "      <td>42</td>\n",
       "      <td>42</td>\n",
       "      <td>42</td>\n",
       "      <td>42</td>\n",
       "      <td>42</td>\n",
       "      <td>42</td>\n",
       "      <td>42</td>\n",
       "    </tr>\n",
       "    <tr>\n",
       "      <th>Spayed Female</th>\n",
       "      <td>25</td>\n",
       "      <td>25</td>\n",
       "      <td>25</td>\n",
       "      <td>25</td>\n",
       "      <td>25</td>\n",
       "      <td>25</td>\n",
       "      <td>25</td>\n",
       "      <td>25</td>\n",
       "      <td>25</td>\n",
       "      <td>25</td>\n",
       "    </tr>\n",
       "    <tr>\n",
       "      <th>Unknown</th>\n",
       "      <td>4</td>\n",
       "      <td>4</td>\n",
       "      <td>4</td>\n",
       "      <td>4</td>\n",
       "      <td>4</td>\n",
       "      <td>4</td>\n",
       "      <td>4</td>\n",
       "      <td>4</td>\n",
       "      <td>4</td>\n",
       "      <td>4</td>\n",
       "    </tr>\n",
       "    <tr>\n",
       "      <th rowspan=\"3\" valign=\"top\">Rto-Adopt</th>\n",
       "      <th>Intact Female</th>\n",
       "      <td>1</td>\n",
       "      <td>1</td>\n",
       "      <td>1</td>\n",
       "      <td>1</td>\n",
       "      <td>1</td>\n",
       "      <td>1</td>\n",
       "      <td>1</td>\n",
       "      <td>1</td>\n",
       "      <td>1</td>\n",
       "      <td>1</td>\n",
       "    </tr>\n",
       "    <tr>\n",
       "      <th>Neutered Male</th>\n",
       "      <td>4</td>\n",
       "      <td>4</td>\n",
       "      <td>4</td>\n",
       "      <td>4</td>\n",
       "      <td>4</td>\n",
       "      <td>4</td>\n",
       "      <td>4</td>\n",
       "      <td>4</td>\n",
       "      <td>4</td>\n",
       "      <td>4</td>\n",
       "    </tr>\n",
       "    <tr>\n",
       "      <th>Spayed Female</th>\n",
       "      <td>8</td>\n",
       "      <td>8</td>\n",
       "      <td>8</td>\n",
       "      <td>8</td>\n",
       "      <td>8</td>\n",
       "      <td>8</td>\n",
       "      <td>8</td>\n",
       "      <td>8</td>\n",
       "      <td>8</td>\n",
       "      <td>8</td>\n",
       "    </tr>\n",
       "    <tr>\n",
       "      <th rowspan=\"5\" valign=\"top\">Transfer</th>\n",
       "      <th>Intact Female</th>\n",
       "      <td>91</td>\n",
       "      <td>91</td>\n",
       "      <td>91</td>\n",
       "      <td>91</td>\n",
       "      <td>91</td>\n",
       "      <td>91</td>\n",
       "      <td>91</td>\n",
       "      <td>91</td>\n",
       "      <td>91</td>\n",
       "      <td>91</td>\n",
       "    </tr>\n",
       "    <tr>\n",
       "      <th>Intact Male</th>\n",
       "      <td>98</td>\n",
       "      <td>98</td>\n",
       "      <td>98</td>\n",
       "      <td>98</td>\n",
       "      <td>98</td>\n",
       "      <td>98</td>\n",
       "      <td>98</td>\n",
       "      <td>98</td>\n",
       "      <td>98</td>\n",
       "      <td>98</td>\n",
       "    </tr>\n",
       "    <tr>\n",
       "      <th>Neutered Male</th>\n",
       "      <td>64</td>\n",
       "      <td>64</td>\n",
       "      <td>64</td>\n",
       "      <td>64</td>\n",
       "      <td>64</td>\n",
       "      <td>64</td>\n",
       "      <td>64</td>\n",
       "      <td>64</td>\n",
       "      <td>64</td>\n",
       "      <td>64</td>\n",
       "    </tr>\n",
       "    <tr>\n",
       "      <th>Spayed Female</th>\n",
       "      <td>43</td>\n",
       "      <td>43</td>\n",
       "      <td>43</td>\n",
       "      <td>43</td>\n",
       "      <td>43</td>\n",
       "      <td>43</td>\n",
       "      <td>43</td>\n",
       "      <td>43</td>\n",
       "      <td>43</td>\n",
       "      <td>43</td>\n",
       "    </tr>\n",
       "    <tr>\n",
       "      <th>Unknown</th>\n",
       "      <td>11</td>\n",
       "      <td>11</td>\n",
       "      <td>11</td>\n",
       "      <td>11</td>\n",
       "      <td>11</td>\n",
       "      <td>11</td>\n",
       "      <td>11</td>\n",
       "      <td>11</td>\n",
       "      <td>11</td>\n",
       "      <td>11</td>\n",
       "    </tr>\n",
       "  </tbody>\n",
       "</table>\n",
       "</div>"
      ],
      "text/plain": [
       "                                  animal_id  datetime  monthyear  \\\n",
       "outcome_type    sex_upon_outcome                                   \n",
       "Adoption        Intact Female             1         1          1   \n",
       "                Intact Male              11        11         11   \n",
       "                Neutered Male           202       202        202   \n",
       "                Spayed Female           203       203        203   \n",
       "                Unknown                   6         6          6   \n",
       "Died            Intact Female             1         1          1   \n",
       "                Intact Male               1         1          1   \n",
       "                Neutered Male             2         2          2   \n",
       "                Spayed Female             1         1          1   \n",
       "                Unknown                   2         2          2   \n",
       "Disposal        Intact Female             1         1          1   \n",
       "                Unknown                   5         5          5   \n",
       "Euthanasia      Intact Female             7         7          7   \n",
       "                Intact Male               6         6          6   \n",
       "                Neutered Male             6         6          6   \n",
       "                Spayed Female             4         4          4   \n",
       "                Unknown                  86        86         86   \n",
       "Return to Owner Intact Female            20        20         20   \n",
       "                Intact Male              39        39         39   \n",
       "                Neutered Male            42        42         42   \n",
       "                Spayed Female            25        25         25   \n",
       "                Unknown                   4         4          4   \n",
       "Rto-Adopt       Intact Female             1         1          1   \n",
       "                Neutered Male             4         4          4   \n",
       "                Spayed Female             8         8          8   \n",
       "Transfer        Intact Female            91        91         91   \n",
       "                Intact Male              98        98         98   \n",
       "                Neutered Male            64        64         64   \n",
       "                Spayed Female            43        43         43   \n",
       "                Unknown                  11        11         11   \n",
       "\n",
       "                                  date_of_birth  outcome_subtype  animal_type  \\\n",
       "outcome_type    sex_upon_outcome                                                \n",
       "Adoption        Intact Female                 1                1            1   \n",
       "                Intact Male                  11               11           11   \n",
       "                Neutered Male               202              202          202   \n",
       "                Spayed Female               203              203          203   \n",
       "                Unknown                       6                6            6   \n",
       "Died            Intact Female                 1                1            1   \n",
       "                Intact Male                   1                1            1   \n",
       "                Neutered Male                 2                2            2   \n",
       "                Spayed Female                 1                1            1   \n",
       "                Unknown                       2                2            2   \n",
       "Disposal        Intact Female                 1                1            1   \n",
       "                Unknown                       5                5            5   \n",
       "Euthanasia      Intact Female                 7                7            7   \n",
       "                Intact Male                   6                6            6   \n",
       "                Neutered Male                 6                6            6   \n",
       "                Spayed Female                 4                4            4   \n",
       "                Unknown                      86               86           86   \n",
       "Return to Owner Intact Female                20               20           20   \n",
       "                Intact Male                  39               39           39   \n",
       "                Neutered Male                42               42           42   \n",
       "                Spayed Female                25               25           25   \n",
       "                Unknown                       4                4            4   \n",
       "Rto-Adopt       Intact Female                 1                1            1   \n",
       "                Neutered Male                 4                4            4   \n",
       "                Spayed Female                 8                8            8   \n",
       "Transfer        Intact Female                91               91           91   \n",
       "                Intact Male                  98               98           98   \n",
       "                Neutered Male                64               64           64   \n",
       "                Spayed Female                43               43           43   \n",
       "                Unknown                      11               11           11   \n",
       "\n",
       "                                  age_upon_outcome  breed  color  name  \n",
       "outcome_type    sex_upon_outcome                                        \n",
       "Adoption        Intact Female                    1      1      1     1  \n",
       "                Intact Male                     11     11     11    11  \n",
       "                Neutered Male                  202    202    202   202  \n",
       "                Spayed Female                  203    203    203   203  \n",
       "                Unknown                          6      6      6     6  \n",
       "Died            Intact Female                    1      1      1     1  \n",
       "                Intact Male                      1      1      1     1  \n",
       "                Neutered Male                    2      2      2     2  \n",
       "                Spayed Female                    1      1      1     1  \n",
       "                Unknown                          2      2      2     2  \n",
       "Disposal        Intact Female                    1      1      1     1  \n",
       "                Unknown                          5      5      5     5  \n",
       "Euthanasia      Intact Female                    7      7      7     7  \n",
       "                Intact Male                      6      6      6     6  \n",
       "                Neutered Male                    6      6      6     6  \n",
       "                Spayed Female                    4      4      4     4  \n",
       "                Unknown                         86     86     86    86  \n",
       "Return to Owner Intact Female                   20     20     20    20  \n",
       "                Intact Male                     39     39     39    39  \n",
       "                Neutered Male                   42     42     42    42  \n",
       "                Spayed Female                   25     25     25    25  \n",
       "                Unknown                          4      4      4     4  \n",
       "Rto-Adopt       Intact Female                    1      1      1     1  \n",
       "                Neutered Male                    4      4      4     4  \n",
       "                Spayed Female                    8      8      8     8  \n",
       "Transfer        Intact Female                   91     91     91    91  \n",
       "                Intact Male                     98     98     98    98  \n",
       "                Neutered Male                   64     64     64    64  \n",
       "                Spayed Female                   43     43     43    43  \n",
       "                Unknown                         11     11     11    11  "
      ]
     },
     "execution_count": 27,
     "metadata": {},
     "output_type": "execute_result"
    }
   ],
   "source": [
    "animals.groupby(by=['outcome_type', 'sex_upon_outcome']).agg(len)"
   ]
  },
  {
   "cell_type": "markdown",
   "metadata": {
    "hidden": true
   },
   "source": [
    "But it has the unsavory side effect of creating a two-level index. This can be a good time to use `.pivot_table()`.\n",
    "\n",
    "(There is also a `.pivot()`. For the somewhat subtle differences, see [here](https://stackoverflow.com/questions/30960338/pandas-difference-between-pivot-and-pivot-table-why-is-only-pivot-table-workin).)"
   ]
  },
  {
   "cell_type": "markdown",
   "metadata": {},
   "source": [
    "#### Example"
   ]
  },
  {
   "cell_type": "code",
   "execution_count": 28,
   "metadata": {},
   "outputs": [
    {
     "data": {
      "text/html": [
       "<div>\n",
       "<style scoped>\n",
       "    .dataframe tbody tr th:only-of-type {\n",
       "        vertical-align: middle;\n",
       "    }\n",
       "\n",
       "    .dataframe tbody tr th {\n",
       "        vertical-align: top;\n",
       "    }\n",
       "\n",
       "    .dataframe thead th {\n",
       "        text-align: right;\n",
       "    }\n",
       "</style>\n",
       "<table border=\"1\" class=\"dataframe\">\n",
       "  <thead>\n",
       "    <tr style=\"text-align: right;\">\n",
       "      <th></th>\n",
       "      <th>sex</th>\n",
       "      <th>num_puppies</th>\n",
       "      <th>breed</th>\n",
       "      <th>past_owners</th>\n",
       "      <th>family_members</th>\n",
       "    </tr>\n",
       "  </thead>\n",
       "  <tbody>\n",
       "    <tr>\n",
       "      <th>0</th>\n",
       "      <td>male</td>\n",
       "      <td>one</td>\n",
       "      <td>terrier</td>\n",
       "      <td>1</td>\n",
       "      <td>2</td>\n",
       "    </tr>\n",
       "    <tr>\n",
       "      <th>1</th>\n",
       "      <td>male</td>\n",
       "      <td>one</td>\n",
       "      <td>retriever</td>\n",
       "      <td>2</td>\n",
       "      <td>4</td>\n",
       "    </tr>\n",
       "    <tr>\n",
       "      <th>2</th>\n",
       "      <td>male</td>\n",
       "      <td>one</td>\n",
       "      <td>retriever</td>\n",
       "      <td>2</td>\n",
       "      <td>5</td>\n",
       "    </tr>\n",
       "    <tr>\n",
       "      <th>3</th>\n",
       "      <td>male</td>\n",
       "      <td>two</td>\n",
       "      <td>terrier</td>\n",
       "      <td>3</td>\n",
       "      <td>5</td>\n",
       "    </tr>\n",
       "    <tr>\n",
       "      <th>4</th>\n",
       "      <td>male</td>\n",
       "      <td>two</td>\n",
       "      <td>terrier</td>\n",
       "      <td>3</td>\n",
       "      <td>6</td>\n",
       "    </tr>\n",
       "    <tr>\n",
       "      <th>5</th>\n",
       "      <td>female</td>\n",
       "      <td>one</td>\n",
       "      <td>retriever</td>\n",
       "      <td>4</td>\n",
       "      <td>6</td>\n",
       "    </tr>\n",
       "    <tr>\n",
       "      <th>6</th>\n",
       "      <td>female</td>\n",
       "      <td>one</td>\n",
       "      <td>terrier</td>\n",
       "      <td>5</td>\n",
       "      <td>8</td>\n",
       "    </tr>\n",
       "    <tr>\n",
       "      <th>7</th>\n",
       "      <td>female</td>\n",
       "      <td>two</td>\n",
       "      <td>terrier</td>\n",
       "      <td>6</td>\n",
       "      <td>9</td>\n",
       "    </tr>\n",
       "    <tr>\n",
       "      <th>8</th>\n",
       "      <td>female</td>\n",
       "      <td>two</td>\n",
       "      <td>retriever</td>\n",
       "      <td>7</td>\n",
       "      <td>9</td>\n",
       "    </tr>\n",
       "  </tbody>\n",
       "</table>\n",
       "</div>"
      ],
      "text/plain": [
       "      sex num_puppies      breed  past_owners  family_members\n",
       "0    male         one    terrier            1               2\n",
       "1    male         one  retriever            2               4\n",
       "2    male         one  retriever            2               5\n",
       "3    male         two    terrier            3               5\n",
       "4    male         two    terrier            3               6\n",
       "5  female         one  retriever            4               6\n",
       "6  female         one    terrier            5               8\n",
       "7  female         two    terrier            6               9\n",
       "8  female         two  retriever            7               9"
      ]
     },
     "execution_count": 28,
     "metadata": {},
     "output_type": "execute_result"
    }
   ],
   "source": [
    "df = pd.DataFrame({\"sex\": [\"male\", \"male\", \"male\", \"male\", \"male\",\n",
    "                          \"female\", \"female\", \"female\", \"female\"],\n",
    "                    \"num_puppies\": [\"one\", \"one\", \"one\", \"two\", \"two\",\n",
    "                          \"one\", \"one\", \"two\", \"two\"],\n",
    "                    \"breed\": [\"terrier\", \"retriever\", \"retriever\", \"terrier\",\n",
    "                          \"terrier\", \"retriever\", \"terrier\", \"terrier\",\n",
    "                          \"retriever\"],\n",
    "                    \"past_owners\": [1, 2, 2, 3, 3, 4, 5, 6, 7],\n",
    "                    \"family_members\": [2, 4, 5, 5, 6, 6, 8, 9, 9]})\n",
    "df"
   ]
  },
  {
   "cell_type": "code",
   "execution_count": 29,
   "metadata": {},
   "outputs": [
    {
     "data": {
      "text/html": [
       "<div>\n",
       "<style scoped>\n",
       "    .dataframe tbody tr th:only-of-type {\n",
       "        vertical-align: middle;\n",
       "    }\n",
       "\n",
       "    .dataframe tbody tr th {\n",
       "        vertical-align: top;\n",
       "    }\n",
       "\n",
       "    .dataframe thead th {\n",
       "        text-align: right;\n",
       "    }\n",
       "</style>\n",
       "<table border=\"1\" class=\"dataframe\">\n",
       "  <thead>\n",
       "    <tr style=\"text-align: right;\">\n",
       "      <th></th>\n",
       "      <th>breed</th>\n",
       "      <th>retriever</th>\n",
       "      <th>terrier</th>\n",
       "    </tr>\n",
       "    <tr>\n",
       "      <th>sex</th>\n",
       "      <th>num_puppies</th>\n",
       "      <th></th>\n",
       "      <th></th>\n",
       "    </tr>\n",
       "  </thead>\n",
       "  <tbody>\n",
       "    <tr>\n",
       "      <th rowspan=\"2\" valign=\"top\">female</th>\n",
       "      <th>one</th>\n",
       "      <td>4.0</td>\n",
       "      <td>5.0</td>\n",
       "    </tr>\n",
       "    <tr>\n",
       "      <th>two</th>\n",
       "      <td>7.0</td>\n",
       "      <td>6.0</td>\n",
       "    </tr>\n",
       "    <tr>\n",
       "      <th rowspan=\"2\" valign=\"top\">male</th>\n",
       "      <th>one</th>\n",
       "      <td>4.0</td>\n",
       "      <td>1.0</td>\n",
       "    </tr>\n",
       "    <tr>\n",
       "      <th>two</th>\n",
       "      <td>NaN</td>\n",
       "      <td>6.0</td>\n",
       "    </tr>\n",
       "  </tbody>\n",
       "</table>\n",
       "</div>"
      ],
      "text/plain": [
       "breed               retriever  terrier\n",
       "sex    num_puppies                    \n",
       "female one                4.0      5.0\n",
       "       two                7.0      6.0\n",
       "male   one                4.0      1.0\n",
       "       two                NaN      6.0"
      ]
     },
     "execution_count": 29,
     "metadata": {},
     "output_type": "execute_result"
    }
   ],
   "source": [
    "# This first example aggregates values by taking the sum.\n",
    "\n",
    "table = pd.pivot_table(df, values='past_owners', index=['sex', 'num_puppies'],\n",
    "                     columns=['breed'], aggfunc=np.sum)\n",
    "table"
   ]
  },
  {
   "cell_type": "markdown",
   "metadata": {},
   "source": [
    "#### Back to Austin animals"
   ]
  },
  {
   "cell_type": "code",
   "execution_count": 30,
   "metadata": {
    "hidden": true
   },
   "outputs": [
    {
     "data": {
      "text/html": [
       "<div>\n",
       "<style scoped>\n",
       "    .dataframe tbody tr th:only-of-type {\n",
       "        vertical-align: middle;\n",
       "    }\n",
       "\n",
       "    .dataframe tbody tr th {\n",
       "        vertical-align: top;\n",
       "    }\n",
       "\n",
       "    .dataframe thead tr th {\n",
       "        text-align: left;\n",
       "    }\n",
       "\n",
       "    .dataframe thead tr:last-of-type th {\n",
       "        text-align: right;\n",
       "    }\n",
       "</style>\n",
       "<table border=\"1\" class=\"dataframe\">\n",
       "  <thead>\n",
       "    <tr>\n",
       "      <th></th>\n",
       "      <th colspan=\"5\" halign=\"left\">age_upon_outcome</th>\n",
       "      <th colspan=\"5\" halign=\"left\">animal_id</th>\n",
       "      <th>...</th>\n",
       "      <th colspan=\"5\" halign=\"left\">name</th>\n",
       "      <th colspan=\"5\" halign=\"left\">outcome_subtype</th>\n",
       "    </tr>\n",
       "    <tr>\n",
       "      <th>sex_upon_outcome</th>\n",
       "      <th>Intact Female</th>\n",
       "      <th>Intact Male</th>\n",
       "      <th>Neutered Male</th>\n",
       "      <th>Spayed Female</th>\n",
       "      <th>Unknown</th>\n",
       "      <th>Intact Female</th>\n",
       "      <th>Intact Male</th>\n",
       "      <th>Neutered Male</th>\n",
       "      <th>Spayed Female</th>\n",
       "      <th>Unknown</th>\n",
       "      <th>...</th>\n",
       "      <th>Intact Female</th>\n",
       "      <th>Intact Male</th>\n",
       "      <th>Neutered Male</th>\n",
       "      <th>Spayed Female</th>\n",
       "      <th>Unknown</th>\n",
       "      <th>Intact Female</th>\n",
       "      <th>Intact Male</th>\n",
       "      <th>Neutered Male</th>\n",
       "      <th>Spayed Female</th>\n",
       "      <th>Unknown</th>\n",
       "    </tr>\n",
       "    <tr>\n",
       "      <th>outcome_type</th>\n",
       "      <th></th>\n",
       "      <th></th>\n",
       "      <th></th>\n",
       "      <th></th>\n",
       "      <th></th>\n",
       "      <th></th>\n",
       "      <th></th>\n",
       "      <th></th>\n",
       "      <th></th>\n",
       "      <th></th>\n",
       "      <th></th>\n",
       "      <th></th>\n",
       "      <th></th>\n",
       "      <th></th>\n",
       "      <th></th>\n",
       "      <th></th>\n",
       "      <th></th>\n",
       "      <th></th>\n",
       "      <th></th>\n",
       "      <th></th>\n",
       "      <th></th>\n",
       "    </tr>\n",
       "  </thead>\n",
       "  <tbody>\n",
       "    <tr>\n",
       "      <th>Adoption</th>\n",
       "      <td>1.0</td>\n",
       "      <td>11.0</td>\n",
       "      <td>202.0</td>\n",
       "      <td>203.0</td>\n",
       "      <td>6.0</td>\n",
       "      <td>1.0</td>\n",
       "      <td>11.0</td>\n",
       "      <td>202.0</td>\n",
       "      <td>203.0</td>\n",
       "      <td>6.0</td>\n",
       "      <td>...</td>\n",
       "      <td>1.0</td>\n",
       "      <td>11.0</td>\n",
       "      <td>202.0</td>\n",
       "      <td>203.0</td>\n",
       "      <td>6.0</td>\n",
       "      <td>1.0</td>\n",
       "      <td>11.0</td>\n",
       "      <td>202.0</td>\n",
       "      <td>203.0</td>\n",
       "      <td>6.0</td>\n",
       "    </tr>\n",
       "    <tr>\n",
       "      <th>Died</th>\n",
       "      <td>1.0</td>\n",
       "      <td>1.0</td>\n",
       "      <td>2.0</td>\n",
       "      <td>1.0</td>\n",
       "      <td>2.0</td>\n",
       "      <td>1.0</td>\n",
       "      <td>1.0</td>\n",
       "      <td>2.0</td>\n",
       "      <td>1.0</td>\n",
       "      <td>2.0</td>\n",
       "      <td>...</td>\n",
       "      <td>1.0</td>\n",
       "      <td>1.0</td>\n",
       "      <td>2.0</td>\n",
       "      <td>1.0</td>\n",
       "      <td>2.0</td>\n",
       "      <td>1.0</td>\n",
       "      <td>1.0</td>\n",
       "      <td>2.0</td>\n",
       "      <td>1.0</td>\n",
       "      <td>2.0</td>\n",
       "    </tr>\n",
       "    <tr>\n",
       "      <th>Disposal</th>\n",
       "      <td>1.0</td>\n",
       "      <td>NaN</td>\n",
       "      <td>NaN</td>\n",
       "      <td>NaN</td>\n",
       "      <td>5.0</td>\n",
       "      <td>1.0</td>\n",
       "      <td>NaN</td>\n",
       "      <td>NaN</td>\n",
       "      <td>NaN</td>\n",
       "      <td>5.0</td>\n",
       "      <td>...</td>\n",
       "      <td>1.0</td>\n",
       "      <td>NaN</td>\n",
       "      <td>NaN</td>\n",
       "      <td>NaN</td>\n",
       "      <td>5.0</td>\n",
       "      <td>1.0</td>\n",
       "      <td>NaN</td>\n",
       "      <td>NaN</td>\n",
       "      <td>NaN</td>\n",
       "      <td>5.0</td>\n",
       "    </tr>\n",
       "    <tr>\n",
       "      <th>Euthanasia</th>\n",
       "      <td>7.0</td>\n",
       "      <td>6.0</td>\n",
       "      <td>6.0</td>\n",
       "      <td>4.0</td>\n",
       "      <td>86.0</td>\n",
       "      <td>7.0</td>\n",
       "      <td>6.0</td>\n",
       "      <td>6.0</td>\n",
       "      <td>4.0</td>\n",
       "      <td>86.0</td>\n",
       "      <td>...</td>\n",
       "      <td>7.0</td>\n",
       "      <td>6.0</td>\n",
       "      <td>6.0</td>\n",
       "      <td>4.0</td>\n",
       "      <td>86.0</td>\n",
       "      <td>7.0</td>\n",
       "      <td>6.0</td>\n",
       "      <td>6.0</td>\n",
       "      <td>4.0</td>\n",
       "      <td>86.0</td>\n",
       "    </tr>\n",
       "    <tr>\n",
       "      <th>Return to Owner</th>\n",
       "      <td>20.0</td>\n",
       "      <td>39.0</td>\n",
       "      <td>42.0</td>\n",
       "      <td>25.0</td>\n",
       "      <td>4.0</td>\n",
       "      <td>20.0</td>\n",
       "      <td>39.0</td>\n",
       "      <td>42.0</td>\n",
       "      <td>25.0</td>\n",
       "      <td>4.0</td>\n",
       "      <td>...</td>\n",
       "      <td>20.0</td>\n",
       "      <td>39.0</td>\n",
       "      <td>42.0</td>\n",
       "      <td>25.0</td>\n",
       "      <td>4.0</td>\n",
       "      <td>20.0</td>\n",
       "      <td>39.0</td>\n",
       "      <td>42.0</td>\n",
       "      <td>25.0</td>\n",
       "      <td>4.0</td>\n",
       "    </tr>\n",
       "    <tr>\n",
       "      <th>Rto-Adopt</th>\n",
       "      <td>1.0</td>\n",
       "      <td>NaN</td>\n",
       "      <td>4.0</td>\n",
       "      <td>8.0</td>\n",
       "      <td>NaN</td>\n",
       "      <td>1.0</td>\n",
       "      <td>NaN</td>\n",
       "      <td>4.0</td>\n",
       "      <td>8.0</td>\n",
       "      <td>NaN</td>\n",
       "      <td>...</td>\n",
       "      <td>1.0</td>\n",
       "      <td>NaN</td>\n",
       "      <td>4.0</td>\n",
       "      <td>8.0</td>\n",
       "      <td>NaN</td>\n",
       "      <td>1.0</td>\n",
       "      <td>NaN</td>\n",
       "      <td>4.0</td>\n",
       "      <td>8.0</td>\n",
       "      <td>NaN</td>\n",
       "    </tr>\n",
       "    <tr>\n",
       "      <th>Transfer</th>\n",
       "      <td>91.0</td>\n",
       "      <td>98.0</td>\n",
       "      <td>64.0</td>\n",
       "      <td>43.0</td>\n",
       "      <td>11.0</td>\n",
       "      <td>91.0</td>\n",
       "      <td>98.0</td>\n",
       "      <td>64.0</td>\n",
       "      <td>43.0</td>\n",
       "      <td>11.0</td>\n",
       "      <td>...</td>\n",
       "      <td>91.0</td>\n",
       "      <td>98.0</td>\n",
       "      <td>64.0</td>\n",
       "      <td>43.0</td>\n",
       "      <td>11.0</td>\n",
       "      <td>91.0</td>\n",
       "      <td>98.0</td>\n",
       "      <td>64.0</td>\n",
       "      <td>43.0</td>\n",
       "      <td>11.0</td>\n",
       "    </tr>\n",
       "  </tbody>\n",
       "</table>\n",
       "<p>7 rows × 50 columns</p>\n",
       "</div>"
      ],
      "text/plain": [
       "                 age_upon_outcome                                          \\\n",
       "sex_upon_outcome    Intact Female Intact Male Neutered Male Spayed Female   \n",
       "outcome_type                                                                \n",
       "Adoption                      1.0        11.0         202.0         203.0   \n",
       "Died                          1.0         1.0           2.0           1.0   \n",
       "Disposal                      1.0         NaN           NaN           NaN   \n",
       "Euthanasia                    7.0         6.0           6.0           4.0   \n",
       "Return to Owner              20.0        39.0          42.0          25.0   \n",
       "Rto-Adopt                     1.0         NaN           4.0           8.0   \n",
       "Transfer                     91.0        98.0          64.0          43.0   \n",
       "\n",
       "                             animal_id                            \\\n",
       "sex_upon_outcome Unknown Intact Female Intact Male Neutered Male   \n",
       "outcome_type                                                       \n",
       "Adoption             6.0           1.0        11.0         202.0   \n",
       "Died                 2.0           1.0         1.0           2.0   \n",
       "Disposal             5.0           1.0         NaN           NaN   \n",
       "Euthanasia          86.0           7.0         6.0           6.0   \n",
       "Return to Owner      4.0          20.0        39.0          42.0   \n",
       "Rto-Adopt            NaN           1.0         NaN           4.0   \n",
       "Transfer            11.0          91.0        98.0          64.0   \n",
       "\n",
       "                                        ...          name              \\\n",
       "sex_upon_outcome Spayed Female Unknown  ... Intact Female Intact Male   \n",
       "outcome_type                            ...                             \n",
       "Adoption                 203.0     6.0  ...           1.0        11.0   \n",
       "Died                       1.0     2.0  ...           1.0         1.0   \n",
       "Disposal                   NaN     5.0  ...           1.0         NaN   \n",
       "Euthanasia                 4.0    86.0  ...           7.0         6.0   \n",
       "Return to Owner           25.0     4.0  ...          20.0        39.0   \n",
       "Rto-Adopt                  8.0     NaN  ...           1.0         NaN   \n",
       "Transfer                  43.0    11.0  ...          91.0        98.0   \n",
       "\n",
       "                                                     outcome_subtype  \\\n",
       "sex_upon_outcome Neutered Male Spayed Female Unknown   Intact Female   \n",
       "outcome_type                                                           \n",
       "Adoption                 202.0         203.0     6.0             1.0   \n",
       "Died                       2.0           1.0     2.0             1.0   \n",
       "Disposal                   NaN           NaN     5.0             1.0   \n",
       "Euthanasia                 6.0           4.0    86.0             7.0   \n",
       "Return to Owner           42.0          25.0     4.0            20.0   \n",
       "Rto-Adopt                  4.0           8.0     NaN             1.0   \n",
       "Transfer                  64.0          43.0    11.0            91.0   \n",
       "\n",
       "                                                                  \n",
       "sex_upon_outcome Intact Male Neutered Male Spayed Female Unknown  \n",
       "outcome_type                                                      \n",
       "Adoption                11.0         202.0         203.0     6.0  \n",
       "Died                     1.0           2.0           1.0     2.0  \n",
       "Disposal                 NaN           NaN           NaN     5.0  \n",
       "Euthanasia               6.0           6.0           4.0    86.0  \n",
       "Return to Owner         39.0          42.0          25.0     4.0  \n",
       "Rto-Adopt                NaN           4.0           8.0     NaN  \n",
       "Transfer                98.0          64.0          43.0    11.0  \n",
       "\n",
       "[7 rows x 50 columns]"
      ]
     },
     "execution_count": 30,
     "metadata": {},
     "output_type": "execute_result"
    }
   ],
   "source": [
    "animals.pivot_table(index='outcome_type', columns='sex_upon_outcome', aggfunc=len)"
   ]
  },
  {
   "cell_type": "markdown",
   "metadata": {},
   "source": [
    "### Exercise\n",
    "\n",
    "Use `.pivot_table()` to add up the number of my tasks by category. Hint: Use `sum()` as your aggregating function."
   ]
  },
  {
   "cell_type": "code",
   "execution_count": 31,
   "metadata": {},
   "outputs": [
    {
     "data": {
      "text/html": [
       "<div>\n",
       "<style scoped>\n",
       "    .dataframe tbody tr th:only-of-type {\n",
       "        vertical-align: middle;\n",
       "    }\n",
       "\n",
       "    .dataframe tbody tr th {\n",
       "        vertical-align: top;\n",
       "    }\n",
       "\n",
       "    .dataframe thead th {\n",
       "        text-align: right;\n",
       "    }\n",
       "</style>\n",
       "<table border=\"1\" class=\"dataframe\">\n",
       "  <thead>\n",
       "    <tr style=\"text-align: right;\">\n",
       "      <th></th>\n",
       "      <th>category</th>\n",
       "      <th>descr</th>\n",
       "      <th>priority</th>\n",
       "      <th>num_tasks</th>\n",
       "    </tr>\n",
       "  </thead>\n",
       "  <tbody>\n",
       "    <tr>\n",
       "      <th>0</th>\n",
       "      <td>house</td>\n",
       "      <td>kitchen</td>\n",
       "      <td>2</td>\n",
       "      <td>2</td>\n",
       "    </tr>\n",
       "    <tr>\n",
       "      <th>1</th>\n",
       "      <td>house</td>\n",
       "      <td>laundry</td>\n",
       "      <td>3</td>\n",
       "      <td>1</td>\n",
       "    </tr>\n",
       "    <tr>\n",
       "      <th>2</th>\n",
       "      <td>school</td>\n",
       "      <td>git</td>\n",
       "      <td>4</td>\n",
       "      <td>2</td>\n",
       "    </tr>\n",
       "    <tr>\n",
       "      <th>3</th>\n",
       "      <td>school</td>\n",
       "      <td>Python</td>\n",
       "      <td>1</td>\n",
       "      <td>3</td>\n",
       "    </tr>\n",
       "  </tbody>\n",
       "</table>\n",
       "</div>"
      ],
      "text/plain": [
       "  category    descr  priority  num_tasks\n",
       "0    house  kitchen         2          2\n",
       "1    house  laundry         3          1\n",
       "2   school      git         4          2\n",
       "3   school   Python         1          3"
      ]
     },
     "execution_count": 31,
     "metadata": {},
     "output_type": "execute_result"
    }
   ],
   "source": [
    "tasks = pd.DataFrame({'category': ['house', 'house', 'school', 'school'],\n",
    "                      'descr': ['kitchen', 'laundry', 'git', 'Python'],\n",
    "                      'priority': [2, 3, 4, 1], 'num_tasks': [2, 1, 2, 3]})\n",
    "\n",
    "tasks"
   ]
  },
  {
   "cell_type": "code",
   "execution_count": 39,
   "metadata": {},
   "outputs": [
    {
     "data": {
      "text/html": [
       "<div>\n",
       "<style scoped>\n",
       "    .dataframe tbody tr th:only-of-type {\n",
       "        vertical-align: middle;\n",
       "    }\n",
       "\n",
       "    .dataframe tbody tr th {\n",
       "        vertical-align: top;\n",
       "    }\n",
       "\n",
       "    .dataframe thead th {\n",
       "        text-align: right;\n",
       "    }\n",
       "</style>\n",
       "<table border=\"1\" class=\"dataframe\">\n",
       "  <thead>\n",
       "    <tr style=\"text-align: right;\">\n",
       "      <th></th>\n",
       "      <th>num_tasks</th>\n",
       "    </tr>\n",
       "    <tr>\n",
       "      <th>category</th>\n",
       "      <th></th>\n",
       "    </tr>\n",
       "  </thead>\n",
       "  <tbody>\n",
       "    <tr>\n",
       "      <th>house</th>\n",
       "      <td>3</td>\n",
       "    </tr>\n",
       "    <tr>\n",
       "      <th>school</th>\n",
       "      <td>5</td>\n",
       "    </tr>\n",
       "  </tbody>\n",
       "</table>\n",
       "</div>"
      ],
      "text/plain": [
       "          num_tasks\n",
       "category           \n",
       "house             3\n",
       "school            5"
      ]
     },
     "execution_count": 39,
     "metadata": {},
     "output_type": "execute_result"
    }
   ],
   "source": [
    "table = tasks.pivot_table(values='num_tasks', index='category', aggfunc=sum)\n",
    "table"
   ]
  },
  {
   "cell_type": "markdown",
   "metadata": {},
   "source": [
    "<details>\n",
    "    <summary>Answer</summary>\n",
    "    <code>tasks.pivot_table(values='num_tasks', index='category', aggfunc=sum)</code>\n",
    "    </details>"
   ]
  },
  {
   "cell_type": "markdown",
   "metadata": {
    "heading_collapsed": true,
    "hidden": true
   },
   "source": [
    "## Methods for Combining DataFrames: `.join()`, `.merge()`, `pd.concat()`"
   ]
  },
  {
   "cell_type": "markdown",
   "metadata": {
    "heading_collapsed": true,
    "hidden": true
   },
   "source": [
    "### `.join()`"
   ]
  },
  {
   "cell_type": "code",
   "execution_count": 42,
   "metadata": {
    "hidden": true
   },
   "outputs": [
    {
     "data": {
      "text/html": [
       "<div>\n",
       "<style scoped>\n",
       "    .dataframe tbody tr th:only-of-type {\n",
       "        vertical-align: middle;\n",
       "    }\n",
       "\n",
       "    .dataframe tbody tr th {\n",
       "        vertical-align: top;\n",
       "    }\n",
       "\n",
       "    .dataframe thead th {\n",
       "        text-align: right;\n",
       "    }\n",
       "</style>\n",
       "<table border=\"1\" class=\"dataframe\">\n",
       "  <thead>\n",
       "    <tr style=\"text-align: right;\">\n",
       "      <th></th>\n",
       "      <th>age</th>\n",
       "      <th>HP</th>\n",
       "    </tr>\n",
       "  </thead>\n",
       "  <tbody>\n",
       "    <tr>\n",
       "      <th>0</th>\n",
       "      <td>63</td>\n",
       "      <td>142</td>\n",
       "    </tr>\n",
       "    <tr>\n",
       "      <th>1</th>\n",
       "      <td>33</td>\n",
       "      <td>47</td>\n",
       "    </tr>\n",
       "  </tbody>\n",
       "</table>\n",
       "</div>"
      ],
      "text/plain": [
       "   age   HP\n",
       "0   63  142\n",
       "1   33   47"
      ]
     },
     "execution_count": 42,
     "metadata": {},
     "output_type": "execute_result"
    }
   ],
   "source": [
    "toy1 = pd.DataFrame([[63, 142], [33, 47]], columns=['age', 'HP'])\n",
    "toy2 = pd.DataFrame([[63, 100], [33, 200]], columns=['age', 'MP'])\n",
    "\n",
    "toy1"
   ]
  },
  {
   "cell_type": "code",
   "execution_count": 43,
   "metadata": {
    "hidden": true
   },
   "outputs": [
    {
     "data": {
      "text/html": [
       "<div>\n",
       "<style scoped>\n",
       "    .dataframe tbody tr th:only-of-type {\n",
       "        vertical-align: middle;\n",
       "    }\n",
       "\n",
       "    .dataframe tbody tr th {\n",
       "        vertical-align: top;\n",
       "    }\n",
       "\n",
       "    .dataframe thead th {\n",
       "        text-align: right;\n",
       "    }\n",
       "</style>\n",
       "<table border=\"1\" class=\"dataframe\">\n",
       "  <thead>\n",
       "    <tr style=\"text-align: right;\">\n",
       "      <th></th>\n",
       "      <th>age</th>\n",
       "      <th>MP</th>\n",
       "    </tr>\n",
       "  </thead>\n",
       "  <tbody>\n",
       "    <tr>\n",
       "      <th>0</th>\n",
       "      <td>63</td>\n",
       "      <td>100</td>\n",
       "    </tr>\n",
       "    <tr>\n",
       "      <th>1</th>\n",
       "      <td>33</td>\n",
       "      <td>200</td>\n",
       "    </tr>\n",
       "  </tbody>\n",
       "</table>\n",
       "</div>"
      ],
      "text/plain": [
       "   age   MP\n",
       "0   63  100\n",
       "1   33  200"
      ]
     },
     "execution_count": 43,
     "metadata": {},
     "output_type": "execute_result"
    }
   ],
   "source": [
    "toy2"
   ]
  },
  {
   "cell_type": "code",
   "execution_count": 44,
   "metadata": {},
   "outputs": [
    {
     "ename": "ValueError",
     "evalue": "columns overlap but no suffix specified: Index(['age'], dtype='object')",
     "output_type": "error",
     "traceback": [
      "\u001b[1;31m---------------------------------------------------------------------------\u001b[0m",
      "\u001b[1;31mValueError\u001b[0m                                Traceback (most recent call last)",
      "\u001b[1;32m<ipython-input-44-ac291fb78a21>\u001b[0m in \u001b[0;36m<module>\u001b[1;34m\u001b[0m\n\u001b[0;32m      1\u001b[0m \u001b[1;31m# We can't just join these as they are, since we haven't specified our suffixes.\u001b[0m\u001b[1;33m\u001b[0m\u001b[1;33m\u001b[0m\u001b[1;33m\u001b[0m\u001b[0m\n\u001b[0;32m      2\u001b[0m \u001b[1;33m\u001b[0m\u001b[0m\n\u001b[1;32m----> 3\u001b[1;33m \u001b[0mtoy1\u001b[0m\u001b[1;33m.\u001b[0m\u001b[0mjoin\u001b[0m\u001b[1;33m(\u001b[0m\u001b[0mtoy2\u001b[0m\u001b[1;33m)\u001b[0m\u001b[1;33m\u001b[0m\u001b[1;33m\u001b[0m\u001b[0m\n\u001b[0m",
      "\u001b[1;32m~\\anaconda3\\lib\\site-packages\\pandas\\core\\frame.py\u001b[0m in \u001b[0;36mjoin\u001b[1;34m(self, other, on, how, lsuffix, rsuffix, sort)\u001b[0m\n\u001b[0;32m   7868\u001b[0m         \u001b[1;36m5\u001b[0m  \u001b[0mK5\u001b[0m  \u001b[0mA5\u001b[0m  \u001b[0mNaN\u001b[0m\u001b[1;33m\u001b[0m\u001b[1;33m\u001b[0m\u001b[0m\n\u001b[0;32m   7869\u001b[0m         \"\"\"\n\u001b[1;32m-> 7870\u001b[1;33m         return self._join_compat(\n\u001b[0m\u001b[0;32m   7871\u001b[0m             \u001b[0mother\u001b[0m\u001b[1;33m,\u001b[0m \u001b[0mon\u001b[0m\u001b[1;33m=\u001b[0m\u001b[0mon\u001b[0m\u001b[1;33m,\u001b[0m \u001b[0mhow\u001b[0m\u001b[1;33m=\u001b[0m\u001b[0mhow\u001b[0m\u001b[1;33m,\u001b[0m \u001b[0mlsuffix\u001b[0m\u001b[1;33m=\u001b[0m\u001b[0mlsuffix\u001b[0m\u001b[1;33m,\u001b[0m \u001b[0mrsuffix\u001b[0m\u001b[1;33m=\u001b[0m\u001b[0mrsuffix\u001b[0m\u001b[1;33m,\u001b[0m \u001b[0msort\u001b[0m\u001b[1;33m=\u001b[0m\u001b[0msort\u001b[0m\u001b[1;33m\u001b[0m\u001b[1;33m\u001b[0m\u001b[0m\n\u001b[0;32m   7872\u001b[0m         )\n",
      "\u001b[1;32m~\\anaconda3\\lib\\site-packages\\pandas\\core\\frame.py\u001b[0m in \u001b[0;36m_join_compat\u001b[1;34m(self, other, on, how, lsuffix, rsuffix, sort)\u001b[0m\n\u001b[0;32m   7884\u001b[0m \u001b[1;33m\u001b[0m\u001b[0m\n\u001b[0;32m   7885\u001b[0m         \u001b[1;32mif\u001b[0m \u001b[0misinstance\u001b[0m\u001b[1;33m(\u001b[0m\u001b[0mother\u001b[0m\u001b[1;33m,\u001b[0m \u001b[0mDataFrame\u001b[0m\u001b[1;33m)\u001b[0m\u001b[1;33m:\u001b[0m\u001b[1;33m\u001b[0m\u001b[1;33m\u001b[0m\u001b[0m\n\u001b[1;32m-> 7886\u001b[1;33m             return merge(\n\u001b[0m\u001b[0;32m   7887\u001b[0m                 \u001b[0mself\u001b[0m\u001b[1;33m,\u001b[0m\u001b[1;33m\u001b[0m\u001b[1;33m\u001b[0m\u001b[0m\n\u001b[0;32m   7888\u001b[0m                 \u001b[0mother\u001b[0m\u001b[1;33m,\u001b[0m\u001b[1;33m\u001b[0m\u001b[1;33m\u001b[0m\u001b[0m\n",
      "\u001b[1;32m~\\anaconda3\\lib\\site-packages\\pandas\\core\\reshape\\merge.py\u001b[0m in \u001b[0;36mmerge\u001b[1;34m(left, right, how, on, left_on, right_on, left_index, right_index, sort, suffixes, copy, indicator, validate)\u001b[0m\n\u001b[0;32m     87\u001b[0m         \u001b[0mvalidate\u001b[0m\u001b[1;33m=\u001b[0m\u001b[0mvalidate\u001b[0m\u001b[1;33m,\u001b[0m\u001b[1;33m\u001b[0m\u001b[1;33m\u001b[0m\u001b[0m\n\u001b[0;32m     88\u001b[0m     )\n\u001b[1;32m---> 89\u001b[1;33m     \u001b[1;32mreturn\u001b[0m \u001b[0mop\u001b[0m\u001b[1;33m.\u001b[0m\u001b[0mget_result\u001b[0m\u001b[1;33m(\u001b[0m\u001b[1;33m)\u001b[0m\u001b[1;33m\u001b[0m\u001b[1;33m\u001b[0m\u001b[0m\n\u001b[0m\u001b[0;32m     90\u001b[0m \u001b[1;33m\u001b[0m\u001b[0m\n\u001b[0;32m     91\u001b[0m \u001b[1;33m\u001b[0m\u001b[0m\n",
      "\u001b[1;32m~\\anaconda3\\lib\\site-packages\\pandas\\core\\reshape\\merge.py\u001b[0m in \u001b[0;36mget_result\u001b[1;34m(self)\u001b[0m\n\u001b[0;32m    668\u001b[0m         \u001b[0mjoin_index\u001b[0m\u001b[1;33m,\u001b[0m \u001b[0mleft_indexer\u001b[0m\u001b[1;33m,\u001b[0m \u001b[0mright_indexer\u001b[0m \u001b[1;33m=\u001b[0m \u001b[0mself\u001b[0m\u001b[1;33m.\u001b[0m\u001b[0m_get_join_info\u001b[0m\u001b[1;33m(\u001b[0m\u001b[1;33m)\u001b[0m\u001b[1;33m\u001b[0m\u001b[1;33m\u001b[0m\u001b[0m\n\u001b[0;32m    669\u001b[0m \u001b[1;33m\u001b[0m\u001b[0m\n\u001b[1;32m--> 670\u001b[1;33m         llabels, rlabels = _items_overlap_with_suffix(\n\u001b[0m\u001b[0;32m    671\u001b[0m             \u001b[0mself\u001b[0m\u001b[1;33m.\u001b[0m\u001b[0mleft\u001b[0m\u001b[1;33m.\u001b[0m\u001b[0m_info_axis\u001b[0m\u001b[1;33m,\u001b[0m \u001b[0mself\u001b[0m\u001b[1;33m.\u001b[0m\u001b[0mright\u001b[0m\u001b[1;33m.\u001b[0m\u001b[0m_info_axis\u001b[0m\u001b[1;33m,\u001b[0m \u001b[0mself\u001b[0m\u001b[1;33m.\u001b[0m\u001b[0msuffixes\u001b[0m\u001b[1;33m\u001b[0m\u001b[1;33m\u001b[0m\u001b[0m\n\u001b[0;32m    672\u001b[0m         )\n",
      "\u001b[1;32m~\\anaconda3\\lib\\site-packages\\pandas\\core\\reshape\\merge.py\u001b[0m in \u001b[0;36m_items_overlap_with_suffix\u001b[1;34m(left, right, suffixes)\u001b[0m\n\u001b[0;32m   2089\u001b[0m \u001b[1;33m\u001b[0m\u001b[0m\n\u001b[0;32m   2090\u001b[0m     \u001b[1;32mif\u001b[0m \u001b[1;32mnot\u001b[0m \u001b[0mlsuffix\u001b[0m \u001b[1;32mand\u001b[0m \u001b[1;32mnot\u001b[0m \u001b[0mrsuffix\u001b[0m\u001b[1;33m:\u001b[0m\u001b[1;33m\u001b[0m\u001b[1;33m\u001b[0m\u001b[0m\n\u001b[1;32m-> 2091\u001b[1;33m         \u001b[1;32mraise\u001b[0m \u001b[0mValueError\u001b[0m\u001b[1;33m(\u001b[0m\u001b[1;34mf\"columns overlap but no suffix specified: {to_rename}\"\u001b[0m\u001b[1;33m)\u001b[0m\u001b[1;33m\u001b[0m\u001b[1;33m\u001b[0m\u001b[0m\n\u001b[0m\u001b[0;32m   2092\u001b[0m \u001b[1;33m\u001b[0m\u001b[0m\n\u001b[0;32m   2093\u001b[0m     \u001b[1;32mdef\u001b[0m \u001b[0mrenamer\u001b[0m\u001b[1;33m(\u001b[0m\u001b[0mx\u001b[0m\u001b[1;33m,\u001b[0m \u001b[0msuffix\u001b[0m\u001b[1;33m)\u001b[0m\u001b[1;33m:\u001b[0m\u001b[1;33m\u001b[0m\u001b[1;33m\u001b[0m\u001b[0m\n",
      "\u001b[1;31mValueError\u001b[0m: columns overlap but no suffix specified: Index(['age'], dtype='object')"
     ]
    }
   ],
   "source": [
    "# We can't just join these as they are, since we haven't specified our suffixes.\n",
    "\n",
    "toy1.join(toy2)"
   ]
  },
  {
   "cell_type": "code",
   "execution_count": 45,
   "metadata": {},
   "outputs": [
    {
     "data": {
      "text/html": [
       "<div>\n",
       "<style scoped>\n",
       "    .dataframe tbody tr th:only-of-type {\n",
       "        vertical-align: middle;\n",
       "    }\n",
       "\n",
       "    .dataframe tbody tr th {\n",
       "        vertical-align: top;\n",
       "    }\n",
       "\n",
       "    .dataframe thead th {\n",
       "        text-align: right;\n",
       "    }\n",
       "</style>\n",
       "<table border=\"1\" class=\"dataframe\">\n",
       "  <thead>\n",
       "    <tr style=\"text-align: right;\">\n",
       "      <th></th>\n",
       "      <th>age1</th>\n",
       "      <th>HP</th>\n",
       "      <th>age2</th>\n",
       "      <th>MP</th>\n",
       "    </tr>\n",
       "  </thead>\n",
       "  <tbody>\n",
       "    <tr>\n",
       "      <th>0</th>\n",
       "      <td>63</td>\n",
       "      <td>142</td>\n",
       "      <td>63</td>\n",
       "      <td>100</td>\n",
       "    </tr>\n",
       "    <tr>\n",
       "      <th>1</th>\n",
       "      <td>33</td>\n",
       "      <td>47</td>\n",
       "      <td>33</td>\n",
       "      <td>200</td>\n",
       "    </tr>\n",
       "  </tbody>\n",
       "</table>\n",
       "</div>"
      ],
      "text/plain": [
       "   age1   HP  age2   MP\n",
       "0    63  142    63  100\n",
       "1    33   47    33  200"
      ]
     },
     "execution_count": 45,
     "metadata": {},
     "output_type": "execute_result"
    }
   ],
   "source": [
    "toy1.join(toy2, lsuffix='1', rsuffix='2')"
   ]
  },
  {
   "cell_type": "markdown",
   "metadata": {},
   "source": [
    "If we don't want to keep both, we could set the overlapping column as the index in each DataFrame:"
   ]
  },
  {
   "cell_type": "code",
   "execution_count": 46,
   "metadata": {
    "hidden": true
   },
   "outputs": [
    {
     "data": {
      "text/html": [
       "<div>\n",
       "<style scoped>\n",
       "    .dataframe tbody tr th:only-of-type {\n",
       "        vertical-align: middle;\n",
       "    }\n",
       "\n",
       "    .dataframe tbody tr th {\n",
       "        vertical-align: top;\n",
       "    }\n",
       "\n",
       "    .dataframe thead th {\n",
       "        text-align: right;\n",
       "    }\n",
       "</style>\n",
       "<table border=\"1\" class=\"dataframe\">\n",
       "  <thead>\n",
       "    <tr style=\"text-align: right;\">\n",
       "      <th></th>\n",
       "      <th>HP</th>\n",
       "      <th>MP</th>\n",
       "    </tr>\n",
       "    <tr>\n",
       "      <th>age</th>\n",
       "      <th></th>\n",
       "      <th></th>\n",
       "    </tr>\n",
       "  </thead>\n",
       "  <tbody>\n",
       "    <tr>\n",
       "      <th>63</th>\n",
       "      <td>142</td>\n",
       "      <td>100</td>\n",
       "    </tr>\n",
       "    <tr>\n",
       "      <th>33</th>\n",
       "      <td>47</td>\n",
       "      <td>200</td>\n",
       "    </tr>\n",
       "  </tbody>\n",
       "</table>\n",
       "</div>"
      ],
      "text/plain": [
       "      HP   MP\n",
       "age          \n",
       "63   142  100\n",
       "33    47  200"
      ]
     },
     "execution_count": 46,
     "metadata": {},
     "output_type": "execute_result"
    }
   ],
   "source": [
    "toy1.set_index('age').join(toy2.set_index('age'))"
   ]
  },
  {
   "cell_type": "markdown",
   "metadata": {
    "hidden": true
   },
   "source": [
    "For more on this method, check out the [doc](https://pandas.pydata.org/pandas-docs/stable/reference/api/pandas.DataFrame.join.html)!"
   ]
  },
  {
   "cell_type": "markdown",
   "metadata": {
    "heading_collapsed": true,
    "hidden": true
   },
   "source": [
    "### `.merge()`"
   ]
  },
  {
   "cell_type": "markdown",
   "metadata": {},
   "source": [
    "Or we could use `.merge()`:"
   ]
  },
  {
   "cell_type": "code",
   "execution_count": 47,
   "metadata": {},
   "outputs": [
    {
     "data": {
      "text/html": [
       "<div>\n",
       "<style scoped>\n",
       "    .dataframe tbody tr th:only-of-type {\n",
       "        vertical-align: middle;\n",
       "    }\n",
       "\n",
       "    .dataframe tbody tr th {\n",
       "        vertical-align: top;\n",
       "    }\n",
       "\n",
       "    .dataframe thead th {\n",
       "        text-align: right;\n",
       "    }\n",
       "</style>\n",
       "<table border=\"1\" class=\"dataframe\">\n",
       "  <thead>\n",
       "    <tr style=\"text-align: right;\">\n",
       "      <th></th>\n",
       "      <th>age</th>\n",
       "      <th>HP</th>\n",
       "      <th>MP</th>\n",
       "    </tr>\n",
       "  </thead>\n",
       "  <tbody>\n",
       "    <tr>\n",
       "      <th>0</th>\n",
       "      <td>63</td>\n",
       "      <td>142</td>\n",
       "      <td>100</td>\n",
       "    </tr>\n",
       "    <tr>\n",
       "      <th>1</th>\n",
       "      <td>33</td>\n",
       "      <td>47</td>\n",
       "      <td>200</td>\n",
       "    </tr>\n",
       "  </tbody>\n",
       "</table>\n",
       "</div>"
      ],
      "text/plain": [
       "   age   HP   MP\n",
       "0   63  142  100\n",
       "1   33   47  200"
      ]
     },
     "execution_count": 47,
     "metadata": {},
     "output_type": "execute_result"
    }
   ],
   "source": [
    "toy1.merge(toy2)"
   ]
  },
  {
   "cell_type": "code",
   "execution_count": 48,
   "metadata": {
    "hidden": true
   },
   "outputs": [
    {
     "data": {
      "text/html": [
       "<div>\n",
       "<style scoped>\n",
       "    .dataframe tbody tr th:only-of-type {\n",
       "        vertical-align: middle;\n",
       "    }\n",
       "\n",
       "    .dataframe tbody tr th {\n",
       "        vertical-align: top;\n",
       "    }\n",
       "\n",
       "    .dataframe thead th {\n",
       "        text-align: right;\n",
       "    }\n",
       "</style>\n",
       "<table border=\"1\" class=\"dataframe\">\n",
       "  <thead>\n",
       "    <tr style=\"text-align: right;\">\n",
       "      <th></th>\n",
       "      <th>name</th>\n",
       "      <th>HP</th>\n",
       "      <th>home_state</th>\n",
       "    </tr>\n",
       "  </thead>\n",
       "  <tbody>\n",
       "    <tr>\n",
       "      <th>0</th>\n",
       "      <td>greg</td>\n",
       "      <td>200</td>\n",
       "      <td>WA</td>\n",
       "    </tr>\n",
       "    <tr>\n",
       "      <th>1</th>\n",
       "      <td>miles</td>\n",
       "      <td>200</td>\n",
       "      <td>WA</td>\n",
       "    </tr>\n",
       "    <tr>\n",
       "      <th>2</th>\n",
       "      <td>alan</td>\n",
       "      <td>170</td>\n",
       "      <td>TX</td>\n",
       "    </tr>\n",
       "    <tr>\n",
       "      <th>3</th>\n",
       "      <td>alison</td>\n",
       "      <td>300</td>\n",
       "      <td>DC</td>\n",
       "    </tr>\n",
       "    <tr>\n",
       "      <th>4</th>\n",
       "      <td>rachel</td>\n",
       "      <td>200</td>\n",
       "      <td>TX</td>\n",
       "    </tr>\n",
       "  </tbody>\n",
       "</table>\n",
       "</div>"
      ],
      "text/plain": [
       "     name   HP home_state\n",
       "0    greg  200         WA\n",
       "1   miles  200         WA\n",
       "2    alan  170         TX\n",
       "3  alison  300         DC\n",
       "4  rachel  200         TX"
      ]
     },
     "execution_count": 48,
     "metadata": {},
     "output_type": "execute_result"
    }
   ],
   "source": [
    "ds_chars = pd.read_csv('data/ds_chars.csv', index_col=0)\n",
    "ds_chars"
   ]
  },
  {
   "cell_type": "code",
   "execution_count": 49,
   "metadata": {
    "hidden": true
   },
   "outputs": [
    {
     "data": {
      "text/html": [
       "<div>\n",
       "<style scoped>\n",
       "    .dataframe tbody tr th:only-of-type {\n",
       "        vertical-align: middle;\n",
       "    }\n",
       "\n",
       "    .dataframe tbody tr th {\n",
       "        vertical-align: top;\n",
       "    }\n",
       "\n",
       "    .dataframe thead th {\n",
       "        text-align: right;\n",
       "    }\n",
       "</style>\n",
       "<table border=\"1\" class=\"dataframe\">\n",
       "  <thead>\n",
       "    <tr style=\"text-align: right;\">\n",
       "      <th></th>\n",
       "      <th>state</th>\n",
       "      <th>nickname</th>\n",
       "      <th>capital</th>\n",
       "    </tr>\n",
       "  </thead>\n",
       "  <tbody>\n",
       "    <tr>\n",
       "      <th>0</th>\n",
       "      <td>WA</td>\n",
       "      <td>evergreen</td>\n",
       "      <td>Olympia</td>\n",
       "    </tr>\n",
       "    <tr>\n",
       "      <th>1</th>\n",
       "      <td>TX</td>\n",
       "      <td>alamo</td>\n",
       "      <td>Austin</td>\n",
       "    </tr>\n",
       "    <tr>\n",
       "      <th>2</th>\n",
       "      <td>DC</td>\n",
       "      <td>district</td>\n",
       "      <td>Washington</td>\n",
       "    </tr>\n",
       "    <tr>\n",
       "      <th>3</th>\n",
       "      <td>OH</td>\n",
       "      <td>buckeye</td>\n",
       "      <td>Columbus</td>\n",
       "    </tr>\n",
       "    <tr>\n",
       "      <th>4</th>\n",
       "      <td>OR</td>\n",
       "      <td>beaver</td>\n",
       "      <td>Salem</td>\n",
       "    </tr>\n",
       "  </tbody>\n",
       "</table>\n",
       "</div>"
      ],
      "text/plain": [
       "  state   nickname     capital\n",
       "0    WA  evergreen     Olympia\n",
       "1    TX      alamo      Austin\n",
       "2    DC   district  Washington\n",
       "3    OH    buckeye    Columbus\n",
       "4    OR     beaver       Salem"
      ]
     },
     "execution_count": 49,
     "metadata": {},
     "output_type": "execute_result"
    }
   ],
   "source": [
    "states = pd.read_csv('data/states.csv', index_col=0)\n",
    "states"
   ]
  },
  {
   "cell_type": "markdown",
   "metadata": {},
   "source": [
    "### The `how` Parameter\n",
    "\n",
    "This parameter in both `.join()` and `.merge()` tells the compiler what sort of join to effect. We'll cover this in detail when we discuss SQL."
   ]
  },
  {
   "cell_type": "code",
   "execution_count": 50,
   "metadata": {
    "hidden": true
   },
   "outputs": [
    {
     "data": {
      "text/html": [
       "<div>\n",
       "<style scoped>\n",
       "    .dataframe tbody tr th:only-of-type {\n",
       "        vertical-align: middle;\n",
       "    }\n",
       "\n",
       "    .dataframe tbody tr th {\n",
       "        vertical-align: top;\n",
       "    }\n",
       "\n",
       "    .dataframe thead th {\n",
       "        text-align: right;\n",
       "    }\n",
       "</style>\n",
       "<table border=\"1\" class=\"dataframe\">\n",
       "  <thead>\n",
       "    <tr style=\"text-align: right;\">\n",
       "      <th></th>\n",
       "      <th>name</th>\n",
       "      <th>HP</th>\n",
       "      <th>home_state</th>\n",
       "      <th>state</th>\n",
       "      <th>nickname</th>\n",
       "      <th>capital</th>\n",
       "    </tr>\n",
       "  </thead>\n",
       "  <tbody>\n",
       "    <tr>\n",
       "      <th>0</th>\n",
       "      <td>greg</td>\n",
       "      <td>200</td>\n",
       "      <td>WA</td>\n",
       "      <td>WA</td>\n",
       "      <td>evergreen</td>\n",
       "      <td>Olympia</td>\n",
       "    </tr>\n",
       "    <tr>\n",
       "      <th>1</th>\n",
       "      <td>miles</td>\n",
       "      <td>200</td>\n",
       "      <td>WA</td>\n",
       "      <td>WA</td>\n",
       "      <td>evergreen</td>\n",
       "      <td>Olympia</td>\n",
       "    </tr>\n",
       "    <tr>\n",
       "      <th>2</th>\n",
       "      <td>alan</td>\n",
       "      <td>170</td>\n",
       "      <td>TX</td>\n",
       "      <td>TX</td>\n",
       "      <td>alamo</td>\n",
       "      <td>Austin</td>\n",
       "    </tr>\n",
       "    <tr>\n",
       "      <th>3</th>\n",
       "      <td>rachel</td>\n",
       "      <td>200</td>\n",
       "      <td>TX</td>\n",
       "      <td>TX</td>\n",
       "      <td>alamo</td>\n",
       "      <td>Austin</td>\n",
       "    </tr>\n",
       "    <tr>\n",
       "      <th>4</th>\n",
       "      <td>alison</td>\n",
       "      <td>300</td>\n",
       "      <td>DC</td>\n",
       "      <td>DC</td>\n",
       "      <td>district</td>\n",
       "      <td>Washington</td>\n",
       "    </tr>\n",
       "  </tbody>\n",
       "</table>\n",
       "</div>"
      ],
      "text/plain": [
       "     name   HP home_state state   nickname     capital\n",
       "0    greg  200         WA    WA  evergreen     Olympia\n",
       "1   miles  200         WA    WA  evergreen     Olympia\n",
       "2    alan  170         TX    TX      alamo      Austin\n",
       "3  rachel  200         TX    TX      alamo      Austin\n",
       "4  alison  300         DC    DC   district  Washington"
      ]
     },
     "execution_count": 50,
     "metadata": {},
     "output_type": "execute_result"
    }
   ],
   "source": [
    "ds_chars.merge(states,\n",
    "               left_on='home_state',\n",
    "               right_on='state',\n",
    "               how='inner')\n",
    "#inner says look at column i'm merging and see what's common. Then give me those"
   ]
  },
  {
   "cell_type": "code",
   "execution_count": 51,
   "metadata": {
    "hidden": true
   },
   "outputs": [
    {
     "data": {
      "text/html": [
       "<div>\n",
       "<style scoped>\n",
       "    .dataframe tbody tr th:only-of-type {\n",
       "        vertical-align: middle;\n",
       "    }\n",
       "\n",
       "    .dataframe tbody tr th {\n",
       "        vertical-align: top;\n",
       "    }\n",
       "\n",
       "    .dataframe thead th {\n",
       "        text-align: right;\n",
       "    }\n",
       "</style>\n",
       "<table border=\"1\" class=\"dataframe\">\n",
       "  <thead>\n",
       "    <tr style=\"text-align: right;\">\n",
       "      <th></th>\n",
       "      <th>name</th>\n",
       "      <th>HP</th>\n",
       "      <th>home_state</th>\n",
       "      <th>state</th>\n",
       "      <th>nickname</th>\n",
       "      <th>capital</th>\n",
       "    </tr>\n",
       "  </thead>\n",
       "  <tbody>\n",
       "    <tr>\n",
       "      <th>0</th>\n",
       "      <td>greg</td>\n",
       "      <td>200.0</td>\n",
       "      <td>WA</td>\n",
       "      <td>WA</td>\n",
       "      <td>evergreen</td>\n",
       "      <td>Olympia</td>\n",
       "    </tr>\n",
       "    <tr>\n",
       "      <th>1</th>\n",
       "      <td>miles</td>\n",
       "      <td>200.0</td>\n",
       "      <td>WA</td>\n",
       "      <td>WA</td>\n",
       "      <td>evergreen</td>\n",
       "      <td>Olympia</td>\n",
       "    </tr>\n",
       "    <tr>\n",
       "      <th>2</th>\n",
       "      <td>alan</td>\n",
       "      <td>170.0</td>\n",
       "      <td>TX</td>\n",
       "      <td>TX</td>\n",
       "      <td>alamo</td>\n",
       "      <td>Austin</td>\n",
       "    </tr>\n",
       "    <tr>\n",
       "      <th>3</th>\n",
       "      <td>rachel</td>\n",
       "      <td>200.0</td>\n",
       "      <td>TX</td>\n",
       "      <td>TX</td>\n",
       "      <td>alamo</td>\n",
       "      <td>Austin</td>\n",
       "    </tr>\n",
       "    <tr>\n",
       "      <th>4</th>\n",
       "      <td>alison</td>\n",
       "      <td>300.0</td>\n",
       "      <td>DC</td>\n",
       "      <td>DC</td>\n",
       "      <td>district</td>\n",
       "      <td>Washington</td>\n",
       "    </tr>\n",
       "    <tr>\n",
       "      <th>5</th>\n",
       "      <td>NaN</td>\n",
       "      <td>NaN</td>\n",
       "      <td>NaN</td>\n",
       "      <td>OH</td>\n",
       "      <td>buckeye</td>\n",
       "      <td>Columbus</td>\n",
       "    </tr>\n",
       "    <tr>\n",
       "      <th>6</th>\n",
       "      <td>NaN</td>\n",
       "      <td>NaN</td>\n",
       "      <td>NaN</td>\n",
       "      <td>OR</td>\n",
       "      <td>beaver</td>\n",
       "      <td>Salem</td>\n",
       "    </tr>\n",
       "  </tbody>\n",
       "</table>\n",
       "</div>"
      ],
      "text/plain": [
       "     name     HP home_state state   nickname     capital\n",
       "0    greg  200.0         WA    WA  evergreen     Olympia\n",
       "1   miles  200.0         WA    WA  evergreen     Olympia\n",
       "2    alan  170.0         TX    TX      alamo      Austin\n",
       "3  rachel  200.0         TX    TX      alamo      Austin\n",
       "4  alison  300.0         DC    DC   district  Washington\n",
       "5     NaN    NaN        NaN    OH    buckeye    Columbus\n",
       "6     NaN    NaN        NaN    OR     beaver       Salem"
      ]
     },
     "execution_count": 51,
     "metadata": {},
     "output_type": "execute_result"
    }
   ],
   "source": [
    "ds_chars.merge(states,\n",
    "               left_on='home_state',\n",
    "               right_on='state',\n",
    "               how='outer')\n",
    "#outer fills in differences with NaN"
   ]
  },
  {
   "cell_type": "markdown",
   "metadata": {
    "heading_collapsed": true,
    "hidden": true
   },
   "source": [
    "### `pd.concat()`"
   ]
  },
  {
   "cell_type": "markdown",
   "metadata": {
    "hidden": true
   },
   "source": [
    "This method takes a *list* of pandas objects as arguments."
   ]
  },
  {
   "cell_type": "code",
   "execution_count": 52,
   "metadata": {
    "hidden": true
   },
   "outputs": [
    {
     "data": {
      "text/html": [
       "<div>\n",
       "<style scoped>\n",
       "    .dataframe tbody tr th:only-of-type {\n",
       "        vertical-align: middle;\n",
       "    }\n",
       "\n",
       "    .dataframe tbody tr th {\n",
       "        vertical-align: top;\n",
       "    }\n",
       "\n",
       "    .dataframe thead th {\n",
       "        text-align: right;\n",
       "    }\n",
       "</style>\n",
       "<table border=\"1\" class=\"dataframe\">\n",
       "  <thead>\n",
       "    <tr style=\"text-align: right;\">\n",
       "      <th></th>\n",
       "      <th>name</th>\n",
       "      <th>HP</th>\n",
       "      <th>home_state</th>\n",
       "      <th>state</th>\n",
       "      <th>nickname</th>\n",
       "      <th>capital</th>\n",
       "    </tr>\n",
       "  </thead>\n",
       "  <tbody>\n",
       "    <tr>\n",
       "      <th>0</th>\n",
       "      <td>greg</td>\n",
       "      <td>200.0</td>\n",
       "      <td>WA</td>\n",
       "      <td>NaN</td>\n",
       "      <td>NaN</td>\n",
       "      <td>NaN</td>\n",
       "    </tr>\n",
       "    <tr>\n",
       "      <th>1</th>\n",
       "      <td>miles</td>\n",
       "      <td>200.0</td>\n",
       "      <td>WA</td>\n",
       "      <td>NaN</td>\n",
       "      <td>NaN</td>\n",
       "      <td>NaN</td>\n",
       "    </tr>\n",
       "    <tr>\n",
       "      <th>2</th>\n",
       "      <td>alan</td>\n",
       "      <td>170.0</td>\n",
       "      <td>TX</td>\n",
       "      <td>NaN</td>\n",
       "      <td>NaN</td>\n",
       "      <td>NaN</td>\n",
       "    </tr>\n",
       "    <tr>\n",
       "      <th>3</th>\n",
       "      <td>alison</td>\n",
       "      <td>300.0</td>\n",
       "      <td>DC</td>\n",
       "      <td>NaN</td>\n",
       "      <td>NaN</td>\n",
       "      <td>NaN</td>\n",
       "    </tr>\n",
       "    <tr>\n",
       "      <th>4</th>\n",
       "      <td>rachel</td>\n",
       "      <td>200.0</td>\n",
       "      <td>TX</td>\n",
       "      <td>NaN</td>\n",
       "      <td>NaN</td>\n",
       "      <td>NaN</td>\n",
       "    </tr>\n",
       "    <tr>\n",
       "      <th>0</th>\n",
       "      <td>NaN</td>\n",
       "      <td>NaN</td>\n",
       "      <td>NaN</td>\n",
       "      <td>WA</td>\n",
       "      <td>evergreen</td>\n",
       "      <td>Olympia</td>\n",
       "    </tr>\n",
       "    <tr>\n",
       "      <th>1</th>\n",
       "      <td>NaN</td>\n",
       "      <td>NaN</td>\n",
       "      <td>NaN</td>\n",
       "      <td>TX</td>\n",
       "      <td>alamo</td>\n",
       "      <td>Austin</td>\n",
       "    </tr>\n",
       "    <tr>\n",
       "      <th>2</th>\n",
       "      <td>NaN</td>\n",
       "      <td>NaN</td>\n",
       "      <td>NaN</td>\n",
       "      <td>DC</td>\n",
       "      <td>district</td>\n",
       "      <td>Washington</td>\n",
       "    </tr>\n",
       "    <tr>\n",
       "      <th>3</th>\n",
       "      <td>NaN</td>\n",
       "      <td>NaN</td>\n",
       "      <td>NaN</td>\n",
       "      <td>OH</td>\n",
       "      <td>buckeye</td>\n",
       "      <td>Columbus</td>\n",
       "    </tr>\n",
       "    <tr>\n",
       "      <th>4</th>\n",
       "      <td>NaN</td>\n",
       "      <td>NaN</td>\n",
       "      <td>NaN</td>\n",
       "      <td>OR</td>\n",
       "      <td>beaver</td>\n",
       "      <td>Salem</td>\n",
       "    </tr>\n",
       "  </tbody>\n",
       "</table>\n",
       "</div>"
      ],
      "text/plain": [
       "     name     HP home_state state   nickname     capital\n",
       "0    greg  200.0         WA   NaN        NaN         NaN\n",
       "1   miles  200.0         WA   NaN        NaN         NaN\n",
       "2    alan  170.0         TX   NaN        NaN         NaN\n",
       "3  alison  300.0         DC   NaN        NaN         NaN\n",
       "4  rachel  200.0         TX   NaN        NaN         NaN\n",
       "0     NaN    NaN        NaN    WA  evergreen     Olympia\n",
       "1     NaN    NaN        NaN    TX      alamo      Austin\n",
       "2     NaN    NaN        NaN    DC   district  Washington\n",
       "3     NaN    NaN        NaN    OH    buckeye    Columbus\n",
       "4     NaN    NaN        NaN    OR     beaver       Salem"
      ]
     },
     "execution_count": 52,
     "metadata": {},
     "output_type": "execute_result"
    }
   ],
   "source": [
    "ds_full = pd.concat([ds_chars, states])\n",
    "ds_full"
   ]
  },
  {
   "cell_type": "markdown",
   "metadata": {
    "hidden": true
   },
   "source": [
    "`pd.concat()`–– and many other pandas operations –– make use of an `axis` parameter. For this particular method I need to specify whether I want to concatenate the DataFrames *row-wise* (`axis=0`) or *column-wise* (`axis=1`). The default is `axis=0`, so let's override that!"
   ]
  },
  {
   "cell_type": "code",
   "execution_count": 53,
   "metadata": {
    "hidden": true
   },
   "outputs": [
    {
     "data": {
      "text/html": [
       "<div>\n",
       "<style scoped>\n",
       "    .dataframe tbody tr th:only-of-type {\n",
       "        vertical-align: middle;\n",
       "    }\n",
       "\n",
       "    .dataframe tbody tr th {\n",
       "        vertical-align: top;\n",
       "    }\n",
       "\n",
       "    .dataframe thead th {\n",
       "        text-align: right;\n",
       "    }\n",
       "</style>\n",
       "<table border=\"1\" class=\"dataframe\">\n",
       "  <thead>\n",
       "    <tr style=\"text-align: right;\">\n",
       "      <th></th>\n",
       "      <th>name</th>\n",
       "      <th>HP</th>\n",
       "      <th>home_state</th>\n",
       "      <th>state</th>\n",
       "      <th>nickname</th>\n",
       "      <th>capital</th>\n",
       "    </tr>\n",
       "  </thead>\n",
       "  <tbody>\n",
       "    <tr>\n",
       "      <th>0</th>\n",
       "      <td>greg</td>\n",
       "      <td>200</td>\n",
       "      <td>WA</td>\n",
       "      <td>WA</td>\n",
       "      <td>evergreen</td>\n",
       "      <td>Olympia</td>\n",
       "    </tr>\n",
       "    <tr>\n",
       "      <th>1</th>\n",
       "      <td>miles</td>\n",
       "      <td>200</td>\n",
       "      <td>WA</td>\n",
       "      <td>TX</td>\n",
       "      <td>alamo</td>\n",
       "      <td>Austin</td>\n",
       "    </tr>\n",
       "    <tr>\n",
       "      <th>2</th>\n",
       "      <td>alan</td>\n",
       "      <td>170</td>\n",
       "      <td>TX</td>\n",
       "      <td>DC</td>\n",
       "      <td>district</td>\n",
       "      <td>Washington</td>\n",
       "    </tr>\n",
       "    <tr>\n",
       "      <th>3</th>\n",
       "      <td>alison</td>\n",
       "      <td>300</td>\n",
       "      <td>DC</td>\n",
       "      <td>OH</td>\n",
       "      <td>buckeye</td>\n",
       "      <td>Columbus</td>\n",
       "    </tr>\n",
       "    <tr>\n",
       "      <th>4</th>\n",
       "      <td>rachel</td>\n",
       "      <td>200</td>\n",
       "      <td>TX</td>\n",
       "      <td>OR</td>\n",
       "      <td>beaver</td>\n",
       "      <td>Salem</td>\n",
       "    </tr>\n",
       "  </tbody>\n",
       "</table>\n",
       "</div>"
      ],
      "text/plain": [
       "     name   HP home_state state   nickname     capital\n",
       "0    greg  200         WA    WA  evergreen     Olympia\n",
       "1   miles  200         WA    TX      alamo      Austin\n",
       "2    alan  170         TX    DC   district  Washington\n",
       "3  alison  300         DC    OH    buckeye    Columbus\n",
       "4  rachel  200         TX    OR     beaver       Salem"
      ]
     },
     "execution_count": 53,
     "metadata": {},
     "output_type": "execute_result"
    }
   ],
   "source": [
    "ds_full = pd.concat([ds_chars, states], axis=1)\n",
    "ds_full"
   ]
  },
  {
   "cell_type": "markdown",
   "metadata": {
    "heading_collapsed": true
   },
   "source": [
    "## King County Assessments"
   ]
  },
  {
   "cell_type": "markdown",
   "metadata": {
    "hidden": true
   },
   "source": [
    "As data scientists, we want to build a model to predict the sale price of a house in Seattle in 2019, based on its square footage. We know that the King County Department of Assessments has comprehensive data available on real property sales in the Seattle area. We need to prepare the data."
   ]
  },
  {
   "cell_type": "markdown",
   "metadata": {
    "heading_collapsed": true,
    "hidden": true
   },
   "source": [
    "### First, get the data!"
   ]
  },
  {
   "cell_type": "markdown",
   "metadata": {
    "hidden": true
   },
   "source": [
    "Go [here](https://info.kingcounty.gov/assessor/DataDownload/default.aspx) and download two files: \"Real Property Sales\" and \"Residential Building\". Then unzip them. (Or you can run the cells below if you prefer.)"
   ]
  },
  {
   "cell_type": "code",
   "execution_count": null,
   "metadata": {
    "hidden": true
   },
   "outputs": [],
   "source": [
    "# %%bash\n",
    "# cd data\n",
    "# curl -o property_sales.zip https://aqua.kingcounty.gov/extranet/assessor/Real%20Property%20Sales.zip "
   ]
  },
  {
   "cell_type": "code",
   "execution_count": null,
   "metadata": {
    "hidden": true
   },
   "outputs": [],
   "source": [
    "# %%bash\n",
    "# cd data\n",
    "# curl -o res_bldg.zip https://aqua.kingcounty.gov/extranet/assessor/Residential%20Building.zip "
   ]
  },
  {
   "cell_type": "code",
   "execution_count": null,
   "metadata": {
    "hidden": true
   },
   "outputs": [],
   "source": [
    "# zf = ZipFile('data/property_sales.zip', 'r')\n",
    "# zf.extractall('data')\n",
    "# zf.close()"
   ]
  },
  {
   "cell_type": "code",
   "execution_count": null,
   "metadata": {
    "hidden": true
   },
   "outputs": [],
   "source": [
    "# zf = ZipFile('data/res_bldg.zip', 'r')\n",
    "# zf.extractall('data')\n",
    "# zf.close()"
   ]
  },
  {
   "cell_type": "code",
   "execution_count": null,
   "metadata": {
    "hidden": true,
    "scrolled": true
   },
   "outputs": [],
   "source": [
    "# You'll need to use a new encoding here. List of all encodings here:\n",
    "# https://docs.python.org/3/library/codecs.html#standard-encodings\n",
    "\n",
    "# Both of these csv files have many columns, so we'll just pre-select\n",
    "# which ones we want to use.\n",
    "\n",
    "sales_df = pd.read_csv('/Users/gdamico/Downloads/EXTR_RPSale.csv',\n",
    "                       encoding='latin-1',\n",
    "                       usecols=['Major', 'Minor', 'DocumentDate', 'SalePrice'])"
   ]
  },
  {
   "cell_type": "code",
   "execution_count": null,
   "metadata": {
    "hidden": true
   },
   "outputs": [],
   "source": [
    "sales_df.info()"
   ]
  },
  {
   "cell_type": "code",
   "execution_count": null,
   "metadata": {
    "hidden": true,
    "scrolled": true
   },
   "outputs": [],
   "source": [
    "bldg_df = pd.read_csv('~/Downloads/EXTR_ResBldg.csv',\n",
    "                     usecols=['Major', 'Minor', 'SqFtTotLiving', 'ZipCode'])"
   ]
  },
  {
   "cell_type": "code",
   "execution_count": null,
   "metadata": {
    "hidden": true,
    "scrolled": true
   },
   "outputs": [],
   "source": [
    "bldg_df.info()"
   ]
  },
  {
   "cell_type": "code",
   "execution_count": null,
   "metadata": {
    "hidden": true
   },
   "outputs": [],
   "source": [
    "sales_data = pd.merge(sales_df, bldg_df, on=['Major', 'Minor'])"
   ]
  },
  {
   "cell_type": "code",
   "execution_count": null,
   "metadata": {
    "hidden": true
   },
   "outputs": [],
   "source": [
    "sales_data.head()"
   ]
  },
  {
   "cell_type": "code",
   "execution_count": null,
   "metadata": {
    "hidden": true
   },
   "outputs": [],
   "source": [
    "sales_data.info()"
   ]
  },
  {
   "cell_type": "markdown",
   "metadata": {
    "hidden": true
   },
   "source": [
    "We can see right away that we're missing ZIP codes for many of the sales transactions."
   ]
  },
  {
   "cell_type": "code",
   "execution_count": null,
   "metadata": {
    "hidden": true
   },
   "outputs": [],
   "source": [
    "sales_data.loc[sales_data['ZipCode'].isna()].head()"
   ]
  },
  {
   "cell_type": "markdown",
   "metadata": {},
   "source": [
    "### Exercise\n",
    "\n",
    "What percentage of housing records are missing ZIP codes?"
   ]
  },
  {
   "cell_type": "code",
   "execution_count": null,
   "metadata": {},
   "outputs": [],
   "source": []
  },
  {
   "cell_type": "markdown",
   "metadata": {},
   "source": [
    "<details>\n",
    "    <summary>Answer</summary>\n",
    "    <code>sales_data['ZipCode'].isna().sum() / sales_data.shape[0]</code>\n",
    "    </details>"
   ]
  },
  {
   "cell_type": "markdown",
   "metadata": {
    "hidden": true
   },
   "source": [
    "Let's drop the rows with missing zip codes."
   ]
  },
  {
   "cell_type": "code",
   "execution_count": null,
   "metadata": {
    "hidden": true
   },
   "outputs": [],
   "source": [
    "sales_data = sales_data.loc[~sales_data['ZipCode'].isna(), :]\n",
    "\n",
    "sales_data.head()"
   ]
  },
  {
   "cell_type": "markdown",
   "metadata": {
    "heading_collapsed": true,
    "hidden": true
   },
   "source": [
    "## Time Permitting: Data Cleaning with Pandas"
   ]
  },
  {
   "cell_type": "markdown",
   "metadata": {
    "heading_collapsed": true,
    "hidden": true
   },
   "source": [
    "### 1. Investigate and drop rows with invalid values in the SalePrice and SqFtTotLiving columns."
   ]
  },
  {
   "cell_type": "code",
   "execution_count": null,
   "metadata": {},
   "outputs": [],
   "source": []
  },
  {
   "cell_type": "markdown",
   "metadata": {},
   "source": [
    "<details>\n",
    "    <summary>One possible answer here</summary>\n",
    "    <code>sales_data = sales_data[sales_data['SalePrice'] > 10000]</code>\n",
    "    </details>"
   ]
  },
  {
   "cell_type": "markdown",
   "metadata": {
    "heading_collapsed": true,
    "hidden": true
   },
   "source": [
    "### 2. Investigate and handle non-numeric ZipCode values"
   ]
  },
  {
   "cell_type": "markdown",
   "metadata": {
    "hidden": true
   },
   "source": [
    "Can you find a way to shorten ZIP+4 codes to the first five digits?"
   ]
  },
  {
   "cell_type": "code",
   "execution_count": null,
   "metadata": {
    "hidden": true
   },
   "outputs": [],
   "source": [
    "def is_integer(x):\n",
    "    try:\n",
    "        _ = int(x)\n",
    "    except ValueError:\n",
    "        return False\n",
    "    return True\n",
    "\n",
    "sales_data.loc[sales_data['ZipCode'].apply(is_integer) == False, 'ZipCode'].head()"
   ]
  },
  {
   "cell_type": "code",
   "execution_count": null,
   "metadata": {},
   "outputs": [],
   "source": []
  },
  {
   "cell_type": "markdown",
   "metadata": {},
   "source": [
    "<details>\n",
    "    <summary>One possible answer here</summary>\n",
    "    <code>def five_digit_ZIP(x):\n",
    "    try:\n",
    "        return int(str(x)[:5])\n",
    "    except:\n",
    "        return x\n",
    "sales_data['ZipCode'] = sales_data['ZipCode'].map(five_digit_ZIP)\n",
    "sales_data = sales_data.loc[sales_data['ZipCode'].apply(is_integer) == True, :]\n",
    "sales_data['ZipCode'] = sales_data['ZipCode'].map(int)</code>\n",
    "    </details>"
   ]
  },
  {
   "cell_type": "markdown",
   "metadata": {
    "heading_collapsed": true,
    "hidden": true
   },
   "source": [
    "### 3. Add a column for PricePerSqFt\n",
    "\n"
   ]
  },
  {
   "cell_type": "code",
   "execution_count": null,
   "metadata": {
    "hidden": true
   },
   "outputs": [],
   "source": []
  },
  {
   "cell_type": "markdown",
   "metadata": {},
   "source": [
    "<details>\n",
    "    <summary>Answer here</summary>\n",
    "    <code>sales_data['PricePerSqFt'] = sales_data['SalePrice'] / sales_data['SqFtTotLiving']</code>\n",
    "    </details>"
   ]
  },
  {
   "cell_type": "markdown",
   "metadata": {
    "heading_collapsed": true,
    "hidden": true
   },
   "source": [
    "### 4. Subset the data to 2021 sales only."
   ]
  },
  {
   "cell_type": "markdown",
   "metadata": {
    "hidden": true
   },
   "source": [
    "We can assume that the DocumentDate is approximately the sale date."
   ]
  },
  {
   "cell_type": "code",
   "execution_count": null,
   "metadata": {
    "hidden": true
   },
   "outputs": [],
   "source": []
  },
  {
   "cell_type": "markdown",
   "metadata": {},
   "source": [
    "<details>\n",
    "    <summary>Answer here</summary>\n",
    "    <code>sales_data['DocumentDate'] = pd.to_datetime(sales_data['DocumentDate'])\n",
    "sales_data = sales_data.loc[sales_data['DocumentDate'] > '12/31/2020']</code>\n",
    "    </details>"
   ]
  },
  {
   "cell_type": "markdown",
   "metadata": {
    "heading_collapsed": true,
    "hidden": true
   },
   "source": [
    "### 5. What is the mean price per square foot for a house sold in Seattle in 2021?"
   ]
  },
  {
   "cell_type": "code",
   "execution_count": null,
   "metadata": {
    "hidden": true
   },
   "outputs": [],
   "source": []
  },
  {
   "cell_type": "markdown",
   "metadata": {},
   "source": [
    "<details>\n",
    "    <summary>Answer here</summary>\n",
    "    <code>sales_data['PricePerSqFt'].mean()</code>\n",
    "    </details>"
   ]
  },
  {
   "cell_type": "markdown",
   "metadata": {
    "heading_collapsed": true,
    "hidden": true
   },
   "source": [
    "## Level Up: `pandas.set_option()`"
   ]
  },
  {
   "cell_type": "markdown",
   "metadata": {
    "heading_collapsed": true,
    "hidden": true
   },
   "source": [
    "We can adjust how `pandas` works by setting options in advance."
   ]
  },
  {
   "cell_type": "markdown",
   "metadata": {
    "heading_collapsed": true,
    "hidden": true
   },
   "source": [
    "### Block Scientific Notation"
   ]
  },
  {
   "cell_type": "markdown",
   "metadata": {
    "heading_collapsed": true,
    "hidden": true
   },
   "source": [
    "For example, suppose we want to prevent numbers from being displayed in scientific notation."
   ]
  },
  {
   "cell_type": "code",
   "execution_count": null,
   "metadata": {
    "heading_collapsed": true,
    "hidden": true
   },
   "outputs": [],
   "source": [
    "df = pd.DataFrame([[1e9, 2e9], [3e9, 4e9]])\n",
    "df"
   ]
  },
  {
   "cell_type": "markdown",
   "metadata": {
    "heading_collapsed": true,
    "hidden": true
   },
   "source": [
    "Then we can use:"
   ]
  },
  {
   "cell_type": "code",
   "execution_count": null,
   "metadata": {
    "heading_collapsed": true,
    "hidden": true
   },
   "outputs": [],
   "source": [
    "pd.set_option('display.float_format', '{:.2f}'.format)\n",
    "\n",
    "df"
   ]
  },
  {
   "cell_type": "markdown",
   "metadata": {
    "heading_collapsed": true,
    "hidden": true
   },
   "source": [
    "### See More Rows"
   ]
  },
  {
   "cell_type": "markdown",
   "metadata": {
    "heading_collapsed": true,
    "hidden": true
   },
   "source": [
    "Or suppose we want `pandas` to show more rows."
   ]
  },
  {
   "cell_type": "code",
   "execution_count": null,
   "metadata": {
    "heading_collapsed": true,
    "hidden": true
   },
   "outputs": [],
   "source": [
    "df2 = pd.DataFrame(np.array(range(100)))\n",
    "df2"
   ]
  },
  {
   "cell_type": "markdown",
   "metadata": {
    "heading_collapsed": true,
    "hidden": true
   },
   "source": [
    "In that case we can use:"
   ]
  },
  {
   "cell_type": "code",
   "execution_count": null,
   "metadata": {
    "heading_collapsed": true,
    "hidden": true
   },
   "outputs": [],
   "source": [
    "pd.set_option('display.max_rows', 100)\n",
    "\n",
    "df2"
   ]
  },
  {
   "cell_type": "markdown",
   "metadata": {
    "heading_collapsed": true,
    "hidden": true
   },
   "source": [
    "For complete documentation, see [here](https://pandas.pydata.org/pandas-docs/stable/user_guide/options.html)."
   ]
  },
  {
   "cell_type": "code",
   "execution_count": null,
   "metadata": {
    "hidden": true
   },
   "outputs": [],
   "source": []
  }
 ],
 "metadata": {
  "kernelspec": {
   "display_name": "Python 3",
   "language": "python",
   "name": "python3"
  },
  "language_info": {
   "codemirror_mode": {
    "name": "ipython",
    "version": 3
   },
   "file_extension": ".py",
   "mimetype": "text/x-python",
   "name": "python",
   "nbconvert_exporter": "python",
   "pygments_lexer": "ipython3",
   "version": "3.8.5"
  },
  "toc": {
   "base_numbering": 1,
   "nav_menu": {},
   "number_sections": true,
   "sideBar": true,
   "skip_h1_title": false,
   "title_cell": "Table of Contents",
   "title_sidebar": "TOC",
   "toc_cell": true,
   "toc_position": {
    "height": "calc(100% - 180px)",
    "left": "10px",
    "top": "150px",
    "width": "288px"
   },
   "toc_section_display": true,
   "toc_window_display": true
  },
  "varInspector": {
   "cols": {
    "lenName": 16,
    "lenType": 16,
    "lenVar": 40
   },
   "kernels_config": {
    "python": {
     "delete_cmd_postfix": "",
     "delete_cmd_prefix": "del ",
     "library": "var_list.py",
     "varRefreshCmd": "print(var_dic_list())"
    },
    "r": {
     "delete_cmd_postfix": ") ",
     "delete_cmd_prefix": "rm(",
     "library": "var_list.r",
     "varRefreshCmd": "cat(var_dic_list()) "
    }
   },
   "types_to_exclude": [
    "module",
    "function",
    "builtin_function_or_method",
    "instance",
    "_Feature"
   ],
   "window_display": false
  }
 },
 "nbformat": 4,
 "nbformat_minor": 2
}
