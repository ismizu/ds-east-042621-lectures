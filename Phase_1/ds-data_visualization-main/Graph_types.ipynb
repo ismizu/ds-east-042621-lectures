{
 "cells": [
  {
   "cell_type": "markdown",
   "metadata": {},
   "source": [
    "# Starting Off:\n",
    "\n",
    "Look at the graph below and determine why this is a bad visualization:\n",
    "\n",
    "<img src=\"http://livingqlikview.com/wp-content/uploads/2017/04/Worst-Data-Visualizations-03.jpg\" alt=\"viz\" title=\"Bad Data Viz\" width=\"550\" />\n",
    "\n"
   ]
  },
  {
   "cell_type": "markdown",
   "metadata": {},
   "source": [
    "**Learning Goals:** Students will be able to determine which graph to use when trying to convey specific information. \n",
    "\n",
    "**Agenda:**  \n",
    "- Review the uses of each graph\n",
    "- Review code to create each graph\n",
    "    - Line Graph\n",
    "    - Bar Chart\n",
    "    - Box plot\n",
    "    - Histogram\n",
    "    - Scatter Plot\n",
    "- Practice Problem"
   ]
  },
  {
   "cell_type": "code",
   "execution_count": 1,
   "metadata": {},
   "outputs": [],
   "source": [
    "import matplotlib.pyplot as plt\n",
    "import numpy as np"
   ]
  },
  {
   "cell_type": "code",
   "execution_count": null,
   "metadata": {},
   "outputs": [],
   "source": [
    "aq = pd.read_csv('aq.csv')\n"
   ]
  },
  {
   "cell_type": "code",
   "execution_count": null,
   "metadata": {},
   "outputs": [],
   "source": [
    "aq.describe()\n"
   ]
  },
  {
   "cell_type": "code",
   "execution_count": null,
   "metadata": {},
   "outputs": [],
   "source": [
    "\n",
    "sns.set(style=\"ticks\")\n",
    "\n",
    "# Load the example dataset for Anscombe's quartet\n",
    "df = sns.load_dataset(\"anscombe\")\n",
    "\n",
    "# Show the results of a linear regression within each dataset\n",
    "sns.lmplot(x=\"x\", y=\"y\", col=\"dataset\", hue=\"dataset\", data=df,\n",
    "           col_wrap=2, ci=None, palette=\"muted\", height=4,\n",
    "           scatter_kws={\"s\": 50, \"alpha\": 1})"
   ]
  },
  {
   "cell_type": "markdown",
   "metadata": {},
   "source": [
    "## Line Graph"
   ]
  },
  {
   "cell_type": "markdown",
   "metadata": {},
   "source": [
    "Line graphs are used to track changes over short and long periods of time. When smaller changes exist, line graphs are better to use than bar graphs. "
   ]
  },
  {
   "cell_type": "code",
   "execution_count": 2,
   "metadata": {},
   "outputs": [],
   "source": [
    "### Create a fake data set\n",
    "rng = np.arange(50)\n",
    "rnd = np.random.randint(0, 10, size=(3, rng.size))\n",
    "yrs = 1950 + rng"
   ]
  },
  {
   "cell_type": "code",
   "execution_count": 3,
   "metadata": {},
   "outputs": [],
   "source": [
    "data = rng + rnd"
   ]
  },
  {
   "cell_type": "code",
   "execution_count": 4,
   "metadata": {
    "scrolled": true
   },
   "outputs": [
    {
     "data": {
      "text/plain": [
       "array([[ 0,  4,  2,  4,  7,  9,  7, 10, 10, 15, 17, 13, 21, 20, 15, 17,\n",
       "        19, 19, 24, 21, 27, 28, 23, 31, 32, 32, 26, 32, 30, 32, 35, 31,\n",
       "        38, 33, 37, 40, 37, 38, 47, 45, 42, 46, 43, 43, 46, 45, 55, 50,\n",
       "        50, 49],\n",
       "       [ 8,  3,  3,  6, 12, 10,  6, 15, 10, 14, 18, 16, 21, 16, 15, 15,\n",
       "        21, 23, 24, 26, 23, 23, 27, 26, 33, 28, 28, 33, 32, 32, 37, 31,\n",
       "        39, 39, 37, 42, 39, 39, 42, 39, 44, 41, 42, 52, 45, 51, 49, 53,\n",
       "        49, 49],\n",
       "       [ 8,  5,  7,  7, 10,  8, 10, 11, 12, 13, 18, 12, 16, 22, 19, 18,\n",
       "        20, 23, 18, 20, 21, 29, 22, 31, 30, 33, 31, 32, 32, 35, 33, 40,\n",
       "        33, 34, 36, 44, 39, 46, 45, 43, 44, 50, 51, 44, 50, 47, 49, 56,\n",
       "        53, 50]])"
      ]
     },
     "execution_count": 4,
     "metadata": {},
     "output_type": "execute_result"
    }
   ],
   "source": [
    "data"
   ]
  },
  {
   "cell_type": "code",
   "execution_count": 5,
   "metadata": {},
   "outputs": [
    {
     "data": {
      "text/plain": [
       "array([1950, 1951, 1952, 1953, 1954, 1955, 1956, 1957, 1958, 1959, 1960,\n",
       "       1961, 1962, 1963, 1964, 1965, 1966, 1967, 1968, 1969, 1970, 1971,\n",
       "       1972, 1973, 1974, 1975, 1976, 1977, 1978, 1979, 1980, 1981, 1982,\n",
       "       1983, 1984, 1985, 1986, 1987, 1988, 1989, 1990, 1991, 1992, 1993,\n",
       "       1994, 1995, 1996, 1997, 1998, 1999])"
      ]
     },
     "execution_count": 5,
     "metadata": {},
     "output_type": "execute_result"
    }
   ],
   "source": [
    "yrs"
   ]
  },
  {
   "cell_type": "code",
   "execution_count": 6,
   "metadata": {},
   "outputs": [
    {
     "data": {
      "image/png": "[encoded data removed]",
      "text/plain": [
       "<Figure size 432x288 with 2 Axes>"
      ]
     },
     "metadata": {
      "needs_background": "light"
     },
     "output_type": "display_data"
    }
   ],
   "source": [
    "# Initalize a Figure and Axes\n",
    "fig, ax = plt.subplots()\n",
    "\n",
    "# Plot the CO2 variable in blue\n",
    "ax.plot( yrs, data[0],color='b', marker ='^')\n",
    "\n",
    "# Create a twin Axes that shares the x-axis\n",
    "ax2 = ax.twinx()\n",
    "\n",
    "# Plot the relative temperature in red\n",
    "ax2.plot( yrs, data[1],color='g', marker ='.')\n",
    "\n",
    "plt.show()"
   ]
  },
  {
   "cell_type": "code",
   "execution_count": 7,
   "metadata": {},
   "outputs": [],
   "source": [
    "#add legend and titles"
   ]
  },
  {
   "cell_type": "code",
   "execution_count": 8,
   "metadata": {},
   "outputs": [
    {
     "data": {
      "text/plain": [
       "array([[ 0,  4,  2,  4,  7,  9,  7, 10, 10, 15, 17, 13, 21, 20, 15, 17,\n",
       "        19, 19, 24, 21, 27, 28, 23, 31, 32, 32, 26, 32, 30, 32, 35, 31,\n",
       "        38, 33, 37, 40, 37, 38, 47, 45, 42, 46, 43, 43, 46, 45, 55, 50,\n",
       "        50, 49],\n",
       "       [ 8,  3,  3,  6, 12, 10,  6, 15, 10, 14, 18, 16, 21, 16, 15, 15,\n",
       "        21, 23, 24, 26, 23, 23, 27, 26, 33, 28, 28, 33, 32, 32, 37, 31,\n",
       "        39, 39, 37, 42, 39, 39, 42, 39, 44, 41, 42, 52, 45, 51, 49, 53,\n",
       "        49, 49],\n",
       "       [ 8,  5,  7,  7, 10,  8, 10, 11, 12, 13, 18, 12, 16, 22, 19, 18,\n",
       "        20, 23, 18, 20, 21, 29, 22, 31, 30, 33, 31, 32, 32, 35, 33, 40,\n",
       "        33, 34, 36, 44, 39, 46, 45, 43, 44, 50, 51, 44, 50, 47, 49, 56,\n",
       "        53, 50]])"
      ]
     },
     "execution_count": 8,
     "metadata": {},
     "output_type": "execute_result"
    }
   ],
   "source": [
    "data"
   ]
  },
  {
   "cell_type": "code",
   "execution_count": 9,
   "metadata": {},
   "outputs": [
    {
     "data": {
      "image/png": "[encoded data removed]",
      "text/plain": [
       "<Figure size 576x360 with 1 Axes>"
      ]
     },
     "metadata": {
      "needs_background": "light"
     },
     "output_type": "display_data"
    }
   ],
   "source": [
    "# generate a fig and ax object \n",
    "fig, ax = plt.subplots(figsize=(8, 5))\n",
    "\n",
    "#use the stackplot method to create your graph\n",
    "ax.stackplot(yrs, data, labels=['Eastasia', 'Eurasia', 'Oceania'])\n",
    "\n",
    "#add additional information to your graph\n",
    "ax.set_title('Combined debt growth over time')\n",
    "ax.legend(loc='upper left')\n",
    "ax.set_ylabel('Total debt')\n",
    "ax.set_xlim(left=yrs[0], right=yrs[-1])\n",
    "fig.tight_layout()"
   ]
  },
  {
   "cell_type": "markdown",
   "metadata": {},
   "source": [
    "## Bar Chart\n",
    "\n",
    "Bar graphs are used to compare variables between different groups/categories. Sometimes they are used to measure change over time, but that is often when you think of a time period as a group, like decades, and changes between those groups are quite large.  "
   ]
  },
  {
   "cell_type": "code",
   "execution_count": 11,
   "metadata": {},
   "outputs": [],
   "source": [
    "import pandas as pd\n",
    "\n",
    "data = pd.read_csv('https://raw.githubusercontent.com/learn-co-students/nyc-mhtn-ds-120720-lectures/main/Phase_1/Data_Visualization/weight-height.csv', index_col=False)"
   ]
  },
  {
   "cell_type": "code",
   "execution_count": 12,
   "metadata": {},
   "outputs": [
    {
     "data": {
      "text/html": [
       "<div>\n",
       "<style scoped>\n",
       "    .dataframe tbody tr th:only-of-type {\n",
       "        vertical-align: middle;\n",
       "    }\n",
       "\n",
       "    .dataframe tbody tr th {\n",
       "        vertical-align: top;\n",
       "    }\n",
       "\n",
       "    .dataframe thead th {\n",
       "        text-align: right;\n",
       "    }\n",
       "</style>\n",
       "<table border=\"1\" class=\"dataframe\">\n",
       "  <thead>\n",
       "    <tr style=\"text-align: right;\">\n",
       "      <th></th>\n",
       "      <th>Gender</th>\n",
       "      <th>Height</th>\n",
       "      <th>Weight</th>\n",
       "    </tr>\n",
       "  </thead>\n",
       "  <tbody>\n",
       "    <tr>\n",
       "      <th>0</th>\n",
       "      <td>Male</td>\n",
       "      <td>73.847017</td>\n",
       "      <td>241.893563</td>\n",
       "    </tr>\n",
       "    <tr>\n",
       "      <th>1</th>\n",
       "      <td>Male</td>\n",
       "      <td>68.781904</td>\n",
       "      <td>162.310473</td>\n",
       "    </tr>\n",
       "    <tr>\n",
       "      <th>2</th>\n",
       "      <td>Male</td>\n",
       "      <td>74.110105</td>\n",
       "      <td>212.740856</td>\n",
       "    </tr>\n",
       "    <tr>\n",
       "      <th>3</th>\n",
       "      <td>Male</td>\n",
       "      <td>71.730978</td>\n",
       "      <td>220.042470</td>\n",
       "    </tr>\n",
       "    <tr>\n",
       "      <th>4</th>\n",
       "      <td>Male</td>\n",
       "      <td>69.881796</td>\n",
       "      <td>206.349801</td>\n",
       "    </tr>\n",
       "  </tbody>\n",
       "</table>\n",
       "</div>"
      ],
      "text/plain": [
       "  Gender     Height      Weight\n",
       "0   Male  73.847017  241.893563\n",
       "1   Male  68.781904  162.310473\n",
       "2   Male  74.110105  212.740856\n",
       "3   Male  71.730978  220.042470\n",
       "4   Male  69.881796  206.349801"
      ]
     },
     "execution_count": 12,
     "metadata": {},
     "output_type": "execute_result"
    }
   ],
   "source": [
    "data.head()"
   ]
  },
  {
   "cell_type": "code",
   "execution_count": 13,
   "metadata": {},
   "outputs": [],
   "source": [
    "males = data[data['Gender'] == 'Male']\n",
    "females = data[data['Gender'] == 'Female']\n"
   ]
  },
  {
   "cell_type": "code",
   "execution_count": 14,
   "metadata": {},
   "outputs": [
    {
     "data": {
      "text/html": [
       "<div>\n",
       "<style scoped>\n",
       "    .dataframe tbody tr th:only-of-type {\n",
       "        vertical-align: middle;\n",
       "    }\n",
       "\n",
       "    .dataframe tbody tr th {\n",
       "        vertical-align: top;\n",
       "    }\n",
       "\n",
       "    .dataframe thead th {\n",
       "        text-align: right;\n",
       "    }\n",
       "</style>\n",
       "<table border=\"1\" class=\"dataframe\">\n",
       "  <thead>\n",
       "    <tr style=\"text-align: right;\">\n",
       "      <th></th>\n",
       "      <th>Gender</th>\n",
       "      <th>Height</th>\n",
       "      <th>Weight</th>\n",
       "    </tr>\n",
       "  </thead>\n",
       "  <tbody>\n",
       "    <tr>\n",
       "      <th>5000</th>\n",
       "      <td>Female</td>\n",
       "      <td>58.910732</td>\n",
       "      <td>102.088326</td>\n",
       "    </tr>\n",
       "    <tr>\n",
       "      <th>5001</th>\n",
       "      <td>Female</td>\n",
       "      <td>65.230013</td>\n",
       "      <td>141.305823</td>\n",
       "    </tr>\n",
       "    <tr>\n",
       "      <th>5002</th>\n",
       "      <td>Female</td>\n",
       "      <td>63.369004</td>\n",
       "      <td>131.041403</td>\n",
       "    </tr>\n",
       "    <tr>\n",
       "      <th>5003</th>\n",
       "      <td>Female</td>\n",
       "      <td>64.479997</td>\n",
       "      <td>128.171511</td>\n",
       "    </tr>\n",
       "    <tr>\n",
       "      <th>5004</th>\n",
       "      <td>Female</td>\n",
       "      <td>61.793096</td>\n",
       "      <td>129.781407</td>\n",
       "    </tr>\n",
       "  </tbody>\n",
       "</table>\n",
       "</div>"
      ],
      "text/plain": [
       "      Gender     Height      Weight\n",
       "5000  Female  58.910732  102.088326\n",
       "5001  Female  65.230013  141.305823\n",
       "5002  Female  63.369004  131.041403\n",
       "5003  Female  64.479997  128.171511\n",
       "5004  Female  61.793096  129.781407"
      ]
     },
     "execution_count": 14,
     "metadata": {},
     "output_type": "execute_result"
    }
   ],
   "source": [
    "females.head()"
   ]
  },
  {
   "cell_type": "code",
   "execution_count": 15,
   "metadata": {},
   "outputs": [
    {
     "data": {
      "text/plain": [
       "63.708773603424916"
      ]
     },
     "execution_count": 15,
     "metadata": {},
     "output_type": "execute_result"
    }
   ],
   "source": [
    "females['Height'].mean()"
   ]
  },
  {
   "cell_type": "code",
   "execution_count": 16,
   "metadata": {},
   "outputs": [
    {
     "data": {
      "text/plain": [
       "69.02634590621737"
      ]
     },
     "execution_count": 16,
     "metadata": {},
     "output_type": "execute_result"
    }
   ],
   "source": [
    "males['Height'].mean()"
   ]
  },
  {
   "cell_type": "code",
   "execution_count": 17,
   "metadata": {},
   "outputs": [
    {
     "data": {
      "text/plain": [
       "array(['Male', 'Female'], dtype=object)"
      ]
     },
     "execution_count": 17,
     "metadata": {},
     "output_type": "execute_result"
    }
   ],
   "source": [
    "data['Gender'].unique()"
   ]
  },
  {
   "cell_type": "code",
   "execution_count": 18,
   "metadata": {},
   "outputs": [
    {
     "ename": "NameError",
     "evalue": "name 'df' is not defined",
     "output_type": "error",
     "traceback": [
      "\u001b[0;31m---------------------------------------------------------------------------\u001b[0m",
      "\u001b[0;31mNameError\u001b[0m                                 Traceback (most recent call last)",
      "\u001b[0;32m<ipython-input-18-22231747e0a8>\u001b[0m in \u001b[0;36m<module>\u001b[0;34m\u001b[0m\n\u001b[0;32m----> 1\u001b[0;31m \u001b[0mdf\u001b[0m\u001b[0;34m[\u001b[0m\u001b[0;34m'column'\u001b[0m\u001b[0;34m]\u001b[0m\u001b[0;34m.\u001b[0m\u001b[0mcount_values\u001b[0m\u001b[0;34m(\u001b[0m\u001b[0;34m)\u001b[0m\u001b[0;34m\u001b[0m\u001b[0;34m\u001b[0m\u001b[0m\n\u001b[0m",
      "\u001b[0;31mNameError\u001b[0m: name 'df' is not defined"
     ]
    }
   ],
   "source": [
    "df['column'].count_values()"
   ]
  },
  {
   "cell_type": "code",
   "execution_count": 19,
   "metadata": {},
   "outputs": [
    {
     "data": {
      "image/png": "[encoded data removed]",
      "text/plain": [
       "<Figure size 432x288 with 1 Axes>"
      ]
     },
     "metadata": {
      "needs_background": "light"
     },
     "output_type": "display_data"
    }
   ],
   "source": [
    "fig, ax = plt.subplots()\n",
    "\n",
    "# Plot a bar-chart of gold medals as a function of country\n",
    "ax.bar(['Males', 'Females'], [69.026345, 63.70877], yerr= [males['Height'].std(), females['Height'].std()])\n",
    "\n",
    "# Set the x-axis tick labels to the country names\n",
    "ax.set_xticklabels(['Males', 'Females'], rotation=45)\n",
    "\n",
    "# Set the y-axis label\n",
    "ax.set_ylabel(\"Height (cm)\")\n",
    "\n",
    "ax.set_title('Comparing Height by Gender')\n",
    "\n",
    "plt.show()"
   ]
  },
  {
   "cell_type": "code",
   "execution_count": null,
   "metadata": {},
   "outputs": [],
   "source": []
  },
  {
   "cell_type": "markdown",
   "metadata": {},
   "source": [
    "## Box Plot\n",
    "\n",
    "A box and whisker plot—also called a box plot—displays the five-number summary of a set of data. The five-number summary is the minimum, first quartile, median, third quartile, and maximum.\n",
    "In a box plot, we draw a box from the first quartile to the third quartile. A vertical line goes through the box at the median. The whiskers go from each quartile to the minimum or maximum.\n",
    "\n",
    "<img src=\"https://www150.statcan.gc.ca/n1/edu/power-pouvoir/ch12/img/5214889_01-eng.gif\" alt=\"boxplot\" title=\"Box Plot\" width=\"550\" />\n",
    "\n",
    "\n",
    "\n"
   ]
  },
  {
   "cell_type": "code",
   "execution_count": null,
   "metadata": {},
   "outputs": [],
   "source": [
    "# add in that the extreme is 1.5 * the IQR +/- Q3,Q1"
   ]
  },
  {
   "cell_type": "code",
   "execution_count": 20,
   "metadata": {},
   "outputs": [
    {
     "data": {
      "image/png": "[encoded data removed]",
      "text/plain": [
       "<Figure size 432x288 with 1 Axes>"
      ]
     },
     "metadata": {
      "needs_background": "light"
     },
     "output_type": "display_data"
    }
   ],
   "source": [
    "fig, ax = plt.subplots()\n",
    "\n",
    "# Add a boxplot for the \"Height\" column in the DataFrames\n",
    "ax.boxplot([males['Height'], females['Height']])\n",
    "\n",
    "# Add x-axis tick labels:\n",
    "ax.set_xticklabels(['Males', \"Females\"])\n",
    "\n",
    "# Add a y-axis label\n",
    "ax.set_ylabel(\"Height (cm)\")\n",
    "\n",
    "plt.show()"
   ]
  },
  {
   "cell_type": "code",
   "execution_count": 21,
   "metadata": {},
   "outputs": [
    {
     "data": {
      "image/png": "[encoded data removed]",
      "text/plain": [
       "<Figure size 432x288 with 1 Axes>"
      ]
     },
     "metadata": {
      "needs_background": "light"
     },
     "output_type": "display_data"
    }
   ],
   "source": [
    "fig, ax = plt.subplots()\n",
    "\n",
    "# Add a boxplot for the \"Height\" column in the DataFrames\n",
    "ax.boxplot([males['Height'], females['Height']], vert=False)\n",
    "\n",
    "# Add x-axis tick labels:\n",
    "ax.set_yticklabels(['Males', \"Females\"])\n",
    "\n",
    "# Add a y-axis label\n",
    "ax.set_xlabel(\"Height (cm)\")\n",
    "\n",
    "plt.show()"
   ]
  },
  {
   "cell_type": "markdown",
   "metadata": {},
   "source": [
    "## Histogram\n",
    "\n",
    "A histogram is a plot that lets you discover the underlying frequency distribution (shape) of a set of continuous data. This allows the inspection of the data for its underlying distribution (e.g., normal distribution), outliers, skewness, etc. The height of each bar shows the quantity in each range.\n",
    "\n",
    "(Similar to a Bar Graph, **but in a Histogram each bar is for a range of data.**)\n",
    "\n",
    "<img src=\"https://statistics.laerd.com/statistical-guides/img/histogram-1.png\" alt=\"viz\" title=\"Histogram\" width=\"350\" />"
   ]
  },
  {
   "cell_type": "markdown",
   "metadata": {},
   "source": [
    "**How do you construct a histogram from a continuous variable?**\n",
    "\n",
    "To construct a histogram from a continuous variable you first need to split the data into intervals, called bins. In the example above, age has been split into bins, with each bin representing a 10-year period starting at 20 years. Each bin contains the number of occurrences of scores in the data set that are contained within that bin. For the above data set, the frequencies in each bin have been tabulated along with the scores that contributed to the frequency in each bin (see below):\n",
    "\n",
    "<img src=\"images/binned.png\" alt=\"viz\" title=\"Histogram\" width=\"550\" />"
   ]
  },
  {
   "cell_type": "markdown",
   "metadata": {},
   "source": [
    "**Choosing the correct bin width**  \n",
    "\n",
    "There is no right or wrong answer for how wide we should define our bin size, but there are rules of thumb. You need to make sure that the bins are not too small or too large. Consider the histogram we produced earlier (see above): the following histograms use the same data, but have either much smaller or larger bins, as shown below:\n",
    "\n",
    "\n",
    "<img src=\"https://statistics.laerd.com/statistical-guides/img/histogram-4.png\" alt=\"viz\" title=\"Histogram\" width=\"550\" />\n"
   ]
  },
  {
   "cell_type": "code",
   "execution_count": 22,
   "metadata": {},
   "outputs": [
    {
     "data": {
      "image/png": "[encoded data removed]",
      "text/plain": [
       "<Figure size 432x288 with 1 Axes>"
      ]
     },
     "metadata": {
      "needs_background": "light"
     },
     "output_type": "display_data"
    }
   ],
   "source": [
    "fig, ax = plt.subplots()\n",
    "# Plot a histogram of \"Weight\" for mens_rowing\n",
    "ax.hist(females['Height'])\n",
    "\n",
    "# Compare to histogram of \"Weight\" for mens_gymnastics\n",
    "ax.hist(males['Height'])\n",
    "\n",
    "# Set the x-axis label to \"Weight (kg)\"\n",
    "ax.set_xlabel('Height (cm)')\n",
    "\n",
    "# Set the y-axis label to \"# of observations\"\n",
    "ax.set_ylabel('# of observations')\n",
    "\n",
    "ax.set_title('Historgam of height by Sex')\n",
    "\n",
    "plt.show()"
   ]
  },
  {
   "cell_type": "markdown",
   "metadata": {},
   "source": [
    "### Adding parameters to make data more clear"
   ]
  },
  {
   "cell_type": "code",
   "execution_count": 23,
   "metadata": {},
   "outputs": [
    {
     "data": {
      "image/png": "[encoded data removed]",
      "text/plain": [
       "<Figure size 432x288 with 1 Axes>"
      ]
     },
     "metadata": {
      "needs_background": "light"
     },
     "output_type": "display_data"
    }
   ],
   "source": [
    "fig, ax = plt.subplots()\n",
    "# Plot a histogram of \"Weight\" for mens_rowing\n",
    "ax.hist(females['Height'], label=\"Female\", bins=10, histtype='step')\n",
    "\n",
    "# Compare to histogram of \"Weight\" for mens_gymnastics\n",
    "ax.hist(males['Height'], label=\"Male\", bins=10, histtype='step')\n",
    "\n",
    "# Set the x-axis label to \"Weight (kg)\"\n",
    "ax.set_xlabel('Height (cm)')\n",
    "\n",
    "# Set the y-axis label to \"# of observations\"\n",
    "ax.set_ylabel('# of observations')\n",
    "\n",
    "ax.set_title('Historgam of height by Sex')\n",
    "\n",
    "ax.legend()\n",
    "plt.show()\n",
    "\n"
   ]
  },
  {
   "cell_type": "markdown",
   "metadata": {},
   "source": [
    "### What is the difference between a bar chart and a histogram?\n",
    "\n",
    "The major difference is that a histogram is only used to plot the frequency of score occurrences in a continuous data set that has been divided into classes, called bins. On the other hand, bar charts can be used for a great deal of other types of variables including ordinal and nominal data sets."
   ]
  },
  {
   "cell_type": "markdown",
   "metadata": {},
   "source": [
    "## Scatterplot\n",
    "\n",
    "Scatterplots, also referred to as an 'X-Y plot', are used to show/determine relationships between the two different variables. It compares the values of different variables across observations. \n",
    "\n",
    "The x-axis is used to measure one event (or variable) and the y-axis is used to measure the other. If both variables increase at the same time, they have a positive relationship. If one variable decreases while the other increases, they have a negative relationship. Sometimes the variables don't follow any pattern and have no relationship."
   ]
  },
  {
   "cell_type": "markdown",
   "metadata": {},
   "source": [
    "<img src=\"https://seaborn.pydata.org/_images/seaborn-scatterplot-2.png\" alt=\"viz\" title=\"Histogram\" width=\"550\" />"
   ]
  },
  {
   "cell_type": "code",
   "execution_count": 24,
   "metadata": {},
   "outputs": [
    {
     "data": {
      "image/png": "[encoded data removed]",
      "text/plain": [
       "<Figure size 432x288 with 1 Axes>"
      ]
     },
     "metadata": {
      "needs_background": "light"
     },
     "output_type": "display_data"
    }
   ],
   "source": [
    "fig, ax = plt.subplots()\n",
    "\n",
    "# Add data: \"height\", \"weight\" as x-y, index as color\n",
    "ax.scatter(data[\"Height\"], data[\"Weight\"])\n",
    "\n",
    "# Set the x-axis label to \"CO2 (ppm)\"\n",
    "ax.set_xlabel(\"Height (cm)\")\n",
    "\n",
    "# Set the y-axis label to \"Relative temperature (C)\"\n",
    "ax.set_ylabel(\"Weight (lbs)\")\n",
    "\n",
    "ax.set_title('Relationship between height and weight')\n",
    "\n",
    "\n",
    "plt.show()"
   ]
  },
  {
   "cell_type": "code",
   "execution_count": 25,
   "metadata": {},
   "outputs": [
    {
     "data": {
      "image/png": "[encoded data removed]",
      "text/plain": [
       "<Figure size 432x288 with 1 Axes>"
      ]
     },
     "metadata": {
      "needs_background": "light"
     },
     "output_type": "display_data"
    }
   ],
   "source": [
    "fig, ax = plt.subplots()\n",
    "\n",
    "# Add data: \"height\", \"weight\" as x-y, index as color\n",
    "ax.scatter(males[\"Height\"], males[\"Weight\"],label='Males', color ='r' )\n",
    "\n",
    "ax.scatter(females[\"Height\"], females[\"Weight\"], label='Females',color ='b' )\n",
    "\n",
    "# Set the x-axis label to \"Height (cm)\"\n",
    "ax.set_xlabel(\"Height (cm)\")\n",
    "\n",
    "# Set the y-axis label to \"Weight (lbs)\"\n",
    "ax.set_ylabel(\"Weight (lbs)\")\n",
    "\n",
    "ax.set_title('Relationship between height and weight')\n",
    "\n",
    "ax.legend()\n",
    "plt.show()"
   ]
  },
  {
   "cell_type": "code",
   "execution_count": 26,
   "metadata": {},
   "outputs": [],
   "source": [
    "data['Gen_color'] = np.where(data['Gender']=='Female', 1, 0)"
   ]
  },
  {
   "cell_type": "code",
   "execution_count": 27,
   "metadata": {},
   "outputs": [
    {
     "data": {
      "text/html": [
       "<div>\n",
       "<style scoped>\n",
       "    .dataframe tbody tr th:only-of-type {\n",
       "        vertical-align: middle;\n",
       "    }\n",
       "\n",
       "    .dataframe tbody tr th {\n",
       "        vertical-align: top;\n",
       "    }\n",
       "\n",
       "    .dataframe thead th {\n",
       "        text-align: right;\n",
       "    }\n",
       "</style>\n",
       "<table border=\"1\" class=\"dataframe\">\n",
       "  <thead>\n",
       "    <tr style=\"text-align: right;\">\n",
       "      <th></th>\n",
       "      <th>Gender</th>\n",
       "      <th>Height</th>\n",
       "      <th>Weight</th>\n",
       "      <th>Gen_color</th>\n",
       "    </tr>\n",
       "  </thead>\n",
       "  <tbody>\n",
       "    <tr>\n",
       "      <th>0</th>\n",
       "      <td>Male</td>\n",
       "      <td>73.847017</td>\n",
       "      <td>241.893563</td>\n",
       "      <td>0</td>\n",
       "    </tr>\n",
       "    <tr>\n",
       "      <th>1</th>\n",
       "      <td>Male</td>\n",
       "      <td>68.781904</td>\n",
       "      <td>162.310473</td>\n",
       "      <td>0</td>\n",
       "    </tr>\n",
       "    <tr>\n",
       "      <th>2</th>\n",
       "      <td>Male</td>\n",
       "      <td>74.110105</td>\n",
       "      <td>212.740856</td>\n",
       "      <td>0</td>\n",
       "    </tr>\n",
       "    <tr>\n",
       "      <th>3</th>\n",
       "      <td>Male</td>\n",
       "      <td>71.730978</td>\n",
       "      <td>220.042470</td>\n",
       "      <td>0</td>\n",
       "    </tr>\n",
       "    <tr>\n",
       "      <th>4</th>\n",
       "      <td>Male</td>\n",
       "      <td>69.881796</td>\n",
       "      <td>206.349801</td>\n",
       "      <td>0</td>\n",
       "    </tr>\n",
       "  </tbody>\n",
       "</table>\n",
       "</div>"
      ],
      "text/plain": [
       "  Gender     Height      Weight  Gen_color\n",
       "0   Male  73.847017  241.893563          0\n",
       "1   Male  68.781904  162.310473          0\n",
       "2   Male  74.110105  212.740856          0\n",
       "3   Male  71.730978  220.042470          0\n",
       "4   Male  69.881796  206.349801          0"
      ]
     },
     "execution_count": 27,
     "metadata": {},
     "output_type": "execute_result"
    }
   ],
   "source": [
    "data.head()"
   ]
  },
  {
   "cell_type": "code",
   "execution_count": 28,
   "metadata": {},
   "outputs": [],
   "source": [
    "##take a sample of the data and graph that so you can see the relationship more clearly"
   ]
  },
  {
   "cell_type": "code",
   "execution_count": 29,
   "metadata": {},
   "outputs": [
    {
     "data": {
      "image/png": "[encoded data removed]",
      "text/plain": [
       "<Figure size 432x288 with 1 Axes>"
      ]
     },
     "metadata": {
      "needs_background": "light"
     },
     "output_type": "display_data"
    }
   ],
   "source": [
    "fig, ax = plt.subplots()\n",
    "\n",
    "# Add data: \"height\", \"weight\" as x-y, index as color\n",
    "ax.scatter(data[\"Height\"], data[\"Weight\"], c=data['Gen_color'])\n",
    "\n",
    "# Set the x-axis label to \"CO2 (ppm)\"\n",
    "ax.set_xlabel(\"Height (cm)\")\n",
    "\n",
    "# Set the y-axis label to \"Relative temperature (C)\"\n",
    "ax.set_ylabel(\"Weight (lbs)\")\n",
    "\n",
    "ax.set_title('Relationship between height and weight')\n",
    "\n",
    "\n",
    "plt.show()\n"
   ]
  },
  {
   "cell_type": "markdown",
   "metadata": {},
   "source": [
    "You have a data table with the height and weight for members of both a high school basketball team and a football team. You also have their win totals for each year in another table.  You want to create different graphics to convey information about the two team. Read each prompt below and determine which type of graph would be most appropriate:  \n",
    "\n",
    "\n",
    "\n",
    "1. Compare the average height of the football players with the average height of the basketball players.\n",
    "\n",
    "2. See if there is a relationship between the height and weight of the players.\n",
    "\n",
    "3. Understand the distribution of the heights of both teams.  \n",
    "\n",
    "4. Show if there are any outliers of extremely short or tall players. \n",
    "\n",
    "5. Get a sense of how the basketball team has performed throughout the history of the program.  "
   ]
  },
  {
   "cell_type": "code",
   "execution_count": null,
   "metadata": {},
   "outputs": [],
   "source": [
    "# create a new graph based on a theoretical data set for meals"
   ]
  }
 ],
 "metadata": {
  "kernelspec": {
   "display_name": "Python 3",
   "language": "python",
   "name": "python3"
  },
  "language_info": {
   "codemirror_mode": {
    "name": "ipython",
    "version": 3
   },
   "file_extension": ".py",
   "mimetype": "text/x-python",
   "name": "python",
   "nbconvert_exporter": "python",
   "pygments_lexer": "ipython3",
   "version": "3.8.5"
  },
  "toc": {
   "base_numbering": 1,
   "nav_menu": {},
   "number_sections": true,
   "sideBar": true,
   "skip_h1_title": false,
   "title_cell": "Table of Contents",
   "title_sidebar": "Contents",
   "toc_cell": false,
   "toc_position": {},
   "toc_section_display": true,
   "toc_window_display": false
  }
 },
 "nbformat": 4,
 "nbformat_minor": 2
}
